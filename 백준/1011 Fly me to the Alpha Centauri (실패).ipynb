{
 "cells": [
  {
   "cell_type": "markdown",
   "metadata": {},
   "source": [
    "문제  \n",
    "우현이는 어린 시절, 지구 외의 다른 행성에서도 인류들이 살아갈 수 있는 미래가 오리라 믿었다. 그리고 그가 지구라는 세상에 발을 내려 놓은 지 23년이 지난 지금, 세계 최연소 ASNA 우주 비행사가 되어 새로운 세계에 발을 내려 놓는 영광의 순간을 기다리고 있다.  \n",
    "  \n",
    "그가 탑승하게 될 우주선은 Alpha Centauri라는 새로운 인류의 보금자리를 개척하기 위한 대규모 생활 유지 시스템을 탑재하고 있기 때문에, 그 크기와 질량이 엄청난 이유로 최신기술력을 총 동원하여 개발한 공간이동 장치를 탑재하였다. 하지만 이 공간이동 장치는 이동 거리를 급격하게 늘릴 경우 기계에 심각한 결함이 발생하는 단점이 있어서, 이전 작동시기에 k광년을 이동하였을 때는 k-1 , k 혹은 k+1 광년만을 다시 이동할 수 있다. 예를 들어, 이 장치를 처음 작동시킬 경우 -1 , 0 , 1 광년을 이론상 이동할 수 있으나 사실상 음수 혹은 0 거리만큼의 이동은 의미가 없으므로 1 광년을 이동할 수 있으며, 그 다음에는 0 , 1 , 2 광년을 이동할 수 있는 것이다. ( 여기서 다시 2광년을 이동한다면 다음 시기엔 1, 2, 3 광년을 이동할 수 있다. )  \n",
    "\n",
    "\n",
    "  \n",
    "김우현은 공간이동 장치 작동시의 에너지 소모가 크다는 점을 잘 알고 있기 때문에 x지점에서 y지점을 향해 최소한의 작동 횟수로 이동하려 한다. 하지만 y지점에 도착해서도 공간 이동장치의 안전성을 위하여 y지점에 도착하기 바로 직전의 이동거리는 반드시 1광년으로 하려 한다.  \n",
    "\n",
    "김우현을 위해 x지점부터 정확히 y지점으로 이동하는데 필요한 공간 이동 장치 작동 횟수의 최솟값을 구하는 프로그램을 작성하라.  \n",
    "\n",
    "입력  \n",
    "입력의 첫 줄에는 테스트케이스의 개수 T가 주어진다. 각각의 테스트 케이스에 대해 현재 위치 x 와 목표 위치 y 가 정수로 주어지며, x는 항상 y보다 작은 값을 갖는다. (0 ≤ x < y < 231)  \n",
    "  \n",
    "출력  \n",
    "각 테스트 케이스에 대해 x지점으로부터 y지점까지 정확히 도달하는데 필요한 최소한의 공간이동 장치 작동 횟수를 출력한다.  "
   ]
  },
  {
   "cell_type": "code",
   "execution_count": 42,
   "metadata": {
    "ExecuteTime": {
     "end_time": "2021-03-01T06:25:47.453907Z",
     "start_time": "2021-03-01T06:25:47.435910Z"
    }
   },
   "outputs": [
    {
     "name": "stdout",
     "output_type": "stream",
     "text": [
      "recu 9 0 0\n",
      "recu 8 1 1\n",
      "1\n",
      "1/ 7 2 2\n",
      "recu 7 2 2\n",
      "3\n",
      "1/ 5 3 3\n",
      "recu 5 3 3\n",
      "6\n",
      "3/ 5 2 3\n",
      "recu 5 2 3\n",
      "3\n",
      "1/ 3 3 4\n",
      "recu 3 3 4\n",
      "6\n",
      "3/ 3 2 4\n",
      "recu 3 2 4\n",
      "3\n",
      "2/ 3 2 6\n",
      "6\n"
     ]
    }
   ],
   "source": [
    "\"\"\" 실패\n",
    "1개씩 추가될 때마다 k+1, l-1, k 를 선택하여 진행함\n",
    "실재 수학적 패턴은 거리마다 존재 하였다. \n",
    "\"\"\"\n",
    "def iso_seq(i):\n",
    "    if i > 1:\n",
    "        return  i + iso_seq(i-1)\n",
    "    else:\n",
    "        return 1\n",
    "\n",
    "start, end = 1,10\n",
    "length = end - start\n",
    "k = 0\n",
    "cnt = 0\n",
    "\n",
    "while k>=0:\n",
    "    print(\"recu\",length, k,cnt)\n",
    "    if cnt == 0:\n",
    "        k=1\n",
    "        length -= 1\n",
    "        cnt += 1\n",
    "\n",
    "    else:\n",
    "        # length 를 1씩 줄이면서 갈 수 있는가 판단\n",
    "        current_k = iso_seq(k)\n",
    "        print(current_k)\n",
    "        if length - current_k>0: # 아직 남음\n",
    "            k+=1\n",
    "            cnt+=1\n",
    "            length -= k-1\n",
    "            print(\"1/\",length, k,cnt)\n",
    "            \n",
    "        elif length - current_k == 0 : # 딱 맞음\n",
    "            cnt += k\n",
    "            print(\"2/\",length, k,cnt)\n",
    "            break\n",
    "            \n",
    "        else: # 안남음\n",
    "            k -= 1\n",
    "            print(\"3/\",length, k,cnt)\n",
    "print(cnt)"
   ]
  },
  {
   "cell_type": "code",
   "execution_count": 39,
   "metadata": {
    "ExecuteTime": {
     "end_time": "2021-03-01T06:22:08.069588Z",
     "start_time": "2021-03-01T06:21:57.445377Z"
    }
   },
   "outputs": [
    {
     "name": "stdout",
     "output_type": "stream",
     "text": [
      "3\n",
      "0 3\n",
      "3\n",
      "1 5\n",
      "4\n",
      "45 50\n",
      "4\n"
     ]
    }
   ],
   "source": []
  },
  {
   "cell_type": "code",
   "execution_count": null,
   "metadata": {},
   "outputs": [],
   "source": []
  }
 ],
 "metadata": {
  "kernelspec": {
   "display_name": "py3dot7",
   "language": "python",
   "name": "py3dot7"
  },
  "language_info": {
   "codemirror_mode": {
    "name": "ipython",
    "version": 3
   },
   "file_extension": ".py",
   "mimetype": "text/x-python",
   "name": "python",
   "nbconvert_exporter": "python",
   "pygments_lexer": "ipython3",
   "version": "3.7.9"
  },
  "toc": {
   "base_numbering": 1,
   "nav_menu": {},
   "number_sections": true,
   "sideBar": true,
   "skip_h1_title": false,
   "title_cell": "Table of Contents",
   "title_sidebar": "Contents",
   "toc_cell": false,
   "toc_position": {},
   "toc_section_display": true,
   "toc_window_display": false
  },
  "varInspector": {
   "cols": {
    "lenName": 16,
    "lenType": 16,
    "lenVar": 40
   },
   "kernels_config": {
    "python": {
     "delete_cmd_postfix": "",
     "delete_cmd_prefix": "del ",
     "library": "var_list.py",
     "varRefreshCmd": "print(var_dic_list())"
    },
    "r": {
     "delete_cmd_postfix": ") ",
     "delete_cmd_prefix": "rm(",
     "library": "var_list.r",
     "varRefreshCmd": "cat(var_dic_list()) "
    }
   },
   "position": {
    "height": "476.208px",
    "left": "1397.67px",
    "right": "20px",
    "top": "136px",
    "width": "350px"
   },
   "types_to_exclude": [
    "module",
    "function",
    "builtin_function_or_method",
    "instance",
    "_Feature"
   ],
   "window_display": true
  }
 },
 "nbformat": 4,
 "nbformat_minor": 4
}

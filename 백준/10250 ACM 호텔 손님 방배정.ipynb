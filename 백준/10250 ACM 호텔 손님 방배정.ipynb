{
 "cells": [
  {
   "cell_type": "markdown",
   "metadata": {},
   "source": [
    "문제  \n",
    "ACM 호텔 매니저 지우는 손님이 도착하는 대로 빈 방을 배정하고 있다. 고객 설문조사에 따르면 손님들은 호텔 정문으로부터 걸어서 가장 짧은 거리에 있는 방을 선호한다고 한다. 여러분은 지우를 도와 줄 프로그램을 작성하고자 한다. 즉 설문조사 결과 대로 호텔 정문으로부터 걷는 거리가 가장 짧도록 방을 배정하는 프로그램을 작성하고자 한다.  \n",
    "\n",
    "문제를 단순화하기 위해서 호텔은 직사각형 모양이라고 가정하자. 각 층에 W 개의 방이 있는 H 층 건물이라고 가정하자 (1 ≤ H, W ≤ 99). 그리고 엘리베이터는 가장 왼쪽에 있다고 가정하자(그림 1 참고). 이런 형태의 호텔을 H × W 형태 호텔이라고 부른다. 호텔 정문은 일층 엘리베이터 바로 앞에 있는데, 정문에서 엘리베이터까지의 거리는 무시한다. 또 모든 인접한 두 방 사이의 거리는 같은 거리(거리 1)라고 가정하고 호텔의 정면 쪽에만 방이 있다고 가정한다.  \n",
    "\n",
    "\n",
    "\n",
    "방 번호는 YXX 나 YYXX 형태인데 여기서 Y 나 YY 는 층 수를 나타내고 XX 는 엘리베이터에서부터 세었을 때의 번호를 나타낸다. 즉, 그림 1 에서 빗금으로 표시한 방은 305 호가 된다.  \n",
    "\n",
    "손님은 엘리베이터를 타고 이동하는 거리는 신경 쓰지 않는다. 다만 걷는 거리가 같을 때에는 아래층의 방을 더 선호한다. 예를 들면 102 호 방보다는 301 호 방을 더 선호하는데, 102 호는 거리 2 만큼 걸어야 하지만 301 호는 거리 1 만큼만 걸으면 되기 때문이다. 같은 이유로 102 호보다 2101 호를 더 선호한다.  \n",
    "\n",
    "여러분이 작성할 프로그램은 초기에 모든 방이 비어있다고 가정하에 이 정책에 따라 N 번째로 도착한 손님에게 배정될 방 번호를 계산하는 프로그램이다. 첫 번째 손님은 101 호, 두 번째 손님은 201 호 등과 같이 배정한다. 그림 1 의 경우를 예로 들면, H = 6이므로 10 번째 손님은 402 호에 배정해야 한다.  \n",
    "\n",
    "입력  \n",
    "프로그램은 표준 입력에서 입력 데이터를 받는다. 프로그램의 입력은 T 개의 테스트 데이터로 이루어져 있는데 T 는 입력의 맨 첫 줄에 주어진다. 각 테스트 데이터는 한 행으로서 H, W, N, 세 정수를 포함하고 있으며 각각 호텔의 층 수, 각 층의 방 수, 몇 번째 손님인지를 나타낸다(1 ≤ H, W ≤ 99, 1 ≤ N ≤ H × W).   \n",
    "\n",
    "출력  \n",
    "프로그램은 표준 출력에 출력한다. 각 테스트 데이터마다 정확히 한 행을 출력하는데, 내용은 N 번째 손님에게 배정되어야 하는 방 번호를 출력한다.  "
   ]
  },
  {
   "cell_type": "code",
   "execution_count": 23,
   "metadata": {},
   "outputs": [
    {
     "name": "stdout",
     "output_type": "stream",
     "text": [
      "1\n",
      "6 12 72\n",
      "612\n"
     ]
    }
   ],
   "source": [
    "# 틀렸습니다.\n",
    "T = int(input())\n",
    "hwn = [list(map(int,input().split(' '))) for i in range(T)]\n",
    "\n",
    "for i in range(T):\n",
    "    floor = hwn[i][2]%hwn[i][0]\n",
    "    room_num = hwn[i][2]//hwn[i][0] +1\n",
    "    print(floor , room_num)\n",
    "    if room_num >=10:\n",
    "        room_num = str(room_num)\n",
    "    else:\n",
    "        room_num = '0' + str(room_num)\n",
    "    room = int(str(floor) + room_num)\n",
    "    print(room)"
   ]
  },
  {
   "cell_type": "code",
   "execution_count": 24,
   "metadata": {},
   "outputs": [
    {
     "name": "stdout",
     "output_type": "stream",
     "text": [
      "1 6 12 71\n"
     ]
    },
    {
     "ename": "ValueError",
     "evalue": "invalid literal for int() with base 10: '1 6 12 71'",
     "output_type": "error",
     "traceback": [
      "\u001b[1;31m---------------------------------------------------------------------------\u001b[0m",
      "\u001b[1;31mValueError\u001b[0m                                Traceback (most recent call last)",
      "\u001b[1;32m<ipython-input-24-2414b4c76752>\u001b[0m in \u001b[0;36m<module>\u001b[1;34m\u001b[0m\n\u001b[0;32m      1\u001b[0m \u001b[1;31m# 틀렸습니다.\u001b[0m\u001b[1;33m\u001b[0m\u001b[1;33m\u001b[0m\u001b[1;33m\u001b[0m\u001b[0m\n\u001b[1;32m----> 2\u001b[1;33m \u001b[0mT\u001b[0m \u001b[1;33m=\u001b[0m \u001b[0mint\u001b[0m\u001b[1;33m(\u001b[0m\u001b[0minput\u001b[0m\u001b[1;33m(\u001b[0m\u001b[1;33m)\u001b[0m\u001b[1;33m)\u001b[0m\u001b[1;33m\u001b[0m\u001b[1;33m\u001b[0m\u001b[0m\n\u001b[0m\u001b[0;32m      3\u001b[0m \u001b[0mhwn\u001b[0m \u001b[1;33m=\u001b[0m \u001b[1;33m[\u001b[0m\u001b[0mlist\u001b[0m\u001b[1;33m(\u001b[0m\u001b[0mmap\u001b[0m\u001b[1;33m(\u001b[0m\u001b[0mint\u001b[0m\u001b[1;33m,\u001b[0m\u001b[0minput\u001b[0m\u001b[1;33m(\u001b[0m\u001b[1;33m)\u001b[0m\u001b[1;33m.\u001b[0m\u001b[0msplit\u001b[0m\u001b[1;33m(\u001b[0m\u001b[1;34m' '\u001b[0m\u001b[1;33m)\u001b[0m\u001b[1;33m)\u001b[0m\u001b[1;33m)\u001b[0m \u001b[1;32mfor\u001b[0m \u001b[0mi\u001b[0m \u001b[1;32min\u001b[0m \u001b[0mrange\u001b[0m\u001b[1;33m(\u001b[0m\u001b[0mT\u001b[0m\u001b[1;33m)\u001b[0m\u001b[1;33m]\u001b[0m\u001b[1;33m\u001b[0m\u001b[1;33m\u001b[0m\u001b[0m\n\u001b[0;32m      4\u001b[0m \u001b[1;33m\u001b[0m\u001b[0m\n\u001b[0;32m      5\u001b[0m \u001b[1;32mfor\u001b[0m \u001b[0mi\u001b[0m \u001b[1;32min\u001b[0m \u001b[0mrange\u001b[0m\u001b[1;33m(\u001b[0m\u001b[0mT\u001b[0m\u001b[1;33m)\u001b[0m\u001b[1;33m:\u001b[0m\u001b[1;33m\u001b[0m\u001b[1;33m\u001b[0m\u001b[0m\n",
      "\u001b[1;31mValueError\u001b[0m: invalid literal for int() with base 10: '1 6 12 71'"
     ]
    }
   ],
   "source": [
    "# 틀렸습니다.\n",
    "T = int(input())\n",
    "hwn = [list(map(int,input().split(' '))) for i in range(T)]\n",
    "\n",
    "for i in range(T):\n",
    "    floor =hwn[i][2]%hwn[i][0]\n",
    "    floor = hwn[i][0] if floor == 0 else floor \n",
    "    \n",
    "    room_num = hwn[i][2]//hwn[i][0] +1\n",
    "    room_num = room_num if room_num < hwn[i][1] else hwn[i][1]\n",
    "    \n",
    "    if room_num >=10:\n",
    "        room_num = str(room_num)\n",
    "    else:\n",
    "        room_num = '0' + str(room_num)\n",
    "    room = int(str(floor) + room_num)\n",
    "    print(room)"
   ]
  },
  {
   "cell_type": "code",
   "execution_count": 35,
   "metadata": {},
   "outputs": [
    {
     "name": "stdout",
     "output_type": "stream",
     "text": [
      "6 12 72\n",
      "1 101/2 201/3 301/4 401/5 501/6 601/7 102/8 202/9 302/10 402/11 502/12 602/13 103/14 203/15 303/16 403/17 503/18 603/19 104/20 204/21 304/22 404/23 504/24 604/25 105/26 205/27 305/28 405/29 505/30 605/31 106/32 206/33 306/34 406/35 506/36 606/37 107/38 207/39 307/40 407/41 507/42 607/43 108/44 208/45 308/46 408/47 508/48 608/49 109/50 209/51 309/52 409/53 509/54 609/55 110/56 210/57 310/58 410/59 510/60 610/61 111/62 211/63 311/64 411/65 511/66 611/67 112/68 212/69 312/70 412/71 512/72 612/"
     ]
    }
   ],
   "source": [
    "# 틀렸습니다.\n",
    "# 테스트용\n",
    "\n",
    "hwn = list(map(int,input().split(' ')))\n",
    "\n",
    "for i in range(1,hwn[2]+1):\n",
    "    floor =i%hwn[0]\n",
    "    floor = hwn[0] if floor == 0 else floor \n",
    "\n",
    "    room_num = i//hwn[0]+1 if i%hwn[0]!=0 else i //hwn[0]  \n",
    "    room_num = room_num if room_num < hwn[1] else hwn[1]\n",
    "\n",
    "\n",
    "    if room_num >=10:\n",
    "        room_num = str(room_num)\n",
    "    else:\n",
    "        room_num = '0' + str(room_num)\n",
    "    room = int(str(floor) + room_num)\n",
    "    print(i,room, end= '/')"
   ]
  },
  {
   "cell_type": "code",
   "execution_count": 37,
   "metadata": {},
   "outputs": [
    {
     "name": "stdout",
     "output_type": "stream",
     "text": [
      "2\n",
      "6 12 71\n",
      "30 50 72\n",
      "512\n",
      "1203\n"
     ]
    }
   ],
   "source": [
    "# 정답!!\n",
    "\"\"\" 알고리즘은 간단\n",
    "N // 높이 = 호수\n",
    "N % 높이 = 층수이다.\n",
    "다만 문제는 몫을 구할 때 0 부터 시작하기 때문에 호수(room_num)에 1을 더해주었는데\n",
    "정확히 층수의 배수인 경우 옆 호수를 먹게되는 문제가 발생하였다.(12//6 = 2 에다가 + 1을 해주어 3 이됨)   \n",
    "이를 해결하기 위해 층수의 배수인 경우만 1을 더하지 않는 방식을 택하여 문제를 해결하였다.\n",
    "\n",
    "삼항 연산자를 주로 사용!\n",
    "\"결과 = 참일때적용 if 비교할 것 else 거짓일때적용\" \n",
    "\"\"\"\n",
    "\n",
    "T = int(input())\n",
    "hwn = [list(map(int,input().split(' '))) for i in range(T)]\n",
    "\n",
    "for i in range(T):\n",
    "    floor =hwn[i][2]%hwn[i][0]\n",
    "    floor = hwn[i][0] if floor == 0 else floor \n",
    "    \n",
    "    room_num = hwn[i][2]//hwn[i][0] +1 if hwn[i][2]%hwn[i][0] !=0 else hwn[i][2] // hwn[i][0]\n",
    "    room_num = room_num if room_num < hwn[i][1] else hwn[i][1]\n",
    "    \n",
    "    if room_num >=10:\n",
    "        room_num = str(room_num)\n",
    "    else:\n",
    "        room_num = '0' + str(room_num)\n",
    "    room = int(str(floor) + room_num)\n",
    "    print(room)\n",
    "    \n",
    "# 1시간 소요..."
   ]
  },
  {
   "cell_type": "code",
   "execution_count": 39,
   "metadata": {},
   "outputs": [
    {
     "data": {
      "text/plain": [
       "1"
      ]
     },
     "execution_count": 39,
     "metadata": {},
     "output_type": "execute_result"
    }
   ],
   "source": [
    "11//6"
   ]
  },
  {
   "cell_type": "code",
   "execution_count": null,
   "metadata": {},
   "outputs": [],
   "source": []
  }
 ],
 "metadata": {
  "kernelspec": {
   "display_name": "py3dot7",
   "language": "python",
   "name": "py3dot7"
  },
  "language_info": {
   "codemirror_mode": {
    "name": "ipython",
    "version": 3
   },
   "file_extension": ".py",
   "mimetype": "text/x-python",
   "name": "python",
   "nbconvert_exporter": "python",
   "pygments_lexer": "ipython3",
   "version": "3.7.9"
  }
 },
 "nbformat": 4,
 "nbformat_minor": 4
}

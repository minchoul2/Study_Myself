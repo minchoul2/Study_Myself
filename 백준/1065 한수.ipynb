{
 "cells": [
  {
   "cell_type": "code",
   "execution_count": 24,
   "metadata": {},
   "outputs": [
    {
     "name": "stdout",
     "output_type": "stream",
     "text": [
      "105\n",
      "99\n"
     ]
    },
    {
     "data": {
      "text/plain": [
       "' 약 40 분 소요'"
      ]
     },
     "execution_count": 24,
     "metadata": {},
     "output_type": "execute_result"
    }
   ],
   "source": [
    "import sys\n",
    "\n",
    "def check_han_100(num):\n",
    "    cnt=99    \n",
    "    for i in range(100, num+1):\n",
    "        a=int(str(i)[0])-int(str(i)[1])\n",
    "        b=int(str(i)[1])-int(str(i)[2])         \n",
    "        \n",
    "        if a==b:\n",
    "            cnt+=1\n",
    "    return cnt\n",
    "\n",
    "def check_han(num):\n",
    "    n = len(str(num)) #자리수\n",
    "    if n == 1:\n",
    "        return num\n",
    "    elif n ==2:\n",
    "        return num\n",
    "    elif n ==3:\n",
    "        return check_han_100(num)\n",
    "    else:\n",
    "        return check_han_100(999)\n",
    "                \n",
    "num = int(input())\n",
    "print(check_han(num))\n",
    "\n",
    "\"\"\" 약 40 분 소요\"\"\""
   ]
  },
  {
   "cell_type": "code",
   "execution_count": 23,
   "metadata": {},
   "outputs": [
    {
     "name": "stdout",
     "output_type": "stream",
     "text": [
      "105\n",
      "99\n"
     ]
    }
   ],
   "source": [
    "num = int(input())\n",
    "hansu = 0\n",
    "\n",
    "for n in range(1, num+1) :\n",
    "    if n <= 99 : # 1부터 99까지는 모두 한수\n",
    "        hansu += 1 \n",
    "    \n",
    "    else :     \n",
    "        nums = list(map(int, str(n))) # 숫자를 자릿수대로 분리 \n",
    "        if nums[0] - nums[1] == nums[1] - nums[2] : #등차수열 확인\n",
    "            hansu+=1\n",
    "            \n",
    "print(hansu)"
   ]
  },
  {
   "cell_type": "code",
   "execution_count": null,
   "metadata": {},
   "outputs": [],
   "source": []
  }
 ],
 "metadata": {
  "kernelspec": {
   "display_name": "py3dot7",
   "language": "python",
   "name": "py3dot7"
  },
  "language_info": {
   "codemirror_mode": {
    "name": "ipython",
    "version": 3
   },
   "file_extension": ".py",
   "mimetype": "text/x-python",
   "name": "python",
   "nbconvert_exporter": "python",
   "pygments_lexer": "ipython3",
   "version": "3.7.9"
  }
 },
 "nbformat": 4,
 "nbformat_minor": 4
}

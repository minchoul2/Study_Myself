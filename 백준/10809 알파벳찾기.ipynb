{
 "cells": [
  {
   "cell_type": "markdown",
   "metadata": {},
   "source": [
    "문제  \n",
    "알파벳 소문자로만 이루어진 단어 S가 주어진다. 각각의 알파벳에 대해서, 단어에 포함되어 있는 경우에는 처음 등장하는 위치를, 포함되어 있지 않은 경우에는 -1을 출력하는 프로그램을 작성하시오.\n",
    "\n",
    "입력  \n",
    "첫째 줄에 단어 S가 주어진다. 단어의 길이는 100을 넘지 않으며, 알파벳 소문자로만 이루어져 있다.\n"
   ]
  },
  {
   "cell_type": "code",
   "execution_count": 32,
   "metadata": {},
   "outputs": [
    {
     "name": "stdout",
     "output_type": "stream",
     "text": [
      "bca\n",
      "2 0 1 -1 -1 -1 -1 -1 -1 -1 -1 -1 -1 -1 -1 -1 -1 -1 -1 -1 -1 -1 -1 -1 -1 -1 "
     ]
    }
   ],
   "source": [
    "# 틀림\n",
    "\"\"\" 코드흐름 \n",
    "    1. s 를 아스키 코드(int)형으로 변환 후 리스트로 저장\n",
    "    2. index(-1로 이루어진 26개 리스트)를 중심으로 s_index 와 비교\n",
    "    문제점 : for 문을 이중으로 하여 최대 2600번의 연산 (26*s_index)\n",
    "             -> 이미 탐색이 끝났어도 재탐색을 하게 되어 손해\n",
    "    \"\"\"\n",
    "s=input()\n",
    "s_index=[]\n",
    "index=[-1 for i in range(26)]\n",
    "# 1.\n",
    "for ch in s:\n",
    "    s_index.append(ord(ch)-97)\n",
    "\n",
    "#2.\n",
    "for idx, val in enumerate(s_index):\n",
    "    for s_idx,s_ord in enumerate(s_index):\n",
    "        if s_ord == idx:\n",
    "            index[idx] = s_idx\n",
    "            break\n",
    "        \n",
    "for i in index:\n",
    "    print(i , end= ' ')"
   ]
  },
  {
   "cell_type": "code",
   "execution_count": 27,
   "metadata": {},
   "outputs": [],
   "source": [
    "# 맞음\n",
    "\"\"\"\n",
    "코드흐름\n",
    "1. 문자열의 인덱스를 바로 삽입하여 계산량 최소화함으로써 이전 코드의 문제점 해결\n",
    "\"\"\"\n",
    "s=input()\n",
    "s_index=[]\n",
    "index=[-1 for i in range(26)]\n",
    "s_index = [ord(ch)-97 for ch in s]\n",
    "#1.\n",
    "for idx,val in enumerate(s_index):\n",
    "    if index[val] == -1:\n",
    "        index[val] = idx\n",
    "    \n",
    "for i in index:\n",
    "    print(i , end= ' ')\n",
    "    \n",
    "# 총 40분 "
   ]
  }
 ],
 "metadata": {
  "kernelspec": {
   "display_name": "Python [conda env:Anaconda3]",
   "language": "python",
   "name": "conda-env-Anaconda3-py"
  },
  "language_info": {
   "codemirror_mode": {
    "name": "ipython",
    "version": 3
   },
   "file_extension": ".py",
   "mimetype": "text/x-python",
   "name": "python",
   "nbconvert_exporter": "python",
   "pygments_lexer": "ipython3",
   "version": "3.6.5"
  }
 },
 "nbformat": 4,
 "nbformat_minor": 2
}

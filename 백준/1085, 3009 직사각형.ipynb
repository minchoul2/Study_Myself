{
 "cells": [
  {
   "cell_type": "code",
   "execution_count": 2,
   "id": "disabled-depth",
   "metadata": {},
   "outputs": [
    {
     "name": "stdin",
     "output_type": "stream",
     "text": [
      " 6 2 10 3\n"
     ]
    },
    {
     "name": "stdout",
     "output_type": "stream",
     "text": [
      "1\n"
     ]
    }
   ],
   "source": [
    "# start pm 11:00\n",
    "\n",
    "x,y,w,h = map(int, input().split())\n",
    "\n",
    "exit = [x,y,w-x,h-y]\n",
    "\n",
    "print(min(exit))\n",
    "\n",
    "# end pm 11:04 "
   ]
  },
  {
   "cell_type": "code",
   "execution_count": 4,
   "id": "dressed-airport",
   "metadata": {},
   "outputs": [
    {
     "name": "stdin",
     "output_type": "stream",
     "text": [
      " 30 20\n",
      " 10 10\n",
      " 10 20\n"
     ]
    },
    {
     "name": "stdout",
     "output_type": "stream",
     "text": [
      "30 10\n"
     ]
    }
   ],
   "source": [
    "# start pm 11:06\n",
    "\n",
    "x_pos = []\n",
    "y_pos = []\n",
    "\n",
    "for i in range(3):\n",
    "    x,y = map(int,input().split())\n",
    "    x_pos.append(x)\n",
    "    y_pos.append(y)\n",
    "    \n",
    "if x_pos[0] == x_pos[1] or x_pos[0] == x_pos[2]:\n",
    "    if x_pos[1] != x_pos[0]:\n",
    "        x2 = x_pos[1]\n",
    "    elif x_pos[2] != x_pos[0]:\n",
    "        x2 = x_pos[2]   \n",
    "else:\n",
    "    x2 = x_pos[0]\n",
    "    \n",
    "if y_pos[0] == y_pos[1] or y_pos[0] == y_pos[2]:\n",
    "    if y_pos[1] != y_pos[0]:\n",
    "        y2 = y_pos[1]\n",
    "    elif y_pos[2] != y_pos[0]:\n",
    "        y2 = y_pos[2]\n",
    "else:\n",
    "    y2 = y_pos[0]\n",
    "    \n",
    "print(x2,y2)\n",
    "\n",
    "# end = 11:25"
   ]
  },
  {
   "cell_type": "code",
   "execution_count": null,
   "id": "operational-discovery",
   "metadata": {},
   "outputs": [],
   "source": []
  }
 ],
 "metadata": {
  "kernelspec": {
   "display_name": "Python 3",
   "language": "python",
   "name": "python3"
  },
  "language_info": {
   "codemirror_mode": {
    "name": "ipython",
    "version": 3
   },
   "file_extension": ".py",
   "mimetype": "text/x-python",
   "name": "python",
   "nbconvert_exporter": "python",
   "pygments_lexer": "ipython3",
   "version": "3.7.9"
  },
  "widgets": {
   "application/vnd.jupyter.widget-state+json": {
    "state": {},
    "version_major": 2,
    "version_minor": 0
   }
  }
 },
 "nbformat": 4,
 "nbformat_minor": 5
}

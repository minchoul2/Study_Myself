{
 "cells": [
  {
   "cell_type": "markdown",
   "metadata": {},
   "source": [
    "문제  \n",
    "정수 N이 주어졌을 때, 소인수분해하는 프로그램을 작성하시오.  \n",
    "\n",
    "입력  \n",
    "첫째 줄에 정수 N (1 ≤ N ≤ 10,000,000)이 주어진다.  \n",
    "\n",
    "출력  \n",
    "N의 소인수분해 결과를 한 줄에 하나씩 오름차순으로 출력한다. N이 1인 경우 아무것도 출력하지 않는다.  "
   ]
  },
  {
   "cell_type": "code",
   "execution_count": 26,
   "metadata": {
    "ExecuteTime": {
     "end_time": "2021-03-09T06:42:37.645824Z",
     "start_time": "2021-03-09T06:42:33.610265Z"
    }
   },
   "outputs": [
    {
     "name": "stdout",
     "output_type": "stream",
     "text": [
      "9991\n",
      "97\n",
      "103\n"
     ]
    }
   ],
   "source": [
    "\"\"\"\n",
    "시간초과 \n",
    "\"\"\"\n",
    "pri_set = [2,3,5,7,11,13,17]\n",
    "import copy\n",
    "\n",
    "n = int(input())\n",
    "nn = copy.deepcopy(n)\n",
    "con_list =[]\n",
    "basic_num = 2\n",
    "\n",
    "def is_pri(num): # 소수인지 판단 함수\n",
    "    if num == 1:\n",
    "        return False\n",
    "    elif num == 2:\n",
    "        return True\n",
    "    else:\n",
    "        for i in range(2,num):\n",
    "            if num%i == 0:\n",
    "                return False\n",
    "        else:\n",
    "            return True\n",
    "\n",
    "while basic_num<=n:  \n",
    "    if n==1:break # 1이면 아웃\n",
    "    while is_pri(basic_num) and n % basic_num == 0: # 소수이고, 소수로나눠지면\n",
    "        n /= basic_num\n",
    "        con_list.append(basic_num) # 소수추가\n",
    "\n",
    "    basic_num+=1 \n",
    "\n",
    "if nn != 1:\n",
    "    for i in con_list:\n",
    "        print(i)\n",
    "        \n",
    "        "
   ]
  },
  {
   "cell_type": "code",
   "execution_count": 39,
   "metadata": {
    "ExecuteTime": {
     "end_time": "2021-03-09T06:59:36.733256Z",
     "start_time": "2021-03-09T06:56:10.176623Z"
    }
   },
   "outputs": [
    {
     "name": "stdout",
     "output_type": "stream",
     "text": [
      "99991\n"
     ]
    },
    {
     "ename": "KeyboardInterrupt",
     "evalue": "",
     "output_type": "error",
     "traceback": [
      "\u001b[1;31m---------------------------------------------------------------------------\u001b[0m",
      "\u001b[1;31mKeyboardInterrupt\u001b[0m                         Traceback (most recent call last)",
      "\u001b[1;32m<ipython-input-39-3bbac2bdadca>\u001b[0m in \u001b[0;36m<module>\u001b[1;34m\u001b[0m\n\u001b[0;32m     33\u001b[0m             \u001b[0mbasic_num\u001b[0m \u001b[1;33m+=\u001b[0m \u001b[1;36m1\u001b[0m\u001b[1;33m\u001b[0m\u001b[1;33m\u001b[0m\u001b[0m\n\u001b[0;32m     34\u001b[0m         \u001b[0mn\u001b[0m \u001b[1;33m/=\u001b[0m \u001b[0mbasic_num\u001b[0m\u001b[1;33m\u001b[0m\u001b[1;33m\u001b[0m\u001b[0m\n\u001b[1;32m---> 35\u001b[1;33m         \u001b[0mcon_list\u001b[0m\u001b[1;33m.\u001b[0m\u001b[0mappend\u001b[0m\u001b[1;33m(\u001b[0m\u001b[0mbasic_num\u001b[0m\u001b[1;33m)\u001b[0m \u001b[1;31m# 소수추가\u001b[0m\u001b[1;33m\u001b[0m\u001b[1;33m\u001b[0m\u001b[0m\n\u001b[0m\u001b[0;32m     36\u001b[0m \u001b[1;33m\u001b[0m\u001b[0m\n\u001b[0;32m     37\u001b[0m     \u001b[0mi\u001b[0m\u001b[1;33m+=\u001b[0m\u001b[1;36m1\u001b[0m\u001b[1;33m\u001b[0m\u001b[1;33m\u001b[0m\u001b[0m\n",
      "\u001b[1;31mKeyboardInterrupt\u001b[0m: "
     ]
    }
   ],
   "source": [
    "\"\"\"\n",
    "인덱스 에러 \n",
    "소수테이블을 미리 만들어 놓고 시작해봣다.\n",
    "\"\"\"\n",
    "import copy\n",
    "pri_set = [2, 3, 5, 7, 11, 13, 17, 19, 23, 29, 31, 37, 41, 43, 47, 53, 59, 61, 67, 71, 73, 79, 83, 89, 97, 101, 103, 107, 109, 113, 127, 131, 137, 139, 149, 151, 157, 163, 167, 173, 179, 181, 191, 193, 197, 199, 211, 223, 227, 229, 233, 239, 241, 251, 257, 263, 269, 271, 277, 281, 283, 293, 307, 311, 313, 317, 331, 337, 347, 349, 353, 359, 367, 373, 379, 383, 389, 397, 401, 409, 419, 421, 431, 433, 439, 443, 449, 457, 461, 463, 467, 479, 487, 491, 499, 503, 509, 521, 523, 541, 547, 557, 563, 569, 571, 577, 587, 593, 599, 601, 607, 613, 617, 619, 631, 641, 643, 647, 653, 659, 661, 673, 677, 683, 691, 701, 709, 719, 727, 733, 739, 743, 751, 757, 761, 769, 773, 787, 797, 809, 811, 821, 823, 827, 829, 839, 853, 857, 859, 863, 877, 881, 883, 887, 907, 911, 919, 929, 937, 941, 947, 953, 967, 971, 977, 983, 991, 997, 1009, 1013, 1019, 1021, 1031, 1033, 1039, 1049, 1051, 1061, 1063, 1069, 1087, 1091, 1093, 1097, 1103, 1109, 1117, 1123, 1129, 1151, 1153, 1163, 1171, 1181, 1187, 1193, 1201, 1213, 1217, \n",
    "           1223]\n",
    "\n",
    "\n",
    "n = int(input())\n",
    "nn = copy.deepcopy(n)\n",
    "con_list =[]\n",
    "basic_num = 2\n",
    "\n",
    "def is_pri(num): # 소수인지 판단 함수\n",
    "    if num == 1:\n",
    "        return False\n",
    "    elif num == 2:\n",
    "        return True\n",
    "    else:\n",
    "        for i in range(2,num):\n",
    "            if num%i == 0:\n",
    "                return False\n",
    "        else:\n",
    "            return True\n",
    "i = 0\n",
    "basic_num = pri_set[i]\n",
    "while basic_num<=n:  \n",
    "    if n==1:break # 1이면 아웃\n",
    "    while n % basic_num == 0: # 소수이고, 소수로나눠지면\n",
    "        try:\n",
    "            basic_num = pri_set[i]\n",
    "        except:\n",
    "            basic_num += 1\n",
    "        n /= basic_num\n",
    "        con_list.append(basic_num) # 소수추가\n",
    "\n",
    "    i+=1 \n",
    "\n",
    "if nn != 1:\n",
    "    for i in con_list:\n",
    "        print(i)\n",
    "        \n",
    "        "
   ]
  },
  {
   "cell_type": "code",
   "execution_count": 29,
   "metadata": {
    "ExecuteTime": {
     "end_time": "2021-03-12T02:41:42.537938Z",
     "start_time": "2021-03-12T02:41:40.547910Z"
    }
   },
   "outputs": [
    {
     "name": "stdout",
     "output_type": "stream",
     "text": [
      "100\n",
      "2\n",
      "2\n",
      "5\n",
      "5\n"
     ]
    }
   ],
   "source": [
    "\"\"\"\n",
    "이렇게 간단하다고??\n",
    "소수 2로 다 나누면 어짜피 2의 배수들은 탈락\n",
    "3으로 쭉 다나누면 어짜피 3의 배수들은 탈락 => 자연스럽게 소수들로만 체크가됨\n",
    "5,7,11,13.... 도 똑같다.\n",
    "내가 소수를 판단해주고 자시고 할 필요가 없었음....\n",
    "\"\"\"\n",
    "n = int(input())\n",
    "i = 2\n",
    "while n != 1: # n이 나누다가 1이 되면 끝\n",
    "    if n % i == 0:\n",
    "        n = n/i\n",
    "        print(i)\n",
    "    else:\n",
    "        i += 1\n",
    "\n",
    "# 40분"
   ]
  },
  {
   "cell_type": "code",
   "execution_count": 28,
   "metadata": {
    "ExecuteTime": {
     "end_time": "2021-03-11T13:10:59.350882Z",
     "start_time": "2021-03-11T13:10:59.329882Z"
    }
   },
   "outputs": [
    {
     "name": "stdout",
     "output_type": "stream",
     "text": [
      "8\n",
      "7\n",
      "6\n",
      "5\n",
      "4\n",
      "3\n",
      "2\n",
      "1\n"
     ]
    }
   ],
   "source": [
    "n=9\n",
    "for i in range((n-1),0,-1):\n",
    "    print(i)"
   ]
  },
  {
   "cell_type": "code",
   "execution_count": null,
   "metadata": {},
   "outputs": [],
   "source": []
  }
 ],
 "metadata": {
  "kernelspec": {
   "display_name": "py3dot7",
   "language": "python",
   "name": "py3dot7"
  },
  "language_info": {
   "codemirror_mode": {
    "name": "ipython",
    "version": 3
   },
   "file_extension": ".py",
   "mimetype": "text/x-python",
   "name": "python",
   "nbconvert_exporter": "python",
   "pygments_lexer": "ipython3",
   "version": "3.7.9"
  },
  "toc": {
   "base_numbering": 1,
   "nav_menu": {},
   "number_sections": true,
   "sideBar": true,
   "skip_h1_title": false,
   "title_cell": "Table of Contents",
   "title_sidebar": "Contents",
   "toc_cell": false,
   "toc_position": {},
   "toc_section_display": true,
   "toc_window_display": false
  },
  "varInspector": {
   "cols": {
    "lenName": 16,
    "lenType": 16,
    "lenVar": 40
   },
   "kernels_config": {
    "python": {
     "delete_cmd_postfix": "",
     "delete_cmd_prefix": "del ",
     "library": "var_list.py",
     "varRefreshCmd": "print(var_dic_list())"
    },
    "r": {
     "delete_cmd_postfix": ") ",
     "delete_cmd_prefix": "rm(",
     "library": "var_list.r",
     "varRefreshCmd": "cat(var_dic_list()) "
    }
   },
   "types_to_exclude": [
    "module",
    "function",
    "builtin_function_or_method",
    "instance",
    "_Feature"
   ],
   "window_display": false
  }
 },
 "nbformat": 4,
 "nbformat_minor": 4
}

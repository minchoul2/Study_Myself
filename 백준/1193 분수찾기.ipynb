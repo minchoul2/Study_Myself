{
 "cells": [
  {
   "cell_type": "markdown",
   "metadata": {},
   "source": [
    "이와 같이 나열된 분수들을 1/1 -> 1/2 -> 2/1 -> 3/1 -> 2/2 -> … 과 같은 지그재그 순서로 차례대로  \n",
    "1번, 2번, 3번, 4번, 5번, … 분수라고 하자.  \n",
    "X가 주어졌을 때, X번째 분수를 구하는 프로그램을 작성하시오.\n",
    "  \n",
    "입력  \n",
    "첫째 줄에 X(1 ≤ X ≤ 10,000,000)가 주어진다.\n",
    "\n",
    "출력  \n",
    "첫째 줄에 분수를 출력한다."
   ]
  },
  {
   "cell_type": "code",
   "execution_count": 30,
   "metadata": {},
   "outputs": [
    {
     "name": "stdout",
     "output_type": "stream",
     "text": [
      "12\n",
      "4/2\n"
     ]
    }
   ],
   "source": [
    "#성공 \n",
    "is_odd = lambda n : n%2 # 홀수면 True, 짝수면 False 반환 함수\n",
    "\n",
    "def n_group(n): # 몇번째 그룹에 속하고, 그룹에서 몇번째인지 반환하는 함수\n",
    "    ch = 1\n",
    "    while n>0:\n",
    "        n = n - ch\n",
    "        ch+=1\n",
    "    return ch-1,ch+n-1\n",
    "\n",
    "n = int(input())\n",
    "g,n1 = n_group(n)\n",
    "\n",
    "if is_odd(g):\n",
    "    print(f'{g+1-n1}/{n1}')\n",
    "else:\n",
    "    print(f'{n1}/{g+1-n1}')\n",
    "    \n",
    "#30분"
   ]
  },
  {
   "cell_type": "code",
   "execution_count": null,
   "metadata": {},
   "outputs": [],
   "source": []
  }
 ],
 "metadata": {
  "kernelspec": {
   "display_name": "py3dot7",
   "language": "python",
   "name": "py3dot7"
  },
  "language_info": {
   "codemirror_mode": {
    "name": "ipython",
    "version": 3
   },
   "file_extension": ".py",
   "mimetype": "text/x-python",
   "name": "python",
   "nbconvert_exporter": "python",
   "pygments_lexer": "ipython3",
   "version": "3.7.9"
  }
 },
 "nbformat": 4,
 "nbformat_minor": 2
}

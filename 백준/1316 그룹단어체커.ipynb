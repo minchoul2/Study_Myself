{
 "cells": [
  {
   "cell_type": "markdown",
   "metadata": {},
   "source": [
    "문제  \n",
    "그룹 단어란 단어에 존재하는 모든 문자에 대해서, 각 문자가 연속해서 나타나는 경우만을 말한다. 예를 들면, ccazzzzbb는 c, a, z, b가 모두 연속해서 나타나고, kin도 k, i, n이 연속해서 나타나기 때문에 그룹 단어이지만, aabbbccb는 b가 떨어져서 나타나기 때문에 그룹 단어가 아니다.  \n",
    "\n",
    "단어 N개를 입력으로 받아 그룹 단어의 개수를 출력하는 프로그램을 작성하시오.  \n",
    "\n",
    "입력  \n",
    "첫째 줄에 단어의 개수 N이 들어온다. N은 100보다 작거나 같은 자연수이다. 둘째 줄부터 N개의 줄에 단어가 들어온다. 단어는 알파벳 소문자로만 되어있고 중복되지 않으며, 길이는 최대 100이다.  \n",
    "\n",
    "출력  \n",
    "첫째 줄에 그룹 단어의 개수를 출력한다."
   ]
  },
  {
   "cell_type": "code",
   "execution_count": 24,
   "metadata": {},
   "outputs": [
    {
     "name": "stdout",
     "output_type": "stream",
     "text": [
      "5\n",
      "ㅁ\n",
      "ㅠ\n",
      "ㅊ\n",
      "ㅁㅁㅁㅊㅊㅊㅁ\n",
      "ㅁㅊㅂ\n",
      "4\n"
     ]
    }
   ],
   "source": [
    "#성공\n",
    "def isgroup(s): # 단어가 그룹단어인지 체크 후 bool리턴\n",
    "    check_dict={}\n",
    "    for idx,val in enumerate(s):        \n",
    "        # 새로운 알파뱃추가시 에러나기 때문에 try 처리\n",
    "        try:\n",
    "            if check_dict[val] == idx - 1: # 지금 알파벳이 직전 알파벳과 같은가?\n",
    "                check_dict[val] = idx\n",
    "            elif check_dict[val] <= idx - 2: # 지금 알파벳이 직전 알파벳과 떨어져 있는가?\n",
    "                return False\n",
    "        \n",
    "        except:# 새로운 알파벳 추가\n",
    "            check_dict[val]=idx\n",
    "        \n",
    "    return True\n",
    "\n",
    "\n",
    "#시작\n",
    "n= int(input())\n",
    "s_list=[input() for i in range(n)]\n",
    "cnt=0\n",
    "\n",
    "for s in s_list:\n",
    "    if isgroup(s) == True:\n",
    "        cnt+=1\n",
    "\n",
    "print(cnt)\n",
    "\n",
    "#30분"
   ]
  },
  {
   "cell_type": "code",
   "execution_count": 27,
   "metadata": {},
   "outputs": [
    {
     "name": "stdout",
     "output_type": "stream",
     "text": [
      "1\n",
      "abab\n",
      "0\n"
     ]
    }
   ],
   "source": [
    "\"\"\"\n",
    "isgroup 수정 : try로 keyerror를 넘김 -> in 을 통해 check_dict에 존재하는지 판단 \n",
    "\"\"\" \n",
    "def isgroup(s): # 단어가 그룹단어인지 체크 후 bool리턴\n",
    "    check_dict={}\n",
    "    for idx,val in enumerate(s):        \n",
    "        if val not in check_dict:      # 없으면 추가\n",
    "            check_dict[val]=idx\n",
    "        elif check_dict[val] == idx - 1: # 안떨어져있으면 업데이트\n",
    "            check_dict[val] = idx\n",
    "        #elif check_dict[val] <= idx - 2: # 떨어져 있으면 False\n",
    "        else:\n",
    "            return False \n",
    "        \n",
    "    return True # 다 통과하면 True\n",
    "\n",
    "\n",
    "#시작\n",
    "n= int(input())\n",
    "s_list=[input() for i in range(n)]\n",
    "cnt=0\n",
    "\n",
    "for s in s_list:\n",
    "    if isgroup(s) == True:\n",
    "        cnt+=1\n",
    "\n",
    "print(cnt)\n",
    "\n",
    "#30분"
   ]
  },
  {
   "cell_type": "code",
   "execution_count": 33,
   "metadata": {},
   "outputs": [
    {
     "name": "stdout",
     "output_type": "stream",
     "text": [
      "3\n",
      "aabb\n",
      "aba\n",
      "a\n",
      "2\n"
     ]
    }
   ],
   "source": [
    "\"\"\"\n",
    "isgroup 수정 : try로 keyerror를 넘김 -> in 을 통해 check_dict에 존재하는지 판단  -> setdefault메소드 활용하여 코드 줄임\n",
    "\"\"\" \n",
    "def isgroup(s): # 단어가 그룹단어인지 체크 후 bool리턴\n",
    "    check_dict={}\n",
    "    for idx,val in enumerate(s):        \n",
    "        check_dict[val] = check_dict.setdefault(val,idx) # setdefault메소드 활용\n",
    "        \n",
    "        if check_dict[val] == idx - 1: # 안떨어져있으면 업데이트\n",
    "            check_dict[val] = idx\n",
    "        elif check_dict[val] <= idx - 2:\n",
    "            return False \n",
    "    return True # 다 통과하면 True\n",
    "\n",
    "\n",
    "#시작\n",
    "n= int(input())\n",
    "s_list=[input() for i in range(n)]\n",
    "cnt=0\n",
    "\n",
    "for s in s_list:\n",
    "    if isgroup(s) == True:\n",
    "        cnt+=1\n",
    "\n",
    "print(cnt)\n",
    "\n",
    "#30분"
   ]
  },
  {
   "cell_type": "code",
   "execution_count": 29,
   "metadata": {},
   "outputs": [
    {
     "name": "stdout",
     "output_type": "stream",
     "text": [
      "{'a': 0, 'b': 1, 'c': 3}\n"
     ]
    }
   ],
   "source": [
    "# setdefault 메소드활용\n",
    "str= 'abbccca'\n",
    "d={}\n",
    "for i,key in enumerate(str):\n",
    "    d[key]=d.setdefault(key,i)\n",
    "print(d)"
   ]
  },
  {
   "cell_type": "code",
   "execution_count": null,
   "metadata": {},
   "outputs": [],
   "source": []
  }
 ],
 "metadata": {
  "kernelspec": {
   "display_name": "Python [conda env:Anaconda3]",
   "language": "python",
   "name": "conda-env-Anaconda3-py"
  },
  "language_info": {
   "codemirror_mode": {
    "name": "ipython",
    "version": 3
   },
   "file_extension": ".py",
   "mimetype": "text/x-python",
   "name": "python",
   "nbconvert_exporter": "python",
   "pygments_lexer": "ipython3",
   "version": "3.6.5"
  }
 },
 "nbformat": 4,
 "nbformat_minor": 2
}

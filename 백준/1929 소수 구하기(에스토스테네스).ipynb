{
 "cells": [
  {
   "cell_type": "markdown",
   "metadata": {},
   "source": [
    "문제  \n",
    "M이상 N이하의 소수를 모두 출력하는 프로그램을 작성하시오.  \n",
    "\n",
    "입력  \n",
    "첫째 줄에 자연수 M과 N이 빈 칸을 사이에 두고 주어진다. (1 ≤ M ≤ N ≤ 1,000,000) M이상 N이하의 소수가 하나 이상 있는 입력만 주어진다.  \n",
    "\n",
    "출력  \n",
    "한 줄에 하나씩, 증가하는 순서대로 소수를 출력한다.  "
   ]
  },
  {
   "cell_type": "code",
   "execution_count": 28,
   "metadata": {
    "ExecuteTime": {
     "end_time": "2021-03-12T03:25:16.697424Z",
     "start_time": "2021-03-12T03:25:13.080872Z"
    }
   },
   "outputs": [
    {
     "name": "stdout",
     "output_type": "stream",
     "text": [
      "1 10\n",
      "2 4 3\n",
      "2 6 5\n",
      "2 8 7\n",
      "2 10 9\n",
      "1\n",
      "2\n",
      "4\n",
      "6\n",
      "8\n",
      "10\n"
     ]
    }
   ],
   "source": [
    "\"\"\" 특정 범위 내의 소수를 판정 하는데에만 효율적인 에라토스테네스의 체 \"\"\"\n",
    "\"\"\"\n",
    "실패 \n",
    "범위를 한번에 포함하는 소수리스트를 뽑으려 했던게 문제다-> 문제를 복잡하게 만듦(인덱스 불완전)\n",
    "\n",
    "\"\"\"\n",
    "M, N = map(int, input().split())\n",
    "\n",
    "mn_list = list(range(0, N+1))\n",
    "if mn_list[0] == 1:  # 1의 예외처리\n",
    "    mn_list[0] = 0\n",
    "\n",
    "m = int(N**0.5)\n",
    "\n",
    "for i in range(2, m+1):\n",
    "    if mn_list[i] != 0:\n",
    "        for j in range(i+i, len(mn_list) , i):\n",
    "            print(i,j,mn_list[j-1])\n",
    "            mn_list[j-1] = 0\n",
    "\n",
    "for i in mn_list:\n",
    "    if i != 0:\n",
    "        print(i)"
   ]
  },
  {
   "cell_type": "code",
   "execution_count": 40,
   "metadata": {
    "ExecuteTime": {
     "end_time": "2021-03-12T03:37:16.746622Z",
     "start_time": "2021-03-12T03:37:16.735621Z"
    }
   },
   "outputs": [],
   "source": [
    "\n",
    "\n"
   ]
  },
  {
   "cell_type": "code",
   "execution_count": null,
   "metadata": {
    "ExecuteTime": {
     "end_time": "2021-03-12T03:54:51.608131Z",
     "start_time": "2021-03-12T03:54:46.124040Z"
    }
   },
   "outputs": [],
   "source": [
    "\"\"\"\n",
    "성공 \n",
    "우선 소수리스트를 뽑고, 기준(M보다 큰수) 를 추리는 게 더 깔끔했다.\n",
    "\n",
    "\"\"\"\n",
    "def getPri(N): # N 이하의 소수 리스트를  반환 생성\n",
    "    nums = [True] * (N+1) # N+1개-> 0~N 번쨰 까지 생성\n",
    "    m = int(len(nums)**0.5) \"\"\" M의 제곱근(루트)까지의 소수만 구하면 됨// 수학적으로 증명됨\"\"\"\n",
    "    for i in range(2, m+1): # 2부터 m+1(제곱근) 의 배수들을 지울 것\n",
    "        if nums[i] == True: # 안지워져있으면 \n",
    "            for j in range(i + i, N+1, i): # i+i는 자기자신을 배제하겠다는 것 (2건너뛰고 4부터삭제)\n",
    "                nums[j] = False # 지우고\n",
    "    return [i for i in range(2, N+1) if nums[i] ==True] # Ture인 것들의 인덱스를 리스트로 묶어 반환\n",
    "\n",
    "M, N = map(int, input().split())\n",
    "pri_list = getPri(N)\n",
    "\n",
    "for idx,val in enumerate(pri_list): # M 보다 작은 것은 제외\n",
    "    if val < M:\n",
    "        continue\n",
    "    else:\n",
    "        pri_list=pri_list[idx:]\n",
    "        break\n",
    "\n",
    "for i in pri_list:\n",
    "    print(i)"
   ]
  },
  {
   "cell_type": "code",
   "execution_count": 34,
   "metadata": {
    "ExecuteTime": {
     "end_time": "2021-03-12T03:29:36.622159Z",
     "start_time": "2021-03-12T03:29:36.607166Z"
    }
   },
   "outputs": [],
   "source": []
  },
  {
   "cell_type": "code",
   "execution_count": null,
   "metadata": {},
   "outputs": [],
   "source": []
  }
 ],
 "metadata": {
  "kernelspec": {
   "display_name": "Python 3",
   "language": "python",
   "name": "python3"
  },
  "language_info": {
   "codemirror_mode": {
    "name": "ipython",
    "version": 3
   },
   "file_extension": ".py",
   "mimetype": "text/x-python",
   "name": "python",
   "nbconvert_exporter": "python",
   "pygments_lexer": "ipython3",
   "version": "3.7.9"
  },
  "toc": {
   "base_numbering": 1,
   "nav_menu": {},
   "number_sections": true,
   "sideBar": true,
   "skip_h1_title": false,
   "title_cell": "Table of Contents",
   "title_sidebar": "Contents",
   "toc_cell": false,
   "toc_position": {},
   "toc_section_display": true,
   "toc_window_display": false
  },
  "varInspector": {
   "cols": {
    "lenName": 16,
    "lenType": 16,
    "lenVar": 40
   },
   "kernels_config": {
    "python": {
     "delete_cmd_postfix": "",
     "delete_cmd_prefix": "del ",
     "library": "var_list.py",
     "varRefreshCmd": "print(var_dic_list())"
    },
    "r": {
     "delete_cmd_postfix": ") ",
     "delete_cmd_prefix": "rm(",
     "library": "var_list.r",
     "varRefreshCmd": "cat(var_dic_list()) "
    }
   },
   "types_to_exclude": [
    "module",
    "function",
    "builtin_function_or_method",
    "instance",
    "_Feature"
   ],
   "window_display": false
  }
 },
 "nbformat": 4,
 "nbformat_minor": 4
}

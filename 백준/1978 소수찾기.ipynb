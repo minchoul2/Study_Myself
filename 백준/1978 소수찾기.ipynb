{
 "cells": [
  {
   "cell_type": "markdown",
   "metadata": {},
   "source": [
    "문제  \n",
    "주어진 수 N개 중에서 소수가 몇 개인지 찾아서 출력하는 프로그램을 작성하시오.  \n",
    "\n",
    "입력  \n",
    "첫 줄에 수의 개수 N이 주어진다. N은 100이하이다. 다음으로 N개의 수가 주어지는데 수는 1,000 이하의 자연수이다.\n",
    "  \n",
    "출력  \n",
    "주어진 수들 중 소수의 개수를 출력한다.  "
   ]
  },
  {
   "cell_type": "code",
   "execution_count": 27,
   "metadata": {
    "ExecuteTime": {
     "end_time": "2021-03-08T15:21:45.982517Z",
     "start_time": "2021-03-08T15:21:33.726483Z"
    }
   },
   "outputs": [
    {
     "name": "stdout",
     "output_type": "stream",
     "text": [
      "5\n",
      "1 2 3 4 5\n",
      "3\n"
     ]
    }
   ],
   "source": [
    "\"\"\"\n",
    "성공\n",
    "소수는 1과 자신을 제외한 어떤 수로도 나눠지지 않는 것이다.(2,3,5,7, ...)\n",
    "2도 포함되기 때문에 \n",
    "2는 그냥 하드코딩해주었다.\n",
    "\"\"\"\n",
    "n = int(input())\n",
    "a = list(map(int,input().split()))\n",
    "num_of_pri = 0\n",
    "\n",
    "for i in range(n):\n",
    "    if a[i] ==  1:pass\n",
    "    elif a[i] == 2:num_of_pri += 1\n",
    "    else:\n",
    "        for j in range(2,a[i]):\n",
    "            if a[i] % j == 0:\n",
    "                break\n",
    "        else:num_of_pri += 1\n",
    "print(num_of_pri)\n",
    "\n",
    "#20분"
   ]
  },
  {
   "cell_type": "code",
   "execution_count": null,
   "metadata": {},
   "outputs": [],
   "source": []
  }
 ],
 "metadata": {
  "kernelspec": {
   "display_name": "py3dot7",
   "language": "python",
   "name": "py3dot7"
  },
  "language_info": {
   "codemirror_mode": {
    "name": "ipython",
    "version": 3
   },
   "file_extension": ".py",
   "mimetype": "text/x-python",
   "name": "python",
   "nbconvert_exporter": "python",
   "pygments_lexer": "ipython3",
   "version": "3.7.9"
  },
  "toc": {
   "base_numbering": 1,
   "nav_menu": {},
   "number_sections": true,
   "sideBar": true,
   "skip_h1_title": false,
   "title_cell": "Table of Contents",
   "title_sidebar": "Contents",
   "toc_cell": false,
   "toc_position": {},
   "toc_section_display": true,
   "toc_window_display": false
  },
  "varInspector": {
   "cols": {
    "lenName": 16,
    "lenType": 16,
    "lenVar": 40
   },
   "kernels_config": {
    "python": {
     "delete_cmd_postfix": "",
     "delete_cmd_prefix": "del ",
     "library": "var_list.py",
     "varRefreshCmd": "print(var_dic_list())"
    },
    "r": {
     "delete_cmd_postfix": ") ",
     "delete_cmd_prefix": "rm(",
     "library": "var_list.r",
     "varRefreshCmd": "cat(var_dic_list()) "
    }
   },
   "types_to_exclude": [
    "module",
    "function",
    "builtin_function_or_method",
    "instance",
    "_Feature"
   ],
   "window_display": false
  }
 },
 "nbformat": 4,
 "nbformat_minor": 4
}

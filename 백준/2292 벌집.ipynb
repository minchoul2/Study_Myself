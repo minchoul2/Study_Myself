{
 "cells": [
  {
   "cell_type": "markdown",
   "metadata": {},
   "source": [
    "문제\n",
    "\n",
    "\n",
    "위의 그림과 같이 육각형으로 이루어진 벌집이 있다. 그림에서 보는 바와 같이 중앙의 방 1부터 시작해서 이웃하는 방에 돌아가면서 1씩 증가하는 번호를 주소로 매길 수 있다. 숫자 N이 주어졌을 때, 벌집의 중앙 1에서 N번 방까지 최소 개수의 방을 지나서 갈 때 몇 개의 방을 지나가는지(시작과 끝을 포함하여)를 계산하는 프로그램을 작성하시오. 예를 들면, 13까지는 3개, 58까지는 5개를 지난다.\n",
    "\n",
    "입력  \n",
    "첫째 줄에 N(1 ≤ N ≤ 1,000,000,000)이 주어진다.\n",
    "\n",
    "출력  \n",
    "입력으로 주어진 방까지 최소 개수의 방을 지나서 갈 때 몇 개의 방을 지나는지 출력한다."
   ]
  },
  {
   "cell_type": "code",
   "execution_count": 27,
   "metadata": {},
   "outputs": [],
   "source": [
    "#성공\n",
    "\"\"\" \n",
    "벌집은 6각형이고 각 층마다 +6씩 되는 등차수열이다.\n",
    "첫번째층은 +5를 제외한 나머지 층은 모두 +6인 등차수열이다.\n",
    "최소거리는 어짜피 몇번쨰 층인지를 나타내므로 굳이 리스트로 다 표현할 필요 없다.\n",
    "\n",
    "결국 N이 등차수열에서의 몇번째 층인지만 알아내면 끝!\n",
    "\"\"\"\n",
    "def make_list(num):\n",
    "    ch=1\n",
    "    cnt = 1\n",
    "    while num>=0:\n",
    "        num -= ch\n",
    "        if num<=0:\n",
    "            break\n",
    "        if cnt==1: \n",
    "            ch+=5\n",
    "            cnt += 1\n",
    "        else:\n",
    "            ch+=6\n",
    "            cnt += 1\n",
    "\n",
    "    return cnt\n",
    "n=int(input())\n",
    "make_list(n)\n",
    "\n",
    "#20분"
   ]
  },
  {
   "cell_type": "code",
   "execution_count": null,
   "metadata": {},
   "outputs": [],
   "source": []
  }
 ],
 "metadata": {
  "kernelspec": {
   "display_name": "py3dot7",
   "language": "python",
   "name": "py3dot7"
  },
  "language_info": {
   "codemirror_mode": {
    "name": "ipython",
    "version": 3
   },
   "file_extension": ".py",
   "mimetype": "text/x-python",
   "name": "python",
   "nbconvert_exporter": "python",
   "pygments_lexer": "ipython3",
   "version": "3.7.9"
  }
 },
 "nbformat": 4,
 "nbformat_minor": 4
}

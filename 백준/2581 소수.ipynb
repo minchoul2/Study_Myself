{
 "cells": [
  {
   "cell_type": "markdown",
   "metadata": {},
   "source": [
    "문제  \n",
    "자연수 M과 N이 주어질 때 M이상 N이하의 자연수 중 소수인 것을 모두 골라 이들 소수의 합과 최솟값을 찾는 프로그램을 작성하시오.  \n",
    "\n",
    "예를 들어 M=60, N=100인 경우 60이상 100이하의 자연수 중 소수는 61, 67, 71, 73, 79, 83, 89, 97 총 8개가 있으므로, 이들 소수의 합은 620이고, 최솟값은 61이 된다.  \n",
    "\n",
    "입력  \n",
    "입력의 첫째 줄에 M이, 둘째 줄에 N이 주어진다.  \n",
    "\n",
    "M과 N은 10,000이하의 자연수이며, M은 N보다 작거나 같다.  \n",
    "\n",
    "출력  \n",
    "M이상 N이하의 자연수 중 소수인 것을 모두 찾아 첫째 줄에 그 합을, 둘째 줄에 그 중 최솟값을 출력한다.   \n",
    "\n",
    "단, M이상 N이하의 자연수 중 소수가 없을 경우는 첫째 줄에 -1을 출력한다.  "
   ]
  },
  {
   "cell_type": "code",
   "execution_count": 5,
   "metadata": {
    "ExecuteTime": {
     "end_time": "2021-03-09T06:14:55.569914Z",
     "start_time": "2021-03-09T06:14:52.975320Z"
    }
   },
   "outputs": [
    {
     "name": "stdout",
     "output_type": "stream",
     "text": [
      "60\n",
      "61\n",
      "61\n",
      "61\n"
     ]
    }
   ],
   "source": [
    "\"\"\" \n",
    "21번쨰줄에서 n도 소수인지 확인해 봐야하므로 n+1을 하였다.\n",
    "\"\"\"\n",
    "m = int(input())\n",
    "n = int(input())\n",
    "pri_list = []\n",
    "\n",
    "def is_pri(i):\n",
    "    if i == 1:\n",
    "        return False\n",
    "    elif i == 2:\n",
    "        return True\n",
    "    else:\n",
    "        for num in range(2,i):\n",
    "            if i%num == 0:\n",
    "                return False\n",
    "        else:\n",
    "            return True\n",
    "\n",
    "\n",
    "for i in range(m,n+1):\n",
    "    if is_pri(i) :\n",
    "        pri_list.append(i)\n",
    "\n",
    "if len(pri_list) == 0:\n",
    "    print(-1)\n",
    "else: \n",
    "    print(sum(pri_list))\n",
    "    print(pri_list[0])\n",
    "    \n",
    "# 성공 10분"
   ]
  },
  {
   "cell_type": "code",
   "execution_count": null,
   "metadata": {},
   "outputs": [],
   "source": []
  }
 ],
 "metadata": {
  "kernelspec": {
   "display_name": "py3dot7",
   "language": "python",
   "name": "py3dot7"
  },
  "language_info": {
   "codemirror_mode": {
    "name": "ipython",
    "version": 3
   },
   "file_extension": ".py",
   "mimetype": "text/x-python",
   "name": "python",
   "nbconvert_exporter": "python",
   "pygments_lexer": "ipython3",
   "version": "3.7.9"
  },
  "toc": {
   "base_numbering": 1,
   "nav_menu": {},
   "number_sections": true,
   "sideBar": true,
   "skip_h1_title": false,
   "title_cell": "Table of Contents",
   "title_sidebar": "Contents",
   "toc_cell": false,
   "toc_position": {},
   "toc_section_display": true,
   "toc_window_display": false
  },
  "varInspector": {
   "cols": {
    "lenName": 16,
    "lenType": 16,
    "lenVar": 40
   },
   "kernels_config": {
    "python": {
     "delete_cmd_postfix": "",
     "delete_cmd_prefix": "del ",
     "library": "var_list.py",
     "varRefreshCmd": "print(var_dic_list())"
    },
    "r": {
     "delete_cmd_postfix": ") ",
     "delete_cmd_prefix": "rm(",
     "library": "var_list.r",
     "varRefreshCmd": "cat(var_dic_list()) "
    }
   },
   "types_to_exclude": [
    "module",
    "function",
    "builtin_function_or_method",
    "instance",
    "_Feature"
   ],
   "window_display": false
  }
 },
 "nbformat": 4,
 "nbformat_minor": 4
}

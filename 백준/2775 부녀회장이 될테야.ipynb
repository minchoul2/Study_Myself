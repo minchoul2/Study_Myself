{
 "cells": [
  {
   "cell_type": "markdown",
   "metadata": {},
   "source": [
    "문제  \n",
    "평소 반상회에 참석하는 것을 좋아하는 주희는 이번 기회에 부녀회장이 되고 싶어 각 층의 사람들을 불러 모아 반상회를 주최하려고 한다.  \n",
    "\n",
    "이 아파트에 거주를 하려면 조건이 있는데, “a층의 b호에 살려면 자신의 아래(a-1)층의 1호부터 b호까지 사람들의 수의 합만큼 사람들을 데려와 살아야 한다” 는 계약 조항을 꼭 지키고 들어와야 한다.  \n",
    "\n",
    "아파트에 비어있는 집은 없고 모든 거주민들이 이 계약 조건을 지키고 왔다고 가정했을 때, 주어지는 양의 정수 k와 n에 대해 k층에 n호에는 몇 명이 살고 있는지 출력하라. 단, 아파트에는 0층부터 있고 각층에는 1호부터 있으며, 0층의 i호에는 i명이 산다.  \n",
    "  \n",
    "입력  \n",
    "첫 번째 줄에 Test case의 수 T가 주어진다. 그리고 각각의 케이스마다 입력으로 첫 번째 줄에 정수 k, 두 번째 줄에 정수 n이 주어진다  \n",
    "  \n",
    "출력  \n",
    "각각의 Test case에 대해서 해당 집에 거주민 수를 출력하라.  "
   ]
  },
  {
   "cell_type": "code",
   "execution_count": 39,
   "metadata": {
    "ExecuteTime": {
     "end_time": "2021-02-19T12:00:12.550412Z",
     "start_time": "2021-02-19T12:00:08.911614Z"
    },
    "code_folding": [
     16
    ]
   },
   "outputs": [
    {
     "name": "stdout",
     "output_type": "stream",
     "text": [
      "2\n",
      "1\n",
      "3\n",
      "2\n",
      "3\n",
      "6\n",
      "10\n"
     ]
    }
   ],
   "source": [
    "\"\"\" 성공  1시간\n",
    "수식을 써보려 했지만 쉽지가 않았다 (재귀로 시도해보려 했지만 각이 안나옴;;)\n",
    "\n",
    "그냥 리스트를 차근차근 쌓아올리는 것도 괜찮지 않을까해서 \n",
    "0층부터(기본층)을 생성하고 그 이후의 층은 층층히 쌓아 올렸다. \n",
    "k,n은 1~14의 숫자로 부하가 크지 않아 통과 할 수 있는 듯 하다.\n",
    "\"\"\"\n",
    "\n",
    "test_case = int(input())\n",
    "test_result = []  \n",
    "for i in range(test_case):\n",
    "    k = int(input())\n",
    "    n = int(input())\n",
    "    lst = [] \n",
    "    \n",
    "    for kk in range(0,k+1): # k층까지 쌓을것\n",
    "        if kk == 0: # 0 층 \n",
    "            tmp_lst = [i for i in range(1,n+1)]\n",
    "            lst.append(tmp_lst)\n",
    "            tmp_lst = []\n",
    "\n",
    "        elif kk>0:# 다음층 부터\n",
    "            tmp_lst = [sum(lst[kk-1][0:i]) for i in range(1,len(lst[0])+1)]\n",
    "            lst.append(tmp_lst)\n",
    "    \n",
    "    test_result.append(lst[-1][-1])\n",
    "\n",
    "for i in test_result:\n",
    "    print(i)\n",
    "                "
   ]
  },
  {
   "cell_type": "code",
   "execution_count": null,
   "metadata": {},
   "outputs": [],
   "source": []
  }
 ],
 "metadata": {
  "kernelspec": {
   "display_name": "py3dot7",
   "language": "python",
   "name": "py3dot7"
  },
  "language_info": {
   "codemirror_mode": {
    "name": "ipython",
    "version": 3
   },
   "file_extension": ".py",
   "mimetype": "text/x-python",
   "name": "python",
   "nbconvert_exporter": "python",
   "pygments_lexer": "ipython3",
   "version": "3.7.9"
  },
  "toc": {
   "base_numbering": 1,
   "nav_menu": {},
   "number_sections": true,
   "sideBar": true,
   "skip_h1_title": false,
   "title_cell": "Table of Contents",
   "title_sidebar": "Contents",
   "toc_cell": false,
   "toc_position": {
    "height": "calc(100% - 180px)",
    "left": "10px",
    "top": "150px",
    "width": "341.333px"
   },
   "toc_section_display": true,
   "toc_window_display": true
  },
  "varInspector": {
   "cols": {
    "lenName": 16,
    "lenType": 16,
    "lenVar": 40
   },
   "kernels_config": {
    "python": {
     "delete_cmd_postfix": "",
     "delete_cmd_prefix": "del ",
     "library": "var_list.py",
     "varRefreshCmd": "print(var_dic_list())"
    },
    "r": {
     "delete_cmd_postfix": ") ",
     "delete_cmd_prefix": "rm(",
     "library": "var_list.r",
     "varRefreshCmd": "cat(var_dic_list()) "
    }
   },
   "position": {
    "height": "474.194px",
    "left": "-34.3333px",
    "right": "20px",
    "top": "96px",
    "width": "424px"
   },
   "types_to_exclude": [
    "module",
    "function",
    "builtin_function_or_method",
    "instance",
    "_Feature"
   ],
   "window_display": false
  }
 },
 "nbformat": 4,
 "nbformat_minor": 4
}

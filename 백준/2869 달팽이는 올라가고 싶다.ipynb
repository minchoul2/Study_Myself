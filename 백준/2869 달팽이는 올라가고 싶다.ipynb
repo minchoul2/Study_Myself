{
 "cells": [
  {
   "cell_type": "markdown",
   "metadata": {},
   "source": [
    "문제  \n",
    "땅 위에 달팽이가 있다. 이 달팽이는 높이가 V미터인 나무 막대를 올라갈 것이다.  \n",
    "\n",
    "달팽이는 낮에 A미터 올라갈 수 있다. 하지만, 밤에 잠을 자는 동안 B미터 미끄러진다. 또, 정상에 올라간 후에는 미끄러지지 않는다.  \n",
    "\n",
    "달팽이가 나무 막대를 모두 올라가려면, 며칠이 걸리는지 구하는 프로그램을 작성하시오.  \n",
    "\n",
    "입력  \n",
    "첫째 줄에 세 정수 A, B, V가 공백으로 구분되어서 주어진다. (1 ≤ B < A ≤ V ≤ 1,000,000,000)  \n",
    "   \n",
    "출력  \n",
    "첫째 줄에 달팽이가 나무 막대를 모두 올라가는데 며칠이 걸리는지 출력한다.  "
   ]
  },
  {
   "cell_type": "code",
   "execution_count": 15,
   "metadata": {},
   "outputs": [
    {
     "name": "stdout",
     "output_type": "stream",
     "text": [
      "10 9 100\n",
      "91\n"
     ]
    }
   ],
   "source": [
    "# 시간초과\n",
    "a,b,v = map(int,input().split(' '))\n",
    "cnt = 1\n",
    "\n",
    "while v> 0:\n",
    "    v -= a\n",
    "    if v<=0:\n",
    "        break\n",
    "    v += b\n",
    "    cnt+=1\n",
    "    \n",
    "print(cnt)"
   ]
  },
  {
   "cell_type": "code",
   "execution_count": 16,
   "metadata": {},
   "outputs": [
    {
     "name": "stdout",
     "output_type": "stream",
     "text": [
      "10 9 100\n",
      "99\n"
     ]
    }
   ],
   "source": [
    "# 틀렸습니다.\n",
    "a,b,v = map(int,input().split(' '))\n",
    "\n",
    "n = v//(a-b)  \n",
    "b1 = v % (a-b)\n",
    "\n",
    "if b >= b1:\n",
    "    v - a \n",
    "    n -= 1\n",
    "else:\n",
    "    n += 1\n",
    "\n",
    "    \n",
    "print(n)"
   ]
  },
  {
   "cell_type": "code",
   "execution_count": 20,
   "metadata": {},
   "outputs": [
    {
     "name": "stdout",
     "output_type": "stream",
     "text": [
      "100 99 1000000\n",
      "999901\n"
     ]
    }
   ],
   "source": [
    "# 틀렸습니다.\n",
    "a,b,v = map(int,input().split(' '))\n",
    "cnt = v-a +1\n",
    "print(cnt)"
   ]
  },
  {
   "cell_type": "code",
   "execution_count": 33,
   "metadata": {},
   "outputs": [
    {
     "name": "stdout",
     "output_type": "stream",
     "text": [
      "2 1 5\n"
     ]
    },
    {
     "data": {
      "text/plain": [
       "4"
      ]
     },
     "execution_count": 33,
     "metadata": {},
     "output_type": "execute_result"
    }
   ],
   "source": [
    "# 시간초과\n",
    "a,b,v = map(int,input().split(' '))\n",
    "\n",
    "n = v//(a-b)  \n",
    "\n",
    "while True:\n",
    "    if (n-1) * (a-b) + a > v:\n",
    "        n -= 1\n",
    "    else:\n",
    "        print(n)\n",
    "        break"
   ]
  },
  {
   "cell_type": "code",
   "execution_count": 39,
   "metadata": {},
   "outputs": [
    {
     "name": "stdout",
     "output_type": "stream",
     "text": [
      "5 1 6\n",
      "2\n"
     ]
    }
   ],
   "source": [
    "# 정답.....\n",
    "import math\n",
    "\n",
    "a,b,v = map(int,input().split(' '))\n",
    "print(math.ceil((v-b) /(a-b)))\n",
    "\n",
    "#1시간소요"
   ]
  }
 ],
 "metadata": {
  "kernelspec": {
   "display_name": "py3dot7",
   "language": "python",
   "name": "py3dot7"
  },
  "language_info": {
   "codemirror_mode": {
    "name": "ipython",
    "version": 3
   },
   "file_extension": ".py",
   "mimetype": "text/x-python",
   "name": "python",
   "nbconvert_exporter": "python",
   "pygments_lexer": "ipython3",
   "version": "3.7.9"
  }
 },
 "nbformat": 4,
 "nbformat_minor": 4
}

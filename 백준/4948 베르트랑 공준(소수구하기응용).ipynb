{
 "cells": [
  {
   "cell_type": "markdown",
   "metadata": {},
   "source": [
    "문제  \n",
    "베르트랑 공준은 임의의 자연수 n에 대하여, n보다 크고, 2n보다 작거나 같은 소수는 적어도 하나 존재한다는 내용을 담고 있다.  \n",
    "\n",
    "이 명제는 조제프 베르트랑이 1845년에 추측했고, 파프누티 체비쇼프가 1850년에 증명했다.  \n",
    "\n",
    "예를 들어, 10보다 크고, 20보다 작거나 같은 소수는 4개가 있다. (11, 13, 17, 19) 또, 14보다 크고, 28보다 작거나 같은 소수는 3개가 있다. (17,19, 23)  \n",
    "\n",
    "자연수 n이 주어졌을 때, n보다 크고, 2n보다 작거나 같은 소수의 개수를 구하는 프로그램을 작성하시오.   \n",
    "\n",
    "입력  \n",
    "입력은 여러 개의 테스트 케이스로 이루어져 있다. 각 케이스는 n을 포함하는 한 줄로 이루어져 있다.  \n",
    "  \n",
    "입력의 마지막에는 0이 주어진다.  \n",
    "\n",
    "출력  \n",
    "각 테스트 케이스에 대해서, n보다 크고, 2n보다 작거나 같은 소수의 개수를 출력한다.  "
   ]
  },
  {
   "cell_type": "code",
   "execution_count": 24,
   "metadata": {
    "ExecuteTime": {
     "end_time": "2021-03-16T02:50:26.993220Z",
     "start_time": "2021-03-16T02:50:22.438650Z"
    }
   },
   "outputs": [
    {
     "name": "stdout",
     "output_type": "stream",
     "text": [
      "1000000\n",
      "70435\n"
     ]
    }
   ],
   "source": [
    "\"\"\"\n",
    "실패\n",
    "실패요인 : 1. 문제에서는 n보다 크다 라고 나와있었지만 n을 포함하는 소수집단을 카운트함\n",
    "           2. 0입력시까지 계속 하라고 했는데 1번만 입력함\n",
    "\"\"\"\n",
    "\n",
    "def get_prim(n2):\n",
    "    a = [True]*(n2+1)\n",
    "    m = int((len(a)**0.5)) + 1\n",
    "    if n2 == 2:\n",
    "        return [2]\n",
    "    for i in range(2,m):\n",
    "        if a[i] == True:\n",
    "            for j in range(i+i, n2, i):\n",
    "                a[j] = False\n",
    "    \n",
    "    return [i for i in range(2,n2) if a[i]==True]\n",
    "    \n",
    "def vertant(n):\n",
    "    pri_list = get_prim(n*2)\n",
    "    for i,v in enumerate(pri_list):\n",
    "        if v >= n:\n",
    "            print(len(pri_list[i:]))\n",
    "            break\n",
    "        else:\n",
    "            continue\n",
    "            \n",
    "\n",
    "N = int(input())\n",
    "\n",
    "vertant(N)"
   ]
  },
  {
   "cell_type": "code",
   "execution_count": 1,
   "metadata": {
    "ExecuteTime": {
     "end_time": "2021-03-16T02:58:59.310648Z",
     "start_time": "2021-03-16T02:58:47.289512Z"
    }
   },
   "outputs": [
    {
     "name": "stdout",
     "output_type": "stream",
     "text": [
      "1\n",
      "[2]\n",
      "1\n",
      "0\n"
     ]
    }
   ],
   "source": [
    "\"\"\"\n",
    "성공\n",
    "\"\"\"\n",
    "\n",
    "def get_prim(n2):\n",
    "    a = [True]*(n2+1)\n",
    "    m = int((len(a)**0.5)) + 1\n",
    "    if n2 == 2:\n",
    "        return [2]\n",
    "    for i in range(2,m):\n",
    "        if a[i] == True:\n",
    "            for j in range(i+i, n2, i):\n",
    "                a[j] = False\n",
    "    \n",
    "    return [i for i in range(2,n2) if a[i]==True]\n",
    "    \n",
    "def vertant(n):\n",
    "    pri_list = get_prim(n*2)\n",
    "    for i,v in enumerate(pri_list):\n",
    "        if v > n:\n",
    "            print(len(pri_list[i:]))\n",
    "            break\n",
    "        else:\n",
    "            continue\n",
    "            \n",
    "while True:\n",
    "    N = int(input())\n",
    "    if N == 0:\n",
    "        break\n",
    "    vertant(N)\n",
    "#50분"
   ]
  },
  {
   "cell_type": "code",
   "execution_count": null,
   "metadata": {
    "ExecuteTime": {
     "start_time": "2021-03-16T02:57:31.343Z"
    }
   },
   "outputs": [],
   "source": [
    "while True"
   ]
  },
  {
   "cell_type": "code",
   "execution_count": null,
   "metadata": {
    "ExecuteTime": {
     "start_time": "2021-03-16T02:57:32.829Z"
    }
   },
   "outputs": [],
   "source": []
  },
  {
   "cell_type": "code",
   "execution_count": null,
   "metadata": {},
   "outputs": [],
   "source": []
  }
 ],
 "metadata": {
  "kernelspec": {
   "display_name": "py3dot7",
   "language": "python",
   "name": "py3dot7"
  },
  "toc": {
   "base_numbering": 1,
   "nav_menu": {},
   "number_sections": true,
   "sideBar": true,
   "skip_h1_title": false,
   "title_cell": "Table of Contents",
   "title_sidebar": "Contents",
   "toc_cell": false,
   "toc_position": {},
   "toc_section_display": true,
   "toc_window_display": false
  },
  "varInspector": {
   "cols": {
    "lenName": 16,
    "lenType": 16,
    "lenVar": 40
   },
   "kernels_config": {
    "python": {
     "delete_cmd_postfix": "",
     "delete_cmd_prefix": "del ",
     "library": "var_list.py",
     "varRefreshCmd": "print(var_dic_list())"
    },
    "r": {
     "delete_cmd_postfix": ") ",
     "delete_cmd_prefix": "rm(",
     "library": "var_list.r",
     "varRefreshCmd": "cat(var_dic_list()) "
    }
   },
   "types_to_exclude": [
    "module",
    "function",
    "builtin_function_or_method",
    "instance",
    "_Feature"
   ],
   "window_display": false
  }
 },
 "nbformat": 4,
 "nbformat_minor": 4
}

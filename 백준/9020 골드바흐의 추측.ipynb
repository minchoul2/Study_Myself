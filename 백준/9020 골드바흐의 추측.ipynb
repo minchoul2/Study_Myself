{
 "cells": [
  {
   "cell_type": "markdown",
   "id": "polyphonic-federal",
   "metadata": {},
   "source": [
    "문제  \n",
    "1보다 큰 자연수 중에서  1과 자기 자신을 제외한 약수가 없는 자연수를 소수라고 한다. 예를 들어, 5는 1과 5를 제외한 약수가 없기 때문에 소수이다. 하지만, 6은 6 = 2 × 3 이기 때문에 소수가 아니다.  \n",
    "  \n",
    "골드바흐의 추측은 유명한 정수론의 미해결 문제로, 2보다 큰 모든 짝수는 두 소수의 합으로 나타낼 수 있다는 것이다. 이러한 수를 골드바흐 수라고 한다. 또, 짝수를 두 소수의 합으로 나타내는 표현을 그 수의 골드바흐 파티션이라고 한다. 예를 들면, 4 = 2 + 2, 6 = 3 + 3, 8 = 3 + 5, 10 = 5 + 5, 12 = 5 + 7, 14 = 3 + 11, 14 = 7 + 7이다. 10000보다 작거나 같은 모든 짝수 n에 대한 골드바흐 파티션은 존재한다.  \n",
    "\n",
    "2보다 큰 짝수 n이 주어졌을 때, n의 골드바흐 파티션을 출력하는 프로그램을 작성하시오. 만약 가능한 n의 골드바흐 파티션이 여러 가지인 경우에는 두 소수의 차이가 가장 작은 것을 출력한다.  \n",
    "  \n",
    "입력  \n",
    "첫째 줄에 테스트 케이스의 개수 T가 주어진다. 각 테스트 케이스는 한 줄로 이루어져 있고 짝수 n이 주어진다.  \n",
    "\n",
    "출력  \n",
    "각 테스트 케이스에 대해서 주어진 n의 골드바흐 파티션을 출력한다. 출력하는 소수는 작은 것부터 먼저 출력하며, 공백으로 구분한다.  "
   ]
  },
  {
   "cell_type": "code",
   "execution_count": 12,
   "id": "abstract-mediterranean",
   "metadata": {},
   "outputs": [
    {
     "name": "stdout",
     "output_type": "stream",
     "text": [
      "3\n",
      "8\n",
      "3 5\n",
      "10\n",
      "5 5\n",
      "16\n",
      "5 11\n"
     ]
    }
   ],
   "source": [
    "#start PM 3:30\n",
    "# 시간초과\n",
    "T = int(input())\n",
    "\n",
    "# 에스트라의 체\n",
    "def getPri(n):\n",
    "    nums = [True] * (n+1)\n",
    "    m = int(len(nums)**0.5)\n",
    "    \n",
    "    for i in range(2,m+1):\n",
    "        if nums[i] ==True:\n",
    "            for j in range(i + i , n + 1, i):\n",
    "                nums[j] = False\n",
    "    return [i for i in range(2,n+1) if nums[i] == True]\n",
    "\n",
    "for i in range(T):\n",
    "    n = int(input())\n",
    "\n",
    "    pri_list = getPri(n)\n",
    "    can_dict = dict()\n",
    "\n",
    "    for i in pri_list:\n",
    "        for j in pri_list:\n",
    "            if i+j == n:\n",
    "                can_dict[abs(i-j)] = j,i\n",
    "\n",
    "    print(*can_dict[min(can_dict.keys())])\n",
    "\n",
    "\n"
   ]
  },
  {
   "cell_type": "code",
   "execution_count": 44,
   "id": "whole-denver",
   "metadata": {},
   "outputs": [
    {
     "name": "stdout",
     "output_type": "stream",
     "text": [
      "2\n",
      "50\n",
      "19 31\n",
      "50\n",
      "19 31\n"
     ]
    }
   ],
   "source": [
    "#start PM 3:30\n",
    "# 시간초과\n",
    "T = int(input())\n",
    "\n",
    "\n",
    "# 에스트라의 체\n",
    "def getPri(n=10000):\n",
    "    nums = [True] * (n + 1)\n",
    "    m = int(len(nums)**0.5)\n",
    "\n",
    "    for i in range(2, m + 1):\n",
    "        if nums[i] == True:\n",
    "            for j in range(i + i, n + 1, i):\n",
    "                nums[j] = False\n",
    "    return [i for i in range(2, n + 1) if nums[i] == True]\n",
    "\n",
    "\n",
    "pri_list = getPri()\n",
    "\n",
    "for i in range(T):\n",
    "    n = int(input())\n",
    "    r_pri_list = list(filter(lambda x: x < n, pri_list))\n",
    "    can_dict = dict()\n",
    "\n",
    "    for i in r_pri_list:\n",
    "        for j in r_pri_list:\n",
    "            if i + j == n:\n",
    "                can_dict[abs(i - j)] = j, i\n",
    "\n",
    "    print(*can_dict[min(can_dict.keys())])"
   ]
  },
  {
   "cell_type": "code",
   "execution_count": 52,
   "id": "based-merchandise",
   "metadata": {
    "code_folding": [
     16
    ]
   },
   "outputs": [
    {
     "name": "stdout",
     "output_type": "stream",
     "text": [
      "2\n",
      "10\n",
      "5 5\n",
      "20\n",
      "7 13\n"
     ]
    }
   ],
   "source": [
    "#성공\n",
    "#start PM 3:30\n",
    "#end PM 4:50 -> 1:20\n",
    "\"\"\"\n",
    "시간 줄이는 것이 관건!\n",
    "1. 에스트라의 체로 미리 10000이하의 소수 리스트를 생성(pri_list)\n",
    "2.  2.1. pri_list에서 n 보다 작은 소수들만 추출 (r_pri_list)\n",
    "  ★2.2. r_pri_list 에서 n/2 보다 작은 수의 최대값의 인덱스를 저장 (from_index)\n",
    "  ★2.3  for - from_index부터 거꾸로 & for - from_index~ 끝까지 탐색후 값 찾으면 바로 return\n",
    "         -> 이게 자동으로 두 소수의 차 중 최소가 된다\n",
    "3. T번 반복 \n",
    "\"\"\"\n",
    "T = int(input())\n",
    "\n",
    "\n",
    "# 1. 에스트라의 체(귀찮아서 그냥 함수로냅둠..)\n",
    "def getPri(n=10000):\n",
    "    nums = [True] * (n + 1)\n",
    "    m = int(len(nums)**0.5)\n",
    "\n",
    "    for i in range(2, m + 1):\n",
    "        if nums[i] == True:\n",
    "            for j in range(i + i, n + 1, i):\n",
    "                nums[j] = False\n",
    "    return [i for i in range(2, n + 1) if nums[i] == True]\n",
    "\n",
    "pri_list = getPri()\n",
    "\n",
    "\n",
    "# 2. 해결 함수\n",
    "def solution(n):\n",
    "    r_pri_list = list(filter(lambda x: x < n, pri_list))  #2.1\n",
    "    from_index = max(\n",
    "        [i for i in range(len(r_pri_list)) if r_pri_list[i] <= n / 2])  #2.2\n",
    "\n",
    "    for i in range(from_index, -1, -1):  # 2.3\n",
    "        for j in range(i, len(r_pri_list)):\n",
    "            if r_pri_list[i] + r_pri_list[j] == n:\n",
    "                return (r_pri_list[i], r_pri_list[j])\n",
    "\n",
    "\n",
    "# 3. 실행부\n",
    "for i in range(T):\n",
    "    n = int(input())\n",
    "    print(*solution(n))"
   ]
  },
  {
   "cell_type": "code",
   "execution_count": 22,
   "id": "nutritional-liberty",
   "metadata": {},
   "outputs": [
    {
     "data": {
      "text/plain": [
       "1229"
      ]
     },
     "execution_count": 22,
     "metadata": {},
     "output_type": "execute_result"
    }
   ],
   "source": []
  }
 ],
 "metadata": {
  "hide_input": false,
  "kernelspec": {
   "display_name": "Python 3",
   "language": "python",
   "name": "python3"
  },
  "language_info": {
   "codemirror_mode": {
    "name": "ipython",
    "version": 3
   },
   "file_extension": ".py",
   "mimetype": "text/x-python",
   "name": "python",
   "nbconvert_exporter": "python",
   "pygments_lexer": "ipython3",
   "version": "3.7.9"
  },
  "toc": {
   "base_numbering": 1,
   "nav_menu": {},
   "number_sections": true,
   "sideBar": true,
   "skip_h1_title": false,
   "title_cell": "Table of Contents",
   "title_sidebar": "Contents",
   "toc_cell": false,
   "toc_position": {},
   "toc_section_display": true,
   "toc_window_display": false
  }
 },
 "nbformat": 4,
 "nbformat_minor": 5
}

{
 "cells": [
  {
   "cell_type": "markdown",
   "id": "funded-enforcement",
   "metadata": {},
   "source": [
    "문제  \n",
    "지민이는 자신의 저택에서 MN개의 단위 정사각형으로 나누어져 있는 M*N 크기의 보드를 찾았다. 어떤 정사각형은 검은색으로 칠해져 있고, 나머지는 흰색으로 칠해져 있다. 지민이는 이 보드를 잘라서 8*8 크기의 체스판으로 만들려고 한다.  \n",
    "\n",
    "체스판은 검은색과 흰색이 번갈아서 칠해져 있어야 한다. 구체적으로, 각 칸이 검은색과 흰색 중 하나로 색칠되어 있고, 변을 공유하는 두 개의 사각형은 다른 색으로 칠해져 있어야 한다. 따라서 이 정의를 따르면 체스판을 색칠하는 경우는 두 가지뿐이다. 하나는 맨 왼쪽 위 칸이 흰색인 경우, 하나는 검은색인 경우이다.  \n",
    "\n",
    "보드가 체스판처럼 칠해져 있다는 보장이 없어서, 지민이는 8*8 크기의 체스판으로 잘라낸 후에 몇 개의 정사각형을 다시 칠해야겠다고 생각했다. 당연히 8*8 크기는 아무데서나 골라도 된다. 지민이가 다시 칠해야 하는 정사각형의 최소 개수를 구하는 프로그램을 작성하시오.  \n",
    "  \n",
    "입력  \n",
    "첫째 줄에 N과 M이 주어진다. N과 M은 8보다 크거나 같고, 50보다 작거나 같은 자연수이다. 둘째 줄부터 N개의 줄에는 보드의 각 행의 상태가 주어진다. B는 검은색이며, W는 흰색이다.  \n",
    "\n",
    "출력  \n",
    "첫째 줄에 지민이가 다시 칠해야 하는 정사각형 개수의 최솟값을 출력한다.  "
   ]
  },
  {
   "cell_type": "code",
   "execution_count": 1,
   "id": "applied-buffer",
   "metadata": {},
   "outputs": [
    {
     "name": "stdin",
     "output_type": "stream",
     "text": [
      " 1 4\n"
     ]
    },
    {
     "ename": "TypeError",
     "evalue": "int() argument must be a string, a bytes-like object or a number, not 'list'",
     "output_type": "error",
     "traceback": [
      "\u001b[1;31m---------------------------------------------------------------------------\u001b[0m",
      "\u001b[1;31mTypeError\u001b[0m                                 Traceback (most recent call last)",
      "\u001b[1;32m<ipython-input-1-993cfe290995>\u001b[0m in \u001b[0;36m<module>\u001b[1;34m\u001b[0m\n\u001b[1;32m----> 1\u001b[1;33m \u001b[0mN\u001b[0m\u001b[1;33m,\u001b[0m \u001b[0mM\u001b[0m \u001b[1;33m=\u001b[0m \u001b[0mint\u001b[0m\u001b[1;33m(\u001b[0m\u001b[0minput\u001b[0m\u001b[1;33m(\u001b[0m\u001b[1;33m)\u001b[0m\u001b[1;33m.\u001b[0m\u001b[0msplit\u001b[0m\u001b[1;33m(\u001b[0m\u001b[1;33m)\u001b[0m\u001b[1;33m)\u001b[0m\u001b[1;33m\u001b[0m\u001b[1;33m\u001b[0m\u001b[0m\n\u001b[0m",
      "\u001b[1;31mTypeError\u001b[0m: int() argument must be a string, a bytes-like object or a number, not 'list'"
     ]
    }
   ],
   "source": [
    "N, M = input().split()\n",
    "N = int(N)\n",
    "M = int(M)\n",
    "\n",
    "chess = [input() for x in range(N) for y in range(M)]\n",
    "\n",
    "for i in range(M):\n",
    "    for j in range(N):\n",
    "        input()"
   ]
  },
  {
   "cell_type": "code",
   "execution_count": 8,
   "id": "58321f5d-80db-426e-8747-4303132b4346",
   "metadata": {},
   "outputs": [
    {
     "name": "stdin",
     "output_type": "stream",
     "text": [
      " 5 2\n",
      " BW\n",
      " bW\n",
      " bw\n",
      " bw\n",
      " bw\n"
     ]
    }
   ],
   "source": [
    "N, M = input().split()\n",
    "N = int(N)\n",
    "M = int(M)\n",
    "\n",
    "chess=[]\n",
    "for i in range(N):\n",
    "    chess.append(input())\n",
    "\n",
    "B_cnt = 0\n",
    "W_cnt = 0 \n",
    "\n",
    "for i in range(N):\n",
    "    B_cnt+=chess[i].count(B)\n",
    "    W_cnt+=chess[i].count(W)\n",
    "\n"
   ]
  },
  {
   "cell_type": "code",
   "execution_count": 13,
   "id": "1fbaed15-eab8-4553-9261-8b2f5003e3eb",
   "metadata": {},
   "outputs": [
    {
     "data": {
      "text/plain": [
       "1"
      ]
     },
     "execution_count": 13,
     "metadata": {},
     "output_type": "execute_result"
    }
   ],
   "source": [
    "N, M = map(int, input().split())\n",
    "board = list()\n",
    "for i in range(N):\n",
    "    board.append(input())\n",
    "repair = list()"
   ]
  },
  {
   "cell_type": "code",
   "execution_count": 14,
   "id": "3ea8c7ef-4a2b-4d5a-bbae-249005ac0245",
   "metadata": {},
   "outputs": [
    {
     "name": "stdout",
     "output_type": "stream",
     "text": [
      "0\n"
     ]
    }
   ],
   "source": [
    "for i in range(N-7):\n",
    "    for j in range(M-7): # 8x8 로 짜르기\n",
    "        first_W = 0 # 바꿀 W 수\n",
    "        first_B = 0\n",
    "        for k in range(i,i+8):\n",
    "            for l in range(j,j + 8): # 짜른 판 전체 탐색\n",
    "                if (k + l) % 2 == 0: # 짝수끼리는 다같은 색깔\n",
    "                    if board[k][l] != 'W': # 짝수에서 W 바꿀것들 개수\n",
    "                        first_W = first_W+1\n",
    "                    if board[k][l] != 'B': # 짝수에서 B 바꿀것들 개수\n",
    "                        first_B = first_B + 1\n",
    "                else: # 홀수끼리는 다 같은 색깔\n",
    "                    if board[k][l] != 'B': # 홀수에서 W 바꿀것들\n",
    "                        first_W = first_W+1\n",
    "                    if board[k][l] != 'W': # 홀수에서 B 바꿀것들\n",
    "                        first_B = first_B + 1\n",
    "        repair.append(first_W) # W 기준으로 바꾼 것들 개수\n",
    "        repair.append(first_B) # B 기준으로 바꾼 것들 개수\n",
    "        \n",
    "print(min(repair)) # 제일 작은 수"
   ]
  }
 ],
 "metadata": {
  "kernelspec": {
   "display_name": "Python 3",
   "language": "python",
   "name": "python3"
  },
  "language_info": {
   "codemirror_mode": {
    "name": "ipython",
    "version": 3
   },
   "file_extension": ".py",
   "mimetype": "text/x-python",
   "name": "python",
   "nbconvert_exporter": "python",
   "pygments_lexer": "ipython3",
   "version": "3.8.8"
  },
  "widgets": {
   "application/vnd.jupyter.widget-state+json": {
    "state": {},
    "version_major": 2,
    "version_minor": 0
   }
  }
 },
 "nbformat": 4,
 "nbformat_minor": 5
}

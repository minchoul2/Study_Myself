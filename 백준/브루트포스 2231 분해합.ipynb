{
 "cells": [
  {
   "cell_type": "markdown",
   "id": "ancient-performer",
   "metadata": {},
   "source": [
    "문제  \n",
    "어떤 자연수 N이 있을 때, 그 자연수 N의 분해합은 N과 N을 이루는 각 자리수의 합을 의미한다. 어떤 자연수 M의 분해합이 N인 경우, M을 N의 생성자라 한다. 예를 들어, 245의 분해합은 256(=245+2+4+5)이 된다. 따라서 245는 256의 생성자가 된다. 물론, 어떤 자연수의 경우에는 생성자가 없을 수도 있다. 반대로, 생성자가 여러 개인 자연수도 있을 수 있다.  \n",
    "\n",
    "자연수 N이 주어졌을 때, N의 가장 작은 생성자를 구해내는 프로그램을 작성하시오.  \n",
    "\n",
    "입력  \n",
    "첫째 줄에 자연수 N(1 ≤ N ≤ 1,000,000)이 주어진다.  \n",
    "\n",
    "출력  \n",
    "첫째 줄에 답을 출력한다. 생성자가 없는 경우에는 0을 출력한다.  "
   ]
  },
  {
   "cell_type": "code",
   "execution_count": 11,
   "id": "satellite-beginning",
   "metadata": {},
   "outputs": [
    {
     "name": "stdin",
     "output_type": "stream",
     "text": [
      " 100\n"
     ]
    },
    {
     "name": "stdout",
     "output_type": "stream",
     "text": [
      "19 20 21 22 23 24 25 26 27 28 29 30 31 32 33 34 35 36 37 38 39 40 41 42 43 44 45 46 47 48 49 50 51 52 53 54 55 56 57 58 59 60 61 62 63 64 65 66 67 68 69 70 71 72 73 74 75 76 77 78 79 80 81 82 83 84 85 86 ['8', '6'] 100 86\n",
      "86\n"
     ]
    }
   ],
   "source": [
    "# 성공 : 20분\n",
    "# 탐색범위 지정이 중요 포인트 \n",
    "\n",
    "M = int(input())\n",
    "\n",
    "M_len = len(str(M))-1\n",
    "\n",
    "for N in range(10**M_len - 9**(M_len), M): #10^M자릿수 ~ M 까지 였으나 100같이 앞부분인 경우를 대비해 -9^(M자릿수-1)을 해줌\n",
    "    N_list = list(str(N)) \n",
    "    N_sum = sum(map(int,N_list)) + N\n",
    "    \n",
    "    if M == N_sum :\n",
    "        print(N)\n",
    "        break\n",
    "else:\n",
    "    print(0)\n"
   ]
  },
  {
   "cell_type": "code",
   "execution_count": null,
   "id": "charming-ratio",
   "metadata": {},
   "outputs": [],
   "source": []
  }
 ],
 "metadata": {
  "kernelspec": {
   "display_name": "Python 3",
   "language": "python",
   "name": "python3"
  },
  "language_info": {
   "codemirror_mode": {
    "name": "ipython",
    "version": 3
   },
   "file_extension": ".py",
   "mimetype": "text/x-python",
   "name": "python",
   "nbconvert_exporter": "python",
   "pygments_lexer": "ipython3",
   "version": "3.8.8"
  },
  "widgets": {
   "application/vnd.jupyter.widget-state+json": {
    "state": {},
    "version_major": 2,
    "version_minor": 0
   }
  }
 },
 "nbformat": 4,
 "nbformat_minor": 5
}

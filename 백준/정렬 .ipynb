{
 "cells": [
  {
   "cell_type": "markdown",
   "id": "0b0e0df4",
   "metadata": {},
   "source": [
    "오름차순"
   ]
  },
  {
   "cell_type": "code",
   "execution_count": 2,
   "id": "cbb53d44",
   "metadata": {},
   "outputs": [
    {
     "name": "stdout",
     "output_type": "stream",
     "text": [
      "5\n",
      "6\n",
      "8\n",
      "5\n",
      "2\n",
      "7\n",
      "8\n",
      "6\n",
      "7\n",
      "5\n",
      "2\n"
     ]
    }
   ],
   "source": [
    "N = int(input())\n",
    "lst = []\n",
    "for _ in range(N):\n",
    "    lst.append(int(input()))\n",
    "\n",
    "for i in range(N-1):\n",
    "    for j in range(i,N-1):\n",
    "        if lst[j] < lst[j+1]:\n",
    "            tmp = lst[j]\n",
    "            lst[j] = lst[j+1]\n",
    "            lst[j+1] = tmp\n",
    "        \n",
    "for i in range(N):\n",
    "    print(lst[i])"
   ]
  },
  {
   "cell_type": "code",
   "execution_count": 6,
   "id": "7093d070",
   "metadata": {},
   "outputs": [],
   "source": [
    "lst.sort(reverse=True)"
   ]
  },
  {
   "cell_type": "code",
   "execution_count": 7,
   "id": "59cc85db",
   "metadata": {},
   "outputs": [
    {
     "data": {
      "text/plain": [
       "[8, 7, 6, 5, 2]"
      ]
     },
     "execution_count": 7,
     "metadata": {},
     "output_type": "execute_result"
    }
   ],
   "source": [
    "lst"
   ]
  },
  {
   "cell_type": "code",
   "execution_count": null,
   "id": "117a793b",
   "metadata": {},
   "outputs": [],
   "source": []
  }
 ],
 "metadata": {
  "kernelspec": {
   "display_name": "Python 3",
   "language": "python",
   "name": "python3"
  },
  "language_info": {
   "codemirror_mode": {
    "name": "ipython",
    "version": 3
   },
   "file_extension": ".py",
   "mimetype": "text/x-python",
   "name": "python",
   "nbconvert_exporter": "python",
   "pygments_lexer": "ipython3",
   "version": "3.8.8"
  }
 },
 "nbformat": 4,
 "nbformat_minor": 5
}

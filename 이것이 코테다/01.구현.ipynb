{
 "cells": [
  {
   "cell_type": "markdown",
   "id": "30534f3a-4c35-442b-adc2-5f1f33a1a375",
   "metadata": {},
   "source": [
    "## 상하좌우"
   ]
  },
  {
   "cell_type": "code",
   "execution_count": 10,
   "id": "9fcabed5-9879-4d90-a7cc-29d7d9432fb8",
   "metadata": {},
   "outputs": [
    {
     "name": "stdin",
     "output_type": "stream",
     "text": [
      " 5\n",
      " D D D D D D R\n"
     ]
    },
    {
     "name": "stdout",
     "output_type": "stream",
     "text": [
      "5 2\n"
     ]
    }
   ],
   "source": [
    "# 내답\n",
    "# 방향마다 직접 if문으로 작동\n",
    "n = int(input())\n",
    "dir_list = list(input().split())\n",
    "\n",
    "row = 1\n",
    "col = 1\n",
    "\n",
    "for direction in dir_list:\n",
    "    if direction == 'R':\n",
    "        row += 1\n",
    "        if row > n:\n",
    "            row -= 1\n",
    "    elif direction == 'L':\n",
    "        row -= 1\n",
    "        if row < 1 :\n",
    "            row += 1\n",
    "    elif direction == 'U':\n",
    "        col -= 1\n",
    "        if col < 1:\n",
    "            col += 1\n",
    "    else:\n",
    "        col += 1\n",
    "        if col > n:\n",
    "            col -= 1\n",
    "            \n",
    "print(col, row)\n"
   ]
  },
  {
   "cell_type": "code",
   "execution_count": 13,
   "id": "54908bab-f56e-4c89-b91d-1b6252456931",
   "metadata": {},
   "outputs": [
    {
     "name": "stdin",
     "output_type": "stream",
     "text": [
      " 5\n",
      " R R R U D D D\n"
     ]
    },
    {
     "name": "stdout",
     "output_type": "stream",
     "text": [
      "4 4\n"
     ]
    }
   ],
   "source": [
    "# 책답 \n",
    "# 좌표 - 방향 같은 순서쌍 리스트가 포인트\n",
    "n = int(input())\n",
    "dir_list = list(input().split())\n",
    "\n",
    "x,y = 1,1 # 좌표\n",
    "\n",
    "dx = [1, -1, 0, 0] # x 좌표 움직임 리스트\n",
    "dy = [0, 0, -1, 1] # y 좌표 움직임 리스트\n",
    "move_type = ['R','L','U','D']\n",
    "\n",
    "for direction in dir_list: # dir_list 순회\n",
    "    for r in range(len(move_type)): # move_type 순회하며 \n",
    "        if direction == move_type[r]: # direction 과 같은거에서 이동좌표계산\n",
    "            nx = x + dx[r] # nx 는 얼마만큼 이동하였나\n",
    "            ny = y + dx[r]\n",
    "    if nx < 1 or ny <1 or nx > n or ny > n: # 좌표계 벗어나면 처음으로\n",
    "        continue\n",
    "    x, y  = nx, ny # 안벗어나면 이동좌표 좌표로 대입\n",
    "    \n",
    "print (x,y)"
   ]
  },
  {
   "cell_type": "markdown",
   "id": "00967c03-8023-4b60-a695-14a6c97febaf",
   "metadata": {},
   "source": [
    "## 3이 들아간 시간을 다찾자\n",
    "- 3중 for문 써도 괜찮은 이유 : 24*60*60 = 86400 의 경우만 조사하면되기 때문에 메모리걱정ㄴㄴ"
   ]
  },
  {
   "cell_type": "code",
   "execution_count": 30,
   "id": "c522c1b8-f717-4ae5-a71c-7dbe375b10ab",
   "metadata": {},
   "outputs": [
    {
     "name": "stdin",
     "output_type": "stream",
     "text": [
      " 5\n"
     ]
    },
    {
     "name": "stdout",
     "output_type": "stream",
     "text": [
      "11475\n"
     ]
    }
   ],
   "source": [
    "# 내답\n",
    "n = int(input())\n",
    "\n",
    "h,m,s,cnt = 0,0,0,0\n",
    "\n",
    "for hour in range(n+1):    \n",
    "    for minute in range(60): # 60분\n",
    "        m += 1        \n",
    "        for second in range(60): # 60초 \n",
    "            s += 1\n",
    "            if '3' in str(h)+str(m)+str(s):\n",
    "                cnt += 1\n",
    "                \n",
    "        s = 0 # 60초 지나면 0초\n",
    "    m = 0 # 60분 지나면 0분\n",
    "    h += 1 # 60분지나면 1시 추가\n",
    "    \n",
    "print(cnt)"
   ]
  },
  {
   "cell_type": "code",
   "execution_count": 31,
   "id": "04dfeec9-8777-4464-8c61-3992ee716e04",
   "metadata": {},
   "outputs": [
    {
     "name": "stdin",
     "output_type": "stream",
     "text": [
      " 5\n"
     ]
    },
    {
     "name": "stdout",
     "output_type": "stream",
     "text": [
      "11475\n"
     ]
    }
   ],
   "source": [
    "# 책답\n",
    "# h,m,s 따로 변수 x for문 내에서 해결\n",
    "\n",
    "n = int(input())\n",
    "cnt = 0\n",
    "\n",
    "for hour in range(n+1):\n",
    "    for minute in range(60):\n",
    "        for second in range(60):\n",
    "            if '3' in str(hour)+str(minute)+str(second):\n",
    "                cnt += 1\n",
    "                \n",
    "print(cnt)"
   ]
  },
  {
   "cell_type": "markdown",
   "id": "1b64a942-0ddf-4ed1-928d-50e1301f6e47",
   "metadata": {},
   "source": [
    " ## 왕실의 나이트"
   ]
  },
  {
   "cell_type": "code",
   "execution_count": 6,
   "id": "a6f0e75f-96ff-419f-8859-d2a7993f1a77",
   "metadata": {},
   "outputs": [
    {
     "name": "stdin",
     "output_type": "stream",
     "text": [
      " e5\n"
     ]
    },
    {
     "name": "stdout",
     "output_type": "stream",
     "text": [
      "8\n"
     ]
    }
   ],
   "source": [
    "# 내답\n",
    "# 현위치에서 8방향으로 가는길을 if 문으로 확인\n",
    "yx = input()\n",
    "\n",
    "cols = {'a':1,'b':2,'c':3,'d':4,'e':5,'f':6,'g':7,'h':8}\n",
    "y = cols[yx[0]]\n",
    "x = int(yx[1])\n",
    "cnt = 0\n",
    "\n",
    "if x + 2 <= 8 :\n",
    "    if y+1<=8:\n",
    "        cnt += 1\n",
    "    if y-1>=1:\n",
    "        cnt += 1\n",
    "    else:\n",
    "        pass\n",
    "if x -2 >= 1 :\n",
    "    if y+1<=8:\n",
    "        cnt += 1\n",
    "    if y-1>=1:\n",
    "        cnt += 1\n",
    "    else:\n",
    "        pass\n",
    "    \n",
    "if y + 2 <= 8 :\n",
    "    if x+1<=8:\n",
    "        cnt += 1\n",
    "    if x-1>=1:\n",
    "        cnt += 1\n",
    "    else:\n",
    "        pass\n",
    "if y -2 >= 1 :\n",
    "    if x+1<=8:\n",
    "        cnt += 1\n",
    "    if x-1>=1:\n",
    "        cnt += 1\n",
    "    else:\n",
    "        pass\n",
    "    \n",
    "print(cnt)"
   ]
  },
  {
   "cell_type": "code",
   "execution_count": 11,
   "id": "f017d37d-c030-47b2-b8fb-f297776f805b",
   "metadata": {},
   "outputs": [
    {
     "name": "stdin",
     "output_type": "stream",
     "text": [
      " c4\n"
     ]
    },
    {
     "name": "stdout",
     "output_type": "stream",
     "text": [
      "8\n"
     ]
    }
   ],
   "source": [
    "# 책답\n",
    "# 각 먼저 방향을 정의하고 각 방향이 범위내로 오는지 확인\n",
    "yx = input()\n",
    "x = int(yx[1])\n",
    "y = int(ord(yx[0]) - int(ord('a')))+1\n",
    "\n",
    "# 이동할 수 있는 8 방향 정의\n",
    "directions = [(-2,1),(-1,-2),(1,-2),(2,-1),(2,1),(1,2),(-1,2),(-2,1)]\n",
    "\n",
    "# 8방향에 대해 이동이 가능한지 확인\n",
    "cnt = 0\n",
    "\n",
    "for direction in directions:\n",
    "    nx = x + direction[0]\n",
    "    ny = y + direction[1]\n",
    "    if nx >=1 and nx<=8 and ny>=1 and ny<=8:\n",
    "        cnt += 1\n",
    "\n",
    "print(cnt)"
   ]
  },
  {
   "cell_type": "markdown",
   "id": "1c370c90-5122-49f6-848f-0fb76dbea21d",
   "metadata": {},
   "source": [
    "## 게임 개발"
   ]
  },
  {
   "cell_type": "code",
   "execution_count": 69,
   "id": "7c6dfce5-0ab2-4617-9215-6d3427914aea",
   "metadata": {},
   "outputs": [
    {
     "name": "stdout",
     "output_type": "stream",
     "text": [
      "-1 x: 1  y: 1  d: 3  cnt: 1 err_cnt: 0\n",
      "-1 x: 1  y: 1  d: 2  cnt: 1 err_cnt: 1\n",
      "-1 x: 1  y: 1  d: 1  cnt: 1 err_cnt: 2\n",
      "-1 x: 2  y: 1  d: 1  cnt: 2 err_cnt: 0\n",
      "-1 x: 2  y: 1  d: 0  cnt: 2 err_cnt: 1\n",
      "-1 x: 2  y: 1  d: 3  cnt: 2 err_cnt: 2\n",
      "-1 x: 2  y: 1  d: 2  cnt: 2 err_cnt: 3\n",
      "-1 x: 2  y: 2  d: 2  cnt: 3 err_cnt: 0\n",
      "-1 x: 2  y: 2  d: 1  cnt: 3 err_cnt: 1\n",
      "-1 x: 2  y: 2  d: 0  cnt: 3 err_cnt: 2\n",
      "-1 x: 2  y: 2  d: 3  cnt: 3 err_cnt: 3\n",
      "3\n"
     ]
    }
   ],
   "source": [
    "# 내답\n",
    "# x,y 리스트에서의 좌표는 y(row),x(col)순 // 이건 내가 헷갈린것 x,y 순서가 맞음\n",
    "# 맵의 외곽은 항상 바다로 되어있다는 설정이 있기 때문에 index 에러 신경 쓰지 않았어도 된다\n",
    "# 탐색경로가 책답과 다른 것은 확인해봐야한다.\n",
    "\n",
    "n,m = map(int,input().split())\n",
    "x,y,d = map(int,input().split())\n",
    "# 맵 전체정보\n",
    "map_list = []\n",
    "for _ in range(n):\n",
    "    map_list.append(list(map(int,input().split())))\n",
    "\n",
    "directions = [(-1,0),(0,1),(1,0),(0,-1)] # 0,1,2,3 xy\n",
    "\n",
    "def go_back(x,y,direction):\n",
    "    directions_back = [(0,-1),(-1,0),(0,1),(-1,0)] # 0,1,2,3 xy\n",
    "    nx = x + directions_back[direction][1]\n",
    "    ny = y + directions_back[direction][0]\n",
    "    return nx, ny, direction\n",
    "\n",
    "def go(x,y,direction):\n",
    "    nx = x + directions[direction][1]\n",
    "    ny = y + directions[direction][0]\n",
    "    return nx,ny,direction\n",
    "\n",
    "def is_land(x,y):\n",
    "    if map_list[y][x] == 0:\n",
    "        return True\n",
    "    else:\n",
    "        raise Exception()\n",
    "\n",
    "def direction_rotate(direction):\n",
    "    direction_rotate_list = [3,0,1,2]\n",
    "    return direction_rotate_list[direction]\n",
    "\n",
    "def is_sea(x,y):\n",
    "    if map_list[y][x] == 1:\n",
    "        return True\n",
    "    else: \n",
    "        return False\n",
    "    \n",
    "# 시뮬레이션 시작\n",
    "cnt = 0   \n",
    "err_cnt = 0\n",
    "\n",
    "map_list[y][x] = -1\n",
    "cnt += 1\n",
    "while True:\n",
    "    print(map_list[y][x], 'x:',x, ' y:',y, ' d:',direction, ' cnt:',cnt, 'err_cnt:',err_cnt)\n",
    "    \n",
    "    nx,ny,ndirection = go(x,y,direction)\n",
    "    try: \n",
    "        if is_land(nx,ny):\n",
    "            x, y, direcion = nx, ny, ndirection\n",
    "            map_list[y][x] = -1\n",
    "            cnt += 1\n",
    "            err_cnt = 0\n",
    "            \n",
    "    except:\n",
    "        err_cnt += 1\n",
    "        direction = direction_rotate(direction)\n",
    "        \n",
    "        if err_cnt ==4:\n",
    "            nx, ny, ndirection = go_back(x,y,direction)\n",
    "            if is_sea(nx,ny):\n",
    "                break\n",
    "                \n",
    "print(cnt)"
   ]
  },
  {
   "cell_type": "code",
   "execution_count": 86,
   "id": "d8ec5faa-0876-4119-9ef4-6cc629e37fc4",
   "metadata": {},
   "outputs": [
    {
     "name": "stdin",
     "output_type": "stream",
     "text": [
      " 4 4\n",
      " 1 1 00\n",
      " 1 1 1 1\n",
      " 1 0 0 1\n",
      " 1 1 0 1\n",
      " 1 1 1 1\n"
     ]
    },
    {
     "name": "stdout",
     "output_type": "stream",
     "text": [
      "0 x: 1  y: 1  d: 0  cnt: 1 err_cnt: 0\n",
      "0 x: 1  y: 1  d: 3  cnt: 1 err_cnt: 1\n",
      "0 x: 1  y: 1  d: 2  cnt: 1 err_cnt: 2\n",
      "1 x: 1  y: 2  d: 1  cnt: 2 err_cnt: 0\n",
      "1 x: 1  y: 2  d: 0  cnt: 2 err_cnt: 1\n",
      "1 x: 1  y: 2  d: 3  cnt: 2 err_cnt: 2\n",
      "0 x: 2  y: 2  d: 2  cnt: 3 err_cnt: 0\n",
      "0 x: 2  y: 2  d: 1  cnt: 3 err_cnt: 1\n",
      "0 x: 2  y: 2  d: 0  cnt: 3 err_cnt: 2\n",
      "0 x: 2  y: 2  d: 3  cnt: 3 err_cnt: 3\n",
      "1 x: 1  y: 2  d: 2  cnt: 3 err_cnt: 0\n",
      "1 x: 1  y: 2  d: 1  cnt: 3 err_cnt: 1\n",
      "1 x: 1  y: 2  d: 0  cnt: 3 err_cnt: 2\n",
      "1 x: 1  y: 2  d: 3  cnt: 3 err_cnt: 3\n",
      "3\n"
     ]
    }
   ],
   "source": [
    "# 책답\n",
    "# 애초에 x,y를 바꿔서 생각함(dx,dy를 통해 알 수 있다.)\n",
    "\n",
    "n,m = map(int,input().split())\n",
    "d = [[0]*m for _ in range(n)] # 방문한 위치를 저장하기 위한 맵\n",
    "x,y,direction = map(int,input().split())\n",
    "d[x][y] = 1 # 현재 좌표 방문 처리\n",
    "# 맵 전체정보\n",
    "map_list = []\n",
    "for _ in range(n):\n",
    "    map_list.append(list(map(int,input().split())))\n",
    "# 북,동,남,서 방향정의 애초에 x,y를 바꿔서 봄\n",
    "dx = [-1,0,1,0]\n",
    "dy = [0,1,0,-1]\n",
    "\n",
    "def direction_rotate(): # 리스트로 선언했던것 보다 깔쌈하다\n",
    "    global direction\n",
    "    direction -= 1\n",
    "    if direction == -1:\n",
    "        direction = 3 \n",
    "        \n",
    "# 시뮬레이션 시작\n",
    "cnt = 1 # \n",
    "err_cnt = 0\n",
    "while True:\n",
    "    print(map_list[y][x], 'x:',x, ' y:',y, ' d:',direction, ' cnt:',cnt, 'err_cnt:',err_cnt)\n",
    "    direction_rotate() # 왼쪽으로 방향바꾸고 \n",
    "    nx = x + dx[direction]\n",
    "    ny = y + dy[direction] #움직여본다\n",
    "    if d[nx][ny] == 0 and map_list[nx][ny] == 0: # 움직인곳이 가보지않은곳 and 육지\n",
    "        d[nx][ny] = 1 # 가본곳으로 바꾸고\n",
    "        x = nx\n",
    "        y = ny # 위치 수정\n",
    "        cnt += 1 \n",
    "        err_cnt = 0\n",
    "        continue\n",
    "    else: # 움직인 곳이 가본곳 or 바다\n",
    "        err_cnt += 1 # 방향바꿀준비\n",
    "        \n",
    "    if err_cnt == 4: # 4방향을 다찾아봣는데 길이없으면\n",
    "        nx = x - dx[direction] \n",
    "        ny = y - dy[direction] # go_back\n",
    "        if map_list[nx][ny] == 0: # go_back이 육지면\n",
    "            x,y = nx,ny \n",
    "        else: # go_back이 바다면\n",
    "            break # 종료\n",
    "        err_cnt = 0\n",
    "print(cnt)"
   ]
  },
  {
   "cell_type": "markdown",
   "id": "51ff7088-a40e-4e1e-8957-845522c0989e",
   "metadata": {},
   "source": [
    "## 럭키 스트레이트"
   ]
  },
  {
   "cell_type": "code",
   "execution_count": 4,
   "id": "4762ab12-6b0c-4e4a-8499-cd816c3fc50b",
   "metadata": {},
   "outputs": [
    {
     "name": "stdin",
     "output_type": "stream",
     "text": [
      " 123403\n"
     ]
    },
    {
     "name": "stdout",
     "output_type": "stream",
     "text": [
      "READY\n"
     ]
    }
   ],
   "source": [
    "n = input()\n",
    "left = list(map(int,n[:len(n)//2]))\n",
    "right = list(map(int,n[len(n)//2:]))\n",
    "\n",
    "if sum(left) == sum(right):\n",
    "    print('LUCKY')\n",
    "else:\n",
    "    print(\"READY\")"
   ]
  },
  {
   "cell_type": "markdown",
   "id": "54a19deb-bba2-49ad-9a50-711177c45c09",
   "metadata": {},
   "source": [
    "## 문자열 재정렬"
   ]
  },
  {
   "cell_type": "code",
   "execution_count": 15,
   "id": "0cd35dcc-0e5d-4e88-a53d-7d80f9ce2a93",
   "metadata": {},
   "outputs": [
    {
     "name": "stdin",
     "output_type": "stream",
     "text": [
      " K1AKQA7\n"
     ]
    }
   ],
   "source": [
    "s = input()\n",
    "s = list(s)\n",
    "nums = 0\n",
    "str_ = []\n",
    "for i in s:\n",
    "    if i.isdigit():\n",
    "        nums+=int(i)\n",
    "    else:\n",
    "        str_.append(i)\n",
    "str_.sort()\n",
    "str_ = \"\".join(str_)\n",
    "str_ += str(nums)\n",
    "print(str_ )"
   ]
  },
  {
   "cell_type": "code",
   "execution_count": 12,
   "id": "d6f7cbf4-0126-4b8f-84fe-7b924fae5984",
   "metadata": {},
   "outputs": [
    {
     "data": {
      "text/plain": [
       "True"
      ]
     },
     "execution_count": 12,
     "metadata": {},
     "output_type": "execute_result"
    }
   ],
   "source": [
    "s[1].isdigit()"
   ]
  },
  {
   "cell_type": "markdown",
   "id": "e716c0b0-fca6-45b1-97a1-ed54e04d0fbc",
   "metadata": {},
   "source": [
    "## 문자열 압축"
   ]
  },
  {
   "cell_type": "code",
   "execution_count": 18,
   "id": "fd6931ba-42bc-4cd0-a927-20475c006623",
   "metadata": {},
   "outputs": [
    {
     "name": "stdout",
     "output_type": "stream",
     "text": [
      "1\n",
      "2\n"
     ]
    }
   ],
   "source": [
    "# 내답 86/100 점 \n",
    "# 어떤 케이스에서 에러일까나...\n",
    "def solution(s):\n",
    "    answer = 0\n",
    "    prev = ''\n",
    "    min_length =len(s)\n",
    "    \n",
    "    for length in range(1,len(s)//2+1):# 길이 마다\n",
    "        prev = s[:length]\n",
    "        now_length = len(s)\n",
    "        cnt = 0\n",
    "        out_cnt = 0\n",
    "        for idx in range(0,len(s),length): # 문자열 탐색\n",
    "            \n",
    "            if prev == s[idx+length:idx+(length*2)]:\n",
    "                # 압축\n",
    "                if cnt == 0 : # 첫압축\n",
    "                    now_length = now_length - length + 1\n",
    "                else: # 2번째부터 압축\n",
    "                    now_length -= length\n",
    "                cnt += 1\n",
    "                    \n",
    "            else:\n",
    "                prev = s[idx+length:idx+(length*2)]\n",
    "                if len(str(cnt)) >= 2: # 10a , 100a 이런 경우 처리\n",
    "                    out_cnt = len(str(cnt)) - 1\n",
    "                cnt = 0\n",
    "\n",
    "        min_length = min(min_length, now_length) + out_cnt\n",
    "        \n",
    "    return min_length"
   ]
  },
  {
   "cell_type": "code",
   "execution_count": null,
   "id": "bb0bada0-700a-45f1-ac75-9a40d975f5c3",
   "metadata": {},
   "outputs": [],
   "source": [
    "# 내답 86/100 점 \n",
    "# 어떤 케이스에서 에러일까나...\n",
    "def solution(s):\n",
    "    answer = 0\n",
    "    min_length =len(s)\n",
    "    \n",
    "    for length in range(1,len(s)//2+1):# 길이 마다\n",
    "        prev = s[:length] # 다음 거랑 같은지 확인할 문자\n",
    "        now_length = len(s)\n",
    "        cnt = 0 # 몇번 압축되었나?\n",
    "        out_cnt = 0 # 10이상 압축시 문자열 늘어나는 것 처리위한 변수\n",
    "        \n",
    "        for idx in range(0,len(s),length): # 문자열 탐색\n",
    "            \n",
    "            if prev == s[ idx+length : idx+(length*2) ]:# 같다면 압축\n",
    "                if cnt == 0 : # 첫압축\n",
    "                    now_length = now_length - length + 1\n",
    "                else: # 2번째부터 압축\n",
    "                    now_length -= length\n",
    "                cnt += 1\n",
    "                    \n",
    "            else:                                      # 같지 않다면 진행\n",
    "                prev = s[idx+length:idx+(length*2)]\n",
    "                if len(str(cnt)) >= 2: # 10a , 100a 이런 경우 처리\n",
    "                    out_cnt = len(str(cnt)) - 1\n",
    "                cnt = 0\n",
    "\n",
    "        min_length = min(min_length, now_length) + out_cnt\n",
    "        \n",
    "    return min_length"
   ]
  },
  {
   "cell_type": "code",
   "execution_count": 20,
   "id": "f7725ef4-e410-482e-8f19-1611e145ff3b",
   "metadata": {},
   "outputs": [],
   "source": [
    "def solution(s):\n",
    "    answer = len(s)\n",
    "    \n",
    "    # 길이마다\n",
    "    for length in range(1,len(s)//2+1):\n",
    "        compressed_str = '' # 압축된 문자\n",
    "        prev = s[:length] # 다음 거랑 같은지 확인할 문자\n",
    "        \n",
    "        for idx in range(length, len(s), length): # 문자열 탐색 (length부터 하는 이유는 prev에 첫 문자가 저장되어서)\n",
    "            \n",
    "            if prev == s[idx : idx+length]: \n",
    "                cnt += 1\n",
    "            else:\n",
    "                compressed_str += (str(cnt) + prev) if cnt >= 2 else (prev)\n",
    "                prev = s[idx : idx + length]\n",
    "                cnt += 1\n",
    "                \n",
    "         # 남은 문자열 처리\n",
    "        compressed_str += str(cnt) + prev if cnt >= 2 else prev\n",
    "        answer = min(answer, len(compressed_str))\n",
    "    return answer"
   ]
  },
  {
   "cell_type": "code",
   "execution_count": null,
   "id": "458ab791-c252-4358-94ae-4e113e582951",
   "metadata": {},
   "outputs": [],
   "source": []
  }
 ],
 "metadata": {
  "kernelspec": {
   "display_name": "Python 3",
   "language": "python",
   "name": "python3"
  },
  "language_info": {
   "codemirror_mode": {
    "name": "ipython",
    "version": 3
   },
   "file_extension": ".py",
   "mimetype": "text/x-python",
   "name": "python",
   "nbconvert_exporter": "python",
   "pygments_lexer": "ipython3",
   "version": "3.8.8"
  },
  "widgets": {
   "application/vnd.jupyter.widget-state+json": {
    "state": {},
    "version_major": 2,
    "version_minor": 0
   }
  }
 },
 "nbformat": 4,
 "nbformat_minor": 5
}

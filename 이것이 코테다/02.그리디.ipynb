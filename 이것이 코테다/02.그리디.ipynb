{
 "cells": [
  {
   "cell_type": "markdown",
   "id": "b97a2994-8082-4320-8eb7-a7576a4b13ec",
   "metadata": {},
   "source": [
    "## 큰 수의 법칙\n",
    "_입력조건_  \n",
    "- 첫째 줄에 N(2<= N <=1000), M(1<=M<=10000), K(1<=K<=10000)의 자연수가 주어지며 각 자연수는 공백으로 구분한다.  \n",
    "- 둘째줄에 N 개의 자연수가 주어진다. 각 자연수는 공백으로ㅓ 구분한다. 단 , 각각의 자연수는 1 이상 10000이하의 수로 주어진다\n",
    "- 입력으로 주어지는 K는 항상 Mqhek wkrrjsk rkxek\n",
    "\n",
    "_출력조건_\n",
    "- 첫째 줄에 동빈이의 큰수의 법칙에 따라 더해진 답을 출력한다\n",
    "\n",
    "_예시_  \n",
    "입력   \n",
    "5 8 3   \n",
    "2 4 5 4 6    \n",
    "\n",
    "출력  \n",
    "46"
   ]
  },
  {
   "cell_type": "code",
   "execution_count": 28,
   "id": "a7365b3b-ab0a-48c6-b8dd-bc2fb216689a",
   "metadata": {},
   "outputs": [
    {
     "name": "stdin",
     "output_type": "stream",
     "text": [
      " 5 8 3\n",
      " 2 4 5 4 6\n"
     ]
    },
    {
     "name": "stdout",
     "output_type": "stream",
     "text": [
      "46\n"
     ]
    }
   ],
   "source": [
    "# 내가 한것\n",
    "\n",
    "N,M,K = map(int,input().split(' '))\n",
    "nums = list(map(int, input().split(' ')))\n",
    "\n",
    "nums.sort(reverse = True) # 수 정렬\n",
    "\n",
    "\n",
    "cnt = 0 # 카운트값\n",
    "result = 0 # 결과값\n",
    "\n",
    "while cnt<M: # 카운트가 M 이 될 때까지\n",
    "    if cnt<=M:\n",
    "        result = result + nums[0]*K # 큰수 K개 더하기\n",
    "        cnt = cnt + K \n",
    "        \n",
    "        if cnt >= M: # 마지막 K개가 남을경우 결과에서 빼주고 종료\n",
    "            result = result - nums[0]*(cnt-M)\n",
    "            break\n",
    "            \n",
    "        result = result + nums[1] # 다음으로 큰수 1개 더하기(연속K개 이상 큰수 방지)\n",
    "        cnt = cnt+1\n",
    "\n",
    "        \n",
    "print(result)"
   ]
  },
  {
   "cell_type": "code",
   "execution_count": 30,
   "id": "b6662950-b181-4f18-a84d-5975e6050173",
   "metadata": {},
   "outputs": [
    {
     "name": "stdin",
     "output_type": "stream",
     "text": [
      " 5 8 3\n",
      " 2 4 5 4 6\n"
     ]
    },
    {
     "name": "stdout",
     "output_type": "stream",
     "text": [
      "46\n"
     ]
    }
   ],
   "source": [
    "# 책답(단순 코딩)\n",
    "N,M,K = map(int,input().split(' '))\n",
    "nums = list(map(int, input().split(' ')))\n",
    "\n",
    "nums.sort(reverse = True) # 수 정렬\n",
    "\n",
    "result = 0\n",
    "\n",
    "while True:\n",
    "    for i in range(K): # 큰수 K개 더하기\n",
    "        if M == 0:\n",
    "            break\n",
    "        result += nums[0]\n",
    "        M -= 1\n",
    "    \n",
    "    if M == 0: # M번 다했으면 종료\n",
    "        break\n",
    "    result += nums[1] # 다음으로 큰수 1개 더하기\n",
    "    M -= 1\n",
    "    \n",
    "print(result)\n"
   ]
  },
  {
   "cell_type": "code",
   "execution_count": 42,
   "id": "2e3faf9e-24f2-4e9b-bc46-2c61feb0692e",
   "metadata": {},
   "outputs": [
    {
     "name": "stdin",
     "output_type": "stream",
     "text": [
      " 5 8 3\n",
      " 2 4 5 4 6\n"
     ]
    },
    {
     "name": "stdout",
     "output_type": "stream",
     "text": [
      "46\n"
     ]
    }
   ],
   "source": [
    "# 내가푼 것 \n",
    "# 수열(큰수 몇개필요한지 먼저개산) 이용 - 시간복잡도 개선\n",
    "N,M,K = map(int,input().split(' '))\n",
    "nums = list(map(int, input().split(' ')))\n",
    "\n",
    "nums.sort(reverse = True) # 수 정렬\n",
    "\n",
    "result = 0\n",
    "\n",
    "cnt = (M//(K+1)) # 다음큰수 먼저 더하고\n",
    "result = nums[1]*cnt\n",
    "\n",
    "cnt = cnt*K + (M-(K+1)*cnt) # 큰수 더하기\n",
    "result = result + nums[0]*cnt\n",
    "\n",
    "print(result)"
   ]
  },
  {
   "cell_type": "code",
   "execution_count": 73,
   "id": "e9865544-c003-42f0-91a6-d2cf2c2844a7",
   "metadata": {},
   "outputs": [
    {
     "name": "stdin",
     "output_type": "stream",
     "text": [
      " 5 8 3\n",
      " 2 5 4 5 6\n"
     ]
    },
    {
     "name": "stdout",
     "output_type": "stream",
     "text": [
      "46\n"
     ]
    }
   ],
   "source": [
    "# 책답\n",
    "# 수열(큰수 몇개필요한지 먼저개산) 이용 - 시간복잡도 개선\n",
    "N,M,K = map(int,input().split(' '))\n",
    "nums = list(map(int, input().split(' ')))\n",
    "\n",
    "nums.sort(reverse = True) # 수 정렬\n",
    "\n",
    "\n",
    "\n",
    "cnt = (M//(K+1))*K # 가장 큰수 몇개 필요한가\n",
    "cnt += M % (K+1)\n",
    "\n",
    "result = 0\n",
    "result += cnt*nums[0]\n",
    "result += (M-cnt)*nums[1]\n",
    "\n",
    "print(result)"
   ]
  },
  {
   "cell_type": "markdown",
   "id": "6e0aaa76-2a73-4b38-9c7b-369a585f0819",
   "metadata": {},
   "source": [
    "## 숫자 카드 게임"
   ]
  },
  {
   "cell_type": "code",
   "execution_count": 15,
   "id": "1a336d5f-578b-4ad9-ba24-48a0b07c0474",
   "metadata": {},
   "outputs": [
    {
     "name": "stdin",
     "output_type": "stream",
     "text": [
      " 2 4\n",
      " 7 3 1 8\n",
      " 3 3 3 4\n"
     ]
    },
    {
     "name": "stdout",
     "output_type": "stream",
     "text": [
      "3\n"
     ]
    }
   ],
   "source": [
    "# 내가 푼 것\n",
    "n,m = map(int,input().split(' '))\n",
    "cards = []\n",
    "for _ in range(n):\n",
    "    cards.append(list(map(int,input().split(' '))))\n",
    "\n",
    "max_num = 0    \n",
    "for i in range(n):\n",
    "    cards[i].sort()\n",
    "    pick_num = cards[i][0]\n",
    "    if max_num <= pick_num:\n",
    "        max_num = pick_num\n",
    "\n",
    "print(max_num)"
   ]
  },
  {
   "cell_type": "code",
   "execution_count": 16,
   "id": "5f4b7d73-28d4-4da1-af03-b2276377137b",
   "metadata": {},
   "outputs": [
    {
     "name": "stdin",
     "output_type": "stream",
     "text": [
      " 2 4\n",
      " 7 3 1 8 \n",
      " 3 3 3 4\n"
     ]
    },
    {
     "name": "stdout",
     "output_type": "stream",
     "text": [
      "3\n"
     ]
    }
   ],
   "source": [
    "# 책답1 (min 이용)\n",
    "# 내가 푼 것\n",
    "n,m = map(int,input().split(' '))\n",
    "result = 0\n",
    "for _ in range(n):\n",
    "    cards = list(map(int, input().split()))\n",
    "    min_value = min(cards)\n",
    "    \n",
    "    result = max(result, min_value) # 이게 더 효율적이다.\n",
    "\n",
    "print(result)"
   ]
  },
  {
   "cell_type": "markdown",
   "id": "d3feb82c-cb82-4842-bc0e-7d1dd507bfa4",
   "metadata": {},
   "source": [
    "## 1이 될 떄까지\n",
    "책답은 비효율적인것같음\n",
    "내답이 더깔끔"
   ]
  },
  {
   "cell_type": "code",
   "execution_count": 11,
   "id": "1ff0e639-09e0-41ef-a684-6fb0c789d2f4",
   "metadata": {},
   "outputs": [
    {
     "name": "stdin",
     "output_type": "stream",
     "text": [
      " 25 3\n"
     ]
    },
    {
     "name": "stdout",
     "output_type": "stream",
     "text": [
      "6\n"
     ]
    }
   ],
   "source": [
    "n,k = map(int,input().split())\n",
    "cnt = 0\n",
    "\n",
    "while n != 1:\n",
    "    if n % k == 0:\n",
    "        n = n / k\n",
    "        cnt += 1\n",
    "        \n",
    "    else:\n",
    "        n -= 1\n",
    "        cnt += 1\n",
    "\n",
    "print(cnt)"
   ]
  },
  {
   "cell_type": "markdown",
   "id": "ae3ebd4e-d2a7-408c-91a8-2b02f66cc4cd",
   "metadata": {},
   "source": [
    "## 모험가 길드\n",
    "- 난이도 1"
   ]
  },
  {
   "cell_type": "code",
   "execution_count": 6,
   "id": "bbe5cec2-c747-40ce-b477-eb84a2a19428",
   "metadata": {},
   "outputs": [
    {
     "name": "stdin",
     "output_type": "stream",
     "text": [
      " 5\n",
      " 2 3 1 2 2\n"
     ]
    },
    {
     "name": "stdout",
     "output_type": "stream",
     "text": [
      "2\n"
     ]
    }
   ],
   "source": [
    "# 내답\n",
    "\n",
    "n = int(input())\n",
    "array = list(map(int,input().split()))\n",
    "array.sort()\n",
    "\n",
    "group = []\n",
    "result = 0\n",
    "\n",
    "for i in array:\n",
    "    group.append(i)\n",
    "    if max(group) <= len(group):\n",
    "        result += 1\n",
    "        group = []\n",
    "\n",
    "print(result)"
   ]
  },
  {
   "cell_type": "code",
   "execution_count": null,
   "id": "28891f77-f13a-4c5a-be4c-36751ed72263",
   "metadata": {},
   "outputs": [],
   "source": [
    "# 책답\n",
    "# 정렬 후 그룹 설정하면 최대한 많은 그룹이 구성됨 // 내답과 같으나 그룹수를 count로\n",
    "n = int(input())\n",
    "array = list(map(int,input().split()))\n",
    "array.sort()\n",
    "\n",
    "result = 0 # 총 그룹의 수\n",
    "cnt = 0 # 그룹에 포함된 모험가의 수\n",
    "\n",
    "for i in array: # 공포도 낮은 애들부터 하나씩\n",
    "    cnt += 1 # 현재 그룹에 추가\n",
    "    if cnt <= i: # 현재그룹의 인원 >= 현재 공포도  : 그룹 결성\n",
    "        result += 1\n",
    "        cnt = 0 # 그룹 초기화\n",
    "        \n",
    "print(result) "
   ]
  },
  {
   "cell_type": "markdown",
   "id": "1c4fc0b9-91b4-4e08-8f65-91da2ada3c10",
   "metadata": {},
   "source": [
    "## 곱하기 혹은 더하기\n",
    "- 난이도 1"
   ]
  },
  {
   "cell_type": "code",
   "execution_count": 13,
   "id": "fe278afe-32ac-4e06-902e-2c100a330f3c",
   "metadata": {},
   "outputs": [
    {
     "name": "stdin",
     "output_type": "stream",
     "text": [
      " 02984\n"
     ]
    },
    {
     "name": "stdout",
     "output_type": "stream",
     "text": [
      "576\n"
     ]
    }
   ],
   "source": [
    "s = input()\n",
    "result = int(s[0])\n",
    "\n",
    "for i in s[1:]:\n",
    "    i = int(i) \n",
    "    if result == 0:\n",
    "        result += i\n",
    "        continue\n",
    "        \n",
    "    if i <= 1:\n",
    "        result += i\n",
    "    else:\n",
    "        result *= i\n",
    "        \n",
    "print(result)"
   ]
  },
  {
   "cell_type": "code",
   "execution_count": 38,
   "id": "fbcdc9e9-edff-4525-8c38-4866b1574a52",
   "metadata": {},
   "outputs": [
    {
     "name": "stdin",
     "output_type": "stream",
     "text": [
      " 02984\n"
     ]
    },
    {
     "name": "stdout",
     "output_type": "stream",
     "text": [
      "576\n"
     ]
    }
   ],
   "source": [
    "# 책답\n",
    "s = input()\n",
    "result = int(s[0])\n",
    "\n",
    "for i in s[1:]:\n",
    "    i=int(i)\n",
    "    if i<=1 or result <= 1: # 두 수중 하나라도 0,1인 경우, 더하기 실행\n",
    "        result += i\n",
    "    else:\n",
    "        result *= i\n",
    "        \n",
    "print(result)"
   ]
  },
  {
   "cell_type": "markdown",
   "id": "b7e8dd22-c68f-4ee8-9fb6-2f752d6d3e56",
   "metadata": {},
   "source": [
    "## 문자열 뒤집기\n",
    "- 난이도 : 1"
   ]
  },
  {
   "cell_type": "code",
   "execution_count": 8,
   "id": "65d616e9-4d65-44d1-838c-d77b3cbc3af0",
   "metadata": {},
   "outputs": [
    {
     "name": "stdin",
     "output_type": "stream",
     "text": [
      " 11101101\n"
     ]
    },
    {
     "name": "stdout",
     "output_type": "stream",
     "text": [
      "['1', '1', '1', '1', '1', '1', '0', '1']\n",
      "['1', '1', '1', '1', '1', '1', '1', '1']\n",
      "2\n"
     ]
    }
   ],
   "source": [
    "# 내답\n",
    "# O(n^2)\n",
    "s = input()\n",
    "cnt = 0\n",
    "s=list(s)\n",
    "for i in range(len(s)-1):\n",
    "    # 다음께 다른 숫자 나올때 까지   \n",
    "    if s[i] != s[i+1]:\n",
    "        for j in range(i+1,len(s)): # 다른 숫자 끝날 때 까지\n",
    "            if s[j] != s[i]:\n",
    "                s[j] = s[i]\n",
    "            else:\n",
    "                break\n",
    "        cnt += 1\n",
    "        \n",
    "print(cnt)"
   ]
  },
  {
   "cell_type": "code",
   "execution_count": 41,
   "id": "3b368e0e-b3f2-4d50-9535-8ae48ddb7594",
   "metadata": {},
   "outputs": [
    {
     "name": "stdin",
     "output_type": "stream",
     "text": [
      " 10001\n"
     ]
    },
    {
     "name": "stdout",
     "output_type": "stream",
     "text": [
      "1\n"
     ]
    }
   ],
   "source": [
    "# 책답\n",
    "# 전부 0로 or 전부1로 경우 중 더 낮은 거 고르기\n",
    "# 리스트를 직접 바꾸지 않고, \n",
    "# O(N)\n",
    "s = input()\n",
    "cnt_0 = 0\n",
    "cnt_1 = 0\n",
    "\n",
    "# 첫번째 원소 처리 // why?\n",
    "if s[0] =='1':\n",
    "    cnt_0 += 1\n",
    "else:\n",
    "    cnt_1 += 1\n",
    "    \n",
    "# 두번째 원소부터 모든 원소 확인\n",
    "for i in range(len(s)-1):\n",
    "    if s[i] != s[i+1]: # 서로 다른 경우\n",
    "        if s[i+1] == '1':# 다음 수에서 1로 바뀌는 경우\n",
    "            cnt_1 += 1\n",
    "        else:            # 다음 수에서 0로 바뀌는 경우\n",
    "            cnt_0 += 1\n",
    "\n",
    "print(min(cnt_0,cnt_1))\n"
   ]
  },
  {
   "cell_type": "markdown",
   "id": "9eb6b632-a0b1-4850-b2a4-826ed3ee29bf",
   "metadata": {},
   "source": [
    "## 만들 수 없는 금액\n",
    "- 난이도 1\n",
    "### 순열 조합 (리스트 내 모든 조합 사용 시) \n",
    "- from itertools import combinations : 조합\n",
    "- from itertools import permutations : 순열"
   ]
  },
  {
   "cell_type": "code",
   "execution_count": 34,
   "id": "002381db-fce7-4837-b60e-efdd0a791172",
   "metadata": {},
   "outputs": [
    {
     "name": "stdout",
     "output_type": "stream",
     "text": [
      "combinations :  [1, 1, 2, 3, 9, 2, 3, 4, 10, 3, 4, 10, 5, 11, 12, 4, 5, 11, 6, 12, 13, 6, 12, 13, 14, 7, 13, 14, 15, 15]\n",
      "permutations :  [1, 1, 2, 3, 9, 2, 3, 4, 10, 2, 3, 4, 10, 3, 3, 5, 11, 4, 4, 5, 12, 10, 10, 11, 12, 4, 5, 11, 4, 6, 12, 5, 6, 13, 11, 12, 13, 4, 5, 11, 4, 6, 12, 5, 6, 13, 11, 12, 13, 4, 6, 12, 4, 6, 12, 6, 6, 14, 12, 12, 14, 5, 6, 13, 5, 6, 13, 6, 6, 14, 13, 13, 14, 11, 12, 13, 11, 12, 13, 12, 12, 14, 13, 13, 14, 7, 13, 7, 14, 13, 14, 7, 13, 7, 15, 13, 15, 7, 14, 7, 15, 14, 15, 13, 14, 13, 15, 14, 15, 7, 13, 7, 14, 13, 14, 7, 13, 7, 15, 13, 15, 7, 14, 7, 15, 14, 15, 13, 14, 13, 15, 14, 15, 7, 13, 7, 15, 13, 15, 7, 13, 7, 15, 13, 15, 7, 15, 7, 15, 15, 15, 13, 15, 13, 15, 15, 15, 7, 14, 7, 15, 14, 15, 7, 14, 7, 15, 14, 15, 7, 15, 7, 15, 15, 15, 14, 15, 14, 15, 15, 15, 13, 14, 13, 15, 14, 15, 13, 14, 13, 15, 14, 15, 13, 15, 13, 15, 15, 15, 14, 15, 14, 15, 15, 15]\n"
     ]
    }
   ],
   "source": [
    "# 순열과 조합 비교\n",
    "from itertools import combinations \n",
    "from itertools import permutations \n",
    "# combinations 조합 : 순서쌍을 고려 x -> 이문제의 모든 조합 볼때는 이게 맞다\n",
    "result = []\n",
    "for i in range(1, len(coins)):\n",
    "    combination = list(combinations(coins, i))\n",
    "    result = result + [sum(x) for x in combination]\n",
    "print('combinations : ',result)\n",
    "\n",
    "# permutations 순열 : 순서쌍을 고려 \n",
    "result = []\n",
    "for i in range(1, len(coins)):\n",
    "    permutation = list(permutations(coins, i))\n",
    "    result = result + [sum(x) for x in permutation]\n",
    "print('permutations : ',result)"
   ]
  },
  {
   "cell_type": "code",
   "execution_count": 29,
   "id": "a27041a1-4e93-43b8-a29a-411353f520e3",
   "metadata": {
    "tags": []
   },
   "outputs": [
    {
     "name": "stdin",
     "output_type": "stream",
     "text": [
      " 5\n",
      " 3 2 1 1 9\n"
     ]
    },
    {
     "name": "stdout",
     "output_type": "stream",
     "text": [
      "8\n"
     ]
    }
   ],
   "source": [
    "# 내답\n",
    "n = int(input())\n",
    "coins = list(map(int,input().split()))\n",
    "\n",
    "if 1 not in coins: # 1이 없다면 최소는 1 \n",
    "    print(1)\n",
    "\n",
    "# 모든 동전들의 조합\n",
    "from itertools import permutations \n",
    "result = []\n",
    "for i in range(1, len(coins)):\n",
    "    combination = list(permutations(coins, i))\n",
    "    result = result + [sum(x) for x in permutations] # result.extend([sum(x) for x in combination])\n",
    "    \n",
    "result = list(set(result)) # 중복 제거\n",
    "\n",
    "# 2부터 없는 것 찾기\n",
    "max_ = sum(coins)\n",
    "for i in range(2,max_):\n",
    "    if i not in result:\n",
    "        print(i)"
   ]
  },
  {
   "cell_type": "code",
   "execution_count": null,
   "id": "779d2db8-fe6e-4ae3-8f1a-0d25781807d6",
   "metadata": {},
   "outputs": [],
   "source": []
  },
  {
   "cell_type": "markdown",
   "id": "3deb8559-9ce4-4c95-92f9-a66573fbd769",
   "metadata": {},
   "source": [
    "## 볼링공 고르기\n",
    "- 난이도 1"
   ]
  },
  {
   "cell_type": "code",
   "execution_count": 36,
   "id": "68306394-292d-4e0d-bd0b-e077755108ac",
   "metadata": {},
   "outputs": [
    {
     "name": "stdin",
     "output_type": "stream",
     "text": [
      " 8 5\n",
      " 1 5 4 3 2 4 5 2\n"
     ]
    },
    {
     "name": "stdout",
     "output_type": "stream",
     "text": [
      "25\n"
     ]
    }
   ],
   "source": [
    "# 내답\n",
    "# combinations 함수 사용\n",
    "from itertools import combinations\n",
    "\n",
    "n,m = map(int,input().split())\n",
    "k = list(map(int,input().split()))\n",
    "\n",
    "pick_list = list(combinations(k,2))\n",
    "\n",
    "for x,y in pick_list:\n",
    "    if x == y:\n",
    "        pick_list.remove((x,y))\n",
    "        \n",
    "print(len(pick_list))"
   ]
  },
  {
   "cell_type": "code",
   "execution_count": 45,
   "id": "46111a1b-28f0-4059-92f3-ddcbecf6cc7a",
   "metadata": {},
   "outputs": [
    {
     "name": "stdin",
     "output_type": "stream",
     "text": [
      " 8 5\n",
      " 1 5 4 3 2 4 5 2\n"
     ]
    },
    {
     "name": "stdout",
     "output_type": "stream",
     "text": [
      "25\n"
     ]
    }
   ],
   "source": [
    "# 책답\n",
    "# \n",
    "\n",
    "n,m = map(int,input().split())\n",
    "k = list(map(int,input().split()))\n",
    "\n",
    "array = [0]*11 # 1~10 까지 무게를 담는 리스트\n",
    "\n",
    "# 각 무게에 해당하는 볼링공 개수\n",
    "for x in k:\n",
    "    array[x] += 1 \n",
    "    \n",
    "result = 0\n",
    "# 1~m 까지의 각 무게에 대해서 처리\n",
    "for i in range(1,m+1):\n",
    "    n -= array[i] # A가 선택 할 수 있는 무게의 볼링공 개수 제외\n",
    "    result += array[i]*n # B가 선택 하는 경우의 수와 곱\n",
    "    \n",
    "print(result)"
   ]
  },
  {
   "cell_type": "markdown",
   "id": "eb720550-2240-4ed7-8f61-dfcf66dd21e8",
   "metadata": {},
   "source": [
    "## 무지의 먹방 라이브\n",
    "- 난이도 1\n",
    "- 프로그래머스 lv4?"
   ]
  },
  {
   "cell_type": "code",
   "execution_count": null,
   "id": "fcc7238b-de91-458f-a70d-28aacc787d92",
   "metadata": {},
   "outputs": [],
   "source": [
    "# 내답 \n",
    "# 테스트 코드는 맞지만 다른테스트케이스 모두 틀림\n",
    "\n",
    "def solution(food_times, k):\n",
    "    answer = 0\n",
    "    for second in range(k): # 매초 진행\n",
    "        if second >= len(food_times)-1: # 돌기위해\n",
    "            second = second+1 - len(food_times)\n",
    "        # 음식이 없으면 다음\n",
    "        \n",
    "        while food_times[second] == 0:\n",
    "            if second >= len(food_times)-1: # 돌기위해\n",
    "                second = second+1 - len(food_times)\n",
    "            second += 1\n",
    "            break\n",
    "            \n",
    "        # 1씩 삭제\n",
    "        food_times[second] -= 1\n",
    "    \n",
    "    if sum(food_times) == 0:\n",
    "        return -1\n",
    "    \n",
    "    return answer+1"
   ]
  },
  {
   "cell_type": "code",
   "execution_count": 15,
   "id": "15a2437e-619e-423e-9a8c-92a569a51f8b",
   "metadata": {},
   "outputs": [],
   "source": [
    "# 책답\n",
    "def solution(food_times, k):\n",
    "    if k >= sum(food_times):\n",
    "        return -1\n",
    "    \n",
    "    # 시간이 작은 음식부터 뺴야하므로 우선순위 큐이용\n",
    "    import heapq\n",
    "    \n",
    "    q = []\n",
    "    for i in range(len(food_times)):\n",
    "        # (음식시간, 음식번호) 형태로 우선순위 큐에 삽입\n",
    "        heapq.heappush(q,[food_times[i],i+1])\n",
    "        \n",
    "    sum_value = 0 # 먹기위해 사용한 시간\n",
    "    previous = 0 # 직전에 다먹은 음식 시간\n",
    "    length = len(food_times) # 남은 음식 개수\n",
    "    \n",
    "    # sum_value + (현재음식시간 - 이전음식시간) * 현재음식개수 와 k 비교\n",
    "    while sum_value + ((q[0][0] - previous) * length) <= k:\n",
    "        now = heapq.heappop(q)[0] # 제일 시간 적은 음식의 시간\n",
    "        sum_value += (now - previous) * length   \n",
    "        length -= 1 # 다 먹은 음식 제외\n",
    "        previous = now # 이전 음식 시간 재설정\n",
    "    \n",
    "    # 남은 음식 중 몇번째 음식인지 확인하여 출력\n",
    "    result = sorted(q, key = lambda x:x[1]) # 음식의 번호 기준으로 정렬\n",
    "    return result[(k-sum_value) % length][1]"
   ]
  },
  {
   "cell_type": "code",
   "execution_count": null,
   "id": "ea04fe83-2930-4970-858c-1d504bc9fdc6",
   "metadata": {},
   "outputs": [],
   "source": []
  }
 ],
 "metadata": {
  "kernelspec": {
   "display_name": "Python 3",
   "language": "python",
   "name": "python3"
  },
  "language_info": {
   "codemirror_mode": {
    "name": "ipython",
    "version": 3
   },
   "file_extension": ".py",
   "mimetype": "text/x-python",
   "name": "python",
   "nbconvert_exporter": "python",
   "pygments_lexer": "ipython3",
   "version": "3.8.8"
  },
  "widgets": {
   "application/vnd.jupyter.widget-state+json": {
    "state": {},
    "version_major": 2,
    "version_minor": 0
   }
  }
 },
 "nbformat": 4,
 "nbformat_minor": 5
}

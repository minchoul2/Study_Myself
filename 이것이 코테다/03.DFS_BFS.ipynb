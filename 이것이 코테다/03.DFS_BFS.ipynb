{
 "cells": [
  {
   "cell_type": "markdown",
   "id": "c76b9e36-eeb2-41c1-863f-d49215c8f471",
   "metadata": {},
   "source": [
    "# 스택 / 큐\n",
    "## 스택 \n",
    "- 선입후출\n",
    "- 별도 라이브러리 x (파이썬의 list자료형으로 구현)\n",
    "## 큐\n",
    "- 선입선출\n",
    "- 파이썬의 collections.deque 모듈 활용"
   ]
  },
  {
   "cell_type": "code",
   "execution_count": 17,
   "id": "881c679c-e9be-41ba-a620-48316ce18936",
   "metadata": {},
   "outputs": [
    {
     "name": "stdout",
     "output_type": "stream",
     "text": [
      "1 2 3 순서대로 삽입 후 한개 제거 비교\n",
      "스택 :  [1, 2]\n",
      "큐 :  deque([2, 3])\n",
      "큐(reverse후) :  deque([3, 2])\n"
     ]
    }
   ],
   "source": [
    "# 스택 / 큐 비교 및 코드예시\n",
    "# 1,2,3 삽입후 각자 방식으로 한개 제거\n",
    "print('1 2 3 순서대로 삽입 후 한개 제거 비교')\n",
    "# 스택\n",
    "stack = []\n",
    "stack.append(1)\n",
    "stack.append(2)\n",
    "stack.append(3)\n",
    "stack.pop()\n",
    "print('스택 : ',stack)\n",
    "\n",
    "# 큐\n",
    "from collections import deque # 큐는 deque 모듈 쓰자\n",
    "\n",
    "queue = deque()\n",
    "queue.append(1)\n",
    "queue.append(2)\n",
    "queue.append(3)\n",
    "queue.popleft()\n",
    "print('큐 : ',queue)\n",
    "queue.reverse()\n",
    "print('큐(reverse후) : ',queue)\n"
   ]
  },
  {
   "cell_type": "markdown",
   "id": "852aafe8-d37a-41b8-aeee-5ee4f46a11e5",
   "metadata": {},
   "source": [
    "# DFS 기초\n",
    "- 스택 활용\n",
    "- 인접행렬(Matrix) : 모든 노드의 연결성을 메트릭스 형태로 -> 노드의 위치만 찍어주면 됨 \"graph[1][2]\"  \n",
    "- 인접리스트(List) : 연결된 노드들만 리스트 형태로 -> 검색시 더 느림(연결된 곳까지 하나하나 접근해야해서)\n",
    "- 재귀함수를 이용하여 간단하게 구현"
   ]
  },
  {
   "cell_type": "code",
   "execution_count": 13,
   "id": "574e0561-fb3a-4e33-954c-cf132c60c051",
   "metadata": {},
   "outputs": [
    {
     "name": "stdout",
     "output_type": "stream",
     "text": [
      "1 2 7 6 8 3 4 5 "
     ]
    }
   ],
   "source": [
    "# DFS 기초 구현\n",
    "def dfs(graph,v, visited): # graph:그래프 / v:현재노드 / visited:방문노드 체크\n",
    "    # 현재노드를 방문처리\n",
    "    visited[v] = True  \n",
    "    print(v,end = '  ') # 방문한노드 출력\n",
    "    \n",
    "    # 현재노드와 연결된 다른 노드를 재귀적으로 방문\n",
    "    for i in graph[v]:\n",
    "        if not visited[i]:\n",
    "            dfs(graph, i, visited)\n",
    "            \n",
    "\n",
    "# 각 노드가 연결된 정보를 리스트 자료형으로 표현\n",
    "graph = [\n",
    "    [], # 시작을 위한 노드\n",
    "    [2,3,8], # 1노드\n",
    "    [1,7], \n",
    "    [1,4,5],\n",
    "    [3,5],\n",
    "    [3,4],\n",
    "    [7],\n",
    "    [2,6,8],\n",
    "    [1,7] # 8노드\n",
    "]\n",
    "\n",
    "# 각 노드가 방문된 정보를 리스트 자료형으로 표현\n",
    "visited = [False]*9\n",
    "\n",
    "# DFS 호출\n",
    "dfs(graph, 1, visited)"
   ]
  },
  {
   "cell_type": "markdown",
   "id": "84d61649-2c36-49ce-97e0-d9d23d5937be",
   "metadata": {},
   "source": [
    "# BFS 기초\n",
    "- 큐 활용 (from collections import deque)\n",
    "- 실제 수행시간은 DFS보다 좋은편"
   ]
  },
  {
   "cell_type": "code",
   "execution_count": 12,
   "id": "ebfb0372-458e-4ad1-afd4-468d38a9fed8",
   "metadata": {},
   "outputs": [
    {
     "name": "stdout",
     "output_type": "stream",
     "text": [
      "1 2 3 8 7 4 5 6 "
     ]
    }
   ],
   "source": [
    "# BFS 기초 구현\n",
    "# 그래프가 연결된 노드의 집합\n",
    "from collections import deque\n",
    "\n",
    "def bfs(graph, start, visited):\n",
    "    # 큐 구현을 위한 deque 라이브러리 사용\n",
    "    queue = deque([start])\n",
    "    # 현재 노드를 방문처리\n",
    "    visited[start] = True\n",
    "    # 큐가 빌때까지 반복\n",
    "    while queue: \n",
    "        #큐에서 하나의 원소를 뽑아 출력\n",
    "        v = queue.popleft() # 현재노드\n",
    "        print(v, end = ' ')\n",
    "        # 해당원소와 연결된, 아직 방문하지 않은 원소들을 큐에 삽입\n",
    "        for i in graph[v]: \n",
    "            if not visited[i]:\n",
    "                queue.append(i)\n",
    "                visited[i] = True\n",
    "\n",
    "# 각 노드가 연결된 정보를 리스트 자료형으로 표현\n",
    "graph = [\n",
    "    [], # 시작을 위한 노드\n",
    "    [2,3,8], # 1노드\n",
    "    [1,7], \n",
    "    [1,4,5],\n",
    "    [3,5],\n",
    "    [3,4],\n",
    "    [7],\n",
    "    [2,6,8],\n",
    "    [1,7] # 8노드\n",
    "] \n",
    "\n",
    "# 각 노드가 방문된 정보를 리스트 자료형으로 표현\n",
    "visited = [False]*9\n",
    "\n",
    "# BFS 호출\n",
    "bfs(graph, 1, visited)"
   ]
  },
  {
   "cell_type": "markdown",
   "id": "32a6e7b6-93d1-419f-890e-0d10564db4d9",
   "metadata": {},
   "source": [
    "## 음료 얼려먹기"
   ]
  },
  {
   "cell_type": "code",
   "execution_count": 32,
   "id": "210c95c0-2dd8-45aa-93f2-496ec9f5b780",
   "metadata": {},
   "outputs": [
    {
     "name": "stdin",
     "output_type": "stream",
     "text": [
      " 4 5\n",
      " 11110\n",
      " 11100\n",
      " 00111\n",
      " 11011\n"
     ]
    },
    {
     "name": "stdout",
     "output_type": "stream",
     "text": [
      "3\n"
     ]
    }
   ],
   "source": [
    "n,m = map(int,input().split())\n",
    "ice_map = []\n",
    "for _ in range(n):\n",
    "    ice_map.append(list(map(int,input())))\n",
    "\n",
    "\n",
    "def dfs(x,y):\n",
    "    # 그래프의 인덱스 벗어나면 바로종료(에러 방지)\n",
    "    if x >= n or x <0 or y<0 or y>=m:\n",
    "        return False\n",
    "    \n",
    "    \n",
    "    # 현재노드를 방문하지 않았다면\n",
    "    # 즉 이 조건문을 통과한다면 연결되어있는 방문하지 않은 곳은 모두 방문처리 되며\n",
    "    # 그 동시에 True 값을 반환 하여 하나의 연결된 0을 모두 방문한 것이 됨 \n",
    "    if ice_map[x][y] == 0:\n",
    "        # 제일 중요!! 노드 방문처리!!\n",
    "        ice_map[x][y] = 1 # ice_map은 전역변수처럼 사용됨\n",
    "        \n",
    "        # 상하좌우 모두 재귀적으로 호출\n",
    "        dfs(x-1,y)\n",
    "        dfs(x+1,y)\n",
    "        dfs(x,y-1)\n",
    "        dfs(x,y+1)\n",
    "        return True # 즉 이 조건문을 \n",
    "    return False\n",
    "\n",
    "result = 0\n",
    "for x in range(n):\n",
    "    for y in range(m):\n",
    "        if dfs(x,y) == True:\n",
    "            result += 1\n",
    "            \n",
    "print(result)"
   ]
  },
  {
   "cell_type": "markdown",
   "id": "4219e662-47cf-4a1a-8518-c74542e10d9c",
   "metadata": {},
   "source": [
    "## 미로탈출\n"
   ]
  },
  {
   "cell_type": "code",
   "execution_count": 55,
   "id": "1cfee91e-c48f-4d90-98a8-0d8364792f02",
   "metadata": {},
   "outputs": [
    {
     "name": "stdin",
     "output_type": "stream",
     "text": [
      " 3 3\n",
      " 111\n",
      " 101\n",
      " 111\n"
     ]
    },
    {
     "name": "stdout",
     "output_type": "stream",
     "text": [
      "0 0\n",
      "0 1\n",
      "1 0\n",
      "0 0\n",
      "0 2\n",
      "2 0\n",
      "1 2\n",
      "2 1\n",
      "2 2\n"
     ]
    }
   ],
   "source": [
    "# 내답 해결x\n",
    "# 2차원 배열(맵)의 BFS 탐색만 구현 // 얼추 맞췃다 Key point는 다음\n",
    "\n",
    "from collections import deque\n",
    "# 입력\n",
    "n,m = map(int,input().split())\n",
    "graph = []\n",
    "for _ in range(n):\n",
    "    graph.append(list(map(int,input())))\n",
    "\n",
    "queue = deque()\n",
    "dx = [0,0,-1,1]\n",
    "dy = [-1,1,0,0]\n",
    "    \n",
    "def bfs(graph,start):\n",
    "    # bfs 연결\n",
    "\n",
    "    queue = deque()\n",
    "    queue.append(start)\n",
    "    while queue:\n",
    "        x,y = queue.popleft()\n",
    "        print(x,y)\n",
    "        for i in range(4):\n",
    "            nx = x + dx[i]\n",
    "            ny = y + dy[i]\n",
    "            if nx<0 or ny<0 or nx>=n or ny>=m:\n",
    "                continue\n",
    "    \n",
    "            if graph[nx][ny] == 1:\n",
    "                queue.append([nx,ny])\n",
    "                graph[nx][ny] = 0\n",
    "                \n",
    "            \n",
    "bfs(graph,[0,0])"
   ]
  },
  {
   "cell_type": "code",
   "execution_count": 62,
   "id": "40334564-2009-4e6d-b718-b035cc461622",
   "metadata": {},
   "outputs": [
    {
     "name": "stdin",
     "output_type": "stream",
     "text": [
      " 5 6\n",
      " 101010\n",
      " 111111\n",
      " 000001\n",
      " 111111\n",
      " 111111\n"
     ]
    },
    {
     "name": "stdout",
     "output_type": "stream",
     "text": [
      "1 0\n",
      "1 1\n",
      "0 0\n",
      "1 2\n",
      "1 3\n",
      "0 2\n",
      "1 4\n",
      "1 5\n",
      "0 4\n",
      "2 5\n",
      "3 5\n",
      "3 4\n",
      "4 5\n",
      "3 3\n",
      "4 4\n",
      "3 2\n",
      "4 3\n",
      "3 1\n",
      "4 2\n",
      "3 0\n",
      "4 1\n",
      "4 0\n"
     ]
    },
    {
     "data": {
      "text/plain": [
       "10"
      ]
     },
     "execution_count": 62,
     "metadata": {},
     "output_type": "execute_result"
    }
   ],
   "source": [
    "# 책답\n",
    "# 최단거리 기록에 대해서\n",
    "\"\"\"\n",
    "BFS는 호수에 돌멩이를 던졌을 때 물결처럼 주변으로 퍼저나가며 탐색을 한다.\n",
    "그렇기 때문에 특정노드의 다음 child노드에 특정노드값+1 을 해주면 자동적(자연스럽게) 최단 거리를 도출할 수 있게 된다.\n",
    "이는 탐색의 특성상 다시 돌아오지 않기 때문에(visit처리 해준다면// 여기서는 parent노드+1 값으로 처리)\n",
    "\"\"\"\n",
    "from collections import deque\n",
    "# 입력\n",
    "n,m = map(int,input().split())\n",
    "graph = []\n",
    "for _ in range(n):\n",
    "    graph.append(list(map(int,input())))\n",
    "\n",
    "queue = deque()\n",
    "dx = [0,0,-1,1]\n",
    "dy = [-1,1,0,0]\n",
    "    \n",
    "def bfs(x,y): # 바뀐부분 // x,y 좌표만 인자로 받음\n",
    "    # bfs 연결\n",
    "\n",
    "    queue = deque()\n",
    "    queue.append(start)\n",
    "    while queue:\n",
    "        x,y = queue.popleft()\n",
    "\n",
    "        for i in range(4):\n",
    "            nx = x + dx[i]\n",
    "            ny = y + dy[i]\n",
    "            if nx<0 or ny<0 or nx>=n or ny>=m:\n",
    "                continue\n",
    "            if graph[nx][ny] == 0: # 바뀐부분 // 벽을 만나면 그냥 넘김\n",
    "                continue\n",
    "                \n",
    "            if graph[nx][ny] == 1:\n",
    "                queue.append([nx,ny])\n",
    "                print(nx,ny)\n",
    "                graph[nx][ny] = graph[x][y]+1 # 바뀐 부분 // 최단거리 기록 // if 문에서 1만 찾기 때문에 visit 처리효과도 있음\n",
    "    \n",
    "    return graph[n-1][m-1] # 바뀐부분 // 맨아래 오른쪽(n,m)에 기록된 출발지로부터의 최단거리 반환\n",
    "            \n",
    "bfs(0,0)"
   ]
  },
  {
   "cell_type": "markdown",
   "id": "8c771af6-0998-49d0-97fc-e70ffb5caba1",
   "metadata": {},
   "source": [
    "## 특정거리의 도시찾기\n",
    "- 그래프가 간선들의 집합으로 이루어짐 => 우리가 아는 형태로\n",
    "    - graph는 노드의 집합(빈집합)으로 하고\n",
    "    - 입력받는 간선들은 graph에 각 위치에 맞게 대입하는 형태로 \n"
   ]
  },
  {
   "cell_type": "code",
   "execution_count": null,
   "id": "36a2bca9-8165-49b2-8949-e475b534d43d",
   "metadata": {},
   "outputs": [],
   "source": [
    "# 책답\n",
    "from collections import deque\n",
    "\n",
    "n,m,k,x = map(int,input().split())\n",
    "# 그래프는 노드를 나타내야해!\n",
    "#graph = []\n",
    "#for _ in range(n):\n",
    "#    graph.append(list(map(int,input().split())))\n",
    "\n",
    "graph = [[] for _ in range(n+1)] # 첫 start는 빈 거로 해야하니까\n",
    "\n",
    "# 입력받아서 그래프에 각 노드에 대입하자\n",
    "for _ in range(n):\n",
    "    a,b = map(int,input().split()) # a:출발노드, b:도착노드\n",
    "    graph[a].append(b) # 출발노드에 어디로 갈 수 있는지 대입\n",
    "\n",
    "distance = [-1]*(n+1) # 모든 돗기에 대한 최단거리 초기화(vistied 역할)\n",
    "distance[x] = 0 # 출발도시는 0\n",
    "\n",
    "# BFS 수행\n",
    "q = deque([x])\n",
    "while q:\n",
    "    now = q.popleft()\n",
    "    # 현재도시에서 이동할 수 있는 도시 확인\n",
    "    for next_node in graph[now]:\n",
    "        # 아직 방문 안했으면\n",
    "        if distance[next_node] == -1:\n",
    "            distance[next_node] = distance[now] + 1\n",
    "            q.append(next_node)\n",
    "\n",
    "# 최단 거리가 K인 모든 도시의 번호\n",
    "check = False\n",
    "for i in range(1,n+1):\n",
    "    if distance[i] == k:\n",
    "        print(i)\n",
    "        check = True\n",
    "\n",
    "# K인 도시 없으면 -1\n",
    "if check == False:\n",
    "    print(-1)"
   ]
  },
  {
   "cell_type": "code",
   "execution_count": null,
   "id": "1fe781d4-d070-4d2f-8a98-b8810c20ca5b",
   "metadata": {},
   "outputs": [],
   "source": [
    "# only code\n",
    "from collections import deque\n",
    "\n",
    "n,m,k,x = map(int,input().split())\n",
    "graph = [[] for _ in range(n+1)] # 첫 start는 빈 거로 해야하니까\n",
    "\n",
    "for _ in range(n):\n",
    "    a,b = map(int,input().split()) # a:출발노드, b:도착노드\n",
    "    graph[a].append(b) # 출발노드에 어디로 갈 수 있는지 대입\n",
    "\n",
    "distance = [-1]*(n+1) # 모든 돗기에 대한 최단거리 초기화(vistied 역할)\n",
    "distance[x] = 0 # 출발도시는 0\n",
    "\n",
    "q = deque([x])\n",
    "while q:\n",
    "    now = q.popleft()\n",
    "    for next_node in graph[now]:\n",
    "        if distance[next_node] == -1:\n",
    "            distance[next_node] = distance[now] + 1\n",
    "            q.append(next_node)\n",
    "\n",
    "check = False\n",
    "for i in range(1,n+1):\n",
    "    if distance[i] == k:\n",
    "        print(i)\n",
    "        check = True\n",
    "\n",
    "if check == False:\n",
    "    print(-1)"
   ]
  }
 ],
 "metadata": {
  "kernelspec": {
   "display_name": "Python 3",
   "language": "python",
   "name": "python3"
  },
  "language_info": {
   "codemirror_mode": {
    "name": "ipython",
    "version": 3
   },
   "file_extension": ".py",
   "mimetype": "text/x-python",
   "name": "python",
   "nbconvert_exporter": "python",
   "pygments_lexer": "ipython3",
   "version": "3.8.8"
  },
  "widgets": {
   "application/vnd.jupyter.widget-state+json": {
    "state": {},
    "version_major": 2,
    "version_minor": 0
   }
  }
 },
 "nbformat": 4,
 "nbformat_minor": 5
}

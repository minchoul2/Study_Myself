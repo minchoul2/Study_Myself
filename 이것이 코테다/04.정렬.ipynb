{
 "cells": [
  {
   "cell_type": "markdown",
   "id": "00cb14cb-c3fe-464b-a2bf-ed7886447d9e",
   "metadata": {},
   "source": [
    "## 선택정렬 selection sort\n",
    "- 매번 가장 작은 것을 선택하여 정렬\n",
    "- 가장 원시적이고 느리지만 리스트에서 가장 작은 데이터를 찾는 것에는 좋음\n",
    "- O(N2)"
   ]
  },
  {
   "cell_type": "code",
   "execution_count": 2,
   "id": "67e6f2c8-86fa-423a-97c1-07c09e26cb3e",
   "metadata": {},
   "outputs": [
    {
     "name": "stdout",
     "output_type": "stream",
     "text": [
      "[0, 1, 2, 3, 4, 5, 6, 7, 8, 9]\n"
     ]
    }
   ],
   "source": [
    "# 선택정렬 기본 코드\n",
    "\n",
    "array = [7,5,9,0,3,1,6,2,4,8]\n",
    "for i in range(len(array)):# 우선 전부 탐색\n",
    "    min_index = i\n",
    "    for j in range(i+1,len(array)): # 정해진(i-1)원소다음부터\n",
    "        if array[min_index] > array[j]: # 뒤에 더 작은값이 있으면\n",
    "            min_index = j # 일단 index 저장\n",
    "    \n",
    "    array[i], array[min_index] = array[min_index], array[i] # 제일 작았던 것으로 교체\n",
    "\n",
    "print(array)\n",
    "        "
   ]
  },
  {
   "cell_type": "markdown",
   "id": "eb1593f9-57aa-4d6e-b77b-e156b8711cab",
   "metadata": {},
   "source": [
    "## 삽입정렬 insertion sort\n",
    "- 데이터를 하나씩 확인하여 적절한 위치에 삽입\n",
    "- 하나씩 보고 그전에있던거랑 비교해서 앞쪽에 삽입\n",
    "- O(N2) // 필요할 때만 위치 바꾸므로 거의 정렬되어있을 때 효율적\n"
   ]
  },
  {
   "cell_type": "code",
   "execution_count": 6,
   "id": "2bb747a1-bd10-4ed7-9688-a74bea6d53f0",
   "metadata": {},
   "outputs": [
    {
     "name": "stdout",
     "output_type": "stream",
     "text": [
      "[0, 1, 2, 3, 4, 5, 6, 7, 8, 9]\n"
     ]
    }
   ],
   "source": [
    "# 삽입정렬 기본 코드\n",
    "array = [7,5,9,0,3,1,6,2,4,8]\n",
    "for i in range(1,len(array)): # 일단 첫번 인자는 정렬되어있다고 보기 때문에 1부터 시작\n",
    "    #for j in range(0,i):\n",
    "    for j in range(i,0,-1): # i 부터 1씩 감소하면서(왼쪽으로가면서) 처음까지 탐색\n",
    "        #if array[i] < array[j]:\n",
    "        if array[j] < array[j-1]: # j-1, j, j+1\n",
    "            #array[i],array[j] = array[j],array[i]\n",
    "             array[j],array[j-1] = array[j-1], array[j]\n",
    "print(array)"
   ]
  },
  {
   "cell_type": "markdown",
   "id": "3bef6d38-358a-4c6a-bee4-7173a89ea435",
   "metadata": {},
   "source": [
    "## 퀵정렬 quick sort\n",
    "- 가장 많이 사용됨 \n",
    "- 리스트의 첫 원소를 기준(피벗)으로 활용 하며 시작 \n",
    "- 분할을 활용\n",
    "- O(NlogN)"
   ]
  },
  {
   "cell_type": "code",
   "execution_count": 9,
   "id": "368ca869-2f89-4b3d-b3f1-640bdd068f2f",
   "metadata": {},
   "outputs": [
    {
     "name": "stdout",
     "output_type": "stream",
     "text": [
      "[0, 1, 2, 3, 4, 5, 6, 7, 8, 9]\n"
     ]
    }
   ],
   "source": [
    "# 퀵정렬 기본 코드(직관적ver)\n",
    "array = [7,5,9,0,3,1,6,2,4,8]\n",
    "\n",
    "def quick_sort(array, start, end):\n",
    "    if start >= end: # 원소가 1개인 경우 종료(재귀종료용)     \n",
    "        return\n",
    "    pivot = start\n",
    "    left = pivot + 1\n",
    "    right = end\n",
    "    \n",
    "    while left <= right:\n",
    "        while left <= end and array[left] <= array[pivot]: # 피벗보다 작은 데이터를 찾을 때까지 반복\n",
    "            left += 1\n",
    "        while right > start and array[right] >=array[pivot]: # 피벗보다 큰 데이터를 찾을 때 까지 반복\n",
    "            right -= 1\n",
    "        if left > right: # 인덱스가 엇갈렷다면 \n",
    "            array[right], array[pivot] = array[pivot], array[right] # 작은 데이터(엇갈렸기 때문에 right가 작다) 와 피벗 교체\n",
    "        else: # 인덱스가 엇갈리지 않았다면\n",
    "            array[left], array[right] = array[right], array[left]# 작은데이터와 큰데이터 교체\n",
    "    \n",
    "    quick_sort(array, start, right -1)\n",
    "    quick_sort(array, right+1 , end) \n",
    "    # right 는 피벗이 되있기 떄문에 인덱스 포함 하지 않는다.\n",
    "\n",
    "quick_sort(array,0,len(array)-1)\n",
    "print(array)"
   ]
  },
  {
   "cell_type": "code",
   "execution_count": 10,
   "id": "f688b5a7-5d42-47cf-9963-eb57770fd651",
   "metadata": {},
   "outputs": [
    {
     "name": "stdout",
     "output_type": "stream",
     "text": [
      "[0, 1, 2, 3, 4, 5, 6, 7, 8, 9]\n"
     ]
    }
   ],
   "source": [
    "# 퀵정렬 기본 코드(파이썬 효율ver)\n",
    "# 다시보자 잘모르겟다일단\n",
    "array = [7,5,9,0,3,1,6,2,4,8]\n",
    "\n",
    "def quick_sort(array):\n",
    "    if len(array) <= 1: # 원소가 하나이하면 종료(재귀종료용)\n",
    "        return array\n",
    "    \n",
    "    pivot = array[0]\n",
    "    tail = array[1:] # 피벗을 제외한 리스트\n",
    "    \n",
    "    left_side = [x for x in tail if x <= pivot] # 분할된 왼쪽부분\n",
    "    right_side = [x for x in tail if x > pivot] # 분할된 오른쪽부분\n",
    "    \n",
    "    return quick_sort(left_side) + [pivot] + quick_sort(right_side)\n",
    "\n",
    "print(quick_sort(array))"
   ]
  },
  {
   "cell_type": "markdown",
   "id": "24e0d141-69a6-4dc5-9a47-ca63a8d9fe83",
   "metadata": {},
   "source": [
    "## 계수 정렬 count sort\n",
    "- 특정 조건 부합시에만 사용가능 매우빠름\n",
    "    - 데이터 크기 범위가 제한되어 정수형태로 표현할 수 있을 때만 사용(즉 실수, 무한범위는 x)\n",
    "    - 통상적으로 가장큰 데이터와 가장 작은 데이터 차이 1,000,000 이하인 경우\n",
    "    - 공간(메모리)의 비효율성을 초래할수도 \n",
    "        - [0, 9999] 인 경우 10,000개의 빈리스트를 생성해야함 \n",
    "        - 동일한 값 많을수록 효과적(100점 맞은 학생이 여러명)\n",
    "- O(N+K)\n",
    "- 지금까지의 위치 변경 방식이 아님(코드로 보는게 이해 좋다)\n",
    "    - 리스트와 동일한 크기의 별도의 리스트 생성(최소크기~최대크기데이터의 개수 카운트)\n",
    "    - 최소 크기부터 count \n",
    "    - 출력"
   ]
  },
  {
   "cell_type": "code",
   "execution_count": 25,
   "id": "5620e364-f78e-483f-a99b-4de302e44b5f",
   "metadata": {},
   "outputs": [
    {
     "name": "stdout",
     "output_type": "stream",
     "text": [
      "0 0 1 1 2 2 3 4 5 5 6 7 8 9 9 "
     ]
    }
   ],
   "source": [
    "array = [7, 5, 9, 0, 3, 1, 6, 2, 9, 1, 4, 8, 0, 5, 2]\n",
    "\n",
    "cnt_list =[0] * (max(array)+1) # 모든 범위를 포함하는 리스트 선언(0으로 초기화)\n",
    "\n",
    "for i in range(len(array)):\n",
    "    cnt_list[array[i]] += 1 # 각 데이터에 해당하는 인덱스의 값 증가\n",
    "\n",
    "for i in range(len(cnt_list)): # 리스트에 기록된 정렬 정보 확인\n",
    "    for j in range(cnt_list[i]): # 같은 값이 2개 이상일 경우 반복하도록\n",
    "        print(i, end = ' ')"
   ]
  },
  {
   "cell_type": "markdown",
   "id": "bed809cb-6aa4-4456-9b3b-3d506c386efd",
   "metadata": {},
   "source": [
    "# 정렬 문제유형\n",
    "1. 정렬라이브러리로 풀 수 있는 문제 : 단순히 정렬 기법(라이브러리를이용)을 적용할 수 있는가 \n",
    "2. 정렬 알고리즘 원리 물어보는 문제 : 각 정렬별 원리를 알아야 풀 수 있음\n",
    "3. 더 빠른 정렬이 필요한 문제 : 퀵정렬 기반으로 풀 수 없으며. 계수정렬 등 다른 알고리즘 이용 or 구조개선"
   ]
  },
  {
   "cell_type": "markdown",
   "id": "512520c8-39f9-4b82-864a-899d73a1f587",
   "metadata": {},
   "source": [
    "## 위에서 아래로\n",
    "- 1에 해당"
   ]
  },
  {
   "cell_type": "code",
   "execution_count": 11,
   "id": "f3a5c12a-5d81-4f94-ba9b-756c0530d8b8",
   "metadata": {},
   "outputs": [
    {
     "name": "stdin",
     "output_type": "stream",
     "text": [
      " 6\n",
      " 5\n",
      " 2\n",
      " 4\n",
      " 3\n",
      " 2\n",
      " 7\n"
     ]
    },
    {
     "name": "stdout",
     "output_type": "stream",
     "text": [
      "2 2 3 4 5 7\n"
     ]
    }
   ],
   "source": [
    "n = int(input())\n",
    "int_list = []\n",
    "for _ in range(n):\n",
    "    int_list.append(int(input()))\n",
    "    \n",
    "int_list.sort()\n",
    "\n",
    "print(*int_list)"
   ]
  },
  {
   "cell_type": "markdown",
   "id": "74c743dc-7248-4ee8-b7b3-efb4b8e33200",
   "metadata": {},
   "source": [
    "## 성적이 낮은순으로"
   ]
  },
  {
   "cell_type": "code",
   "execution_count": 18,
   "id": "f1f6fad4-9827-4164-974b-9f5c867717d8",
   "metadata": {},
   "outputs": [
    {
     "name": "stdin",
     "output_type": "stream",
     "text": [
      " 3\n",
      " 10 10\n",
      " 5 5\n",
      " 20 20\n"
     ]
    },
    {
     "name": "stdout",
     "output_type": "stream",
     "text": [
      "10\n",
      "20\n",
      "5\n"
     ]
    }
   ],
   "source": [
    "# 내답 \n",
    "# sort의 key에 대한 함수(setting) 만들어서\n",
    "n = int(input())\n",
    "students = []\n",
    "for _ in range(n):\n",
    "    name, score = list(input().split())\n",
    "    students.append([name,int(score)])\n",
    "    \n",
    "def setting(data):\n",
    "    return data[1]\n",
    "    \n",
    "students.sort(key = setting)\n",
    "\n",
    "for item in students:\n",
    "    print(item[0])"
   ]
  },
  {
   "cell_type": "code",
   "execution_count": 22,
   "id": "39b3994d-aa98-4df6-b4db-a7a2af093074",
   "metadata": {},
   "outputs": [
    {
     "name": "stdin",
     "output_type": "stream",
     "text": [
      " 3\n",
      " 10 10\n",
      " 5 5\n",
      " 20 20\n"
     ]
    },
    {
     "name": "stdout",
     "output_type": "stream",
     "text": [
      "5\n",
      "10\n",
      "20\n"
     ]
    }
   ],
   "source": [
    "# 책답\n",
    "# sort의 key를 람다식으로 \n",
    "n = int(input())\n",
    "students = []\n",
    "for _ in range(n):\n",
    "    name, score = list(input().split())\n",
    "    students.append([name,int(score)])\n",
    "\n",
    "students.sort(key = lambda x : x[1]) # 람다로\n",
    "\n",
    "for item in students:\n",
    "    print(item[0])"
   ]
  },
  {
   "cell_type": "markdown",
   "id": "5ad27daa-4577-4f8f-859b-51fb0d3c3504",
   "metadata": {},
   "source": [
    "## 두 배열의 원소 교체"
   ]
  },
  {
   "cell_type": "code",
   "execution_count": 24,
   "id": "314e61c0-8af4-4830-b729-157f3a1c6615",
   "metadata": {},
   "outputs": [
    {
     "name": "stdin",
     "output_type": "stream",
     "text": [
      " 5 3\n",
      " 1 2 5 4 3\n",
      " 5 5 6 6 5\n"
     ]
    },
    {
     "name": "stdout",
     "output_type": "stream",
     "text": [
      "26\n"
     ]
    }
   ],
   "source": [
    "n, k = map(int, input().split())\n",
    "a_lst = list(map(int,input().split()))\n",
    "b_lst = list(map(int,input().split()))\n",
    "\n",
    "a_lst.sort()\n",
    "b_lst.sort(reverse = True)\n",
    "\n",
    "for i in range(k):\n",
    "    if a_lst[i] < b_lst[i]:\n",
    "        a_lst[i],b_lst[i] = b_lst[i], a_lst[i]\n",
    "    \n",
    "print(sum(a_lst))"
   ]
  }
 ],
 "metadata": {
  "kernelspec": {
   "display_name": "Python 3",
   "language": "python",
   "name": "python3"
  },
  "language_info": {
   "codemirror_mode": {
    "name": "ipython",
    "version": 3
   },
   "file_extension": ".py",
   "mimetype": "text/x-python",
   "name": "python",
   "nbconvert_exporter": "python",
   "pygments_lexer": "ipython3",
   "version": "3.8.8"
  },
  "widgets": {
   "application/vnd.jupyter.widget-state+json": {
    "state": {},
    "version_major": 2,
    "version_minor": 0
   }
  }
 },
 "nbformat": 4,
 "nbformat_minor": 5
}

{
 "cells": [
  {
   "cell_type": "markdown",
   "id": "1b98dd51-a8a3-469a-b44f-8b99c3e24a8d",
   "metadata": {},
   "source": [
    "# 이진탐색 Binary Search\n",
    "- 사용법\n",
    "    - 3개의 변수 : 시작점, 중간점, 끝점\n",
    "    - 찾으려는 데이터와 중간점 위치에 있는 데이터를 반복적으로 비교하여 찾음\n",
    "    \n",
    "- O(logN)\n",
    "- 코테 단골이니 이정도 코드는 꼭 외워버리자"
   ]
  },
  {
   "cell_type": "code",
   "execution_count": 19,
   "id": "14c369af-e22b-41b9-8ea0-a0fb2420c116",
   "metadata": {},
   "outputs": [
    {
     "name": "stdout",
     "output_type": "stream",
     "text": [
      "4\n"
     ]
    }
   ],
   "source": [
    "# 이진탐색 (재귀ver)\n",
    "\n",
    "def binary_search(array, target, start, end):\n",
    "    if start > end: # 못찾을 시 종료조건 (재귀)\n",
    "        return None    \n",
    "    \n",
    "    mid = (start + end)//2\n",
    "    if array[mid] == target: # 타겟값 찾으면\n",
    "        return mid\n",
    "    elif array[mid] > target: # 타켓값 < 미드면\n",
    "        return binary_search(array, target, start, mid-1)\n",
    "    elif array[mid] < target: # 타켓값 > 미드면\n",
    "        return binary_search(array, target, mid + 1, end)\n",
    "    \n",
    "array = [0,1,2,3,4,5,6,7,8,9,10] # 이진탐색 적용시 정렬된 리스트로\n",
    "print(binary_search(array, 4, 0, len(array)))\n",
    "        "
   ]
  },
  {
   "cell_type": "code",
   "execution_count": 20,
   "id": "d7acba68-2384-43fa-9d0e-c1e4d0e400db",
   "metadata": {},
   "outputs": [
    {
     "name": "stdout",
     "output_type": "stream",
     "text": [
      "4\n"
     ]
    }
   ],
   "source": [
    "# 이진탐색 (반복문 ver)\n",
    "\n",
    "def binary_search(array, target, start, end):\n",
    "    while start <= end:# 못찾을 시 종료조건 (위에 if문 대신)\n",
    "        mid = (start + end)//2\n",
    "        if array[mid] == target:# 타겟값 찾으면\n",
    "            return mid\n",
    "        elif array[mid] > target:# 타켓값 < 미드면\n",
    "            end = mid-1\n",
    "        elif array[mid] < target:# 타켓값 > 미드면\n",
    "            start = mid+1\n",
    "    return None\n",
    "\n",
    "array = [0,1,2,3,4,5,6,7,8,9,10] # 이진탐색 적용시 정렬된 리스트로\n",
    "print(binary_search(array, 4, 0, len(array)))"
   ]
  },
  {
   "cell_type": "code",
   "execution_count": 22,
   "id": "96730a06-cfd5-4812-90cd-7f05f0773aaf",
   "metadata": {},
   "outputs": [
    {
     "name": "stdout",
     "output_type": "stream",
     "text": [
      "\n",
      "\n"
     ]
    }
   ],
   "source": [
    "# quick - input \n",
    "\n",
    "import sys\n",
    "\n",
    "n = sys.stdin.readline().rstrip()# .rstrip()은 줄바꿈 공백문제 제거\n",
    "a,b,c = map(int,sys.stdin.readline().split())"
   ]
  },
  {
   "cell_type": "markdown",
   "id": "1c6392d1-0330-4c81-a995-5f5e7ebc09cd",
   "metadata": {},
   "source": [
    "## 부품 찾기"
   ]
  },
  {
   "cell_type": "code",
   "execution_count": 23,
   "id": "39f6db26-ccc7-472b-8af3-8b2fab3d8689",
   "metadata": {},
   "outputs": [
    {
     "name": "stdin",
     "output_type": "stream",
     "text": [
      " 5\n",
      " 8 3 7 9 2\n",
      " 3\n",
      " 5 7 9\n"
     ]
    },
    {
     "name": "stdout",
     "output_type": "stream",
     "text": [
      "no yes yes "
     ]
    }
   ],
   "source": [
    "# 내답1\n",
    "# 파이썬 기본함수로\n",
    "n = int(input())\n",
    "sup_list = list(map(int,input().split()))\n",
    "# sup_list = set(sup_list)로 하면 더 효율적임(중복제거)\n",
    "\n",
    "m = int(input())\n",
    "req_list = list(map(int,input().split()))\n",
    "\n",
    "for req_item in req_list:\n",
    "    if req_item in sup_list:\n",
    "        print('yes', end = ' ')\n",
    "    else:\n",
    "        print('no', end = ' ')"
   ]
  },
  {
   "cell_type": "code",
   "execution_count": 31,
   "id": "48fd610e-8e87-432c-baca-0b773d734d7b",
   "metadata": {},
   "outputs": [
    {
     "name": "stdin",
     "output_type": "stream",
     "text": [
      " 5\n",
      " 8 3 7 9 2\n",
      " 3\n",
      " 5 7 9\n"
     ]
    },
    {
     "name": "stdout",
     "output_type": "stream",
     "text": [
      "no no no "
     ]
    }
   ],
   "source": [
    "# 내답2\n",
    "# 이진탐색 적용\n",
    "n = int(input())\n",
    "sup_list = list(map(int,input().split()))\n",
    "m = int(input())\n",
    "req_list = list(map(int,input().split()))\n",
    "\n",
    "def binary_search(sup_list,target,start,end):\n",
    "    sup_list.sort() # 이진탐색은 정렬이 되야 가능하다\n",
    "    while start <= end:\n",
    "        mid = (start+end)//2\n",
    "        if target == sup_list[mid]: # not target == mid (인덱스 비교 x)\n",
    "            return mid\n",
    "        elif target > sup_list[mid]:\n",
    "            start = mid + 1\n",
    "        elif target < sup_list[mid]:\n",
    "            end = mid - 1\n",
    "\n",
    "for req_item in req_list:\n",
    "    if binary_search(sup_list,req_item,0,len(sup_list)-1):\n",
    "        print('yes', end = ' ')\n",
    "    else:\n",
    "        print('no', end = ' ')"
   ]
  },
  {
   "cell_type": "code",
   "execution_count": 35,
   "id": "e9a52d54-5575-4e07-920b-a08135cc0d89",
   "metadata": {},
   "outputs": [
    {
     "name": "stdout",
     "output_type": "stream",
     "text": [
      "no yes yes "
     ]
    }
   ],
   "source": [
    "# 책답 == 내답2"
   ]
  },
  {
   "cell_type": "code",
   "execution_count": 38,
   "id": "c90a8aa3-e853-474d-80d5-afcba8072dfa",
   "metadata": {},
   "outputs": [
    {
     "name": "stdin",
     "output_type": "stream",
     "text": [
      " 5\n",
      " 8 3 5 7 9\n",
      " 3\n",
      " 5 7 9\n"
     ]
    },
    {
     "name": "stdout",
     "output_type": "stream",
     "text": [
      "yes yes yes "
     ]
    }
   ],
   "source": [
    "# 책답2 (계수정렬)\n",
    "n = int(input())\n",
    "sup_list = [0]*1000001 # 입력조건 1<데이버범위<1,000,000 \n",
    "for item_index in list(map(int, input().split())):\n",
    "    sup_list[item_index] += 1\n",
    "\n",
    "m = int(input())\n",
    "req_list = list(map(int,input().split()))\n",
    "\n",
    "for req_item in req_list:\n",
    "    if sup_list[req_item]:\n",
    "        print('yes', end = ' ')\n",
    "    else:\n",
    "        print('no', end = ' ')"
   ]
  },
  {
   "cell_type": "markdown",
   "id": "7fa83c28-b6e9-4c92-bb42-4c1b61baeceb",
   "metadata": {},
   "source": [
    "## 떡볶이 떡 만들기\n",
    "n,m 의 범위가 10억이라서 순차탐색(원시적)보단 이진탐색이 당연하다\n",
    "- 이진탐색시(logN) 31번안에 값을 찾을 수 있다.   \n",
    "떡의 길이를 구하는 것과 이진 탐색시"
   ]
  },
  {
   "cell_type": "code",
   "execution_count": 39,
   "id": "b7d67fc6-acd8-44b7-b1a6-c0f25327f45e",
   "metadata": {},
   "outputs": [
    {
     "name": "stdin",
     "output_type": "stream",
     "text": [
      " 4 6\n",
      " 19 15 10 17\n"
     ]
    },
    {
     "name": "stdout",
     "output_type": "stream",
     "text": [
      "15\n"
     ]
    }
   ],
   "source": [
    "# 내답\n",
    "# 일단 원시적으로 (순차탐색) \n",
    "# m 조건범위가 20억 까지이기 때문에 시간초과가 날것이다.\n",
    "n, m = map(int,input().split())\n",
    "dduks = list(map(int,input().split()))\n",
    "\n",
    "max_dduk_h = max(dduks)\n",
    "\n",
    "for h in range(max_dduk_h,0,-1):\n",
    "    left_dduk = 0\n",
    "    for dduk in dduks:\n",
    "        left_h = dduk - h\n",
    "        if left_h > 0:\n",
    "            left_dduk += left_h\n",
    "    if left_dduk == m:\n",
    "        print(h)\n",
    "        break"
   ]
  },
  {
   "cell_type": "code",
   "execution_count": null,
   "id": "3391dc4d-1ddb-4aa7-8d73-3c58be757bfc",
   "metadata": {},
   "outputs": [
    {
     "name": "stdin",
     "output_type": "stream",
     "text": [
      " 4 6\n",
      " 19 10 15 17\n"
     ]
    },
    {
     "name": "stdout",
     "output_type": "stream",
     "text": [
      "15\n"
     ]
    }
   ],
   "source": [
    "# 내답2 & 책답\n",
    "# 이진탑색\n",
    "n, m = map(int,input().split())\n",
    "dduks = list(map(int,input().split()))\n",
    "        \n",
    "#search_array = [x for x in range(2000000001)] # 이거는 메모리 낭비지 바보야 걍 max(dduks) 쓰셈\n",
    "\n",
    "start = 0\n",
    "end = max(dduks)\n",
    "\n",
    "while start <= end:\n",
    "    h = (start+end)//2 # h == mid\n",
    "    \n",
    "    #남은 떡 길이 구하기 part \n",
    "    left_dduk_h = 0\n",
    "    for dduk in dduks: \n",
    "        if dduk - h > 0:\n",
    "            left_dduk_h += dduk - h\n",
    "            \n",
    "    # 이진 탐색 part        \n",
    "    if left_dduk_h == m: # 남은떡 길이가 손님요청과 같은 때\n",
    "        print(h)\n",
    "        break\n",
    "    elif left_dduk_h > m:# 자른떡이 더 많으면 h 늘려야함\n",
    "        start = h + 1\n",
    "    elif left_dduk_h < m: # 자른떡이 더 적으면 h 줄여야함\n",
    "        end = h - 1\n",
    "       "
   ]
  }
 ],
 "metadata": {
  "kernelspec": {
   "display_name": "Python 3",
   "language": "python",
   "name": "python3"
  },
  "language_info": {
   "codemirror_mode": {
    "name": "ipython",
    "version": 3
   },
   "file_extension": ".py",
   "mimetype": "text/x-python",
   "name": "python",
   "nbconvert_exporter": "python",
   "pygments_lexer": "ipython3",
   "version": "3.8.8"
  },
  "widgets": {
   "application/vnd.jupyter.widget-state+json": {
    "state": {},
    "version_major": 2,
    "version_minor": 0
   }
  }
 },
 "nbformat": 4,
 "nbformat_minor": 5
}

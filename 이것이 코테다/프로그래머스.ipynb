{
 "cells": [
  {
   "cell_type": "markdown",
   "id": "653e96b0-e2ff-47b1-9120-c2daa7cf4884",
   "metadata": {},
   "source": [
    "# 체육복\n",
    "- level 1"
   ]
  },
  {
   "cell_type": "code",
   "execution_count": null,
   "id": "900bc1f1-6440-408f-8059-48a4a9e8780c",
   "metadata": {},
   "outputs": [],
   "source": [
    "def solution(n, lost, reserve):\n",
    "    answer = n\n",
    "    reserve_set = set(reserve) - set(lost)  # 변수를 다르게 해야지 중복된것들이 각각 빠지지 바보야\n",
    "    lost_set = set(lost) - set(reserve)\n",
    "    \n",
    "            \n",
    "    for r in reserve_set:\n",
    "        if r-1 in lost_set: # 왼쪽부터 지우는게 유리\n",
    "            lost_set.remove(r-1)\n",
    "        elif r+1 in lost_set:\n",
    "            lost_set.remove(r+1)\n",
    "\n",
    "    return n - len(lost_set)\n"
   ]
  }
 ],
 "metadata": {
  "kernelspec": {
   "display_name": "Python 3",
   "language": "python",
   "name": "python3"
  },
  "language_info": {
   "codemirror_mode": {
    "name": "ipython",
    "version": 3
   },
   "file_extension": ".py",
   "mimetype": "text/x-python",
   "name": "python",
   "nbconvert_exporter": "python",
   "pygments_lexer": "ipython3",
   "version": "3.8.8"
  },
  "widgets": {
   "application/vnd.jupyter.widget-state+json": {
    "state": {},
    "version_major": 2,
    "version_minor": 0
   }
  }
 },
 "nbformat": 4,
 "nbformat_minor": 5
}

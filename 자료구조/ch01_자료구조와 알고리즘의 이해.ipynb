{
 "cells": [
  {
   "cell_type": "code",
   "execution_count": 7,
   "metadata": {},
   "outputs": [
    {
     "name": "stdout",
     "output_type": "stream",
     "text": [
      "4번째 인덱스에 존재합니다.\n"
     ]
    }
   ],
   "source": [
    "# 순차탐색\n",
    "def Lsearch(lst, lst_len, target):\n",
    "    for i in range(lst_len):\n",
    "        if lst[i]==target:\n",
    "            return i\n",
    "    return -1\n",
    "\n",
    "lst=list(range(1,11))\n",
    "search=Lsearch(lst,len(lst),4)    \n",
    "\n",
    "if search == -1 :\n",
    "    print('탐색대상이 없습니다.')\n",
    "else :\n",
    "    print('{0}번째 인덱스에 존재합니다.'.format(search+1))"
   ]
  },
  {
   "cell_type": "code",
   "execution_count": 39,
   "metadata": {},
   "outputs": [
    {
     "name": "stdout",
     "output_type": "stream",
     "text": [
      "1번째 인덱스에 존재합니다.\n",
      "탐색횟수: 2\n"
     ]
    },
    {
     "data": {
      "text/plain": [
       "(0, 2)"
      ]
     },
     "execution_count": 39,
     "metadata": {},
     "output_type": "execute_result"
    }
   ],
   "source": [
    "#이진탐색\n",
    "def Bsearch(lst,lst_len,target):\n",
    "    first=0\n",
    "    last=lst_len-1\n",
    "    mid=0\n",
    "    opCount=0\n",
    "    \n",
    "    while first<=last:\n",
    "        mid=(first+last)//2 #몫은 버린다\n",
    "        if target==lst[mid]:\n",
    "            return mid,opCount\n",
    "        else:\n",
    "            if target > lst[mid]:\n",
    "                first=mid+1     #탐색범위를 줄이기 위함 (mid는 이미 탐색했으니)\n",
    "            elif target < lst[mid]:\n",
    "                last=mid-1\n",
    "        opCount+=1\n",
    "    return -1,opCount\n",
    "\n",
    "lst=list(range(1,11))\n",
    "search=Bsearch(lst,len(lst),1)    \n",
    "\n",
    "if search == -1 :\n",
    "    print('탐색대상이 없습니다.')\n",
    "else :\n",
    "    print('{0}번째 인덱스에 존재합니다.'.format(search[0]+1))\n",
    "print('탐색횟수:',search[1])"
   ]
  },
  {
   "cell_type": "code",
   "execution_count": 40,
   "metadata": {},
   "outputs": [
    {
     "data": {
      "text/plain": [
       "tuple"
      ]
     },
     "execution_count": 40,
     "metadata": {},
     "output_type": "execute_result"
    }
   ],
   "source": []
  },
  {
   "cell_type": "code",
   "execution_count": null,
   "metadata": {},
   "outputs": [],
   "source": []
  }
 ],
 "metadata": {
  "kernelspec": {
   "display_name": "Python [conda env:Anaconda3]",
   "language": "python",
   "name": "conda-env-Anaconda3-py"
  },
  "language_info": {
   "codemirror_mode": {
    "name": "ipython",
    "version": 3
   },
   "file_extension": ".py",
   "mimetype": "text/x-python",
   "name": "python",
   "nbconvert_exporter": "python",
   "pygments_lexer": "ipython3",
   "version": "3.6.5"
  }
 },
 "nbformat": 4,
 "nbformat_minor": 2
}

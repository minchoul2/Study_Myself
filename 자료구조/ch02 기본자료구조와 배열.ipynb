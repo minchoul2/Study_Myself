{
 "cells": [
  {
   "cell_type": "markdown",
   "metadata": {},
   "source": [
    "## 자료구조와 배열 몰랐던 스킬"
   ]
  },
  {
   "cell_type": "code",
   "execution_count": 1,
   "metadata": {},
   "outputs": [
    {
     "data": {
      "text/plain": [
       "[None, None, None, None, None]"
      ]
     },
     "execution_count": 1,
     "metadata": {},
     "output_type": "execute_result"
    }
   ],
   "source": [
    "# 원소값 없는 리스트 생성\n",
    "lst1 = [None] * 5\n",
    "lst1"
   ]
  },
  {
   "cell_type": "code",
   "execution_count": 4,
   "metadata": {},
   "outputs": [
    {
     "name": "stdout",
     "output_type": "stream",
     "text": [
      "(1,) (1,) 1 (1, 2, 3, 4)\n"
     ]
    }
   ],
   "source": [
    "# 튜플의 원소가 1개일 경우 뒤에 쉼표!!\n",
    "tup1 = (1,)\n",
    "tup2 = 1, # 쉼표를 붙여서 원소1개인 튜플이됨\n",
    "tup3 = 1 # 단순 int형 변수가됨\n",
    "tup4 = 1,2,3,4, # 여러개 인자 일때뒤 끝에 쉼표붙이면 튜플!\n",
    "print(tup1,tup2,tup3,tup4)"
   ]
  },
  {
   "cell_type": "code",
   "execution_count": 6,
   "metadata": {},
   "outputs": [
    {
     "name": "stdout",
     "output_type": "stream",
     "text": [
      "False\n"
     ]
    }
   ],
   "source": [
    "# 빈 배열 판단\n",
    "x=[]\n",
    "if x: # x가 안비었으면 True\n",
    "    print(True)  \n",
    "else:\n",
    "    print(False)"
   ]
  },
  {
   "cell_type": "code",
   "execution_count": 25,
   "metadata": {},
   "outputs": [
    {
     "name": "stdout",
     "output_type": "stream",
     "text": [
      "True\n",
      "True\n",
      "False\n",
      "True\n"
     ]
    }
   ],
   "source": [
    "# 배열의 대소 판단 \n",
    "# 첫번째 원소부터 차례로 판단 (사전순)\n",
    "print([1,2,3]<[2,3,4])\n",
    "print([1,2,3]<[1,2,3,4])\n",
    "print([1,2,3]<[0,1,2,3,4])\n",
    "print([1,2,3]<[1,3,3]<[2,2,3]<[2,3,3]) # and 결합 [a]<[b] and [b]<[c] and [c]<[d]|"
   ]
  },
  {
   "cell_type": "code",
   "execution_count": 20,
   "metadata": {},
   "outputs": [
    {
     "name": "stdout",
     "output_type": "stream",
     "text": [
      "2217411449544 (1, 2, 3, 4)\n",
      "2217409995264 (1, 2, 3, 4, 5)\n"
     ]
    }
   ],
   "source": [
    "# 튜플은 수정시 새로운 튜플이 생성됨\n",
    "tup1 =1,2,3,4,\n",
    "print(id(tup1),tup1)\n",
    "tup1+=5,\n",
    "print(id(tup1),tup1)"
   ]
  },
  {
   "cell_type": "markdown",
   "metadata": {},
   "source": [
    "## 배열 실습"
   ]
  },
  {
   "cell_type": "code",
   "execution_count": 31,
   "metadata": {},
   "outputs": [
    {
     "name": "stdout",
     "output_type": "stream",
     "text": [
      "최대값 : 6\n"
     ]
    }
   ],
   "source": [
    "# 2-2 최댓값 구하기 by 스캔\n",
    "lst=[1,2,3,4,5,6]\n",
    "maximum=lst[0]\n",
    "\n",
    "for i in range(len(lst)): # 하나하나 비교해가는 것 = 스캔\n",
    "    if maximum<lst[i]:\n",
    "        maximum = lst[i]\n",
    "\n",
    "print(f'최대값 : {maximum}')"
   ]
  },
  {
   "cell_type": "code",
   "execution_count": 39,
   "metadata": {},
   "outputs": [
    {
     "name": "stdout",
     "output_type": "stream",
     "text": [
      "[17, 7, 13, 6, 17, 16, 4, 18, 6, 12]\n",
      "최대값 : 18\n"
     ]
    }
   ],
   "source": [
    "# 2-2 최댓값 구하기 by 프로그래밍시각\n",
    "# 함수의 입출력 어노테이션 but 강제성은 없음\n",
    "# Sequence : 시퀸스 자료형 / Any : 아무 자료형\n",
    "from typing import Sequence, Any \n",
    "import random\n",
    "\n",
    "def max_of(a:Sequence)->Any: # 매게변수는 시퀸스로 출력은 아무형태로 \n",
    "    maximum = a[0]\n",
    "    for i in range(len(a)):\n",
    "        if maximum < a[i]:\n",
    "            maximum = a[i]\n",
    "    return maximum\n",
    "\n",
    "if __name__ == '__main__': \n",
    "    lst = [random.randint(1,20) for i in range(10) ]\n",
    "    print(lst)\n",
    "    print(f'최대값 : {max_of(lst)}')\n",
    "    "
   ]
  },
  {
   "cell_type": "code",
   "execution_count": 43,
   "metadata": {},
   "outputs": [
    {
     "name": "stdout",
     "output_type": "stream",
     "text": [
      "0번째 값 : 1\n",
      "1번째 값 : 2\n",
      "2번째 값 : 3\n",
      "3번째 값 : 4\n",
      "4번째 값 : 5\n",
      "1부터시작\n",
      "1번째 값 : 1\n",
      "2번째 값 : 2\n",
      "3번째 값 : 3\n",
      "4번째 값 : 4\n",
      "5번째 값 : 5\n"
     ]
    }
   ],
   "source": [
    "# enumerate 사용 : (인덱스,값) 으로 반환\n",
    "x = [1,2,3,4,5]\n",
    "for i,val in enumerate(x):\n",
    "    print(f'{i}번째 값 : {val}')\n",
    "\n",
    "print(\"1부터시작\")\n",
    "for i,val in enumerate(x,1): # 반환되는 index값을 1부터 시작\n",
    "    print(f'{i}번째 값 : {val}')"
   ]
  },
  {
   "cell_type": "code",
   "execution_count": 9,
   "metadata": {},
   "outputs": [
    {
     "name": "stdout",
     "output_type": "stream",
     "text": [
      "[1, 2, 3, 4, 5, 7, 6]\n",
      "[6, 7, 5, 4, 3, 2, 1]\n",
      "[6, 7, 5, 4, 3, 2, 1]\n",
      "[1, 2, 3, 4, 5, 7, 6]\n",
      "[6, 7, 5, 4, 3, 2, 1]\n"
     ]
    }
   ],
   "source": [
    "# 배열 원소를 역순으로\n",
    "lst = [1,2,3,4,5,7,6]\n",
    "print(lst)\n",
    "\n",
    "lst1 = lst[::-1] # 방법 1 : 슬라이싱 활용\n",
    "print(lst1)\n",
    "\n",
    "def rev(lst):  # 방법 2 : 역순으로 하는 알고리즘\n",
    "    n=len(lst)\n",
    "    for i in range(n//2):\n",
    "        lst[i],lst[n-i-1] = lst[n-i-1], lst[i]\n",
    "rev(lst)\n",
    "print(lst)\n",
    "\n",
    "lst.reverse() #방법 3 : list.reverse() \n",
    "print(lst)\n",
    "\n",
    "lst3 = list(reversed(lst)) #방법 4 : reversed(list) : iterator반환-> list로 다시 묶음\n",
    "print(lst3)"
   ]
  },
  {
   "cell_type": "markdown",
   "metadata": {},
   "source": [
    "## n진수 변환"
   ]
  },
  {
   "cell_type": "code",
   "execution_count": 14,
   "metadata": {},
   "outputs": [
    {
     "name": "stdout",
     "output_type": "stream",
     "text": [
      "29 | 2 --- 1\n",
      "14 | 2 --- 0\n",
      "7 | 2 --- 1\n",
      "3 | 2 --- 1\n",
      "1 | 2 --- 1\n",
      "11101\n"
     ]
    }
   ],
   "source": [
    "# 10진수 ->2~36진수 변환\n",
    "def card_conv(x:int, r:int) ->str:\n",
    "    d=''\n",
    "    dchar = '0123456789ABCDEFGHIJKLMNOPQRSTUVWXYZ'\n",
    "    \n",
    "    \n",
    "    while x>0:\n",
    "        d += dchar[x%r] # 나머지를 문자열에 추가\n",
    "        print(f'{x} | {r} --- {d[-1]}')\n",
    "        x //=r # 몫만남기기\n",
    "    \n",
    "    return d[::-1] #문자열d를 역순으로\n",
    "\n",
    "n=2\n",
    "x=29\n",
    "print(card_conv(x,n))"
   ]
  },
  {
   "cell_type": "markdown",
   "metadata": {},
   "source": [
    "## 함수사이에 인수 주고받기\n",
    "#### 파이썬은 객체참조에 의한 전달(call by object referenc)\n",
    "다른 언어는 값에의한호출(call by value) / 참조에 의한 호출(call by reference)  \n",
    "파이썬은 인수의 타입에 따라서 구분됨\n",
    "  \n",
    "__인수가 immutable__(int, tuple, ..)  \n",
    "- 함수안에서 매개변수를 변경하면 다른객체 생성 / 실제 인수에는 영향 x    \n",
    " \n",
    "__인수가 mutable__  (list, dict, ...)\n",
    "- 함수안에서 매개변수를 변경하면 실제인수 값이 변경"
   ]
  },
  {
   "cell_type": "markdown",
   "metadata": {},
   "source": [
    "## 소수(prime number) 나열하기\n",
    "- 2~(n-1)까지 어떤정수로도 나누어 떨어지지 않는다\n",
    "- 2~(n-1)까지 어떤 소수로도 나누어 떨어지지 않는다\n",
    "- n의 제곱근 이하의 어떤 소수로도 나누어 떨어지지 않는다"
   ]
  },
  {
   "cell_type": "code",
   "execution_count": 36,
   "metadata": {},
   "outputs": [
    {
     "name": "stdout",
     "output_type": "stream",
     "text": [
      "2 3 5 7 11 13 17 19 23 29 31 37 41 43 47 53 59 61 67 71 73 79 83 89 97 \n",
      "1132\n"
     ]
    }
   ],
   "source": [
    "# 1000이하의 소수 출력1\n",
    "# 2~(n-1)까지 어떤정수로도 나누어 떨어지지 않는다\n",
    "cnt=0\n",
    "\n",
    "for n in range(2,100):\n",
    "    for j in range(2,n):\n",
    "        cnt+=1\n",
    "        if n % j == 0:\n",
    "            break\n",
    "    else:\n",
    "        print(n,end =' ')\n",
    "\n",
    "print()\n",
    "print(cnt)"
   ]
  },
  {
   "cell_type": "code",
   "execution_count": 37,
   "metadata": {},
   "outputs": [
    {
     "name": "stdout",
     "output_type": "stream",
     "text": [
      "3 5 7 11 13 17 19 23 29 31 37 41 43 47 53 59 61 67 71 73 79 83 89 97 \n",
      "411\n"
     ]
    }
   ],
   "source": [
    "# 1000이하의 소수 출력2\n",
    "# 2~(n-1)까지 어떤 소수로도 나누어 떨어지지 않는다\n",
    "\n",
    "cnt=0\n",
    "prime = [2] # 소수 초기값 = 2\n",
    "\n",
    "for n in range(2,100):\n",
    "    for i in prime:\n",
    "        cnt+=1\n",
    "        if n % i == 0:\n",
    "            break\n",
    "    else:\n",
    "        print(n,end =' ')\n",
    "        prime.append(n)\n",
    "print()\n",
    "print(cnt)"
   ]
  },
  {
   "cell_type": "code",
   "execution_count": 42,
   "metadata": {},
   "outputs": [
    {
     "name": "stdout",
     "output_type": "stream",
     "text": [
      "[2, 3, 5, 7, 11, 13, 17, 19, 23, 29, 31, 37, 41, 43, 47, 53, 59, 61, 67, 71, 73, 79, 83, 89, 97]\n",
      "168\n"
     ]
    }
   ],
   "source": [
    "# 1000이하의 소수 출력3\n",
    "# n의 제곱근 이하의 어떤 소수로도 나누어 떨어지지 않는다\n",
    "cnt=0\n",
    "prime=[2,3]\n",
    "for n in range(5,100,2):\n",
    "    i=1\n",
    "    while prime[i]*prime[i]<=n:\n",
    "        cnt+=2\n",
    "        if n%prime[i]==0:\n",
    "            break\n",
    "        i+=1\n",
    "    else:\n",
    "        prime.append(n)\n",
    "print(prime)\n",
    "print(cnt)"
   ]
  },
  {
   "cell_type": "markdown",
   "metadata": {},
   "source": [
    "## 리스트의 원소의 복사\n",
    "- 얕은복사(lst.copy()) : 객체의 참조값만 복사하여 원본이 바뀌면 복사본도 바뀜\n",
    "- 깊은복사(lst.deepcopy()) : 객체자체를 복사하여 원본이 바뀌어도 복사본은 바뀌지 않음"
   ]
  },
  {
   "cell_type": "code",
   "execution_count": null,
   "metadata": {},
   "outputs": [],
   "source": []
  }
 ],
 "metadata": {
  "kernelspec": {
   "display_name": "Python [conda env:Anaconda3]",
   "language": "python",
   "name": "conda-env-Anaconda3-py"
  },
  "language_info": {
   "codemirror_mode": {
    "name": "ipython",
    "version": 3
   },
   "file_extension": ".py",
   "mimetype": "text/x-python",
   "name": "python",
   "nbconvert_exporter": "python",
   "pygments_lexer": "ipython3",
   "version": "3.6.5"
  }
 },
 "nbformat": 4,
 "nbformat_minor": 2
}

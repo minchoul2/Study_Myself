{
 "cells": [
  {
   "cell_type": "markdown",
   "metadata": {},
   "source": [
    "## 선형검색"
   ]
  },
  {
   "cell_type": "code",
   "execution_count": 2,
   "metadata": {},
   "outputs": [
    {
     "data": {
      "text/plain": [
       "-1"
      ]
     },
     "execution_count": 2,
     "metadata": {},
     "output_type": "execute_result"
    }
   ],
   "source": [
    "#r기본 선형검색\n",
    "def seq_search(lst, key):\n",
    "    for i in range(len(lst)):\n",
    "        if lst[i] == key:\n",
    "            return i\n",
    "    else:\n",
    "        return -1\n",
    "\n",
    "t = [5,4,8,1,2,3]\n",
    "seq_search(t,1)"
   ]
  },
  {
   "cell_type": "code",
   "execution_count": 10,
   "metadata": {},
   "outputs": [
    {
     "name": "stdout",
     "output_type": "stream",
     "text": [
      "[5, 4, 8, 1, 2, 3, 0]\n",
      "0123456"
     ]
    },
    {
     "data": {
      "text/plain": [
       "-1"
      ]
     },
     "execution_count": 10,
     "metadata": {},
     "output_type": "execute_result"
    }
   ],
   "source": [
    "# 배율보초법 : 배열 끝에 찾고자하는 key를 삽입 후 while문을 통한 탐색 \n",
    "\n",
    "import copy\n",
    "\n",
    "def seq_search(lst,key):\n",
    "    a=copy.deepcopy(lst)\n",
    "    a.append(key)\n",
    "\n",
    "    i=0\n",
    "    while True:\n",
    "        if a[i] == key:\n",
    "            break\n",
    "        i+=1\n",
    "\n",
    "    return -1 if i ==len(lst) else i\n",
    "\n",
    "seq_search(t,0)"
   ]
  },
  {
   "cell_type": "markdown",
   "metadata": {},
   "source": [
    "## 이진검색 \n",
    "- 데이터가 정렬되어 있어야 사용가능"
   ]
  },
  {
   "cell_type": "code",
   "execution_count": 28,
   "metadata": {},
   "outputs": [
    {
     "data": {
      "text/plain": [
       "-1"
      ]
     },
     "execution_count": 28,
     "metadata": {},
     "output_type": "execute_result"
    }
   ],
   "source": [
    "def bin_search(seq, key):\n",
    "    pl = 0 \n",
    "    pr = len(seq)-1\n",
    "    \n",
    "    while True:\n",
    "        pc = (pl+pr)//2\n",
    "        if seq[pc] == key :\n",
    "            return pc\n",
    "        elif seq[pc] > key:\n",
    "            pr = pc-1\n",
    "        elif seq[pc] < key:\n",
    "            pl = pc+1\n",
    "        \n",
    "        if pl>pr :\n",
    "            return -1\n",
    "\n",
    "a=[1,2,3,4,5,6,7,8,9]\n",
    "bin_search(a,0)\n",
    "            "
   ]
  },
  {
   "cell_type": "code",
   "execution_count": 31,
   "metadata": {},
   "outputs": [
    {
     "name": "stdout",
     "output_type": "stream",
     "text": [
      "   |   0   1   2   3   4   5   6   7   8   9  10\n",
      "---+----------------------------------------------\n",
      " <-                    +                  ->\n",
      "  5|   1   2   3   4   5   6   7   8   9  10  11\n",
      "   |\n",
      "                         <-        +      ->\n",
      "  8|   1   2   3   4   5   6   7   8   9  10  11\n",
      "   |\n",
      "                         <+  ->\n",
      "  6|   1   2   3   4   5   6   7   8   9  10  11\n",
      "   |\n",
      "                             <+->\n",
      "  7|   1   2   3   4   5   6   7   8   9  10  11\n",
      "   |\n"
     ]
    },
    {
     "data": {
      "text/plain": [
       "7"
      ]
     },
     "execution_count": 31,
     "metadata": {},
     "output_type": "execute_result"
    }
   ],
   "source": [
    "# 실행과정 추가\n",
    "def bin_search(seq, key):\n",
    "    pl = 0 \n",
    "    pr = len(seq)-1\n",
    "    \n",
    "    print('   |',end = '')\n",
    "    for i in range(len(a)):\n",
    "        print(f'{i:4}', end = '')\n",
    "    print()\n",
    "    print('---+'+ (4*len(seq)+2)*'-')\n",
    "    \n",
    "   \n",
    "    \n",
    "    while True:\n",
    "        pc = (pl+pr)//2\n",
    "        \n",
    "        if pl != pc :  # pl원소위에 <- 출력\n",
    "            print((pl * 4 + 1)*' '+'<-' +((pc-pl)*4) * ' ' + '+',end ='')\n",
    "        else:\n",
    "            print((pc*4+1)*' '+'<+',end ='')\n",
    "        if pc != pr:   # pr원소위에 -> 출력\n",
    "            print(((pr-pc)*4-2)*' '+'->')\n",
    "        else:\n",
    "            print('->')\n",
    "        print(f'{pc:3}|',end='')\n",
    "        for i in range(len(seq)):\n",
    "            print(f'{seq[i]:4}',end='')\n",
    "        print('\\n   |')\n",
    "        \n",
    "        \n",
    "        if seq[pc] == key :\n",
    "            return pc\n",
    "        elif seq[pc] > key:\n",
    "            pr = pc-1\n",
    "        elif seq[pc] < key:\n",
    "            pl = pc+1\n",
    "        \n",
    "        if pl>pr :\n",
    "            return -1\n",
    "\n",
    "a=[1,2,3,4,5,6,7,8,9,10,11]\n",
    "bin_search(a,8)"
   ]
  },
  {
   "cell_type": "markdown",
   "metadata": {},
   "source": [
    "## 해시법"
   ]
  },
  {
   "cell_type": "code",
   "execution_count": 1,
   "metadata": {},
   "outputs": [],
   "source": [
    "from __future__ import annotations\n",
    "from typing import Any, Sequence, Type\n",
    "import hashlib\n",
    "\n",
    "class Node:\n",
    "    \"\"\"해시를 구성하는 노드\"\"\"\n",
    "    def __init__(self, key : Any, value:Any, next:Node)->None : \n",
    "        self.key = key\n",
    "        self. value = value\n",
    "        self.next = next"
   ]
  },
  {
   "cell_type": "code",
   "execution_count": 36,
   "metadata": {},
   "outputs": [],
   "source": [
    "class ChainedHash:\n",
    "    def __init__(self, capacity: int)->None:\n",
    "        \"\"\"초기화\"\"\"\n",
    "        self.capacity = capacity             # 해시 테이블의 크기 지정\n",
    "        self.table = [None] * self.capacity # 해시 테이블 (리스트) 선언\n",
    "        \n",
    "    def hash_value(self, key : Any) -> int: \n",
    "        \"\"\"인자 key에 대응하는 해시값(hash_value)을 구함\"\"\"\n",
    "        if isinstance(key, int): # int형인지 판단\n",
    "            return key % self.capacity\n",
    "        \n",
    "        return (int(hashlib.sha256(str(key).encode()).hexdigest(),16)%self.capacity) # int형이 아닐경우 사용하는 hash함수의 나머지\n",
    "        \n",
    "    def search(self, key:Any) ->Any : \n",
    "        \"\"\"키가 key인 원소를 검색하여 값을 반환\"\"\"\n",
    "        hash = self.hash_value(key) # 검색하는 키의 해시값\n",
    "        p = self.table[hash] #노드를 주목\n",
    "        \n",
    "        while p is not None:\n",
    "            if p.key == key:\n",
    "                return p.value  #검색성공\n",
    "            p=p.next   # 뒤쪽 노드를 주목\n",
    "            \n",
    "        return None # 검색 실패\n",
    "        \n",
    "    def add(self, key, value) -> bool: \n",
    "        \"\"\"키가 key이고 값이 value인 원소를 추가\"\"\"\n",
    "        hash = self.hash_value(key)  # 추가하는 key의 해시값\n",
    "        p = self.table[hash]     # 노드를 주목\n",
    "        \n",
    "        while p is not None:\n",
    "            if p.key == key:\n",
    "                return False   #추가실패\n",
    "            p = p.next\n",
    "            \n",
    "        temp = Node(key, value, self.table[hash]) # 노드생성(키,값,다음 노드)\n",
    "        self.table[hash] = temp  # 노드를 추가\n",
    "        return True   #추가성공\n",
    "    \n",
    "    def remove(self, key):\n",
    "        \"\"\"키가 key인 원소 삭제\"\"\"\n",
    "        hash = self.hash_value(key) # 삭제할 key의 해시값\n",
    "        p = self.table[hash]  # 노드를 주목\n",
    "        pp = None            # 바로 앞의 노드를 주목\n",
    "        \n",
    "        while p is not None: # 버킷 탐색\n",
    "            if p.key == key:  # key를 발견\n",
    "                if pp is None: # 발견한 key가 제일 앞인 경우\n",
    "                    self.table[hash] = p.next  # 버킷의 노드를 다음 노드에 연결\n",
    "                else:\n",
    "                    pp.next = p.next # 발견한 key가 제일 앞이 아닌 경우에 pp의 다음 노드를 p의 다음 노드로 설정\n",
    "            \n",
    "            pp = p \n",
    "            p = p.next \n",
    "        return False\n",
    "     \n",
    "    def dump(self) -> None:\n",
    "        \"\"\"해시테이블을 덤프(출력)\"\"\"\n",
    "        for i in range(self.capacity):\n",
    "            p = self.table[i]\n",
    "            print(i, end = '')\n",
    "            while p is not None:\n",
    "                print(f' →{p.key} ({p.value})', end ='')\n",
    "                p = p.next\n",
    "            print()\n",
    "    "
   ]
  },
  {
   "cell_type": "code",
   "execution_count": 38,
   "metadata": {},
   "outputs": [
    {
     "name": "stdout",
     "output_type": "stream",
     "text": [
      "(1)추가 (2)삭제 (3)검색 (4)덤프 (5)종료: 1\n",
      "추가할 키:1\n",
      "추가할 값:호\n",
      "(1)추가 (2)삭제 (3)검색 (4)덤프 (5)종료: 14\n",
      "(1)추가 (2)삭제 (3)검색 (4)덤프 (5)종료: 1\n",
      "추가할 키:14\n",
      "추가할 값:호호\n",
      "(1)추가 (2)삭제 (3)검색 (4)덤프 (5)종료: 4\n",
      "0\n",
      "1 →14 (호호) →1 (호)\n",
      "2\n",
      "3\n",
      "4\n",
      "5\n",
      "6\n",
      "7\n",
      "8\n",
      "9\n",
      "10\n",
      "11\n",
      "12\n",
      "(1)추가 (2)삭제 (3)검색 (4)덤프 (5)종료: 5\n"
     ]
    }
   ],
   "source": [
    "# 체인법 실제사용\n",
    "from enum import Enum # 열거형 자료형\n",
    "\n",
    "Menu = Enum('Menu', ['추가','삭제', '검색', '덤프', '종료']) # 메뉴 생성\n",
    "\n",
    "def select_menu():\n",
    "    s = [f'({m.value}){m.name}' for m in Menu]\n",
    "    while True:\n",
    "        print(*s, sep = ' ', end = '')\n",
    "        n = int(input(': '))\n",
    "        if 1<= n <= len(Menu):\n",
    "            return Menu(n)\n",
    "        \n",
    "\n",
    "hash = ChainedHash(13) # 크기 13인 해시테이블 생성\n",
    "\n",
    "while True:\n",
    "    menu = select_menu()\n",
    "    \n",
    "    if menu == Menu.추가:\n",
    "        key = int(input(\"추가할 키:\"))\n",
    "        val = input(\"추가할 값:\")\n",
    "        if not hash.add(key,val):\n",
    "            print('실패')\n",
    "    \n",
    "    elif menu == Menu.삭제:\n",
    "        key = int(input(\"삭제할 키:\"))\n",
    "        if not hash.remove(key):\n",
    "            print('실패')\n",
    "    \n",
    "    elif menu == Menu.검색:\n",
    "        key =int(input(\"검색할 키:\"))\n",
    "        t = hash.search(key)\n",
    "        if t is not None:\n",
    "            print(f'검색한 키를 갖는 값은{t}입니다')\n",
    "        else:\n",
    "            print(\"검색결과 없음\")\n",
    "            \n",
    "    elif menu == Menu.덤프:\n",
    "        hash.dump()\n",
    "    \n",
    "    else:break"
   ]
  },
  {
   "cell_type": "code",
   "execution_count": 45,
   "metadata": {},
   "outputs": [
    {
     "name": "stdout",
     "output_type": "stream",
     "text": [
      "Meu.삭제\n"
     ]
    }
   ],
   "source": [
    "# 오픈 주소법\n",
    "from __future__ import annotations\n",
    "from typing import Any, Type\n",
    "from enum import Enum\n",
    "\n",
    "class Status(Enum):\n",
    "    OCCUPIED = 0\n",
    "    EMPTY = 1\n",
    "    DELETED = 2\n",
    "\n",
    "class Bucket:\n",
    "    def __init__(self, key: Any = None, value: Any = None, stat: Status = Status.EMPTY) -> None:\n",
    "        self.key = key  # 키\n",
    "        self.value = value  # 값\n",
    "        self.stat = stat    # 속성\n",
    "\n",
    "    def set_status(self, stat: Status) -> None:\n",
    "        self.stat = stat\n",
    "\n",
    "class OpenHash:\n",
    "    def __init__(self, capacity: int) -> None:\n",
    "        self.capacity = capacity\n",
    "        self.table = [Bucket()] * self.capacity\n",
    "\n",
    "    def hash_value(self, key: Any) -> int:\n",
    "        return key % self.capacity\n",
    "    \n",
    "    def rehash_value(self, key: Any) -> int:\n",
    "        return (self.hash_value(key) + 1) % self.capacity\n",
    "    \n",
    "    def search_bucket(self, key: Any) -> Any:\n",
    "        hash = self.hash_value(key)\n",
    "        p = self.table[hash]\n",
    "\n",
    "        for i in range(self.capacity):\n",
    "            if p.stat == Status.EMPTY:\n",
    "                break\n",
    "            elif p.stat == Status.OCCUPIED and p.key == key:\n",
    "                return p\n",
    "            hash = self.rehash_value(hash)\n",
    "            p = self.table[hash]\n",
    "        return None\n",
    "\n",
    "    def search(self, key: Any) -> Any:\n",
    "        p = self.search_bucket(key)\n",
    "        if p is not None:\n",
    "            return p.value\n",
    "        else:\n",
    "            return None\n",
    "        \n",
    "    def add(self, key: Any, value: Any) -> bool:\n",
    "        if self.search(key) is not None:\n",
    "            return False\n",
    "        \n",
    "        hash = self.hash_value(key)\n",
    "        p = self.table[hash]\n",
    "        for i in range(self.capacity):\n",
    "            if p.stat == Status.EMPTY or p.stat == Status.DELETED:\n",
    "                self.table[hash] = Bucket(key, value, Status.OCCUPIED)\n",
    "                return True\n",
    "            hash = self.rehash_value(hash)\n",
    "            p = self.table[hash]\n",
    "        return False\n",
    "\n",
    "    def remove(self, key: Any) -> int:\n",
    "        p = self.search_bucket(key)\n",
    "        if p is None:\n",
    "            return False\n",
    "        p.set_status(Status.DELETED)\n",
    "        return True\n",
    "\n",
    "    def printed(self) -> None:\n",
    "        for i in range(self.capacity):\n",
    "            print(f'{i:2} ', end='')\n",
    "            if self.table[i].stat == Status.OCCUPIED:\n",
    "                print(f'{self.table[i].key} ({self.table[i].value})')\n",
    "            elif self.table[i].stat == Status.EMPTY:\n",
    "                print('-- 미등록 --')\n",
    "            elif self.table[i].stat == Status.DELETED:\n",
    "                print('-- 삭제 완료 --')"
   ]
  },
  {
   "cell_type": "code",
   "execution_count": 48,
   "metadata": {},
   "outputs": [
    {
     "data": {
      "text/plain": [
       "int"
      ]
     },
     "execution_count": 48,
     "metadata": {},
     "output_type": "execute_result"
    }
   ],
   "source": []
  },
  {
   "cell_type": "code",
   "execution_count": 51,
   "metadata": {},
   "outputs": [
    {
     "data": {
      "text/plain": [
       "<enum 'Meu'>"
      ]
     },
     "execution_count": 51,
     "metadata": {},
     "output_type": "execute_result"
    }
   ],
   "source": [
    "Menu"
   ]
  },
  {
   "cell_type": "code",
   "execution_count": null,
   "metadata": {},
   "outputs": [],
   "source": []
  }
 ],
 "metadata": {
  "kernelspec": {
   "display_name": "py3dot7",
   "language": "python",
   "name": "py3dot7"
  },
  "language_info": {
   "codemirror_mode": {
    "name": "ipython",
    "version": 3
   },
   "file_extension": ".py",
   "mimetype": "text/x-python",
   "name": "python",
   "nbconvert_exporter": "python",
   "pygments_lexer": "ipython3",
   "version": "3.7.9"
  }
 },
 "nbformat": 4,
 "nbformat_minor": 2
}

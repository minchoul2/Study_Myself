{
 "cells": [
  {
   "cell_type": "markdown",
   "metadata": {},
   "source": [
    "## 추상자료형 (ADT)\n",
    "##### 추상자료형이란?\n",
    "- 구체적인 __기능__의 완성과정을 언급하지 않고, 순수하게 기능이 무엇인지를 나열한 것\n",
    "- (추상)자료형은 기능이다  \n",
    " ex) 지갑의 추상 자료형  \n",
    "         카드의 삽입  \n",
    "         카드의 추출  \n",
    "         동전의 삽입  \n",
    "         동전의 추출 ...\n",
    "         \n",
    "- 기능인데 왜 자료형이라고 하였나?  \n",
    "    구조체와 관련된 __연산의 종류__를 결정하는 것도 자료형의 일부이다\n",
    "\n",
    "##### 모든 자료구조는 ADT 먼저! (리스트 만들기)\n",
    "1. 리스트 자료구조의 ADT를 정의\n",
    "2. ADT를 근거로 리스트 자료구조를 활용하는 main함수 정의\n",
    "3. ADT근거로 리스트 구현  \n",
    "    \n",
    "__즉 리스트 사용자에게는 사용방법만 알려주면된다(내부함수까지 뜯어볼필요없게)__\n"
   ]
  },
  {
   "cell_type": "code",
   "execution_count": null,
   "metadata": {},
   "outputs": [],
   "source": [
    "# 순차리스트(배열) ADT\n",
    "# https://comdoc.tistory.com/entry/2-%ED%8C%8C%EC%9D%B4%EC%8D%AC-%EB%A6%AC%EC%8A%A4%ED%8A%B8-%EC%B6%94%EC%83%81-%EC%9E%90%EB%A3%8C%ED%98%95List-ADT-with-Python\n",
    "\n",
    "def Listinit(self):\n",
    "    #초기화할 리스트를 인자로 전달\n",
    "    return\n"
   ]
  }
 ],
 "metadata": {
  "kernelspec": {
   "display_name": "Python [conda env:Anaconda3]",
   "language": "python",
   "name": "conda-env-Anaconda3-py"
  },
  "language_info": {
   "codemirror_mode": {
    "name": "ipython",
    "version": 3
   },
   "file_extension": ".py",
   "mimetype": "text/x-python",
   "name": "python",
   "nbconvert_exporter": "python",
   "pygments_lexer": "ipython3",
   "version": "3.6.5"
  }
 },
 "nbformat": 4,
 "nbformat_minor": 2
}

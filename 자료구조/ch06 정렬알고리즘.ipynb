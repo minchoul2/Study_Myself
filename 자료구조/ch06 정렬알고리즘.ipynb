{
 "cells": [
  {
   "cell_type": "markdown",
   "metadata": {},
   "source": [
    "# 버블정렬"
   ]
  },
  {
   "cell_type": "code",
   "execution_count": 8,
   "metadata": {
    "ExecuteTime": {
     "end_time": "2021-03-01T07:02:18.925734Z",
     "start_time": "2021-03-01T07:02:18.905737Z"
    }
   },
   "outputs": [
    {
     "name": "stdout",
     "output_type": "stream",
     "text": [
      "비교횟수:21 교환횟수:8\n",
      "[1, 3, 4, 6, 7, 8, 9]\n"
     ]
    }
   ],
   "source": [
    "from typing import MutableMapping\n",
    "\n",
    "def bubble_sort(a:MutableMapping) -> None:\n",
    "    \"\"\"버블정렬\"\"\"\n",
    "    n = len(a)\n",
    "    ccnt = 0 # 비교횟수\n",
    "    scnt = 0 # 교환횟수\n",
    "    \n",
    "    for i in range(n-1):\n",
    "        for j in range(n-1, i, -1): # 패스 (n-1,i,-1) -> n-1 ~ i-1 까지 거꾸로 접근 : j = i ~ n-1  \n",
    "            ccnt +=1\n",
    "            if a[j-1]>a[j]:\n",
    "                a[j-1],a[j] = a[j], a[j-1]\n",
    "                scnt +=1\n",
    "    print(f'비교횟수:{ccnt} 교환횟수:{scnt}')\n",
    "    \n",
    "x = [6,4,3,7,1,9,8]\n",
    "bubble_sort(x)\n",
    "print(x)\n"
   ]
  },
  {
   "cell_type": "markdown",
   "metadata": {},
   "source": [
    "## 버블정렬 개선1 \n",
    "- 정렬을 마친 시점에서 정렬 종료"
   ]
  },
  {
   "cell_type": "code",
   "execution_count": 7,
   "metadata": {
    "ExecuteTime": {
     "end_time": "2021-03-01T07:02:16.575069Z",
     "start_time": "2021-03-01T07:02:16.564070Z"
    }
   },
   "outputs": [
    {
     "name": "stdout",
     "output_type": "stream",
     "text": [
      "비교횟수:18 교환횟수:8\n",
      "[1, 3, 4, 6, 7, 8, 9]\n"
     ]
    }
   ],
   "source": [
    "from typing import MutableMapping\n",
    "\n",
    "def bubble_sort(a:MutableMapping) -> None:\n",
    "    \"\"\"버블정렬\"\"\"\n",
    "    n = len(a)\n",
    "    ccnt = 0 \n",
    "    scnt = 0 \n",
    "    \n",
    "    for i in range(n-1):\n",
    "        exchange = 0 # 패스내 교환횟수 // 교환없으면 조기종료\n",
    "        for j in range(n-1, i, -1): \n",
    "            ccnt +=1\n",
    "            if a[j-1]>a[j]:\n",
    "                a[j-1],a[j] = a[j], a[j-1]\n",
    "                scnt +=1\n",
    "                exchange+=1 # 패스내 교환횟수 체크\n",
    "        \n",
    "        if exchange == 0 : #패스내 교환없었으면(정렬 더이상 안되었으면)\n",
    "            break #종료\n",
    "    print(f'비교횟수:{ccnt} 교환횟수:{scnt}')\n",
    "    \n",
    "x = [6,4,3,7,1,9,8]\n",
    "bubble_sort(x)\n",
    "print(x)\n"
   ]
  },
  {
   "cell_type": "markdown",
   "metadata": {},
   "source": [
    "## 버블정렬 개선2 \n",
    "- 이미 정렬이 된 곳은 범위 개선"
   ]
  },
  {
   "cell_type": "code",
   "execution_count": 21,
   "metadata": {
    "ExecuteTime": {
     "end_time": "2021-03-01T13:22:36.884259Z",
     "start_time": "2021-03-01T13:22:36.865258Z"
    }
   },
   "outputs": [
    {
     "data": {
      "text/plain": [
       "[1, 3, 4, 6, 7, 8, 9]"
      ]
     },
     "execution_count": 21,
     "metadata": {},
     "output_type": "execute_result"
    }
   ],
   "source": [
    "from typing import MutableMapping\n",
    "\n",
    "def bubble_sort(a:MutableMapping) -> None:\n",
    "    \"\"\"버블정렬\"\"\"\n",
    "    n = len(a)\n",
    "    k = 0\n",
    "    while k < n - 1:\n",
    "        last = n - 1\n",
    "        for j in range(n - 1, k, -1):\n",
    "            if a[j - 1] > a[j]:\n",
    "                a[j - 1], a[j] = a[j], a[j - 1]\n",
    "                last = j\n",
    "        k = last\n",
    "        \n",
    "x = [6,4,3,7,1,9,8]\n",
    "bubble_sort(x)\n",
    "x\n"
   ]
  },
  {
   "cell_type": "markdown",
   "metadata": {
    "ExecuteTime": {
     "end_time": "2021-03-01T13:20:17.828539Z",
     "start_time": "2021-03-01T13:20:17.812550Z"
    }
   },
   "source": [
    "## 버블정렬 개선3 \n",
    "- 칵테일 정렬"
   ]
  },
  {
   "cell_type": "code",
   "execution_count": 22,
   "metadata": {
    "ExecuteTime": {
     "end_time": "2021-03-01T13:41:36.760866Z",
     "start_time": "2021-03-01T13:41:36.740867Z"
    }
   },
   "outputs": [
    {
     "data": {
      "text/plain": [
       "[1, 3, 4, 6, 7, 8, 9]"
      ]
     },
     "execution_count": 22,
     "metadata": {},
     "output_type": "execute_result"
    }
   ],
   "source": [
    "def shaker_sort(a):\n",
    "    left = 0\n",
    "    right = len(a)-1\n",
    "    last = right\n",
    "    \n",
    "    while left <right:\n",
    "        for j in range(right, left, -1):\n",
    "            if a[j-1]>a[j]:\n",
    "                a[j-1], a[j] = a[j], a[j-1]\n",
    "                last = j\n",
    "        left = last\n",
    "        \n",
    "        for j in range(left, right):\n",
    "            if a[j]>a[j+1]:\n",
    "                a[j], a[j+1] = a[j+1],a[j]\n",
    "                last = j\n",
    "        right = last\n",
    "        \n",
    "x = [6,4,3,7,1,9,8]\n",
    "bubble_sort(x)\n",
    "x        "
   ]
  },
  {
   "cell_type": "markdown",
   "metadata": {},
   "source": [
    "# 단순 선택정렬"
   ]
  },
  {
   "cell_type": "code",
   "execution_count": 3,
   "metadata": {
    "ExecuteTime": {
     "end_time": "2021-03-02T09:45:26.855763Z",
     "start_time": "2021-03-02T09:45:26.826998Z"
    }
   },
   "outputs": [
    {
     "data": {
      "text/plain": [
       "[1, 3, 4, 6, 7, 9, 8]"
      ]
     },
     "execution_count": 3,
     "metadata": {},
     "output_type": "execute_result"
    }
   ],
   "source": [
    "\"\"\"\n",
    "for i in range(n-1):\n",
    "    min = 키값이 가장 작은 원소의 인덱스\n",
    "    a[i]와 a[min] 교환\n",
    "\"\"\"\n",
    "def selection_sort(a):\n",
    "    n = len(a)\n",
    "    for i in range(n-1):\n",
    "        min = i\n",
    "        for j in range(i, n-1):\n",
    "            if a[j] < a[min]:\n",
    "                min = j\n",
    "        a[min],a[i] = a[i], a[min]\n",
    "x = [6,4,3,7,1,9,8]\n",
    "selection_sort(x)\n",
    "x                    "
   ]
  },
  {
   "cell_type": "markdown",
   "metadata": {},
   "source": [
    "# 단순삽입정렬"
   ]
  },
  {
   "cell_type": "code",
   "execution_count": 4,
   "metadata": {
    "ExecuteTime": {
     "end_time": "2021-03-03T02:35:02.845262Z",
     "start_time": "2021-03-03T02:35:02.825261Z"
    }
   },
   "outputs": [
    {
     "data": {
      "text/plain": [
       "[1, 3, 4, 6, 7, 8, 9]"
      ]
     },
     "execution_count": 4,
     "metadata": {},
     "output_type": "execute_result"
    }
   ],
   "source": [
    "\"\"\"\n",
    "종료조건\n",
    "1. 정렬된 배열 왼쪽 끝에 도달\n",
    "2. tmp보다 작거나 키값이 같은 원소 a[j-1]을 발견한 경우\n",
    "=> 계속조건\n",
    "1. j(index)가 0보다 큰 경우\n",
    "2. a[j-1]의 값이 tmp보다 큰경우\n",
    "\n",
    "for i in range(1,n):\n",
    "    tmp # a[i]값\n",
    "    tmp를 a[0], ... , a[n-1]의 알맞는 위치에 삽입\n",
    "\"\"\"\n",
    "\n",
    "def insertion_sort(a):\n",
    "    n = len(a)\n",
    "    for i in range(1,n):\n",
    "        j = i\n",
    "        tmp = a[i]\n",
    "        while j>0 and a[j-1]>tmp:\n",
    "            a[j] = a[j-1]\n",
    "            j-=1\n",
    "        a[j] = tmp\n",
    "\n",
    "x = [6,4,3,7,1,9,8]\n",
    "insertion_sort(x)\n",
    "x               \n"
   ]
  },
  {
   "cell_type": "markdown",
   "metadata": {},
   "source": [
    "## 단순삽입정렬 개선\n",
    "- 이진삽입 정렬\n"
   ]
  },
  {
   "cell_type": "code",
   "execution_count": 6,
   "metadata": {
    "ExecuteTime": {
     "end_time": "2021-03-03T05:46:44.572781Z",
     "start_time": "2021-03-03T05:46:44.545783Z"
    }
   },
   "outputs": [
    {
     "data": {
      "text/plain": [
       "[1, 3, 4, 6, 7, 8, 9]"
      ]
     },
     "execution_count": 6,
     "metadata": {},
     "output_type": "execute_result"
    }
   ],
   "source": [
    "def binary_insertion_sort(a):\n",
    "    n = len(a)\n",
    "    for i in range(1,n):\n",
    "        key = a[i]\n",
    "        pl = 0\n",
    "        pr = i-1\n",
    "        \n",
    "        while True: # 바이너리서치로 해당값(key)의 위치의 인덱스pd를 구하기 위함\n",
    "            pc = (pl + pr) // 2\n",
    "            if a[pc] == key:\n",
    "                break\n",
    "            elif a[pc] < key:\n",
    "                pl = pc+1\n",
    "            else:\n",
    "                pr = pc-1\n",
    "            \n",
    "            if pl>pr: #while 종료조건\n",
    "                break\n",
    "        pd = pc+1 if pl<=pr else pr+1 # pd는 삽입해야할 위치의 인덱스\n",
    "        \n",
    "        for j in range(i,pd,-1): # 삽입될 녀석의 자리를 만드러주는 중\n",
    "            a[j] = a[j-1]\n",
    "        a[pd] = key # 삽입 \n",
    "        \n",
    "x = [6,4,3,7,1,9,8]\n",
    "binary_insertion_sort(x)\n",
    "x                      "
   ]
  },
  {
   "cell_type": "markdown",
   "metadata": {},
   "source": [
    "# 셸 정렬"
   ]
  },
  {
   "cell_type": "code",
   "execution_count": 4,
   "metadata": {
    "ExecuteTime": {
     "end_time": "2021-03-06T14:36:58.408372Z",
     "start_time": "2021-03-06T14:36:58.398374Z"
    }
   },
   "outputs": [
    {
     "data": {
      "text/plain": [
       "[1, 3, 4, 6, 7, 8, 9]"
      ]
     },
     "execution_count": 4,
     "metadata": {},
     "output_type": "execute_result"
    }
   ],
   "source": [
    "def shell_sort(a):\n",
    "    n = len(a)\n",
    "    h = n//2\n",
    "    \n",
    "    while h>0:\n",
    "        for i in range(h,n):\n",
    "            j = i-h\n",
    "            tmp = a[i]\n",
    "            while j>=0 and a[j]>tmp:\n",
    "                a[j+h] = a[j] \n",
    "                j-=h\n",
    "            a[j+h] = tmp\n",
    "        h //= 2\n",
    "        \n",
    "x = [6,4,3,7,1,9,8]\n",
    "shell_sort(x)\n",
    "x"
   ]
  },
  {
   "cell_type": "markdown",
   "metadata": {},
   "source": [
    "# 퀵 정렬"
   ]
  },
  {
   "cell_type": "code",
   "execution_count": 9,
   "metadata": {
    "ExecuteTime": {
     "end_time": "2021-03-08T09:29:17.194448Z",
     "start_time": "2021-03-08T09:29:17.174448Z"
    }
   },
   "outputs": [
    {
     "name": "stdout",
     "output_type": "stream",
     "text": [
      "피벗은 5\n",
      "피벗 이하인 그룹\n",
      "1 2 3 4 5 5\n",
      "피벗과 일치하는 그룹\n",
      "5\n",
      "피벗 이상인 그룹\n",
      "5 5 6 7 8 9\n"
     ]
    }
   ],
   "source": [
    "\"\"\" 배열을 두그룹으로 나누기(퀵정렬을 위한)\"\"\"\n",
    "def partition(a):\n",
    "    n = len(a)\n",
    "    pl = 0 #왼쪽커서 (피벗보다 작게)\n",
    "    pr = n-1 #오른쪽 커서 (피벗보다 크게)\n",
    "    x = a[n//2] #피벗 (가운데 원소)\n",
    "    \n",
    "    while pl<=pr: # 왼쪽오른쪽 커서가 안겹칠때까지\n",
    "        while a[pl] < x : pl += 1 #작으면 넘기고\n",
    "        while a[pr] > x : pr -= 1 #크면 넘기고 \n",
    "        if pl<=pr: # 왼쪽엔 큰거 오른쪽엔 작은거 있으면 자리 바꿔주고 넘김\n",
    "            a[pl],a[pr] = a[pr],a[pl]\n",
    "            pl += 1\n",
    "            pr -= 1 # 피벗과 일치하는 그룹이 만들어짐\n",
    "        \n",
    "    print(f'피벗은 {x}')\n",
    "    print('피벗 이하인 그룹')\n",
    "    print(*a[0:pl]) # a[0]~a[pl-1]\n",
    "    \n",
    "    if pl >pr+1: # 피벗과 일치하는것 2개이상일 경우에는 불능\n",
    "        print('피벗과 일치하는 그룹')\n",
    "        print(*a[pr+1 : pl]) # a[pr+1] ~ a[pl-1]\n",
    "    print(\"피벗 이상인 그룹\")\n",
    "    print(*a[pr+1:n]) #a[pr+1] ~ a[n-1]\n",
    "    \n",
    "a = [9,8,7,6,5,5,5,4,3,2,1] \n",
    "partition(a)"
   ]
  },
  {
   "cell_type": "code",
   "execution_count": 11,
   "metadata": {
    "ExecuteTime": {
     "end_time": "2021-03-08T10:03:58.899450Z",
     "start_time": "2021-03-08T10:03:58.872452Z"
    }
   },
   "outputs": [
    {
     "name": "stdout",
     "output_type": "stream",
     "text": [
      "a[0] ~ a[9] : 9 8 7 6 5 5 4 3 2 1\n",
      "a[0] ~ a[4] : 1 2 3 4 5\n",
      "a[0] ~ a[1] : 1 2\n",
      "a[3] ~ a[4] : 4 5\n",
      "a[5] ~ a[9] : 5 6 7 8 9\n",
      "a[5] ~ a[6] : 5 6\n",
      "a[8] ~ a[9] : 8 9\n",
      "[1, 2, 3, 4, 5, 5, 6, 7, 8, 9]\n"
     ]
    }
   ],
   "source": [
    "\"\"\" 재귀를 이용한 퀵정렬\"\"\"\n",
    "\n",
    "def qsort(a, left, right): # 헬프function\n",
    "    pl = left  #pl = low , pr = high\n",
    "    pr = right\n",
    "    x = a[(left+right)//2]#피벗 (가운데 원소)\n",
    "    \n",
    "    print(f'a[{left}] ~ a[{right}] :', *a[left : right +1]) # 과정 출력\n",
    "    \n",
    "    while pl<=pr: # low와 high 가 역전될 때까지\n",
    "        while a[pl] < x : pl += 1 #작으면 넘기고\n",
    "        while a[pr] > x : pr -= 1 #크면 넘기고 \n",
    "        if pl<=pr: # 왼쪽엔 큰거 오른쪽엔 작은거 있으면 자리 바꿔주고 넘김 \n",
    "            a[pl],a[pr] = a[pr],a[pl] # 지리바꾸고\n",
    "            pl += 1\n",
    "            pr -= 1 # 피벗과 일치하는 그룹이 만들어짐\n",
    "            \n",
    "    #a자체를 줘도 되는게 left, right커서가 있기떄문이다        \n",
    "    if left < pr : qsort(a,left, pr)  # 왼쪽그룹\n",
    "    if pl < right : qsort(a,pl,right)  # 오른쪽그룹\n",
    "        \n",
    "def quick_sort(a):\n",
    "    qsort(a,0,len(a)-1)\n",
    "    \n",
    "a = [9,8,7,6,5,5,4,3,2,1] \n",
    "quick_sort(a)\n",
    "print(a)"
   ]
  },
  {
   "cell_type": "code",
   "execution_count": 9,
   "metadata": {
    "ExecuteTime": {
     "end_time": "2021-03-09T03:00:44.134321Z",
     "start_time": "2021-03-09T03:00:44.128372Z"
    }
   },
   "outputs": [],
   "source": [
    "\"\"\" 비재귀적인 퀵 정렬 : stack 이용 \"\"\"\n",
    "# ch4 스택 import\n",
    "\n",
    "\n",
    "def qsort(a, left, right):\n",
    "    range = Stack(right - left + 1)\n",
    "\n",
    "    range.push((left, right))\n",
    "\n",
    "    while not range.is_empty():\n",
    "        pl, pr = left, righrt = range.pop() # 스택생성\n",
    "        x = a[(left + righrt) // 2]  # 피벗\n",
    "        \n",
    "        #동일함\n",
    "        while pl <= pr:\n",
    "            while a[pl] < x:\n",
    "                pl + =1\n",
    "            while a[pr] > x:\n",
    "                pr -= 1\n",
    "            if pl <= pr:\n",
    "                a[pl],a[pr] = a[p r], a[pl]\n",
    "                pl += 1\n",
    "                pr -= 1\n",
    "        # 재귀대신 push를 통해 \n",
    "        if left < pr: range.push((left, pr))\n",
    "        if pl <right: range.push((pl, right))"
   ]
  },
  {
   "cell_type": "code",
   "execution_count": 8,
   "metadata": {
    "ExecuteTime": {
     "end_time": "2021-03-09T02:57:10.838710Z",
     "start_time": "2021-03-09T02:57:10.804709Z"
    },
    "hide_input": true
   },
   "outputs": [],
   "source": [
    "# 스택 import\n",
    "from typing import Any\n",
    "\n",
    "\n",
    "class FixedStack:\n",
    "    \"\"\"고정 길이 스택\"\"\"\n",
    "    class Empty(Exception):  # 예외처리 클래스\n",
    "        pass\n",
    "\n",
    "    class Full(Exception):  # 예외처리 클래스\n",
    "        pass\n",
    "\n",
    "    def __init__(self, capacity: int = 256) -> None:\n",
    "        self.stk = [None] * capacity\n",
    "        self.capacity = capacity\n",
    "        self.ptr = 0\n",
    "\n",
    "    def __len__(self):\n",
    "        return self.ptr\n",
    "\n",
    "    def is_empty(self) -> bool:\n",
    "        return self.ptr <= 0\n",
    "\n",
    "    def is_full(self) -> bool:\n",
    "        return self.ptr >= self.capacity\n",
    "\n",
    "    def push(self, value: Any) -> None:\n",
    "        if self.is_full():\n",
    "            raise FixedStack.Full  # 예외처리 클래스를 활용\n",
    "        self.stk[self.ptr] = value\n",
    "        self.ptr += 1\n",
    "\n",
    "    def pop(self) -> Any:\n",
    "        if self.is_empty():\n",
    "            raise FixedStack.Empty\n",
    "        self.ptr -= 1\n",
    "        return self.stk[self.ptr]\n",
    "\n",
    "    def peek(self) -> Any:\n",
    "        if self.is_empty():\n",
    "            raise FixedStack.Empty\n",
    "        return self.stk[self.ptr-1]\n",
    "\n",
    "    def clear(self) -> None:\n",
    "        self.ptr = 0\n",
    "\n",
    "    def find(self, value: Any) -> int:\n",
    "        if self.is_empty():\n",
    "            raise FixedStack.Empty\n",
    "        for i in range(self.ptr):\n",
    "            if value == self.stk[i]:\n",
    "                return i\n",
    "        else:\n",
    "            return -1\n",
    "\n",
    "    def count(self, value: Any) -> int:\n",
    "        cnt = 0\n",
    "        if self.is_empty():\n",
    "            raise FixedStack.Empty\n",
    "        for i in range(self.ptr):\n",
    "            if value == self.stk[i]:\n",
    "                cnt += 1\n",
    "        return cnt\n",
    "\n",
    "    def __contains__(self, value: Any) -> bool:\n",
    "        return self.count(value)\n",
    "\n",
    "    def dump(self) -> None:\n",
    "        if self.is_empty():\n",
    "            print(\"스택이 비어있습니다.\")\n",
    "        else:\n",
    "            print(self.stk[:self.ptr])"
   ]
  },
  {
   "cell_type": "markdown",
   "metadata": {},
   "source": [
    "# 병합정렬"
   ]
  },
  {
   "cell_type": "code",
   "execution_count": 3,
   "metadata": {
    "ExecuteTime": {
     "end_time": "2021-03-10T04:19:46.349560Z",
     "start_time": "2021-03-10T04:19:46.330554Z"
    }
   },
   "outputs": [
    {
     "name": "stdout",
     "output_type": "stream",
     "text": [
      "[2, 4, 5, 7, 8, 9]\n",
      "[3, 4, 6, 8, 9]\n",
      "[2, 3, 4, 4, 5, 6, 7, 8, 8, 9, 9]\n"
     ]
    }
   ],
   "source": [
    "\"\"\" 정렬을 마쳤다고 치고 두 배열 병합하기 (사전예시)\"\"\"\n",
    "\n",
    "def merge_sorted_list(a, b, c): # a,b: 분할된 배열 c:병합될 배열 공간\n",
    "    pa, pb, pc = 0,0,0  # pa,pb는 분할되었던 배열, pc는 병합할 배열의 커서\n",
    "    na, nb, nc = len(a), len(b), len(c)\n",
    "\n",
    "    while pa < na and pb < nb:  # pa와 pb를 비교하여 작은 값을 pc에 저장\n",
    "        if a[pa] <= b[pb]:\n",
    "            c[pc] = a[pa]\n",
    "            pa += 1\n",
    "        else:\n",
    "            c[pc] = b[pb]\n",
    "            pb += 1\n",
    "        pc += 1\n",
    "    while pa < na:  #남은 a의 원소 c에 복사\n",
    "        c[pc] = a[pa]\n",
    "        pa += 1\n",
    "        pc += 1\n",
    "    while pb < nb:\n",
    "        c[pc] = b[pb] # 남은 b의 원소 c에 복사\n",
    "        pb += 1\n",
    "        pc += 1\n",
    "        \n",
    "a=[2,4,5,7,8,9]\n",
    "b=[3,4,6,8,9]\n",
    "c=[None]*(len(a)+len(b))\n",
    "merge_sorted_list(a,b,c)\n",
    "print(a)\n",
    "print(b)\n",
    "print(c)"
   ]
  },
  {
   "cell_type": "code",
   "execution_count": 7,
   "metadata": {
    "ExecuteTime": {
     "end_time": "2021-03-10T05:59:21.213393Z",
     "start_time": "2021-03-10T05:59:21.192393Z"
    }
   },
   "outputs": [],
   "source": [
    "\"\"\" 병합 정렬 : 이해가 잘안가니까 잘 생각해보자 \"\"\"\n",
    "def merge_sort(a):\n",
    "    buff = [None] * n\n",
    "    \n",
    "    def merge_sort_in(a,left, right):\n",
    "        if left<right:\n",
    "            center = (left+right)//2\n",
    "\n",
    "            merge_sort_in(a,left,center)    # 분할파트 (재귀적으로)\n",
    "            merge_sort_in(a,center+1,right)\n",
    "\n",
    "            # 여기서 부터 병합할 거야 \n",
    "            p = j = 0  # 임시 병합할 buff의 인덱스 p는1차, j는 2차에서 시작하고 3차에서 남은잔반용\n",
    "            i = k = left # i는 왼쪽 k는 오른쪽 배열의 첫 인덱스\n",
    "\n",
    "            while i <= center: # 왼쪽 먼저 다 넣고 :1차\n",
    "                buff[p] = a[i]\n",
    "                p += 1\n",
    "                i += 1\n",
    "            # 오른쪽것도 병합해주고 // 이때 오른쪽보다 큰 왼쪽꺼는 남는다 :2차\n",
    "            while i <= right and j < p: # i(왼쪽 인덱스; 이제는 오른쪽 시작)가 오른쪽 끝보다 작고, \n",
    "                                        #j(buff시작2)가 p(buff왼쪽꺼 다 넣은 상태)보다 작으면\n",
    "                if buff[j] <= a[i]:\n",
    "                    a[k] = buff[j]\n",
    "                    j += 1\n",
    "                else:\n",
    "                    a[k] = a[i]\n",
    "                    i += 1\n",
    "                k += 1 # k는 최종 병합될 a의 인덱스\n",
    "                \n",
    "            while j <p: # 남은 왼쪽 큰것들을 뒤에다가 붙여주자 :3차\n",
    "                a[k] = buff[j]\n",
    "                k += 1\n",
    "                j += 1\n",
    "\n",
    "        \n",
    "    if pl <= mid and mid<=pr:\n",
    "        merge_sort_in(a,left,mid)\n",
    "        merge_sort_in(a,mid+1,right)\n",
    "        \n",
    "        merge_sorted_list(a,b,c)\n",
    "        \n",
    "    merge_sort_in(a,0,len(a)-1)\n",
    "    del buff"
   ]
  },
  {
   "cell_type": "markdown",
   "metadata": {
    "ExecuteTime": {
     "end_time": "2021-03-11T13:21:42.333989Z",
     "start_time": "2021-03-11T13:21:42.313986Z"
    }
   },
   "source": [
    "# 힙정렬\n"
   ]
  },
  {
   "cell_type": "code",
   "execution_count": 9,
   "metadata": {
    "ExecuteTime": {
     "end_time": "2021-03-11T14:10:08.727126Z",
     "start_time": "2021-03-11T14:10:08.709125Z"
    }
   },
   "outputs": [],
   "source": [
    "\"\"\" 힙정렬 구현 : 루트노드 제거후 힙을 상향식으로 재생성 하여 다시 루트노드 제거 반복\"\"\"\n",
    "\n",
    "\n",
    "def heap_sort(a):\n",
    "    def down_heap(a, left, right): # a[left] ~ a[right]를 힙으로 만들기\n",
    "        temp = a[left] # 현재 힙의 루트\n",
    "\n",
    "        parent = left\n",
    "        while parent < (right + 1) // 2: # parent(index)가 현재 panent노드의 오른쪽 형제노드의 index보다 작으면\n",
    "                                         # 즉 형제노드를 침범하지 않으면 계속하라\n",
    "            cl = parent * 2 + 1  # 왼쪽 자식\n",
    "            cr = parent * 2 + 2  # 오른쪽 자식\n",
    "            child = cr if cr <= right and a[cr] > a[cl] else cl  # 큰 값을 선택\n",
    "\n",
    "            if temp >= a[child]: # 부모 값이 더 크면 그만해\n",
    "                break\n",
    "            a[parent] = a[child] # 아니면(부모가 작으면) 부모를 자식으로 바꾸고\n",
    "            parent = child # 인덱스도 자식으로 바꿔 => 높은거 부모로 올려\n",
    "        a[parent] = temp # 이제 parant는 자기의 인덱스로 갔으니, temp를 넣어서 확실히 바꿔줘\n",
    "\n",
    "    n = len(a)\n",
    "    for i in range((n-1)//2, -1, -1): # 상향식 결합의 순서 (n-1)//2 ~ 0까지 하면 말단 바로 위 노드부터 시작\n",
    "        down_heap(a, i, n-1) \n",
    "        # 이제 a는 힙정렬이 다되어있는 상태야\n",
    "        \n",
    "    for i in range(n-1, 0, -1): # 맨끝부터 0까지 셀꺼임\n",
    "        a[0], a[i] = a[i], a[0] #하나씩 pop 해주면서 끝을 가장 큰 값으로 보장된 a[0]로 바꿔줘\n",
    "        down_heap(a, 0, i-1) # 나머지 안바꾼 것들을 다시 힙으로 만들어줘-> a[0]가 가장 큰값을 보장받게해줘"
   ]
  },
  {
   "cell_type": "code",
   "execution_count": 10,
   "metadata": {
    "ExecuteTime": {
     "end_time": "2021-03-11T14:13:32.400710Z",
     "start_time": "2021-03-11T14:13:32.382711Z"
    }
   },
   "outputs": [],
   "source": [
    "\"\"\" heapq 모듈로 간단하게 구현 \"\"\"\n",
    "import heapq\n",
    "\n",
    "def heap_sort(a):\n",
    "    heap=[] # 힙을 저장할 배열 \n",
    "    for i in a:  # a 를 일단 heap에 전부 push\n",
    "        heapq.heappush(heap,i)\n",
    "    \n",
    "    for i in range(len(a)): # 하나씩 pop 하여 a[i] 에 저장 \n",
    "        a[i] = heaqp.heappop(heap)\n",
    "    "
   ]
  },
  {
   "cell_type": "markdown",
   "metadata": {},
   "source": [
    "# 도수정렬\n",
    "- if 문을 쓰지 않는 것이 특징!\n",
    "- 4 단계 \n",
    "    1. 도수분포표(배열) 만들기\n",
    "    2. 누적 도수분포표(배열) 만들기\n",
    "    3. 작업용 배열 만들기\n",
    "    4. 배열 복사하기\n",
    "- 3단계를 거꾸로 진행하는 이유는 안전성을 위해서  \n",
    "맨앞에서 부터 스캔하면 기존배열의 같은 숫자의 앞뒤 인덱스가 바뀌기 때문 "
   ]
  },
  {
   "cell_type": "code",
   "execution_count": 17,
   "metadata": {
    "ExecuteTime": {
     "end_time": "2021-03-13T07:53:06.606316Z",
     "start_time": "2021-03-13T07:53:06.590316Z"
    }
   },
   "outputs": [
    {
     "name": "stdout",
     "output_type": "stream",
     "text": [
      "[1, 2, 3, 4, 5, 5, 6, 7, 8, 9]\n"
     ]
    }
   ],
   "source": [
    "\"\"\" 도수 정렬 \"\"\"\n",
    "def fsort(a, max):\n",
    "    n = len(a)\n",
    "    f = [0] * (max + 1) # 0부터 시작해야 하기 떄문에 도수 분포배열f 는 max+1 숫자까지 커야한다.\n",
    "    b = [0] * n # 작업용 배열 b\n",
    "    \n",
    "    # 1단계 : 도수 분포표 만들기\n",
    "    for i in range(n):\n",
    "        f[a[i]] += 1\n",
    "    # 2단계 : 누적 도수분포표 만들기\n",
    "    for i in range(1, max+1):\n",
    "        f[i] += f[i-1]\n",
    "    # 3단계 : 작업용 배열 만들기  // 거꾸로\n",
    "    for i in range(n-1, -1, -1): \n",
    "        f[a[i]] -= 1 # 같은 숫자가 나오면 한번뒤로 보내기 위해서\n",
    "        b[f[a[i]]] = a[i] \n",
    "    # 4단계 : 배열복사\n",
    "    for i in range(n):\n",
    "        a[i] = b[i]\n",
    "\n",
    "# max값을 안쓰기 위한 팁\n",
    "def counting_sort(a):\n",
    "    fsort(a, max(a))\n",
    "\n",
    "a = [9,8,7,6,5,5,4,3,2,1] \n",
    "counting_sort(a)\n",
    "print(a)\n"
   ]
  },
  {
   "cell_type": "code",
   "execution_count": 11,
   "metadata": {
    "ExecuteTime": {
     "end_time": "2021-03-13T07:45:57.408005Z",
     "start_time": "2021-03-13T07:45:57.394003Z"
    }
   },
   "outputs": [],
   "source": [
    "for i in range(10,0,1):\n",
    "    print(i)"
   ]
  },
  {
   "cell_type": "code",
   "execution_count": null,
   "metadata": {},
   "outputs": [],
   "source": []
  }
 ],
 "metadata": {
  "kernelspec": {
   "display_name": "py3dot7",
   "language": "python",
   "name": "py3dot7"
  },
  "language_info": {
   "codemirror_mode": {
    "name": "ipython",
    "version": 3
   },
   "file_extension": ".py",
   "mimetype": "text/x-python",
   "name": "python",
   "nbconvert_exporter": "python",
   "pygments_lexer": "ipython3",
   "version": "3.7.9"
  },
  "toc": {
   "base_numbering": 1,
   "nav_menu": {},
   "number_sections": true,
   "sideBar": true,
   "skip_h1_title": false,
   "title_cell": "Table of Contents",
   "title_sidebar": "Contents",
   "toc_cell": false,
   "toc_position": {
    "height": "calc(100% - 180px)",
    "left": "10px",
    "top": "150px",
    "width": "307.2px"
   },
   "toc_section_display": true,
   "toc_window_display": true
  },
  "varInspector": {
   "cols": {
    "lenName": 16,
    "lenType": 16,
    "lenVar": 40
   },
   "kernels_config": {
    "python": {
     "delete_cmd_postfix": "",
     "delete_cmd_prefix": "del ",
     "library": "var_list.py",
     "varRefreshCmd": "print(var_dic_list())"
    },
    "r": {
     "delete_cmd_postfix": ") ",
     "delete_cmd_prefix": "rm(",
     "library": "var_list.r",
     "varRefreshCmd": "cat(var_dic_list()) "
    }
   },
   "types_to_exclude": [
    "module",
    "function",
    "builtin_function_or_method",
    "instance",
    "_Feature"
   ],
   "window_display": false
  }
 },
 "nbformat": 4,
 "nbformat_minor": 4
}

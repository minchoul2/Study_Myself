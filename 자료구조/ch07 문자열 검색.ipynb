{
 "cells": [
  {
   "cell_type": "markdown",
   "metadata": {},
   "source": [
    "# 브루트 포스법\n",
    "- 가장 기초적인 선형검사법\n",
    "- 검사 위치를 기억하지 못하여 효율이 극악\n",
    "- 시간복잡도 O(MN)"
   ]
  },
  {
   "cell_type": "code",
   "execution_count": 1,
   "metadata": {
    "ExecuteTime": {
     "end_time": "2021-03-15T04:24:47.374183Z",
     "start_time": "2021-03-15T04:24:47.359184Z"
    }
   },
   "outputs": [],
   "source": [
    "\"\"\" 브루트 포스법 \"\"\"\n",
    "def bf_match(txt, pat):\n",
    "    pt = 0 # txt 를 따라가는 커서\n",
    "    pp = 0 # pat 를 따라가는 커서\n",
    "    \n",
    "    while pt != len(str) and pp != len(pat):\n",
    "        if txt[pt] == pat[pp]:\n",
    "            pt += 1\n",
    "            pp += 1\n",
    "        else: \n",
    "            pt = pt - pp + 1\n",
    "            pp = 0\n",
    "    \n",
    "    return pt - pp if pp == len(pat) else -1 # 패턴을 찾은 txt의 인덱스 반환\n"
   ]
  },
  {
   "cell_type": "code",
   "execution_count": 2,
   "metadata": {
    "ExecuteTime": {
     "end_time": "2021-03-15T04:26:02.936115Z",
     "start_time": "2021-03-15T04:26:02.915118Z"
    }
   },
   "outputs": [
    {
     "data": {
      "text/plain": [
       "False"
      ]
     },
     "execution_count": 2,
     "metadata": {},
     "output_type": "execute_result"
    }
   ],
   "source": [
    "\"\"\" in , not in 연산자\n",
    "    pattern in text\n",
    "\"\"\"\n",
    "\"abc\" in \"abcaccccc\"\n",
    "\"abc\" not in \"abcaccccc\"\n"
   ]
  },
  {
   "cell_type": "code",
   "execution_count": 4,
   "metadata": {
    "ExecuteTime": {
     "end_time": "2021-03-15T04:28:27.614395Z",
     "start_time": "2021-03-15T04:28:17.059349Z"
    }
   },
   "outputs": [
    {
     "name": "stdout",
     "output_type": "stream",
     "text": [
      "문자열 txt: asdasda\n",
      "문자열 ptn: da\n",
      "ptn이 txt에 포함되어 있는 맨 앞 인덱스:  2\n",
      "ptn이 txt에 포함되어 있는 맨 끝 인덱스:  5\n"
     ]
    }
   ],
   "source": [
    "\"\"\" find, index \"\"\"\n",
    "# 문자열에 포함되어 있는 문자열을 검색(index 계열 함수)\n",
    "\n",
    "txt = input('문자열 txt: ')\n",
    "ptn = input('문자열 ptn: ')\n",
    "\n",
    "c = txt.count(ptn)\n",
    "\n",
    "if c == 0:                                                  # 포함된 문자가 없음\n",
    "    print('ptn은 txt에 포함되어 있지 않습니다.')\n",
    "elif c == 1:                                                # 포함된 문자가 １개만 있는 경우\n",
    "    print('ptn이 txt에 포함되어 있는 인덱스: ', txt.index(ptn))\n",
    "else:                                                       # 포함된 문자가 2개 이상 있는 경우\n",
    "    print('ptn이 txt에 포함되어 있는 맨 앞 인덱스: ', txt.index(ptn))\n",
    "    print('ptn이 txt에 포함되어 있는 맨 끝 인덱스: ', txt.rindex(ptn))"
   ]
  },
  {
   "cell_type": "code",
   "execution_count": 5,
   "metadata": {
    "ExecuteTime": {
     "end_time": "2021-03-15T04:29:27.528878Z",
     "start_time": "2021-03-15T04:29:20.322913Z"
    }
   },
   "outputs": [
    {
     "name": "stdout",
     "output_type": "stream",
     "text": [
      "문자열 txt: asdasdasd\n",
      "문자열 ptn: da\n",
      "ptn이 txt에 포함되어 있는 맨 앞 인덱스:  2\n",
      "ptn이 txt에 포함되어 있는 맨 끝 인덱스:  5\n"
     ]
    }
   ],
   "source": [
    "# 문자열에 포함되어 있는 문자열을 검색(find 계열 함수）\n",
    "\n",
    "txt = input('문자열 txt: ')  # 문자열 나열\n",
    "ptn = input('문자열 ptn: ')  # 검색할 문자\n",
    "\n",
    "c = txt.count(ptn)\n",
    "\n",
    "if c == 0:                                                  # 포함된 문자가 없음\n",
    "    print('ptn은 txt에 포함되어 있지 않습니다.')\n",
    "elif c == 1:                                                # 포함된 문자가 １개만 있는 경우\n",
    "    print('ptn이 txt에 포함되어 있는 인덱스: ', txt.find(ptn))\n",
    "else:                                                       # 포함된 문자가 2개 이상 있는 경우\n",
    "    print('ptn이 txt에 포함되어 있는 맨 앞 인덱스: ', txt.find(ptn))\n",
    "    print('ptn이 txt에 포함되어 있는 맨 끝 인덱스: ', txt.rfind(ptn))"
   ]
  },
  {
   "cell_type": "markdown",
   "metadata": {},
   "source": [
    "# KMP법\n",
    "- 건너뛰기 표(Skip Table)을 생성하여 몇번째 부터 다시 검색할지 결정하여 브루트포스법보다 향상된 기법\n",
    "- 복잡하지만 보이어무어법보다 성능면에서 같거나 낮은수준이라 실제로는 잘 쓰이지 않음\n",
    "- 시간복잡도 O(M+N) = O(N)"
   ]
  },
  {
   "cell_type": "code",
   "execution_count": 8,
   "metadata": {
    "ExecuteTime": {
     "end_time": "2021-03-16T04:58:08.922633Z",
     "start_time": "2021-03-16T04:58:08.895641Z"
    }
   },
   "outputs": [],
   "source": [
    "def kmp_match(txt, pat):\n",
    "    pt = 1  # txt 커서\n",
    "    pp = 0  # pat 커서\n",
    "    skip = [0] * (len(pat) + 1)  # 건너뛰기 표\n",
    "\n",
    "    # 건너뛰기 표 만들기\n",
    "    skip[pt] = 0\n",
    "    while pt != len(pat):\n",
    "        if pat[pt] == pat[pp]:\n",
    "            pt += 1\n",
    "            pp += 1\n",
    "            skip[pt] = pp\n",
    "        elif pp == 0:\n",
    "            pt += 1\n",
    "            skip[pt] = pp\n",
    "        else:\n",
    "            pp = skip[pp]\n",
    "    print(skip)\n",
    "    # 문자열 검색\n",
    "    pt = pp = 0\n",
    "    while pt != len(txt) and pp != len(pat):\n",
    "        if txt[pt] == pat[pp]:\n",
    "            pt += 1 \n",
    "            pp += 1\n",
    "        elif pp == 0:\n",
    "            pt += 1\n",
    "        else:\n",
    "            pp = skip[pp]\n",
    "\n",
    "    return pt - pp if pp == len(pat) else -1"
   ]
  },
  {
   "cell_type": "code",
   "execution_count": 9,
   "metadata": {
    "ExecuteTime": {
     "end_time": "2021-03-16T04:58:10.288980Z",
     "start_time": "2021-03-16T04:58:10.271969Z"
    }
   },
   "outputs": [
    {
     "name": "stdout",
     "output_type": "stream",
     "text": [
      "[0, 0, 0, 0, 1, 2, 0]\n"
     ]
    },
    {
     "data": {
      "text/plain": [
       "-1"
      ]
     },
     "execution_count": 9,
     "metadata": {},
     "output_type": "execute_result"
    }
   ],
   "source": [
    "kmp_match(\"abcabba\", \"abcabd\")"
   ]
  },
  {
   "cell_type": "markdown",
   "metadata": {},
   "source": [
    "# 보이어 무어법\n",
    "- 가장 효율적이라 실제 문자열검색에서 널리쓰임\n",
    "- 패턴의 끝문자부터 앞쪽으로 검사\n",
    "- 시간복잡도 일반적으로 O(N) 이하. 최학일땐 O(MN) "
   ]
  },
  {
   "cell_type": "code",
   "execution_count": 1,
   "metadata": {
    "ExecuteTime": {
     "end_time": "2021-03-23T09:51:31.455080Z",
     "start_time": "2021-03-23T09:51:31.439095Z"
    }
   },
   "outputs": [
    {
     "name": "stdout",
     "output_type": "stream",
     "text": [
      "2\n"
     ]
    }
   ],
   "source": [
    "for i in range(3):\n",
    "    pass\n",
    "print(i)"
   ]
  },
  {
   "cell_type": "code",
   "execution_count": 10,
   "metadata": {
    "ExecuteTime": {
     "end_time": "2021-03-23T11:38:50.718431Z",
     "start_time": "2021-03-23T11:38:43.863715Z"
    }
   },
   "outputs": [
    {
     "name": "stdout",
     "output_type": "stream",
     "text": [
      "텍스트를 입력하세요.: dsdsdadsadasd\n",
      "패턴을 입력하세요.: das\n",
      "10번째 문자에서 일치합니다.\n"
     ]
    }
   ],
   "source": [
    "# [Do it! 실습 7-3] 보이어 무어법으로 문자열 검색하기(0~255 문자)\n",
    "\n",
    "\n",
    "def bm_match(txt: str, pat: str) -> int:\n",
    "    \"\"\"보이어 무어법에 의한 문자열 검색\"\"\"\n",
    "    skip = [None] * 256  # 건너뛰기 표\n",
    "    n = len(pat)\n",
    "    # 건너뛰기 표 만들기\n",
    "    for pt in range(256): # 일단 모든 것은 n으로(패턴에 없는 것은 len(pat)으로 빠르게)\n",
    "        skip[pt] = n\n",
    "    for pt in range(n): # pat에 있는 문자는 n-k-1로 만들기\n",
    "        skip[ord(pat[pt])] = n - pt - 1\n",
    "\n",
    "    # 검색하기\n",
    "    while pt < len(txt): # \n",
    "        pp = n - 1\n",
    "        \n",
    "        #탐색 중 문자가 같다면\n",
    "        while txt[pt] == pat[pp]: # txt 와 pat 틀릴 때까지 끝에서부터 비교\n",
    "            if pp == 0: # 끝까지 비교했는데 같다면 pt(text의 pointer) 반환\n",
    "                return pt\n",
    "            pt -= 1\n",
    "            pp -= 1\n",
    "            \n",
    "        skip_t = skip[ord(txt[pt])] # txt의 문자에 해당하는 스킵 테이블 원소 호출\n",
    "        # 스킵만큼 text pointer 이동 #스킵시 더많이 이동하기 위한 if 문으로 빼도 기능문제x\n",
    "        pt += skip_t #if skip_t >= n - pp else len(pat) - pp \n",
    "\n",
    "    return -1 # 못찾으면 -1\n",
    "\n",
    "\n",
    "if __name__ == '__main__':\n",
    "    s1 = input('텍스트를 입력하세요.: ')  # 텍스트 문자열\n",
    "    s2 = input('패턴을 입력하세요.: ')  # 패턴 문자열\n",
    "\n",
    "    idx = bm_match(s1, s2)  # 문자열 s1~s2를 KMP법으로 검색\n",
    "\n",
    "    if idx == -1:\n",
    "        print('텍스트 안에 패턴이 존재하지 않습니다.')\n",
    "    else:\n",
    "        print(f'{(idx + 1)}번째 문자에서 일치합니다.')"
   ]
  },
  {
   "cell_type": "code",
   "execution_count": null,
   "metadata": {},
   "outputs": [],
   "source": []
  },
  {
   "cell_type": "code",
   "execution_count": null,
   "metadata": {},
   "outputs": [],
   "source": []
  }
 ],
 "metadata": {
  "hide_input": false,
  "kernelspec": {
   "display_name": "Python 3",
   "language": "python",
   "name": "python3"
  },
  "language_info": {
   "codemirror_mode": {
    "name": "ipython",
    "version": 3
   },
   "file_extension": ".py",
   "mimetype": "text/x-python",
   "name": "python",
   "nbconvert_exporter": "python",
   "pygments_lexer": "ipython3",
   "version": "3.7.9"
  },
  "toc": {
   "base_numbering": 1,
   "nav_menu": {},
   "number_sections": true,
   "sideBar": true,
   "skip_h1_title": false,
   "title_cell": "Table of Contents",
   "title_sidebar": "Contents",
   "toc_cell": false,
   "toc_position": {
    "height": "calc(100% - 180px)",
    "left": "10px",
    "top": "150px",
    "width": "480px"
   },
   "toc_section_display": true,
   "toc_window_display": true
  },
  "varInspector": {
   "cols": {
    "lenName": 16,
    "lenType": 16,
    "lenVar": 40
   },
   "kernels_config": {
    "python": {
     "delete_cmd_postfix": "",
     "delete_cmd_prefix": "del ",
     "library": "var_list.py",
     "varRefreshCmd": "print(var_dic_list())"
    },
    "r": {
     "delete_cmd_postfix": ") ",
     "delete_cmd_prefix": "rm(",
     "library": "var_list.r",
     "varRefreshCmd": "cat(var_dic_list()) "
    }
   },
   "types_to_exclude": [
    "module",
    "function",
    "builtin_function_or_method",
    "instance",
    "_Feature"
   ],
   "window_display": false
  }
 },
 "nbformat": 4,
 "nbformat_minor": 4
}

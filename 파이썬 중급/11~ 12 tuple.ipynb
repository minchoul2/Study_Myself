{
 "cells": [
  {
   "cell_type": "markdown",
   "metadata": {},
   "source": [
    "# 11장. 튜플 패킹 언패킹\n",
    "#### 튜플이란?\n",
    "- 튜플이란 소괄호 **'()'** 을 사용하여 묶는 자료형으로,  \n",
    "리스트와 같은 성질(중복허용, 순서존재)을 가졌지만\n",
    "변경이 불가능한 자료형  \n",
    "( '()'는 생략가능한 경우 많음 ; return a,b,c,d / a= 1,2,3,4 / a = 1, )\n",
    "\n",
    "#### 패킹, 언패킹\n",
    "- 여러개의 인자를 가진 튜플을 다른 변수들에 저장할 경우 ' * ' 를 이용하여 나머지 인자들을 묶을 수 있음  \n",
    "  ex)  \n",
    "      a = (1,2,3,4,5)  \n",
    "      q, w, *other = a    \n",
    "       -> q=1, w=2, other= [3, 4, 5]  \n",
    "    \n",
    "       \n",
    "- 일부패킹시 others로 묶은 인자들은 \"리스트\"형으로 저장됨\n",
    "       \n",
    "       \n",
    "- 언패킹은 함수호출하는 경우에만 사용됨  \n",
    "  ex)  \n",
    "      p = (1,2,3)  \n",
    "      somfun(p) -> def somfun(a,b,c): // a=1,b=2,c=3 으로 언패킹되어 인자전달됨"
   ]
  },
  {
   "cell_type": "code",
   "execution_count": 22,
   "metadata": {
    "scrolled": true
   },
   "outputs": [
    {
     "name": "stdout",
     "output_type": "stream",
     "text": [
      "(1, 2, 3, 4, 5)\n",
      "1 2 [3, 4, 5]\n",
      "\n",
      "(1, 2, 3, 4, 5)\n",
      "1 2 (3, 4, 5)\n",
      "\n",
      "(1, 2, 3, 4, 5)\n",
      "1 [2, 3] 4\n",
      "\n",
      "[1, 2, 3, 4, 5]\n",
      "1 2 [3, 4, 5]\n"
     ]
    }
   ],
   "source": [
    "tup= 1,2,3,4,5\n",
    "a1,a2,*other=tup # 튜플 패킹 other\n",
    "print(tup)\n",
    "print(a1,a2,other,end='\\n\\n')\n",
    "\n",
    "a1,a2,*other=tup\n",
    "other=tuple(other) #다시 튜플로\n",
    "print(tup)\n",
    "print(a1,a2,other,end='\\n\\n')\n",
    "\n",
    "a1,*other,a2,a3=tup # 중간에 넣으면 앞뒤 가져가고 남는거로 리스트 패킹\n",
    "print(tup)\n",
    "print(a1,other,a2,end='\\n\\n')\n",
    "\n",
    "lst=[1,2,3,4,5]  #리스트도 가능\n",
    "a1,a2,*other=lst\n",
    "print(lst)\n",
    "print(a1,a2,other)"
   ]
  },
  {
   "cell_type": "code",
   "execution_count": 10,
   "metadata": {},
   "outputs": [
    {
     "name": "stdout",
     "output_type": "stream",
     "text": [
      "1 2 [3, 4, 5]\n"
     ]
    }
   ],
   "source": [
    "def return_num():\n",
    "    return 1,2,3,4,5 #튜플의 소괄호가 생략된 형태\n",
    "a1,a2,*other=return_num()\n",
    "\n",
    "print(a1,a2,other)"
   ]
  },
  {
   "cell_type": "code",
   "execution_count": 11,
   "metadata": {},
   "outputs": [
    {
     "name": "stdout",
     "output_type": "stream",
     "text": [
      "1 2 (3, 4, 5, 6)\n"
     ]
    }
   ],
   "source": [
    "def show_num(a1,a2,*other): #매개변수로도 사용 가능\n",
    "    print(a1,a2,other)\n",
    "    \n",
    "show_num(1,2,3,4,5,6)"
   ]
  },
  {
   "cell_type": "code",
   "execution_count": 12,
   "metadata": {},
   "outputs": [
    {
     "data": {
      "text/plain": [
       "15"
      ]
     },
     "execution_count": 12,
     "metadata": {},
     "output_type": "execute_result"
    }
   ],
   "source": [
    "# 활용 sum 함수\n",
    "def sum_num(*nums): # 전달된 1,2,3,4,5는 튜플로 묶어서 nums에 저장됨 // 즉 nums=(1,2,3,4,5)\n",
    "    s=0\n",
    "    for i in nums:\n",
    "        s+=i\n",
    "    return s\n",
    "sum_num(1,2,3,4,5)"
   ]
  },
  {
   "cell_type": "code",
   "execution_count": 17,
   "metadata": {},
   "outputs": [
    {
     "name": "stdout",
     "output_type": "stream",
     "text": [
      "shin 26 178\n",
      "shin 26 178\n"
     ]
    },
    {
     "ename": "TypeError",
     "evalue": "show_man() missing 2 required positional arguments: 'name' and 'height'",
     "output_type": "error",
     "traceback": [
      "\u001b[1;31m---------------------------------------------------------------------------\u001b[0m",
      "\u001b[1;31mTypeError\u001b[0m                                 Traceback (most recent call last)",
      "\u001b[1;32m<ipython-input-17-a27621c2a5f6>\u001b[0m in \u001b[0;36m<module>\u001b[1;34m()\u001b[0m\n\u001b[0;32m     10\u001b[0m \u001b[1;33m\u001b[0m\u001b[0m\n\u001b[0;32m     11\u001b[0m \u001b[0mman\u001b[0m\u001b[1;33m=\u001b[0m\u001b[1;33m[\u001b[0m\u001b[1;36m26\u001b[0m\u001b[1;33m,\u001b[0m\u001b[1;34m'shin'\u001b[0m\u001b[1;33m,\u001b[0m\u001b[1;36m178\u001b[0m\u001b[1;33m]\u001b[0m\u001b[1;33m\u001b[0m\u001b[0m\n\u001b[1;32m---> 12\u001b[1;33m \u001b[0mshow_man\u001b[0m\u001b[1;33m(\u001b[0m\u001b[0mman\u001b[0m\u001b[1;33m)\u001b[0m          \u001b[1;31m#  * 붙이지 않으면 TypeError발생 (매개변수 2개 부족)\u001b[0m\u001b[1;33m\u001b[0m\u001b[0m\n\u001b[0m",
      "\u001b[1;31mTypeError\u001b[0m: show_man() missing 2 required positional arguments: 'name' and 'height'"
     ]
    }
   ],
   "source": [
    "# 푼다는 의미의 *\n",
    "def show_man(age,name,height):\n",
    "    print(name, age, height)\n",
    "\n",
    "man=('26','shin','178')\n",
    "show_man(*man)         # man에 담긴 값을 풀어서 show_man 매개변수(age,name,height)로 전달\n",
    "\n",
    "man=[26,'shin',178]    # 리스트형도 가능 \n",
    "show_man(*man)\n",
    "\n",
    "man=[26,'shin',178]    \n",
    "show_man(man)          #  * 붙이지 않으면 TypeError발생 (매개변수 2개 부족)"
   ]
  },
  {
   "cell_type": "code",
   "execution_count": 27,
   "metadata": {
    "scrolled": true
   },
   "outputs": [
    {
     "name": "stdout",
     "output_type": "stream",
     "text": [
      "(1, 100)\n",
      "(2, 200)\n",
      "(3, 300)\n",
      "1 100\n",
      "2 200\n",
      "3 300\n",
      "1 10 100\n",
      "2 20 200\n",
      "1 100 \n",
      "2 200 \n",
      "3 300 \n"
     ]
    }
   ],
   "source": [
    "# for 문에서의 언패킹 (중첩for문 돌리지 말자!)\n",
    "ps=[(1,100),(2,200),(3,300)]\n",
    "for i in ps:  # 이러면 리스트안의 튜플이 i에 저장되어 돌아감\n",
    "    print(i)\n",
    "for n,h in ps:# 변수를 2개 둠으로써 튜플의 인자 2개가 n과h에 각각 언패킹 되어 돌아감\n",
    "    print(n,h)\n",
    "\n",
    "ps2=[(1,10,100),(2,20,200)] # 인자 여러개도 가능\n",
    "for a,b,c in ps2:\n",
    "    print(a,b,c)\n",
    "\n",
    "for i in ps: # 이렇게하지 말자!\n",
    "    for j in i:\n",
    "        print(j,end=' ')\n",
    "    print()"
   ]
  },
  {
   "cell_type": "markdown",
   "metadata": {},
   "source": [
    "# 12장 네임드 튜플\n",
    "##### namedtuple은 튜플에 이름을 붙이는 것\n",
    "- from collections import namedtuple 선언  \n",
    "- Tri=namedtuple('Triangle',['bottom','height'])    \n",
    "      Triangle -> 오류메시지시 출력되는 이름\n",
    "      ['bottom','height'] -> 튜플인덱스의 이름"
   ]
  },
  {
   "cell_type": "code",
   "execution_count": 31,
   "metadata": {},
   "outputs": [
    {
     "name": "stdout",
     "output_type": "stream",
     "text": [
      "3 7\n",
      "3 7\n"
     ]
    }
   ],
   "source": [
    "from collections import namedtuple\n",
    "\n",
    "#Tri=namedtuple('Triangle',['bottom','height'])\n",
    "Tri=namedtuple('Tri',['bottom','height']) #권장하는 방법 (일치시키기)\n",
    "t=Tri(3,7)\n",
    "\n",
    "print(t[0],t[1])\n",
    "print(t.bottom,t.height)"
   ]
  },
  {
   "cell_type": "code",
   "execution_count": 32,
   "metadata": {},
   "outputs": [
    {
     "ename": "TypeError",
     "evalue": "'Tri' object does not support item assignment",
     "output_type": "error",
     "traceback": [
      "\u001b[1;31m---------------------------------------------------------------------------\u001b[0m",
      "\u001b[1;31mTypeError\u001b[0m                                 Traceback (most recent call last)",
      "\u001b[1;32m<ipython-input-32-531e22094236>\u001b[0m in \u001b[0;36m<module>\u001b[1;34m()\u001b[0m\n\u001b[1;32m----> 1\u001b[1;33m \u001b[0mt\u001b[0m\u001b[1;33m[\u001b[0m\u001b[1;36m0\u001b[0m\u001b[1;33m]\u001b[0m\u001b[1;33m=\u001b[0m\u001b[1;36m1\u001b[0m\u001b[1;33m\u001b[0m\u001b[0m\n\u001b[0m",
      "\u001b[1;31mTypeError\u001b[0m: 'Tri' object does not support item assignment"
     ]
    }
   ],
   "source": [
    "t[0]=1"
   ]
  },
  {
   "cell_type": "code",
   "execution_count": null,
   "metadata": {},
   "outputs": [],
   "source": []
  }
 ],
 "metadata": {
  "kernelspec": {
   "display_name": "Python [conda env:Anaconda3]",
   "language": "python",
   "name": "conda-env-Anaconda3-py"
  },
  "language_info": {
   "codemirror_mode": {
    "name": "ipython",
    "version": 3
   },
   "file_extension": ".py",
   "mimetype": "text/x-python",
   "name": "python",
   "nbconvert_exporter": "python",
   "pygments_lexer": "ipython3",
   "version": "3.6.5"
  }
 },
 "nbformat": 4,
 "nbformat_minor": 2
}

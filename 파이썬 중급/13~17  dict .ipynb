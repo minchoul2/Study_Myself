{
 "cells": [
  {
   "cell_type": "markdown",
   "metadata": {},
   "source": [
    "## 13장 dict 생성과 zip\n",
    "##### 딕셔너리 생성\n",
    "모두 {'a':1, 'b':2}로 같은결과\n",
    "- 기본적인 생성 : d = { 'a' : 1 , 'b' : 2 }\n",
    "- dict클래스 객체 직접 생성  \n",
    "    1. d = dict([('a',1),('b',2)])\n",
    "    2. d = dict(a=1,b=2)  #키가 문자열인경우\n",
    "- zip 활용  \n",
    "    d= dict(zip(['a','b'],[1,2])\n",
    "- 원래 딕셔너리는 저장순서보장x but python 3.7 부터는 저장순서를 보장함(아직은 써비스 느낌)\n"
   ]
  },
  {
   "cell_type": "code",
   "execution_count": 1,
   "metadata": {},
   "outputs": [
    {
     "data": {
      "text/plain": [
       "{'a': 1, 'b': 2}"
      ]
     },
     "execution_count": 1,
     "metadata": {},
     "output_type": "execute_result"
    }
   ],
   "source": [
    "# dict기본생성\n",
    "d={'a':1,'b':2}\n",
    "d"
   ]
  },
  {
   "cell_type": "code",
   "execution_count": 2,
   "metadata": {},
   "outputs": [
    {
     "data": {
      "text/plain": [
       "{'a': 1, 'b': 2}"
      ]
     },
     "execution_count": 2,
     "metadata": {},
     "output_type": "execute_result"
    }
   ],
   "source": [
    "# dict 클래스 객체 활용 1 ((키,값),(키,값))\n",
    "d = dict([('a',1),('b',2)])\n",
    "d"
   ]
  },
  {
   "cell_type": "code",
   "execution_count": 7,
   "metadata": {},
   "outputs": [
    {
     "data": {
      "text/plain": [
       "{'a': 1, 'b': 2}"
      ]
     },
     "execution_count": 7,
     "metadata": {},
     "output_type": "execute_result"
    }
   ],
   "source": [
    "# dict 클래스 객체 활용 2  (키가 문자열일때는 쉽게)\n",
    "d= dict(a=1,b=2)\n",
    "d"
   ]
  },
  {
   "cell_type": "code",
   "execution_count": 8,
   "metadata": {},
   "outputs": [
    {
     "data": {
      "text/plain": [
       "{'a': 1, 'b': 2}"
      ]
     },
     "execution_count": 8,
     "metadata": {},
     "output_type": "execute_result"
    }
   ],
   "source": [
    "#zip 활용  (key끼리, value끼리)\n",
    "d = dict(zip(['a','b'],[1,2]))\n",
    "d"
   ]
  },
  {
   "cell_type": "code",
   "execution_count": 10,
   "metadata": {},
   "outputs": [
    {
     "name": "stdout",
     "output_type": "stream",
     "text": [
      "1 2 3 4 "
     ]
    }
   ],
   "source": [
    "# 저장 순서 보장 (써비스)\n",
    "d['c'] = 3\n",
    "d['d'] = 4\n",
    "for i in d:\n",
    "    print(d[i],end=' ')"
   ]
  },
  {
   "cell_type": "markdown",
   "metadata": {},
   "source": [
    "##### zip  \n",
    "인자로 받은 것들을 하나씩 묶어서 iterator객체로 반환해 주는 함수\n",
    "- 인자로 전달된 리스트 또는 튜플 또는 문자열을 조합해서 다수의 튜플 생성\n",
    "- 같은 위치에 있는 값들끼리 조합해서 튜플을 만들어준다.\n",
    "- list와 조합하면 튜플이 담긴 리스트가 생성\n",
    "- dict와 조합하면 딕셔너리 생성\n",
    "- 셋이상의 인자들을 조합하는 것도 가능"
   ]
  },
  {
   "cell_type": "code",
   "execution_count": 19,
   "metadata": {},
   "outputs": [
    {
     "data": {
      "text/plain": [
       "<zip at 0x2322f7d7bc8>"
      ]
     },
     "execution_count": 19,
     "metadata": {},
     "output_type": "execute_result"
    }
   ],
   "source": [
    "# zip 는 iterator 객체\n",
    "z=zip(['a','b','c'],[1,2,3])\n",
    "z"
   ]
  },
  {
   "cell_type": "code",
   "execution_count": 20,
   "metadata": {},
   "outputs": [
    {
     "name": "stdout",
     "output_type": "stream",
     "text": [
      "('a', 1) ('b', 2) ('c', 3) "
     ]
    },
    {
     "data": {
      "text/plain": [
       "('a', 1)"
      ]
     },
     "execution_count": 20,
     "metadata": {},
     "output_type": "execute_result"
    }
   ],
   "source": [
    "# 출력은 for문이나 next\n",
    "for i in z:\n",
    "    print(i,end=' ')\n",
    "z=zip(['a','b','c'],[1,2,3])\n",
    "next(z)"
   ]
  },
  {
   "cell_type": "code",
   "execution_count": 21,
   "metadata": {},
   "outputs": [
    {
     "data": {
      "text/plain": [
       "[('a', 1), ('b', 2), ('c', 3)]"
      ]
     },
     "execution_count": 21,
     "metadata": {},
     "output_type": "execute_result"
    }
   ],
   "source": [
    "# list와 결합 => 튜플이 담긴 리스트로\n",
    "z = list(zip(['a','b','c'],[1,2,3]))\n",
    "z"
   ]
  },
  {
   "cell_type": "code",
   "execution_count": 22,
   "metadata": {},
   "outputs": [
    {
     "data": {
      "text/plain": [
       "{'a': 1, 'b': 2, 'c': 3}"
      ]
     },
     "execution_count": 22,
     "metadata": {},
     "output_type": "execute_result"
    }
   ],
   "source": [
    "# dict와 결합 => key : value 로 된 딕셔너리로\n",
    "z = dict(zip(['a','b','c'],[1,2,3]))\n",
    "z"
   ]
  },
  {
   "cell_type": "code",
   "execution_count": 1,
   "metadata": {},
   "outputs": [
    {
     "name": "stdout",
     "output_type": "stream",
     "text": [
      "('a', 1, 4) ('b', 2, 5) ('c', 3, 6) "
     ]
    }
   ],
   "source": [
    "# 셋이상의 인자도 가능\n",
    "z=zip(['a','b','c'],[1,2,3],[4,5,6])\n",
    "for i in z:\n",
    "    print(i,end=' ')"
   ]
  },
  {
   "cell_type": "markdown",
   "metadata": {},
   "source": [
    "## 14장 dict의 루핑 기술과 컴프리헨션\n",
    "#### 루핑 테크닉\n",
    "###### view 객체가 반환됨 view 객체는 iterable객체\n",
    "- dict.keys()    키만 참조\n",
    "- dict.values()  값만 참조\n",
    "- dict.items()   키와 값을 튜플 형태로 참조\n",
    "- dict만 사용한다면 키만 참조됨\n",
    "###### view 객체는 현재 딕셔너리의 상태를 그대로 반영한다 . 즉 view 객체의 생성시기가 아닌  iterator의 호출에 의존적이다.\n",
    "주소값이라고 생각하자  \n",
    "\n",
    "####  dict 컴프리헨션\n",
    "- 리스트 컴프레헨션과 흡사한 형태\n",
    "- dict = { k : v for i in (key,value) } \n"
   ]
  },
  {
   "cell_type": "code",
   "execution_count": 3,
   "metadata": {},
   "outputs": [
    {
     "name": "stdout",
     "output_type": "stream",
     "text": [
      "a b c "
     ]
    }
   ],
   "source": [
    "d = dict(a=1,b=2,c=3)\n",
    "for k in d: # k에는 키값이 저장\n",
    "    print(k,end = ' ')"
   ]
  },
  {
   "cell_type": "code",
   "execution_count": 4,
   "metadata": {},
   "outputs": [
    {
     "name": "stdout",
     "output_type": "stream",
     "text": [
      "a b c "
     ]
    }
   ],
   "source": [
    "for k in d.keys():\n",
    "    print(k, end = ' ')"
   ]
  },
  {
   "cell_type": "code",
   "execution_count": 5,
   "metadata": {},
   "outputs": [
    {
     "name": "stdout",
     "output_type": "stream",
     "text": [
      "1 2 3 "
     ]
    }
   ],
   "source": [
    "for v in d.values():\n",
    "    print(v, end = ' ')"
   ]
  },
  {
   "cell_type": "code",
   "execution_count": 6,
   "metadata": {},
   "outputs": [
    {
     "name": "stdout",
     "output_type": "stream",
     "text": [
      "('a', 1) ('b', 2) ('c', 3) "
     ]
    }
   ],
   "source": [
    "for kv in d.items():\n",
    "    print(kv, end = ' ')"
   ]
  },
  {
   "cell_type": "code",
   "execution_count": 9,
   "metadata": {},
   "outputs": [
    {
     "name": "stdout",
     "output_type": "stream",
     "text": [
      "a,1\n",
      "b,2\n",
      "c,3\n"
     ]
    }
   ],
   "source": [
    "# 튜플 언패킹됨\n",
    "for k, v in d.items(): \n",
    "    print(k, v, sep= ',')"
   ]
  },
  {
   "cell_type": "code",
   "execution_count": 11,
   "metadata": {},
   "outputs": [
    {
     "name": "stdout",
     "output_type": "stream",
     "text": [
      "a,4\n",
      "b,1\n",
      "c,3\n"
     ]
    }
   ],
   "source": [
    "# 뷰 객체는 현재 딕셔너리를 반영 \n",
    "view = d.items() #먼저 뷰객체를 생성하였지만 \n",
    "\n",
    "d['a'] += 3 # dict의 값을 변경한 것이\n",
    "d['b'] -= 1 \n",
    "\n",
    "for k,v in view: \n",
    "    print(k,v, sep = ',') # 뷰 객체에 반영됨 "
   ]
  },
  {
   "cell_type": "code",
   "execution_count": 12,
   "metadata": {},
   "outputs": [
    {
     "name": "stdout",
     "output_type": "stream",
     "text": [
      "{'a': 16, 'b': 1, 'c': 9}\n",
      "{'a': 256, 'b': 1, 'c': 81}\n"
     ]
    }
   ],
   "source": [
    "# dict 컴프리헨션 1 기본\n",
    "d1=d\n",
    "d2 = {k : v**2 for k,v in d1.items()}\n",
    "d3 = {k : v**2 for k,v in d2.items()}\n",
    "print(d2)\n",
    "print(d3)"
   ]
  },
  {
   "cell_type": "code",
   "execution_count": 13,
   "metadata": {},
   "outputs": [
    {
     "name": "stdout",
     "output_type": "stream",
     "text": [
      "{'b': 1, 'c': 3}\n"
     ]
    }
   ],
   "source": [
    "# dict 컴프리헨션 2 필터\n",
    "d4 = {k : v for k,v in d1.items() if v%2 ==1} # 값이 홀수인 것만 필터\n",
    "print(d4)"
   ]
  },
  {
   "cell_type": "code",
   "execution_count": 14,
   "metadata": {},
   "outputs": [
    {
     "name": "stdout",
     "output_type": "stream",
     "text": [
      "{'a': 1, 'b': 2, 'c': 3}\n"
     ]
    }
   ],
   "source": [
    "# dict 컴프리헨션 3 zip 활용\n",
    "key = ['a','b','c']\n",
    "val = [1, 2, 3]\n",
    "\n",
    "d5 = {k : v for k,v in zip(key,val)}\n",
    "print(d5)"
   ]
  },
  {
   "cell_type": "markdown",
   "metadata": {},
   "source": [
    "## 15장 함수호출과 매개변수선언의 * 와 ** 사용법\n",
    "### 함수호출에서\n",
    "- *는 iterable 객체를 풀어서 전달\n",
    "- ** 는 dict 객체를 전달 (** 은 값, * 은 키 전달)  \n",
    "    dict도 기본적으로는 key를 반환하는 iterable 객체이다\n",
    "\n",
    "### 매개변수 선언에서\n",
    "- *는 튜플로 묶어서 전달\n",
    "- ** 는 딕셔너리로 묶어서 전달\n"
   ]
  },
  {
   "cell_type": "code",
   "execution_count": 2,
   "metadata": {},
   "outputs": [
    {
     "name": "stdout",
     "output_type": "stream",
     "text": [
      "1 2 3\n",
      "4 5 6\n",
      "a b c\n"
     ]
    }
   ],
   "source": [
    "# 함수호출 iterable객체 풀어서 전달 *\n",
    "def func(a,b,c):\n",
    "    print(a,b,c)\n",
    "func(*[1,2,3])\n",
    "func(*(4,5,6))\n",
    "func(*'abc')"
   ]
  },
  {
   "cell_type": "code",
   "execution_count": 4,
   "metadata": {},
   "outputs": [
    {
     "name": "stdout",
     "output_type": "stream",
     "text": [
      "a b c\n",
      "1 2 3\n",
      "('a', 1) ('b', 2) ('c', 3)\n"
     ]
    }
   ],
   "source": [
    "# 함수호출 dict 객체 전달 **\n",
    "d=dict(a=1,b=2,c=3)    \n",
    "\n",
    "func(*d)            # 키 전달\n",
    "func(**d)           # 값 전달\n",
    "func(*d.items())  # 키, 값 전달 (by tuple)"
   ]
  },
  {
   "cell_type": "markdown",
   "metadata": {},
   "source": [
    "## 16장 dict & defaultdict\n",
    "##### 키가 존재할 때와 존재하지 않을 때 (키가 존재하지 않을 떄의 3가지 방법 : 바로 추가, setdefalt, defaultdict)\n",
    "- 키기 존재할 때는 대입연산의 결과가 수정\n",
    "- 키가 존재하지 않을 때는 대입연산의 결과가 새로운 키:값 으로 추가\n",
    "- 문자열의 문자수세기 예제\n"
   ]
  },
  {
   "cell_type": "code",
   "execution_count": 1,
   "metadata": {},
   "outputs": [
    {
     "name": "stdout",
     "output_type": "stream",
     "text": [
      "{'r': 1, 'o': 2, 'b': 2, 't': 1}\n"
     ]
    }
   ],
   "source": [
    "# 문자열의 문자수 세기 예제\n",
    "str= 'robbot'\n",
    "d={}\n",
    "for key in str:\n",
    "    if key in d:\n",
    "        d[key] += 1\n",
    "    else:\n",
    "        d[key] =1\n",
    "print(d)"
   ]
  },
  {
   "cell_type": "markdown",
   "metadata": {},
   "source": [
    "##### setdefault 메소드\n",
    "- dict객체의 메소드 중 하나\n",
    "- dict.setdefault(k,v)  \n",
    "    => k에 해당하는 키가 있을 때, 그 키의 값을 반환  \n",
    "    => k에 해당하는 키가 없을 떄, 딕서녀리에 k:v를 추가하고 v를 반환"
   ]
  },
  {
   "cell_type": "code",
   "execution_count": 19,
   "metadata": {},
   "outputs": [
    {
     "name": "stdout",
     "output_type": "stream",
     "text": [
      "{'a': 1, 'b': 2, 'c': 3}\n"
     ]
    }
   ],
   "source": [
    "# setdefault 메소드활용\n",
    "str= 'abbccc'\n",
    "d={}\n",
    "for key in str:\n",
    "    d[key]=d.setdefault(key,0)+1\n",
    "print(d)"
   ]
  },
  {
   "cell_type": "markdown",
   "metadata": {},
   "source": [
    "##### defaultdict 함수  ( collection의 모듈 )\n",
    "딕셔너리인데 딕셔너리에 디폴트 메소드를 등록시켜놓는 것 -> 딕셔너리와사용법은 동일\n",
    "- 찾는 키가 없으면 예외를 발생시키지 않고 해당키를 추가하되 미리등록해 놓은 함수가 반환하는 디폴트 값을 그 키의 값으로 저장\n",
    "\n",
    "- int 메소드는 아무것도 전달하지 않으면 0을 반환 ( int() -> 0 )"
   ]
  },
  {
   "cell_type": "code",
   "execution_count": 22,
   "metadata": {},
   "outputs": [
    {
     "name": "stdout",
     "output_type": "stream",
     "text": [
      "defaultdict(<class 'int'>, {'r': 1, 'o': 2, 'b': 2, 't': 1})\n"
     ]
    }
   ],
   "source": [
    "#defaultdict 함수 활용 int\n",
    "from collections import defaultdict\n",
    "str = 'robbot'\n",
    "d = defaultdict(int)\n",
    "for k in str:\n",
    "    d[k] += 1\n",
    "print(d)"
   ]
  },
  {
   "cell_type": "code",
   "execution_count": 25,
   "metadata": {},
   "outputs": [
    {
     "name": "stdout",
     "output_type": "stream",
     "text": [
      "defaultdict(<function ret_zero at 0x000001EF36DB0BF8>, {'a': 0})\n"
     ]
    }
   ],
   "source": [
    "#defaultdict 함수 활용 사용자정의함수\n",
    "def ret_zero():\n",
    "    return 0\n",
    "d=defaultdict(ret_zero)\n",
    "d['a']\n",
    "print(d)"
   ]
  },
  {
   "cell_type": "code",
   "execution_count": 24,
   "metadata": {},
   "outputs": [
    {
     "name": "stdout",
     "output_type": "stream",
     "text": [
      "defaultdict(<function <lambda> at 0x000001EF36DB0B70>, {'a': 0})\n"
     ]
    }
   ],
   "source": [
    "#defaultdict 함수 활용 사용자정의함수(람다)\n",
    "d=defaultdict(lambda : 0)\n",
    "d['a']\n",
    "print(d)"
   ]
  },
  {
   "cell_type": "markdown",
   "metadata": {},
   "source": [
    "## 17장 dict & OrderedDict\n",
    "##### dict은 저장순서를 유지하기 시작했다.\n",
    "- 저장순서를 유지하긴 하지만, 저장순서 자체를 information으로 인정하지 않는다.\n",
    "- 저장순서가 달라도 내용물이 같으면 같다고 판단  \n",
    "\n",
    "##### OrderedDict\n",
    "- 저장순서를 information으로 가진 dict\n",
    "- 내용물이 같아도 저장순서가 다르면 다르다고 판단  \n",
    "- from collections import OrderedDict  \n",
    "\n",
    "#### => 순서정보가 필요할시에 사용하면됨 : 딥러닝 구조를 짤때 사용"
   ]
  },
  {
   "cell_type": "code",
   "execution_count": 27,
   "metadata": {},
   "outputs": [
    {
     "name": "stdout",
     "output_type": "stream",
     "text": [
      "OrderedDict([('a', 1), ('b', 2), ('c', 3)])\n",
      "('a', 1) ('b', 2) ('c', 3) "
     ]
    }
   ],
   "source": [
    "# OrderedDict 사용 예\n",
    "from collections import OrderedDict\n",
    "\n",
    "od=OrderedDict()\n",
    "od['a'] = 1\n",
    "od['b'] = 2\n",
    "od['c'] = 3\n",
    "print(od)\n",
    "\n",
    "for kv in od.items():\n",
    "    print(kv, end = ' ')"
   ]
  },
  {
   "cell_type": "code",
   "execution_count": 31,
   "metadata": {},
   "outputs": [
    {
     "name": "stdout",
     "output_type": "stream",
     "text": [
      "d1 {'a': 1, 'b': 2, 'c': 3}\n",
      "d2 {'b': 2, 'a': 1, 'c': 3}\n",
      "True\n",
      "od1 OrderedDict([('a', 1), ('b', 2), ('c', 3)])\n",
      "od2 OrderedDict([('b', 2), ('a', 1), ('c', 3)])\n",
      "False\n"
     ]
    }
   ],
   "source": [
    "# 저장순서 비교\n",
    "# 일반 dict\n",
    "d1=dict(a=1,b=2,c=3)\n",
    "d2=dict(b=2,a=1,c=3)\n",
    "print(\"d1\",d1)\n",
    "print(\"d2\",d2)\n",
    "print(d1==d2)\n",
    "\n",
    "# OrderedDict\n",
    "od1 = OrderedDict(a=1,b=2,c=3)\n",
    "od2 = OrderedDict(b=2,a=1,c=3)\n",
    "print(\"od1\", od1)\n",
    "print(\"od2\", od2)\n",
    "print(od1==od2)"
   ]
  },
  {
   "cell_type": "code",
   "execution_count": 33,
   "metadata": {},
   "outputs": [
    {
     "name": "stdout",
     "output_type": "stream",
     "text": [
      "OrderedDict([('a', 1), ('b', 2), ('c', 3)])\n",
      "OrderedDict([('a', 1), ('c', 3), ('b', 2)])\n",
      "OrderedDict([('b', 2), ('a', 1), ('c', 3)])\n"
     ]
    }
   ],
   "source": [
    "# OrderedDict.move_to_end(key)\n",
    "od = OrderedDict(a=1,b=2,c=3)\n",
    "print(od)\n",
    "\n",
    "od.move_to_end('b') #키가 'b' 인 키와 값을 맨뒤로 이동\n",
    "print(od)\n",
    "\n",
    "od.move_to_end('b', last=False) # last = False 시 맨앞으로 이동\n",
    "print(od)"
   ]
  }
 ],
 "metadata": {
  "kernelspec": {
   "display_name": "Python 3",
   "language": "python",
   "name": "python3"
  },
  "language_info": {
   "codemirror_mode": {
    "name": "ipython",
    "version": 3
   },
   "file_extension": ".py",
   "mimetype": "text/x-python",
   "name": "python",
   "nbconvert_exporter": "python",
   "pygments_lexer": "ipython3",
   "version": "3.6.10"
  },
  "toc": {
   "base_numbering": 1,
   "nav_menu": {},
   "number_sections": true,
   "sideBar": true,
   "skip_h1_title": false,
   "title_cell": "Table of Contents",
   "title_sidebar": "Contents",
   "toc_cell": false,
   "toc_position": {},
   "toc_section_display": true,
   "toc_window_display": true
  },
  "widgets": {
   "application/vnd.jupyter.widget-state+json": {
    "state": {},
    "version_major": 2,
    "version_minor": 0
   }
  }
 },
 "nbformat": 4,
 "nbformat_minor": 4
}

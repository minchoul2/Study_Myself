{
 "cells": [
  {
   "cell_type": "markdown",
   "metadata": {},
   "source": [
    "## 18장 자료형 분류와 set & frozenset\n",
    "### 자료형 분류\n",
    "##### 시퀀스 타입 (sequence type)\n",
    "순서가 있는 자료형\n",
    "- list, tuple, range, 문자열  \n",
    "\n",
    "특징\n",
    "- 인덱싱 연산가능 : 특정값 하나를 참조하는 연산 ex) s[0]\n",
    "- 슬라이싱 연산 가능 : 시작과 끝을 정하여 참조하는 연산 ex) s[0:9]  \n",
    "\n",
    "\n",
    "##### 매핑타입(mapping type)\n",
    "자료가 \"키 : 값\" 의 형태인 자료형  \n",
    "본질적으로 저장된 값의 순서 또는 위치 정보를 기록하지 않는 자료형  \n",
    "=> 인덱싱이나 슬라이싱 연산 불가능\n",
    "- dict 객체  \n",
    "\n",
    "\n",
    "##### 셋타입(set type)\n",
    "수학의 __\"집합\"__을 표현한 자료형  \n",
    "a = {1,2,3,4}\n",
    "- 셋(set) : set 클래스의 객체  - Mutable 객체\n",
    "- 프로즌셋(frozenset) : frozenset의 객체 - Immutable 객체  \n",
    "  \n",
    "특징\n",
    "- 집합을 대상으로 하는 수학의 기본연산가능  \n",
    "    합집합 (A | B)  \n",
    "    차집합 (A - B)  \n",
    "    교집합 (A & B)  \n",
    "    대칭 차집합 (A ^ B)  \n",
    "- iterable 객체 => for문에 사용가능 but 순서보장x\n",
    "- 중복허용 X"
   ]
  },
  {
   "cell_type": "markdown",
   "metadata": {},
   "source": [
    "### set, frozenset\n",
    "##### 특징\n",
    "- 내용물만 같으면 같은 set, 저장순서는 상관없다\n",
    "- set 생성은 {내용물}, 빈 set은 a= set()으로 \n",
    "- 값들을 변경하는 것 이외에는 set, frozenset 같음\n",
    "- set도 컴프리헨션이 가능\n",
    "\n",
    "#####  set 대상 수정 연산 (frozenset은 Immutable객체라 사용불가)\n",
    "- A.add(x) : 원소추가\n",
    "- A.discard(x) : 원소삭제\n",
    "- update({B}), |=B : 다른집합의 원소 전부추가 \n",
    "- intersection_update({B}), &=B : 다른집합과 공통으로 가지고 있는 원소만 남기기\n",
    "- difference_update({B}), -=B : 다른집합이 갖는 원소 모두 삭제\n",
    "- symmetreic_difference_update({B}), ^=B : 공통으로 갖지 않는 것들은 추가, 나머지는 삭제"
   ]
  },
  {
   "cell_type": "code",
   "execution_count": 11,
   "metadata": {},
   "outputs": [
    {
     "name": "stdout",
     "output_type": "stream",
     "text": [
      "차집합 {'b', 'a'}\n",
      "교집합 {'c', 'd'}\n",
      "합집합 {'f', 'd', 'b', 'c', 'e', 'a'}\n",
      "대칭 차집합 {'f', 'b', 'e', 'a'}\n",
      "A1과 A2의 내용물이 같은가? True\n",
      "1이 A1안에 있는가? True\n",
      "1이 A1안에 없는가? False\n",
      "A와 B의 합집합: f,d,b,c,e,a,"
     ]
    }
   ],
   "source": [
    "# set 기본 연산 (frozenset도 동일)\n",
    "A = {'a','b','c','d'}\n",
    "B = frozenset(['c','d','e','f']) # == frozenset({'c','d','e','f'})\n",
    "\n",
    "print('차집합',A - B )\n",
    "print('교집합',A & B ) # A+B는 안됨\n",
    "print('합집합',A | B )\n",
    "print('대칭 차집합',A ^ B )\n",
    "\n",
    "A1={1,2,3}\n",
    "A2={3,2,1}\n",
    "\n",
    "print('A1과 A2의 내용물이 같은가?',A1==A2)\n",
    "print('1이 A1안에 있는가?', 1 in A1)\n",
    "print('1이 A1안에 없는가?', 1 not in A1)\n",
    "\n",
    "print('A와 B의 합집합:',end = ' ')\n",
    "for str in A|B:\n",
    "    print(str, end = ',') #set도 iterable객체이므로 for문에 사용가능 but 저장순서는 보장x"
   ]
  },
  {
   "cell_type": "code",
   "execution_count": 23,
   "metadata": {},
   "outputs": [
    {
     "name": "stdout",
     "output_type": "stream",
     "text": [
      "기본 A :  {1, 2, 3, 4, 5}\n",
      "6추가 : {1, 2, 3, 4, 5, 6}\n",
      "1삭제 :  {2, 3, 4, 5, 6}\n",
      "{6,7,8}원소 추가 :  {2, 3, 4, 5, 6, 7, 8}\n",
      "{6,7,8}만 빼고 삭제 :  {8, 6, 7}\n",
      "7 삭제 :  {8, 6}\n",
      "{6,7,8,9} 에 있는 원소는 빼고 없는 원소 추가 :  {9, 7}\n"
     ]
    }
   ],
   "source": [
    "# set의 값의 수정연산 (frozenset은 불가)\n",
    "A={1,2,3,4,5,}\n",
    "print(\"기본 A : \",A)\n",
    "\n",
    "A.add(6) #원소한개만 가능\n",
    "print(\"6추가 :\",A)\n",
    "\n",
    "A.discard(1)\n",
    "print(\"1삭제 : \",A)\n",
    "\n",
    "A |= {6,7,8} \n",
    "print(\"{6,7,8}원소 추가 : \", A)\n",
    "\n",
    "A &= {6,7,8}\n",
    "print(\"{6,7,8}만 빼고 삭제 : \", A)\n",
    "\n",
    "A -= {7}\n",
    "print(\"7 삭제 : \",A)\n",
    "\n",
    "A ^= {6,7,8,9}\n",
    "print(\"{6,7,8,9} 에 있는 원소는 빼고 없는 원소 추가 : \",A)"
   ]
  },
  {
   "cell_type": "code",
   "execution_count": 1,
   "metadata": {},
   "outputs": [
    {
     "data": {
      "text/plain": [
       "{0, 4, 16}"
      ]
     },
     "execution_count": 1,
     "metadata": {},
     "output_type": "execute_result"
    }
   ],
   "source": [
    "# set 컴프리헨션 \n",
    "# 리스트 컴프리헨션과 동일하게 사용 []->{}로만 바꿔줌\n",
    "s={x**2 for x in range(5)  if not x%2} #짝수만 \n",
    "s"
   ]
  },
  {
   "cell_type": "code",
   "execution_count": null,
   "metadata": {},
   "outputs": [],
   "source": []
  }
 ],
 "metadata": {
  "kernelspec": {
   "display_name": "Python [conda env:Anaconda3]",
   "language": "python",
   "name": "conda-env-Anaconda3-py"
  },
  "language_info": {
   "codemirror_mode": {
    "name": "ipython",
    "version": 3
   },
   "file_extension": ".py",
   "mimetype": "text/x-python",
   "name": "python",
   "nbconvert_exporter": "python",
   "pygments_lexer": "ipython3",
   "version": "3.6.5"
  }
 },
 "nbformat": 4,
 "nbformat_minor": 2
}

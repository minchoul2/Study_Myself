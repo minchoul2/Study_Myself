{
 "cells": [
  {
   "cell_type": "markdown",
   "metadata": {},
   "source": [
    "## 19장 정렬기술\n",
    "#### 리스트의 sort 메소드\n",
    "- sort의 key인자는 함수 객체로받는다 ( __정렬 기준이 함수 객체__ ) \n",
    "- 원본을 교체\n",
    "- 기본값은 오름차순 (reverse = True 시 내림차순)\n",
    "\n",
    "- list.sort(key = func, reverse = True)\n",
    "\n",
    "#### sorted 함수\n",
    "- 사본을 만들어 정렬한 후 반환 ( sort는 원본을 정렬 ) => immutable 객체도 가능\n",
    "- 첫번째 인자로 정렬 대상(리스트,튜플..)을 주는 것 뺴고는 sort와 동일\n",
    "- 정렬결과는 리스트로 반환\n",
    "- slist = sorted(list, key = func, reverse = True)\n"
   ]
  },
  {
   "cell_type": "code",
   "execution_count": 9,
   "metadata": {},
   "outputs": [
    {
     "name": "stdout",
     "output_type": "stream",
     "text": [
      "문자열 내림차순 [('c', 1), ('b', 2), ('a', 3)]\n",
      "숫자 오름차순   [('c', 1), ('b', 2), ('a', 3)]\n"
     ]
    }
   ],
   "source": [
    "# sort 메소드로정렬 (기본)\n",
    "lst=[('a',3),('b',2),('c',1)]\n",
    "def str(t):\n",
    "    return t[0]\n",
    "def num(t):\n",
    "    return t[1]\n",
    "\n",
    "lst.sort(key = str, reverse =True)\n",
    "print('문자열 내림차순',lst)\n",
    "lst.sort(key = num)\n",
    "print('숫자 오름차순  ',lst)"
   ]
  },
  {
   "cell_type": "code",
   "execution_count": 10,
   "metadata": {},
   "outputs": [
    {
     "data": {
      "text/plain": [
       "[('c', 1), ('b', 2), ('a', 3)]"
      ]
     },
     "execution_count": 10,
     "metadata": {},
     "output_type": "execute_result"
    }
   ],
   "source": [
    "#sort 메소드로 정렬 (람다식)\n",
    "lst=[('a',3),('b',2),('c',1)]\n",
    "lst.sort(key = lambda t : t[1])\n",
    "lst"
   ]
  },
  {
   "cell_type": "code",
   "execution_count": 12,
   "metadata": {},
   "outputs": [
    {
     "name": "stdout",
     "output_type": "stream",
     "text": [
      "(('a', 3), ('b', 2), ('c', 1))\n",
      "[('c', 1), ('b', 2), ('a', 3)]\n",
      "[('c', 1), ('b', 2), ('a', 3)]\n"
     ]
    }
   ],
   "source": [
    "#sorted 함수로 정렬\n",
    "tup = (('a',3),('b',2),('c',1))\n",
    "cpy_tup1 = sorted(tup, reverse = True)\n",
    "cpy_tup2 = sorted(tup, key = lambda t : t[1])\n",
    "\n",
    "print(tup)\n",
    "print(cpy_tup1)\n",
    "print(cpy_tup2)"
   ]
  },
  {
   "cell_type": "code",
   "execution_count": null,
   "metadata": {},
   "outputs": [],
   "source": []
  }
 ],
 "metadata": {
  "kernelspec": {
   "display_name": "Python [conda env:Anaconda3]",
   "language": "python",
   "name": "conda-env-Anaconda3-py"
  },
  "language_info": {
   "codemirror_mode": {
    "name": "ipython",
    "version": 3
   },
   "file_extension": ".py",
   "mimetype": "text/x-python",
   "name": "python",
   "nbconvert_exporter": "python",
   "pygments_lexer": "ipython3",
   "version": "3.6.5"
  }
 },
 "nbformat": 4,
 "nbformat_minor": 2
}

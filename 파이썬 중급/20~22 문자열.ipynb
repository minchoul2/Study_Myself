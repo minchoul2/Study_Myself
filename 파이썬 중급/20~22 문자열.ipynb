{
 "cells": [
  {
   "cell_type": "markdown",
   "metadata": {},
   "source": [
    "## 20장 enumerate & 문자열 비교\n",
    "##### 문자열 비교\n",
    "- 대소비교 가능 < , >  \n",
    "    영어 : 사전순 , 소문자가 더 큰 값.  \n",
    "    한글 : 사전순  \n",
    "\n",
    "##### 리스트 -> dict (no enumerate) \n",
    "1. 정렬 : lst.sort()\n",
    "2. 번호 매겨서 : for item in list:\n",
    "3. 딕셔너리 저장 : dlist[i] = item \n",
    "\n",
    "##### enumerate \n",
    "- 기능 : 넘버링\n",
    "- (딕셔너리) 컴프리헨션 사용 가능해짐\n",
    "- enumerate(리스트, 시작 번호) -> 시작번호 부터 시작하는 iterator 객체 생성 // 시작번호 default 는 0\n",
    "- 튜플로 반환 (리스트[0], 1), (리스트[1],2), .... "
   ]
  },
  {
   "cell_type": "code",
   "execution_count": 1,
   "metadata": {},
   "outputs": [
    {
     "name": "stdout",
     "output_type": "stream",
     "text": [
      "(0, '신민철') (1, '유일혁') (2, '정윤재') (3, '김성유') (4, '장남영') (5, '임형광') (6, '유병수') (7, '김나은') "
     ]
    }
   ],
   "source": [
    "# enumerate 기본\n",
    "name = ['신민철','유일혁','정윤재','김성유','장남영','임형광','유병수','김나은']\n",
    "\n",
    "eo = enumerate(name) # iterator 객체 생성\n",
    "for na in eo:\n",
    "    print(na, end = ' ')"
   ]
  },
  {
   "cell_type": "code",
   "execution_count": 2,
   "metadata": {},
   "outputs": [
    {
     "name": "stdout",
     "output_type": "stream",
     "text": [
      "(1, '신민철') (2, '유일혁') (3, '정윤재') (4, '김성유') (5, '장남영') (6, '임형광') (7, '유병수') (8, '김나은') "
     ]
    }
   ],
   "source": [
    "# enumerate 시작번호\n",
    "eo = enumerate(name,1) # iterator 객체 생성\n",
    "for na in eo:\n",
    "    print(na, end = ' ')"
   ]
  },
  {
   "cell_type": "code",
   "execution_count": 4,
   "metadata": {},
   "outputs": [
    {
     "name": "stdout",
     "output_type": "stream",
     "text": [
      "{1: '신민철', 2: '유일혁', 3: '정윤재', 4: '김성유', 5: '장남영', 6: '임형광', 7: '유병수', 8: '김나은'}\n"
     ]
    }
   ],
   "source": [
    "# enumerate 로 딕셔너리 컴프리헨션\n",
    "dname = {num : nam for num,nam in enumerate(name,1)} # {키:값 for k,v in enumerante(리스트, 시작번호)}\n",
    "print(dname)"
   ]
  },
  {
   "cell_type": "markdown",
   "metadata": {},
   "source": [
    "## 21장 표현식기반 문자열 조합\n",
    "##### %s , %d, %f\n",
    "- %s : 문자열을 넣어라\n",
    "- %d : 정수를 넣어라\n",
    "- %f : 실수를 넣어라  \n",
    "    ex) 'my name is %s age is %d and %f cm tall' %('shin', 27, 178)   \n",
    "실수, 정수 -> 문자열 (형변환자동O)  \n",
    "문자열 -> 실수, 정수 (형변환자동X)  \n",
    "실수 -> 정수 ( 가능은 하나 데이터 손실이 발생할 수 있음 3.1 ->3 )  \n",
    "- 딕셔너리로도 사용가능  \n",
    "    ex) 'my name is %(name)s age is %(age)d and %(tall)f cm tall' %{'name':'shin', 'age' :27,  'tall' : 178)   \n",
    "    \n",
    "##### 옵션지정\n",
    "%d 에서 %와 d 사이에 타입지시자를 추가\n",
    "- [flags] : +(부호도 출력),-(왼쪽정렬),0(빈공간을 0으로 채워라)\n",
    "- [width] : 출력폭(총 몇칸을 확보할지)을 조정 // 우측정렬 \n",
    "- [.precision] : 소수점 몇째자리까지 출력할지 \n",
    "  \n",
    "ex )' %+10.3f' %3.14  \n",
    "..........+3.140 "
   ]
  },
  {
   "cell_type": "markdown",
   "metadata": {},
   "source": [
    "## 22장 메소드기반 문자열 조합\n",
    "##### string.format(val1, val2, ...)\n",
    "- '{0}...{1}...{2}...'.format('one','two', 'three')  \n",
    "=> one...two...three      \n",
    "         \n",
    "- '{}...{}...{}...'.format('one','two', 'three')  \n",
    "=> one...two...three     \n",
    "     \n",
    "- '{2}...{1}...{0}...'.format('one','two', 'three')  \n",
    "=> three...two...one    \n",
    "     \n",
    "- '{num1}...{num2}...{num3}...'.format(num1='one', num2='two', num,3'three')  \n",
    "=> one...two...three   \n",
    "\n",
    "\n",
    "##### 옵션지정\n",
    "- 기본적으로 표현식기반과동일\n",
    "ex) '{0.4f}'.format(3.14)  // '%.4f' %3.14 와 동일\n",
    "\n",
    "- <(왼쪽정렬)  , >(오른쪽정렬) , ^(가운데정렬)   \n",
    "ex) '{0:^10.4f}.format(3.14)  \n",
    "'..3.1400..'  \n",
    "- 빈공간채우기 : <>^ 앞에 넣기  \n",
    "ex) ex) '{0:a^10.4f}.format(3.14)  \n",
    "'aa3.1400aa'  \n",
    "- f'{값:옵션}' 으로도 사용가능"
   ]
  },
  {
   "cell_type": "code",
   "execution_count": 2,
   "metadata": {},
   "outputs": [
    {
     "data": {
      "text/plain": [
       "'aa3.1400aa'"
      ]
     },
     "execution_count": 2,
     "metadata": {},
     "output_type": "execute_result"
    }
   ],
   "source": [
    "'{0:a^10.4f}'.format(3.14)  "
   ]
  },
  {
   "cell_type": "code",
   "execution_count": 7,
   "metadata": {},
   "outputs": [
    {
     "data": {
      "text/plain": [
       "'      3.140'"
      ]
     },
     "execution_count": 7,
     "metadata": {},
     "output_type": "execute_result"
    }
   ],
   "source": [
    "' %10.3f' %3.14"
   ]
  },
  {
   "cell_type": "code",
   "execution_count": null,
   "metadata": {},
   "outputs": [],
   "source": [
    "      3.140"
   ]
  }
 ],
 "metadata": {
  "kernelspec": {
   "display_name": "Python [conda env:Anaconda3]",
   "language": "python",
   "name": "conda-env-Anaconda3-py"
  },
  "language_info": {
   "codemirror_mode": {
    "name": "ipython",
    "version": 3
   },
   "file_extension": ".py",
   "mimetype": "text/x-python",
   "name": "python",
   "nbconvert_exporter": "python",
   "pygments_lexer": "ipython3",
   "version": "3.6.5"
  }
 },
 "nbformat": 4,
 "nbformat_minor": 2
}

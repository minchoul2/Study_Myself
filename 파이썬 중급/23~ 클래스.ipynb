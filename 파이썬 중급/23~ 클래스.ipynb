{
 "cells": [
  {
   "cell_type": "markdown",
   "metadata": {},
   "source": [
    "# 23장 클래스와 객체의 본질\n",
    "- 클래스 : 객체를 만들기 위한 일종의 설계도\n",
    "- 객체 : 클래스를 기반으로 만들어진 실제 사물  \n",
    "\n",
    "#### 객체 안에 변수가 만들어지는 시점\n",
    "원래 객체지향 언어(자바)에서는 클래스를 만들면   \n",
    "\"클래스를 바탕으로 만들어진 객체에는 ___변수___와 ___메소드___가 담겨있다.\"   \n",
    "라는 규칙이 잘 적용되지만  \n",
    "파이썬에서는 인스턴스 변수를 생성하는 시점이 유연하다.(생성자가 없어도 일단 작동은 가능)   \n",
    "따라서 ___init메소드___를 이용하여 모든 인스턴스 변수를 초기화하는 것이 중요하다.  \n",
    "  \n",
    "#### 객체의 변수와 메소드 붙였다 떼엇다\n",
    "- 파이썬은 객체 밖에서 변수를 정의 해도 클래스 객체안에 변수와 메소드가 생성된다\n",
    "- del을 이용해 지울 수 있다."
   ]
  },
  {
   "cell_type": "code",
   "execution_count": 5,
   "metadata": {},
   "outputs": [
    {
     "name": "stdout",
     "output_type": "stream",
     "text": [
      "27\n",
      "hi~\n"
     ]
    }
   ],
   "source": [
    "# 객체 밖에서 메소드 붙였다 떼었다 예시\n",
    "class SoSimple:\n",
    "    def geti(self):\n",
    "        return self.i\n",
    "\n",
    "s=SoSimple()\n",
    "s.i=27 # 이순간 변수 s 에 담긴 객체에 i라는 변수 생성\n",
    "s.hello = lambda : print('hi~')  # 이순간 변수 s 에 담긴 객체에 hello라는 메소드 추가\n",
    "print(s.geti())\n",
    "s.hello()"
   ]
  },
  {
   "cell_type": "code",
   "execution_count": 6,
   "metadata": {},
   "outputs": [
    {
     "ename": "AttributeError",
     "evalue": "'SoSimple' object has no attribute 'i'",
     "output_type": "error",
     "traceback": [
      "\u001b[1;31m---------------------------------------------------------------------------\u001b[0m",
      "\u001b[1;31mAttributeError\u001b[0m                            Traceback (most recent call last)",
      "\u001b[1;32m<ipython-input-6-a50fe482b94a>\u001b[0m in \u001b[0;36m<module>\u001b[1;34m()\u001b[0m\n\u001b[0;32m      3\u001b[0m \u001b[1;32mdel\u001b[0m \u001b[0ms\u001b[0m\u001b[1;33m.\u001b[0m\u001b[0mhello\u001b[0m\u001b[1;33m\u001b[0m\u001b[0m\n\u001b[0;32m      4\u001b[0m \u001b[1;33m\u001b[0m\u001b[0m\n\u001b[1;32m----> 5\u001b[1;33m \u001b[0ms\u001b[0m\u001b[1;33m.\u001b[0m\u001b[0mgeti\u001b[0m\u001b[1;33m(\u001b[0m\u001b[1;33m)\u001b[0m\u001b[1;33m\u001b[0m\u001b[0m\n\u001b[0m",
      "\u001b[1;32m<ipython-input-5-16bce9d6d265>\u001b[0m in \u001b[0;36mgeti\u001b[1;34m(self)\u001b[0m\n\u001b[0;32m      2\u001b[0m \u001b[1;32mclass\u001b[0m \u001b[0mSoSimple\u001b[0m\u001b[1;33m:\u001b[0m\u001b[1;33m\u001b[0m\u001b[0m\n\u001b[0;32m      3\u001b[0m     \u001b[1;32mdef\u001b[0m \u001b[0mgeti\u001b[0m\u001b[1;33m(\u001b[0m\u001b[0mself\u001b[0m\u001b[1;33m)\u001b[0m\u001b[1;33m:\u001b[0m\u001b[1;33m\u001b[0m\u001b[0m\n\u001b[1;32m----> 4\u001b[1;33m         \u001b[1;32mreturn\u001b[0m \u001b[0mself\u001b[0m\u001b[1;33m.\u001b[0m\u001b[0mi\u001b[0m\u001b[1;33m\u001b[0m\u001b[0m\n\u001b[0m\u001b[0;32m      5\u001b[0m \u001b[1;33m\u001b[0m\u001b[0m\n\u001b[0;32m      6\u001b[0m \u001b[0ms\u001b[0m\u001b[1;33m=\u001b[0m\u001b[0mSoSimple\u001b[0m\u001b[1;33m(\u001b[0m\u001b[1;33m)\u001b[0m\u001b[1;33m\u001b[0m\u001b[0m\n",
      "\u001b[1;31mAttributeError\u001b[0m: 'SoSimple' object has no attribute 'i'"
     ]
    }
   ],
   "source": [
    "# 객체 밖에서 메소드 붙였다 떼었다 예시\n",
    "del s.i # i 변수 삭제\n",
    "del s.hello # hello 매소드 삭제\n",
    "\n",
    "s.geti() # i 찾을 수 없어 에러"
   ]
  },
  {
   "cell_type": "markdown",
   "metadata": {},
   "source": [
    "#### 클래스에 변수 추가하기\n",
    "앞에서는 __\"객체\"__ 에 변수를 추가했지만  \n",
    "__\"클래스\"__ 에도 바로 변수를 추가할 수 있다.  \n",
    "이유는  \n",
    "___\"파인선의 클래스는 클래스이자 객체\"___이기 때문이다  \n",
    "  \n",
    "- 아래의 예제에서  \n",
    "    s1과 s2는 객체에서 n을 찾지만 n이 없으므로 클래스에서 n을 찾는다.\n",
    "- 즉 객체에 찾는 변수가 없으면 해당 객체의 클래스로 찾아가서 그 변수를 찾는다"
   ]
  },
  {
   "cell_type": "code",
   "execution_count": 9,
   "metadata": {},
   "outputs": [
    {
     "name": "stdout",
     "output_type": "stream",
     "text": [
      "7 3\n",
      "7 5\n"
     ]
    }
   ],
   "source": [
    "# 클래스에 변수추가\n",
    "class Simple:\n",
    "    def __init__(self, i):\n",
    "        self.i = i\n",
    "    def geti(self):\n",
    "        return self.i\n",
    "    \n",
    "Simple.n=7  # Simple 클래스에 변수 n을 추가하고 7로 초기화\n",
    "s1=Simple(3)\n",
    "s2=Simple(5)\n",
    "\n",
    "print(s1.n, s1.geti())\n",
    "print(s2.n, s2.geti())\n"
   ]
  },
  {
   "cell_type": "markdown",
   "metadata": {},
   "source": [
    "#### 파이썬에서는 클래스도 객체\n",
    "- 클래스는 type이라는 클래스의 객체이다"
   ]
  },
  {
   "cell_type": "code",
   "execution_count": 12,
   "metadata": {},
   "outputs": [
    {
     "name": "stdout",
     "output_type": "stream",
     "text": [
      "<class 'list'>\n",
      "<class 'type'>\n",
      "<class 'type'>\n"
     ]
    }
   ],
   "source": [
    "print(type([1,2])) # 전달된 것이 리스트 클래스의 객체\n",
    "print(type(list))  # 전달된 것이 type클래스의 객체\n",
    "print(type(Simple))  # 전달된 것이 type클래스의 객체"
   ]
  },
  {
   "cell_type": "markdown",
   "metadata": {},
   "source": [
    "# 24장 상속\n",
    "- 부모클래스에게 상속받은 자식클래스는 부모클래스의 메소드와 변수가 사용 가능하다.\n",
    "- 하나의 자식클래스에게 2이상의 부모클래스토 가능하다.\n",
    "- \"class 자식클래스명(부모클래스):\" 로 상속"
   ]
  },
  {
   "cell_type": "code",
   "execution_count": 12,
   "metadata": {},
   "outputs": [
    {
     "name": "stdout",
     "output_type": "stream",
     "text": [
      "50\n",
      "run!\n",
      "walk!\n",
      "jump!\n"
     ]
    }
   ],
   "source": [
    "# 상속 기본\n",
    "class Father: # 부모 클래스 1\n",
    "    age = 50\n",
    "    def run(self):\n",
    "        print('run!')\n",
    "\n",
    "class Mom:    # 부모 클래스 2\n",
    "    age = 40\n",
    "    def walk(self):\n",
    "        print('walk!')\n",
    "        \n",
    "class Son(Father,Mom): # 자식 클래스\n",
    "    def jump(self):\n",
    "        print('jump!')\n",
    "\n",
    "s=Son()\n",
    "print(s.age) # 변수도 상속 // (Father,Mom) 중 Father을 먼저 상속하는(Father) 클래스의 변수 상속\n",
    "s.run()      # Father의 메소드 상속\n",
    "s.walk()     # Mom의 메소드 상속\n",
    "s.jump()     # s 자체 메소드"
   ]
  },
  {
   "cell_type": "markdown",
   "metadata": {},
   "source": [
    "### 메소드 오버라이딩 & Super\n",
    "- 부모 클래스의 메소드를 자식클래스에서 재정의하여 부모클래스 메소드를 가린다(일단 없어진 것은 아님)\n",
    "- \"기능보강\"을 위해 필요\n",
    "- 가려진 메소드를 살리기 위해 \"super().메소드()\"를 통해 살릴 수 있다."
   ]
  },
  {
   "cell_type": "code",
   "execution_count": 15,
   "metadata": {},
   "outputs": [
    {
     "name": "stdout",
     "output_type": "stream",
     "text": [
      "Son run!\n",
      "Father run!\n"
     ]
    }
   ],
   "source": [
    "# 메소드 오버라이딩 & Super\n",
    "class Father: # 부모 클래스 1\n",
    "    def run(self):\n",
    "        print('Father run!')\n",
    "        \n",
    "class Son(Father,Mom): # 자식 클래스\n",
    "    def run(self):  #오버라이딩\n",
    "        print('Son run!')\n",
    "    def run2(self): #super을 이용해 부모클래스의 run()을 살림\n",
    "        super().run()\n",
    "\n",
    "s=Son()\n",
    "s.run()\n",
    "s.run2()"
   ]
  },
  {
   "cell_type": "markdown",
   "metadata": {},
   "source": [
    "### init 메소드의 오버라이딩\n",
    "- 클래스내 변수를 초기화하는 init 메소드의 경우 \"초기화\" 를 진행해야 하기 때문에 상속된 변수들을 다시 오버라이딩 해야한다.\n",
    "- init메소드 내에서 super()을 이용하여 상속받은 변수들을 초기화한다.\n"
   ]
  },
  {
   "cell_type": "code",
   "execution_count": 20,
   "metadata": {},
   "outputs": [
    {
     "name": "stdout",
     "output_type": "stream",
     "text": [
      "80구 4885\n",
      "55\n",
      "10\n"
     ]
    }
   ],
   "source": [
    "class Car: # 부모 클래스\n",
    "    def __init__(self,id,f):\n",
    "        self.id = id\n",
    "        self.fuel = f\n",
    "    def drive(self):\n",
    "        self.fuel -= 10\n",
    "    def add_fuel(self,f):\n",
    "        self.fuel += f\n",
    "    def show_info(self):\n",
    "        print(self.id)\n",
    "        print(self.fuel)\n",
    "\n",
    "class Truck(Car):\n",
    "    def __init__(self, id, f, c):\n",
    "        super().__init__(id,f) #부모 클래스의 변수인 id,c를 초기화 \n",
    "        self.cargo = c\n",
    "    def add_cargo(self,c):\n",
    "        self.cargo += c\n",
    "    def show_info(self):  #메소드 오버라이딩 \n",
    "        super().show_info() #부모 클래스의 show_info\n",
    "        print(self.cargo) # 추가된 show_info\n",
    "\n",
    "t=Truck(\"80구 4885\", 45, 0)\n",
    "t.drive()\n",
    "t.add_fuel(20)\n",
    "t.add_cargo(10)\n",
    "t.show_info()\n",
    "        "
   ]
  },
  {
   "cell_type": "markdown",
   "metadata": {},
   "source": [
    "# 25장 isinstance 함수와 object 클래스\n",
    "#### isinstance 함수\n",
    "- isinstance(객체, 클래스이름) -> '객체'가 '클래스이름(클래스)'일 경우 True반환 / 아닌경우 False\n",
    "- 부모 클래스를 상속하는 자식 클래스의 경우에도 True 반환 / 반대의 경우는 False  \n",
    "        isinstance(자식객체, 부모클래스) -> True\n",
    "        isinstance(부모객체, 자식클래스) -> False\n",
    "* issubclass(A클래스, B클래스) : A는 B를 상속하는가?"
   ]
  },
  {
   "cell_type": "code",
   "execution_count": 1,
   "metadata": {},
   "outputs": [
    {
     "name": "stdout",
     "output_type": "stream",
     "text": [
      "True\n",
      "True\n",
      "False\n"
     ]
    }
   ],
   "source": [
    "class A:\n",
    "    pass\n",
    "class B(A):\n",
    "    pass\n",
    "class C(B):\n",
    "    pass\n",
    "b=B()\n",
    "print(isinstance(b,A))\n",
    "print(isinstance(b,B))\n",
    "print(isinstance(b,C))"
   ]
  },
  {
   "cell_type": "markdown",
   "metadata": {},
   "source": [
    "#### object 클래스\n",
    "__\"파이썬의 모든 클래스는 object클래스를 직접 혹은 간접 상속한다.\"__  \n",
    "- 클래스를 정의 할 때 파이썬은 자동으로 object를 상속하게 만든다."
   ]
  },
  {
   "cell_type": "markdown",
   "metadata": {},
   "source": [
    "# 26장 스페셜 메소드\n",
    "#### 스페셜 메소드\n",
    "- 스페셜 메소드는 __호출시점이 약속된 메소드__  \n",
    "- 함부로 이름을 지어서 만들 수 없다. 이미 약속된 메소드들이 존재 \n",
    "- 대표적인 스페셜 메소드  \n",
    "    len - len 함수 호출시 자동으로 실행  \n",
    "    iter - iter 객체 생성시 자동으로 실행  \n",
    "    init - 객체 생성시 자동으로 실행  \n",
    "    str - str 함수 호출시 자동으로 실행   "
   ]
  },
  {
   "cell_type": "code",
   "execution_count": 1,
   "metadata": {},
   "outputs": [],
   "source": [
    "\"\"\"스페셜 메소드 대표 예시\"\"\"\n",
    "t = (1,2,3)\n",
    "len(t)    # t.__len__() 이 실제로 실행됨\n",
    "\n",
    "iter = iter(t)   #iter = t.__iter__() 이 실제로 실행됨\n",
    "\n",
    "s = str(t)   # s = t.__str__() 이 실제로 실행됨"
   ]
  },
  {
   "cell_type": "markdown",
   "metadata": {},
   "source": [
    "#### 클래스에 스페셜 메소드 정의하기\n",
    "- 클래스에서 스페셜 메소드를 오버라이딩 할 수 있다."
   ]
  },
  {
   "cell_type": "code",
   "execution_count": 4,
   "metadata": {},
   "outputs": [
    {
     "name": "stdout",
     "output_type": "stream",
     "text": [
      "8\n",
      "차량번호 : 12러 1234\n"
     ]
    }
   ],
   "source": [
    "\"\"\"클래스에서 스페셜 메소드 정의하기 예시\"\"\"\n",
    "class Car:\n",
    "    def __init__(self, car_num):\n",
    "        self.car_num = car_num\n",
    "    \n",
    "    def __len__(self): \n",
    "        return len(self.car_num) # 차량번호길이가 반환되게 len 메소드 수정\n",
    "    \n",
    "    def __str__(self):\n",
    "        return '차량번호 : ' + self.car_num # 앞에 \"차량번호:\" 가 붙어서 str을 만들도록 메소드 수정\n",
    "\n",
    "c = Car('12러 1234')\n",
    "print(len(c))\n",
    "print(str(c))"
   ]
  },
  {
   "cell_type": "markdown",
   "metadata": {},
   "source": [
    "#### iterable 객체가 되게끔하기\n",
    "iterable 객체 : iter 함수에 인자로 전달 가능한 && retrun iterator   \n",
    "iterator 객체 : next 함소에 인자로 전달 가능한 객체  \n",
    "- 클래스가 iterable객체가 되기 위한 조건 2가지\n",
    "    1. iter(스페셜 메소드) 가 있고\n",
    "    2. iterator 객체를 반환 "
   ]
  },
  {
   "cell_type": "code",
   "execution_count": 2,
   "metadata": {},
   "outputs": [
    {
     "name": "stdout",
     "output_type": "stream",
     "text": [
      "3 4 러   1 2 3 4 "
     ]
    }
   ],
   "source": [
    "\"\"\"class 를 iterable 객체로 예시\"\"\"\n",
    "class Car1:\n",
    "    def __init__(self, id):\n",
    "        self.id = id  # id는 문자열로 받음 -> 문자열은 iterator을 얻을 수 있다!\n",
    "        \n",
    "    def __iter__(self):\n",
    "        return iter(self.id) # 문자열의 iterator을 그대로 얻어다가(iter(self.id)) 반환(return)!\\\n",
    "\n",
    "c= Car1(\"34러 1234\")\n",
    "\n",
    "for i in c:      # 클래스가 iterable이 되었는지 확인 // python 3.6에서는 안되고 3.7부터 가능한듯\n",
    "    print(i, end= ' ')"
   ]
  },
  {
   "cell_type": "markdown",
   "metadata": {},
   "source": [
    "#### iterator 객체가 되게끔하기\n",
    "- 클래스가 iterator객체가 되기 위한 조건  \n",
    "    1. next(스페셜 메소드)가 있어야 함\n",
    "        1. 가지고 있는 값을 하나씩 반환  \n",
    "        2. 더이상 반환할 값이 없는 경우 StopIteration 예외 발생"
   ]
  },
  {
   "cell_type": "code",
   "execution_count": 3,
   "metadata": {},
   "outputs": [
    {
     "name": "stdout",
     "output_type": "stream",
     "text": [
      "1 2 3 4 5 "
     ]
    }
   ],
   "source": [
    "\"\"\"class 를 iterator 객체로 예시\"\"\"\n",
    "class Coll: # 저장소 역할을 하는 클래스\n",
    "    def __init__(self, d):\n",
    "        self.ds = d # 저장할 값\n",
    "        self.cc = 0 # next의 count를 위해 0으로 초기화\n",
    "        \n",
    "    def __next__(self):\n",
    "        if len(self.ds) <= self.cc : # 카운트 값이 더 커지면 StopIteration 에러 발생\n",
    "            raise StopIteration\n",
    "        self.cc +=1 # 카운트 값 증가\n",
    "        return self.ds[self.cc-1] # 값을 하나씩 순차적으로 반환\n",
    "\n",
    "co = Coll([1,2,3,4,5])\n",
    "while True:\n",
    "    try:\n",
    "        i = next(co) # iterator 객체를 통해 하나씩 꺼낸다\n",
    "        print(i, end=' ')\n",
    "    except StopIteration: # SI에러가 발생하면\n",
    "        break # 루프탈출\n",
    "    "
   ]
  },
  {
   "cell_type": "markdown",
   "metadata": {},
   "source": [
    "#### iterator 객체이자 iterable 객체가 되게끔 하기\n",
    "__\"iterable 객체를 인자로 전달하면서 iter 함수를 호출하면 iterator 객체가 반환된다\"__  \n",
    "이것이 우리가 원래 하던 방식으로 앞선 두가지 예제는 뭔가 이상하다고 느낄 수 있다\n",
    "- 핵심은 iter객체에서 cc를 초기화 & co 객체를 그대로 반환한다는 것!\n"
   ]
  },
  {
   "cell_type": "code",
   "execution_count": 5,
   "metadata": {},
   "outputs": [
    {
     "name": "stdout",
     "output_type": "stream",
     "text": [
      "1 2 3 4 5 1,2,3,4,5,"
     ]
    }
   ],
   "source": [
    "\"\"\"class 를 iterator 객체이자 iterable 객체로 예시\"\"\"\n",
    "class Coll2: # 저장소 역할을 하는 클래스\n",
    "    def __init__(self, d):\n",
    "        self.ds = d # 저장할 값\n",
    "        #self.cc = 0  // __iter__메소드에서 초기화\n",
    "        \n",
    "    def __next__(self): # iterator객체이다\n",
    "        if len(self.ds) <= self.cc : # 카운트 값이 더 커지면 StopIteration 에러 발생\n",
    "            raise StopIteration\n",
    "        self.cc +=1 # 카운트 값 증가\n",
    "        return self.ds[self.cc-1] # 값을 하나씩 순차적으로 반환\n",
    "    \n",
    "    def __iter__(self): # __next__가 있는 iterator객체이기 떄문에 그대로 다시 반환 하면 된다!\n",
    "        self.cc = 0 # next 호춯횟수 초기화!\n",
    "        return self # co 객체를 그대로 반환\n",
    "     \n",
    "    \n",
    "co = Coll2([1,2,3,4,5])\n",
    "\n",
    "for i in co : # for루프 진행 과정에서 iter함수 호출\n",
    "    print(i,end = ' ') \n",
    "for i in co : # for루프 진행 과정에서 iter함수 호출 -> cc 는 0으로 초기화!|\n",
    "    print(i,end = ',')"
   ]
  },
  {
   "cell_type": "markdown",
   "metadata": {},
   "source": [
    "# 27장 연산자 오버로딩\n",
    "#### 연산자 오버로딩 간단 이해\n",
    "연산자 오버로딩 이란 파이썬의 기본 연산자( +, -, (), ...)을 스페셜 메소드 오버로딩 형태로 하는 것으로, 코드상에 연산자가 나타나면 기본 파이썬 연산이 아닌 오버로딩 된 연산을 하게된다."
   ]
  },
  {
   "cell_type": "code",
   "execution_count": 3,
   "metadata": {},
   "outputs": [
    {
     "name": "stdout",
     "output_type": "stream",
     "text": [
      "__add__\n",
      "__sub\n",
      "jimmy : 180\n"
     ]
    }
   ],
   "source": [
    "\"\"\"# 연산자 오버로딩 간단 예제\"\"\"\n",
    "class Account:\n",
    "    def __init__(self, name, money):\n",
    "        self.name = name\n",
    "        self.money = money\n",
    "        \n",
    "    def __add__(self, value): # \"+\" 에 대한 연산자 오버로딩\n",
    "        self.money += value\n",
    "        print(\"__add__\")\n",
    "        \n",
    "    def __sub__(self, value): # \"-\" 에 대한 연산자 오버로딩\n",
    "        self.money -= value\n",
    "        print(\"__sub\")\n",
    "        \n",
    "    def __call__(self):      # \"()\" 에 대한 연산자 오버로딩\n",
    "        return self.name +' : '+ str(self.money)\n",
    "    \n",
    "\n",
    "acnt = Account('jimmy', 100)\n",
    "\n",
    "acnt + 100  # 객체 +(연산자) 피연산자 의 형태로 \"acnt.__add__(100)\" 이 실행됨\n",
    "acnt - 20   # \"acnt.__sub__(20)\"이 실행\n",
    "print(acnt()) # \"()\"를 오버로딩 ->\"acnt.__call__()\" 실행"
   ]
  },
  {
   "cell_type": "markdown",
   "metadata": {},
   "source": [
    "#### 적절한 형태로 +와 - 연산자 오버로딩\n",
    "- 앞선 예제는 \"acnt + 100\"을 할경우 acnt자체의 값을 변화 시켰다.\n",
    "- 이는 일반 \"a = b + c\"의 형태와 다른데 b와 c 자체의 값을 변경시키지 않고 새로운 값을 a에 저장시켰다.\n",
    "- 이렇게 변수자체의 값을 변경 시키는 것은 좋지 못하다."
   ]
  },
  {
   "cell_type": "code",
   "execution_count": 7,
   "metadata": {},
   "outputs": [
    {
     "name": "stdout",
     "output_type": "stream",
     "text": [
      "Vector(3,5)\n",
      "Vector(6,8)\n"
     ]
    }
   ],
   "source": [
    "\"\"\"적절한 형태의 + 연산자 예제(벡터)\"\"\"\n",
    "\n",
    "class Vector:\n",
    "    def __init__(self, x, y):\n",
    "        self.x = x\n",
    "        self.y = y\n",
    "        \n",
    "    def __add__(self, o):\n",
    "        return Vector(self.x + o , self.y + o) # 새로운 객체 생성 및 반환\n",
    "    \n",
    "    def __call__(self):\n",
    "        return f'Vector({self.x},{self.y})' \n",
    "    \n",
    "\n",
    "v = Vector(3,5)\n",
    "v1 = v + 3\n",
    "print(v(), v1(), sep='\\n') # () 붙이기 좀 귀찮다! __str__로!!"
   ]
  },
  {
   "cell_type": "markdown",
   "metadata": {},
   "source": [
    "##### 메소드 __str__의 오버로딩\n",
    "- call 메소드의 경우 ()를 사용해야해서 번거롭다\n",
    "- str메소드를 이용하면 더 편리하다.\n",
    "- 원래 object클래스의 str은 주소값을 반환해주는 메소드이다.\n"
   ]
  },
  {
   "cell_type": "code",
   "execution_count": 9,
   "metadata": {},
   "outputs": [
    {
     "name": "stdout",
     "output_type": "stream",
     "text": [
      "Vector(3,5)\n",
      "Vector(6,8)\n"
     ]
    }
   ],
   "source": [
    "\"\"\"__str__메소드 오버로딩 예제\"\"\"\n",
    "class Vector:\n",
    "    def __init__(self, x, y):\n",
    "        self.x = x\n",
    "        self.y = y\n",
    "        \n",
    "    def __add__(self, o):\n",
    "        return Vector(self.x + o , self.y + o) # 새로운 객체 생성 및 반환\n",
    "    \n",
    "    def __str__(self): # __call__을 __str__로 바꾸기만 함\n",
    "        return f'Vector({self.x},{self.y})' \n",
    "    \n",
    "\n",
    "v = Vector(3,5)\n",
    "v1 = v + 3\n",
    "print(v, v1, sep='\\n') # () 붙이기 좀 귀찮다! __str__로!!"
   ]
  },
  {
   "cell_type": "markdown",
   "metadata": {},
   "source": [
    "#### in-place형태의 연산자 오버로딩\n",
    "- +=, -= , ... 의 형태가 in-palce연산자\n",
    "- \"n1 +=5\"는 \"n1 = n1 + 5\" 로 해석되어 작동한다. 하지만 경우에 따라서 다르게 작동해야 할 경우도 있다.\n",
    "- iadd, isub,...\n",
    "- in-palce 연산을 오버로딩 할때 \"n1 += n2\" => \"n1 = n1.iadd(n2)\" 가 되기 떄문에 __반드시 self(실행되고 있는 객체) 를 retrun해줘야함__ "
   ]
  },
  {
   "cell_type": "code",
   "execution_count": 12,
   "metadata": {},
   "outputs": [
    {
     "name": "stdout",
     "output_type": "stream",
     "text": [
      "immutable 객체의 경우\n",
      "140711074570768\n",
      "140711074570896\n",
      "mutable 객체의 경우\n",
      "1978813600200\n",
      "1978813600200\n"
     ]
    }
   ],
   "source": [
    "\"\"\"immutable객체의 경우 불가피하게 in-palce연산결과 새로운 주소값을 받는다.(int, str, ...)\"\"\"\n",
    "print(\"immutable 객체의 경우\")\n",
    "n=5\n",
    "print(id(n))\n",
    "n+=4\n",
    "print(id(n))\n",
    "\n",
    "print(\"mutable 객체의 경우\")\n",
    "s=[1,2]\n",
    "print(id(s))\n",
    "s+=[3]\n",
    "print(id(s))"
   ]
  },
  {
   "cell_type": "code",
   "execution_count": 14,
   "metadata": {},
   "outputs": [
    {
     "name": "stdout",
     "output_type": "stream",
     "text": [
      "Vector(6,8)\n"
     ]
    }
   ],
   "source": [
    "\"\"\"in-place 연산 오버로딩 예제\"\"\"\n",
    "\n",
    "class Vector:\n",
    "    def __init__(self, x, y):\n",
    "        self.x = x\n",
    "        self.y = y\n",
    "        \n",
    "    def __add__(self, o):\n",
    "        return Vector(self.x + o , self.y + o) # 새로운 객체 생성 및 반환\n",
    "    \n",
    "    def __iadd__(self,o):\n",
    "        self.x += o\n",
    "        self.y += o\n",
    "        return self # 연산결과를 self(실행하고 있는 객체v1)으로 반환 // 꼭 넣어줘야함 안넣으면 v1은 텅 비게됨\n",
    "    \n",
    "    def __str__(self): # __call__을 __str__로 바꾸기만 함\n",
    "        return f'Vector({self.x},{self.y})' \n",
    "    \n",
    "\n",
    "v = Vector(3,5)\n",
    "v+= 3    # v = v.__iadd__(3)  이 실행됨 // v.__iadd__(3) 이 아니라!!\n",
    "print(v) "
   ]
  },
  {
   "cell_type": "markdown",
   "metadata": {},
   "source": [
    "# 28장 정보은닉과 dict(스페셜메소드)\n",
    "#### 속성감추기\n",
    "정보은닉이란 클래스 내의 변수를 \"객체.변수이름\" 으로 직접접근 하지 못하게 하는 것을 의미한다.  \n",
    "   ex) \"p.age += 1\" => p라는 객체의 age변수에 직접접근함 / 논리적 에러(휴먼에러) 발생시 확인하기 어렵다  \n",
    "그래서 정보은닉은 변수에 메소드로 접근하게 하여 직접접근을 막는 것이다.   \n",
    "   \n",
    "파이썬에서는...\n",
    "- 언더바 2개를 변수앞에 넣어 놓으면 문법적으로 객체 외에서는 변수에 대한 접근이 불가능 하도록 하였다.\n",
    "    - 언더바 2개를 변수앞에 넣으면 파이썬은 접근이 불가능 하도록 변수이름을 바꿔버린다( dict(스페셜메소드)을 이용하여 확인가능 \n",
    "- 언더바 2개는 스페셜 메소드에서 쓰이기 때문에 깔끔하지 못하다. -> 개발자들 끼리는 암묵적으로 변수앞에 언더바 1개를 붙이면 직접접근을 제한한다는 의미라는 관례를 따른다\n",
    "\n",
    "    "
   ]
  },
  {
   "cell_type": "code",
   "execution_count": 29,
   "metadata": {},
   "outputs": [
    {
     "data": {
      "text/plain": [
       "'shin , 28'"
      ]
     },
     "execution_count": 29,
     "metadata": {},
     "output_type": "execute_result"
    }
   ],
   "source": [
    "\"\"\"정보은닉 언더바 2개 : 문법적으로 막은 경우\"\"\"\n",
    "class Person:\n",
    "    def __init__(self, name, age):\n",
    "        self.__name = name # __변수 로 직접 접근을 막음\n",
    "        self.__age = age\n",
    "        \n",
    "    def add_age(self,a):\n",
    "        self.__age += a  # 객체 내에서는 접근이 가능\n",
    "    \n",
    "    def get_info(self):\n",
    "        return f'{self.__name} , {self.__age}'\n",
    "    \n",
    "p = Person('shin', 27)\n",
    "# p.__age += 1     이렇게하면 오류 발생\n",
    "p.add_age(1)\n",
    "p.get_info()"
   ]
  },
  {
   "cell_type": "code",
   "execution_count": 30,
   "metadata": {},
   "outputs": [
    {
     "data": {
      "text/plain": [
       "'shin , 29'"
      ]
     },
     "execution_count": 30,
     "metadata": {},
     "output_type": "execute_result"
    }
   ],
   "source": [
    "\"\"\"정보은닉 언더바 1개 : 문법적으로 막은 경우\"\"\"\n",
    "class Person:\n",
    "    def __init__(self, name, age):\n",
    "        self._name = name # __변수 로 직접 접근을 막음\n",
    "        self._age = age\n",
    "        \n",
    "    def add_age(self,a):\n",
    "        self._age += a  # 객체 내에서는 접근이 가능\n",
    "    \n",
    "    def get_info(self):\n",
    "        return f'{self._name} , {self._age}'\n",
    "    \n",
    "p = Person('shin', 27)\n",
    "p._age += 1     #접근은 가능! 하지만 이렇게 하지 말자고 약속이됨 \n",
    "p.add_age(1)\n",
    "p.get_info()"
   ]
  },
  {
   "cell_type": "markdown",
   "metadata": {},
   "source": [
    "#### dict(스페셜 메소드)\n",
    "모든 객체는 자기만의 --dict--(딕셔너리) 가 존재한다. // 객체의 변수를 저장하고 있음  \n",
    "__\"객체 내에 있는 변수의 값은 --dict--를 통해서 관리가 되는 것!!\"__\n",
    "- 이것을 이용 하여 객체 내 변수의 값을 수정 , 추가 할 수 있다.\n",
    "- 딕셔너리 처럼 접근하여 수정 및 추가 가능\n",
    "- 이것을 이용하여 정보은닉의 실체를 알 수 있음\n"
   ]
  },
  {
   "cell_type": "code",
   "execution_count": 31,
   "metadata": {},
   "outputs": [
    {
     "name": "stdout",
     "output_type": "stream",
     "text": [
      "{'_name': 'shin', '_age': 27}\n"
     ]
    }
   ],
   "source": [
    "\"\"\"__dict__ 로 객체 정보 출력\"\"\"\n",
    "class Person:\n",
    "    def __init__(self, name, age):\n",
    "        self._name = name # __변수 로 직접 접근을 막음\n",
    "        self._age = age\n",
    "        \n",
    "p = Person('shin', 27)\n",
    "print(p.__dict__)"
   ]
  },
  {
   "cell_type": "code",
   "execution_count": 33,
   "metadata": {},
   "outputs": [
    {
     "name": "stdout",
     "output_type": "stream",
     "text": [
      "{'_name': 'shin', '_age': 27}\n",
      "{'_name': 'shin', '_age': 28, 'birth': 950704}\n"
     ]
    }
   ],
   "source": [
    "\"\"\"__dict__ 로 객체 변수 수정 및 추가 1\"\"\"\n",
    "class Person:\n",
    "    def __init__(self, name, age):\n",
    "        self._name = name # __변수 로 직접 접근을 막음\n",
    "        self._age = age\n",
    "        \n",
    "p = Person('shin', 27)\n",
    "print(p.__dict__)\n",
    "p._age +=1 # 객체 변수 수정\n",
    "p.birth = 950704  # 객체 변수 추가\n",
    "print(p.__dict__)"
   ]
  },
  {
   "cell_type": "code",
   "execution_count": 35,
   "metadata": {},
   "outputs": [
    {
     "name": "stdout",
     "output_type": "stream",
     "text": [
      "{'_name': 'shin', '_age': 27}\n",
      "{'_name': 'shin', '_age': 28, 'birth': 950704}\n"
     ]
    }
   ],
   "source": [
    "\"\"\"__dict__ 로 객체 변수 수정 및 추가 2 : 딕셔너리 문법 이용\"\"\" # 좋은 코드는 아님\n",
    "class Person:\n",
    "    def __init__(self, name, age):\n",
    "        self._name = name # __변수 로 직접 접근을 막음\n",
    "        self._age = age\n",
    "        \n",
    "p = Person('shin', 27)\n",
    "print(p.__dict__)\n",
    "p.__dict__['_age'] +=1 # 객체 변수 수정\n",
    "p.__dict__['birth'] = 950704  # 객체 변수 추가\n",
    "print(p.__dict__)"
   ]
  },
  {
   "cell_type": "code",
   "execution_count": 37,
   "metadata": {},
   "outputs": [
    {
     "name": "stdout",
     "output_type": "stream",
     "text": [
      "{'_Person__name': 'shin', '_Person__age': 27}\n"
     ]
    }
   ],
   "source": [
    "\"\"\"__dict__ 로 \"__변수\"의 실체알아보기 \"\"\"\n",
    "class Person:\n",
    "    def __init__(self, name, age):\n",
    "        self.__name = name # __변수 로 직접 접근을 막음\n",
    "        self.__age = age\n",
    "        \n",
    "p = Person('shin', 27)\n",
    "print(p.__dict__)\n",
    "# __변수명 -> _클래스__변수명 패턴으로 변수명을 내부에서 바꿔버렸다!\n",
    "# 그래서 접근하지 못하는 것이었다\n",
    "# 이 패턴으로 직접 접근은 가능 하지만 굳이.."
   ]
  },
  {
   "cell_type": "markdown",
   "metadata": {},
   "source": [
    "# 29장 __slots_의 효과\n",
    "#### __dict_의 단점과 그 해결책\n",
    "딕셔너리 기반으로 정보를 저장하면 메모리 사용량이 많다. 그렇기 때문에 객체는 dict의 주소값을 저장하여 객체의 크기를 고정적으로 만든다.  \n",
    "즉 값을 꺼낼 때(혹은 참조) 딕셔너리를 참조해야하는 단점이 있다.(유연함은 장점)  \n",
    "  \n",
    "하지만 우리는 클래스를 만들때 변수를 정해놓는 경우가 있다(따로추가x경우).  \n",
    "이럴 경우dict 대신에 slot을 사용하면 객체에서 변수를 바로 접근할 수 있게 된다\n",
    "  \n",
    "  \n",
    "- 사용법 : --slots-- = ('변수1', '변수2', '변수3')  / 튜플 \n",
    "- 효과 : 변수1, 변수2, 변수3 이외의 변수를 추가할 수 없다.(추가시 에러발생)/ 더 빠르게 변수에 접근이 가능하다"
   ]
  },
  {
   "cell_type": "code",
   "execution_count": 49,
   "metadata": {},
   "outputs": [
    {
     "name": "stdout",
     "output_type": "stream",
     "text": [
      "1 2 3\n"
     ]
    },
    {
     "ename": "AttributeError",
     "evalue": "'Point3D' object has no attribute 'w'",
     "output_type": "error",
     "traceback": [
      "\u001b[1;31m---------------------------------------------------------------------------\u001b[0m",
      "\u001b[1;31mAttributeError\u001b[0m                            Traceback (most recent call last)",
      "\u001b[1;32m<ipython-input-49-773dd10a2e98>\u001b[0m in \u001b[0;36m<module>\u001b[1;34m\u001b[0m\n\u001b[0;32m     14\u001b[0m \u001b[0mp2\u001b[0m \u001b[1;33m=\u001b[0m \u001b[0mPoint3D\u001b[0m\u001b[1;33m(\u001b[0m\u001b[1;36m4\u001b[0m\u001b[1;33m,\u001b[0m\u001b[1;36m5\u001b[0m\u001b[1;33m,\u001b[0m\u001b[1;36m6\u001b[0m\u001b[1;33m)\u001b[0m\u001b[1;33m\u001b[0m\u001b[1;33m\u001b[0m\u001b[0m\n\u001b[0;32m     15\u001b[0m \u001b[0mprint\u001b[0m\u001b[1;33m(\u001b[0m\u001b[0mp1\u001b[0m\u001b[1;33m)\u001b[0m\u001b[1;33m\u001b[0m\u001b[1;33m\u001b[0m\u001b[0m\n\u001b[1;32m---> 16\u001b[1;33m \u001b[0mp2\u001b[0m\u001b[1;33m.\u001b[0m\u001b[0mw\u001b[0m \u001b[1;33m=\u001b[0m \u001b[1;36m7\u001b[0m \u001b[1;31m# 속성 추가시 에러발생\u001b[0m\u001b[1;33m\u001b[0m\u001b[1;33m\u001b[0m\u001b[0m\n\u001b[0m",
      "\u001b[1;31mAttributeError\u001b[0m: 'Point3D' object has no attribute 'w'"
     ]
    }
   ],
   "source": [
    "\"\"\" __slot__ 사용 예시 \"\"\"\n",
    "class Point3D:\n",
    "    __slots__ = ('x','y','z') #변수를 xyz만으로 제한\n",
    "    \n",
    "    def __init__(self,x,y,z):\n",
    "        self.x = x\n",
    "        self.y = y\n",
    "        self.z = z\n",
    "    \n",
    "    def __str__(self):\n",
    "        return f'{self.x} {self.y} {self.z}'\n",
    "    \n",
    "p1 = Point3D(1,2,3)\n",
    "p2 = Point3D(4,5,6)\n",
    "print(p1)\n",
    "p2.w = 7 # 속성 추가시 에러발생\n"
   ]
  },
  {
   "cell_type": "markdown",
   "metadata": {},
   "source": [
    "#### dict 와 slots의 속도차이\n",
    "- 속도: slots > dict\n",
    "- import timeit.default_timer() 을 통하여 비교"
   ]
  },
  {
   "cell_type": "code",
   "execution_count": 50,
   "metadata": {},
   "outputs": [],
   "source": [
    "\"\"\"__slots__와 __dict__ 의 속도비교\"\"\"\n",
    "import timeit\n",
    "\n",
    "class Slots_Point3D:\n",
    "    __slots__ = ('x','y','z') #변수를 xyz만으로 제한\n",
    "    \n",
    "    def __init__(self,x,y,z):\n",
    "        self.x = x\n",
    "        self.y = y\n",
    "        self.z = z\n",
    "    \n",
    "    def __str__(self):\n",
    "        return f'{self.x} {self.y} {self.z}'\n",
    "    import timeit\n",
    "\n",
    "class dict_Point3D:\n",
    "    \n",
    "    def __init__(self,x,y,z):\n",
    "        self.x = x\n",
    "        self.y = y\n",
    "        self.z = z\n",
    "    \n",
    "    def __str__(self):\n",
    "        return f'{self.x} {self.y} {self.z}'"
   ]
  },
  {
   "cell_type": "code",
   "execution_count": 63,
   "metadata": {},
   "outputs": [
    {
     "name": "stdout",
     "output_type": "stream",
     "text": [
      "dict걸린시간 : 4.847463299985975\n",
      "9000001 9000002 9000003\n"
     ]
    }
   ],
   "source": [
    "start = timeit.default_timer()\n",
    "\n",
    "dict_p = dict_Point3D(1,2,3)\n",
    "for i in range(3000):\n",
    "    for j in range(3000):\n",
    "        dict_p.x += 1\n",
    "        dict_p.y += 1\n",
    "        dict_p.z += 1\n",
    "\n",
    "end = timeit.default_timer()\n",
    "\n",
    "print(f'dict걸린시간 : {end - start}')\n",
    "print(dict_p)"
   ]
  },
  {
   "cell_type": "code",
   "execution_count": 60,
   "metadata": {},
   "outputs": [
    {
     "name": "stdout",
     "output_type": "stream",
     "text": [
      "slot걸린시간 : 4.126544400001876\n",
      "9000001 9000002 9000003\n"
     ]
    }
   ],
   "source": [
    "start = timeit.default_timer()\n",
    "\n",
    "slot_p = Slots_Point3D(1,2,3)\n",
    "for i in range(3000):\n",
    "    for j in range(3000):\n",
    "        slot_p.x += 1\n",
    "        slot_p.y += 1\n",
    "        slot_p.z += 1\n",
    "\n",
    "end = timeit.default_timer()\n",
    "\n",
    "print(f'slot걸린시간 : {end - start}')\n",
    "print(slot_p)"
   ]
  },
  {
   "cell_type": "markdown",
   "metadata": {},
   "source": [
    "# 30장 프로퍼티\n",
    "#### 안전하게 접근하기\n",
    "앞선 챕터들과 같이 객체의 변수(인스턴스 변수)에 직접접근하는 것은 오류의 확률을 높이기 때문에 메소드를 통해 접근하는 것이 안전하다."
   ]
  },
  {
   "cell_type": "code",
   "execution_count": 1,
   "metadata": {},
   "outputs": [],
   "source": [
    "# 자연수 클래스 예제1 ( 생성자와 settet에서 코드 중복)\n",
    "class Natural:\n",
    "    def __init__(self,n):\n",
    "        if n<1:       # 1미만의 값이 들어오면\n",
    "            self.__n = 1  # 1을 기본값으로 \n",
    "        else:\n",
    "            self.__n = n  # 메소드 이외에는 접근할 수 없도록__n\n",
    "            \n",
    "    def getn(self): # getter\n",
    "        return self.__n\n",
    "    \n",
    "    def setn(self,n): # setter // 생성자의 코드와 중복된다\n",
    "        if n<1:\n",
    "            self.__n = 1\n",
    "        else:\n",
    "            self.__n = n"
   ]
  },
  {
   "cell_type": "code",
   "execution_count": 2,
   "metadata": {},
   "outputs": [
    {
     "name": "stdout",
     "output_type": "stream",
     "text": [
      "5\n"
     ]
    }
   ],
   "source": [
    "# 자연수 클래스 예제2 ( 생성자와 settet에서 코드 중복 제거)\n",
    "class Natural:\n",
    "    def __init__(self,n):\n",
    "        self.setn(n) # 아래의 setter을 호출하여 중복제거\n",
    "        \n",
    "    def getn(self): # getter\n",
    "        return self.__n\n",
    "    def setn(self,n): # setter // 생성자의 코드와 중복된다\n",
    "        if n<1:\n",
    "            self.__n = 1\n",
    "        else:\n",
    "            self.__n = n\n",
    "n1 = Natural(1)\n",
    "n2 = Natural(2)\n",
    "n3 = Natural(3)\n",
    "\n",
    "n1.setn(n2.getn() + n3.getn()) # n1 = n2+n3 를 하고 싶은데 코드가 복잡하다\n",
    "print(n1.getn())"
   ]
  },
  {
   "cell_type": "markdown",
   "metadata": {},
   "source": [
    "- property를 이용하여 앞선 복잡했던 코드를 줄일 수 있다."
   ]
  },
  {
   "cell_type": "code",
   "execution_count": 7,
   "metadata": {},
   "outputs": [
    {
     "name": "stdout",
     "output_type": "stream",
     "text": [
      "5\n"
     ]
    }
   ],
   "source": [
    "# property 사용 예제1\n",
    "class Natural:\n",
    "    def __init__(self,n):\n",
    "        self.setn(n) # 아래의 setter을 호출하여 중복제거\n",
    "        \n",
    "    def getn(self): # getter\n",
    "        return self.__n\n",
    "    def setn(self,n): # setter \n",
    "        if n<1:\n",
    "            self.__n = 1\n",
    "        else:\n",
    "            self.__n = n\n",
    "    n111 = property(getn,setn) # n111 이라는 property 객체가 생성되서 첫번째 인자( = 의 오른쪽;꺼냄) 두번쨰인자( = 의 왼쪽;수정)\n",
    "                               # n111이 getn, setn의 인자로 전달되며, 보통 n으로 두어 인스턴스변수와 맞추는게 관례이다\n",
    "n1 = Natural(1)\n",
    "n2 = Natural(2)\n",
    "n3 = Natural(3)\n",
    "\n",
    "n1.n111 = n2.n111 + n3.n111 # 아까보다 훨씬 깔끔해졌다\n",
    "print(n1.n111) # n111으로 둔 것은 init 메소드의 n 과 다름을 표시하기 위함"
   ]
  },
  {
   "cell_type": "markdown",
   "metadata": {},
   "source": [
    "#### property\n",
    "이번엔 프로퍼티 생성, 게터설정, 세터설정 모두 따로 해보자"
   ]
  },
  {
   "cell_type": "code",
   "execution_count": 9,
   "metadata": {},
   "outputs": [
    {
     "name": "stdout",
     "output_type": "stream",
     "text": [
      "5\n"
     ]
    }
   ],
   "source": [
    "# property 사용 예제2\n",
    "class Natural:\n",
    "    def __init__(self,n):\n",
    "        self.setn(n) \n",
    "    \n",
    "    n111 = property()    # 프로퍼티 객체 생성\n",
    "    \n",
    "    def getn(self): # getter\n",
    "        return self.__n\n",
    "    n111 = n111.getter(getn) # getn을 getter로 설정 // 사실 이 코드 이후의 getn이라는 이름은 쓸모가 없어지기 때문에 setter에서 다시 써도된다.\n",
    "    \n",
    "    def setn(self,n): # setter \n",
    "        if n<1:\n",
    "            self.__n = 1\n",
    "        else:\n",
    "            self.__n = n\n",
    "    n111 = n111.setter(setn) # setn을 setter로 설정 \n",
    "    \n",
    "n1 = Natural(1)\n",
    "n2 = Natural(2)\n",
    "n3 = Natural(3)\n",
    "\n",
    "n1.n111 = n2.n111 + n3.n111 # 아까보다 훨씬 깔끔해졌다\n",
    "print(n1.n111) # n111으로 둔 것은 init 메소드의 n 과 다름을 표시하기 위함"
   ]
  },
  {
   "cell_type": "code",
   "execution_count": 12,
   "metadata": {},
   "outputs": [
    {
     "name": "stdout",
     "output_type": "stream",
     "text": [
      "5\n"
     ]
    }
   ],
   "source": [
    "# property 사용 예제3 (getn 과 setn 이름을 동일하게 두었다. // getter로 설정되면 getter 메소드의 명은 필요없어지기 때문에)\n",
    "class Natural:\n",
    "    def __init__(self,n):\n",
    "        self.n = n #프로퍼티를 통해 n 접근\n",
    "    \n",
    "    n = property()    # 프로퍼티 객체 생성\n",
    "    \n",
    "    def pm(self): # getter\n",
    "        return self.__n\n",
    "    n = n.getter(pm) # pm을 getter로 설정 // 사실 이 코드 이후의 getn이라는 이름은 쓸모가 없어지기 때문에 setter에서 다시 써도된다.\n",
    "    \n",
    "    def pm(self,n): # setter \n",
    "        if n<1:\n",
    "            self.__n = 1\n",
    "        else:\n",
    "            self.__n = n\n",
    "    n = n.setter(pm) # pm을 setter로 설정 \n",
    "    \n",
    "n1 = Natural(1)\n",
    "n2 = Natural(2)\n",
    "n3 = Natural(3)\n",
    "\n",
    "n1.n = n2.n + n3.n \n",
    "print(n1.n)"
   ]
  },
  {
   "cell_type": "markdown",
   "metadata": {},
   "source": [
    "#### 또 다른 방법 // @데코레이터\n",
    "이 방법이 제일 많이 쓰인다.\n",
    "- @porperty :  \n",
    "       1. property 객체를 생성하면서 이어서 등장하는 메소드를 게터로 지정\n",
    "       2. 생성된 property 객체를 메소드 이름인 n 에 저장\n",
    "- @n.setter:  \n",
    "       1. 이어서 등장하는 메소드를 n에 저장된 property 객체의 세터로 등록\n",
    "       2. 생성된 property 객체를 메소드 이름인 n 에 저장"
   ]
  },
  {
   "cell_type": "code",
   "execution_count": 15,
   "metadata": {},
   "outputs": [
    {
     "name": "stdout",
     "output_type": "stream",
     "text": [
      "5\n"
     ]
    }
   ],
   "source": [
    "# property 사용 예제4 (@ 데코레이터를 사용)\n",
    "class Natural:\n",
    "    def __init__(self,n):\n",
    "        self.n = n #프로퍼티를 통해 n 접근\n",
    "    \n",
    "    @property\n",
    "    def pm(self): # getter\n",
    "        return self.__n\n",
    "    \n",
    "    @pm.setter\n",
    "    def pm(self,n): # setter \n",
    "        if n<1:\n",
    "            self.__n = 1\n",
    "        else:\n",
    "            self.__n = n\n",
    "            \n",
    "n1 = Natural(1)\n",
    "n2 = Natural(2)\n",
    "n3 = Natural(3)\n",
    "\n",
    "n1.n = n2.n + n3.n \n",
    "print(n1.n)"
   ]
  },
  {
   "cell_type": "markdown",
   "metadata": {},
   "source": [
    "# 31장 네스티드 함수와 클로저\n",
    "#### 함수를 만들어서 반환하는 함수 : 네스티드 함수\n",
    "함수도 객체이기 때문에 함수안에서 함수를 생성할 수 있다  \n",
    "이때 함수안에서 객체를 생성하는 데 그것이 하필 함수였다 라고 생각하면 좋다.\n"
   ]
  },
  {
   "cell_type": "code",
   "execution_count": 2,
   "metadata": {
    "ExecuteTime": {
     "end_time": "2021-02-14T07:08:36.780737Z",
     "start_time": "2021-02-14T07:08:36.766775Z"
    }
   },
   "outputs": [
    {
     "name": "stdout",
     "output_type": "stream",
     "text": [
      "14\n",
      "21\n"
     ]
    }
   ],
   "source": [
    "def maker(m):\n",
    "    def inner(n):   # 함수안에서 정의된 함수 : nested 함수\n",
    "        return n*m  \n",
    "    return inner    # 위에서 정의한 nested 함수(inner(n))을 반환\n",
    "\n",
    "f1 = maker(2) # inner()을 생성하는데 return n*2\n",
    "f2 = maker(3) # inner()을 생성하는데 return n*3\n",
    "print(f1(7))\n",
    "print(f2(7)) # Closure 때문에 사용이 가능해진다."
   ]
  },
  {
   "cell_type": "markdown",
   "metadata": {},
   "source": [
    "#### 클로저(Closure)\n",
    "클로저는 상황을 해결하기 위한 파이썬의 기술(다른 언어에도 존재함)로써 직접 쓰지 않더라도, 알아두면 좋다.  \n",
    "앞의 예제에서는 변수 m은 maker함수 내에서 쓰이는 변수이기 때문에  \n",
    "함수 밖에서 inner()을 호출시(f1,f2) 변수 m은 사라져 버린다. (변수 m은 maker 함수를 벗어나면 사라져)  \n",
    "  \n",
    "- 예제에서 정의한 inner 함수가 변수 m의 값을 어딘가에 살짝 저장해 놓고 쓴다!\n",
    "- 클로저(Closure) : 안쪽에 위치한 nested 함수가 자신이 필요한 변수의 값을 어딘가에 저장해 놓고 쓰는 테크닉\n",
    "\n",
    "#### 저장된 위치 확인하기\n",
    "클로저로 자동으로 저장된 변수가 어디있는지는  \n",
    "- closur(스페셜메소드)로 주소값이 확인 가능하다.\n",
    "- closur(스페셜메소드)[저장한 변수의 인덱스 0부터].cell_contents로 값이 확인이 가능하다."
   ]
  },
  {
   "cell_type": "code",
   "execution_count": 13,
   "metadata": {
    "ExecuteTime": {
     "end_time": "2021-02-14T07:25:23.609874Z",
     "start_time": "2021-02-14T07:25:23.591922Z"
    }
   },
   "outputs": [
    {
     "name": "stdout",
     "output_type": "stream",
     "text": [
      "<cell at 0x0000020E2078E738: str object at 0x0000020E204A8C10>\n",
      "ㅜ\n"
     ]
    }
   ],
   "source": [
    "# 저장된 위치 확인\n",
    "def maker(m):\n",
    "    def inner(n):   # 함수안에서 정의된 함수 : nested 함수\n",
    "        return n*m  \n",
    "    return inner    # 위에서 정의한 nested 함수(inner(n))을 반환\n",
    "\n",
    "f1 = maker('ㅜ') # inner()을 생성하는데 return n*2\n",
    "f2 = maker(3) # inner()을 생성하는데 return n*3\n",
    "\n",
    "print(f1.__closure__[0]) # 0번쨰의 주소값\n",
    "print(f1.__closure__[0].cell_contents) # 0번쨰의 값"
   ]
  },
  {
   "cell_type": "markdown",
   "metadata": {},
   "source": [
    "# 32장 데코레이터\n",
    "#### 데코레이터에 대한 이해\n",
    "데코레이터는 꾸며주는(기능보강, 액션 추가) 역학을 하는 함수 또는 클래스이다.  \n",
    "기본적으로 네스티드함수의 형태를 띄는데 함수를 인자로 받고 inner함수에서 꾸며준 후 반환한다.  \n",
    "코드를 보면 이해가 쉽다ㅎ"
   ]
  },
  {
   "cell_type": "code",
   "execution_count": 17,
   "metadata": {
    "ExecuteTime": {
     "end_time": "2021-02-18T14:33:53.105313Z",
     "start_time": "2021-02-18T14:33:53.087361Z"
    }
   },
   "outputs": [
    {
     "name": "stdout",
     "output_type": "stream",
     "text": [
      "^_^\n",
      "emticon!\n",
      "^_^\n",
      "emoticon!\n",
      "emticon!\n",
      "emticon!\n",
      "^_^\n",
      "emoticon!\n",
      "emoticon!\n"
     ]
    }
   ],
   "source": [
    "\"\"\"데코레이터의 이해\"\"\"\n",
    "def smile():\n",
    "    print(\"^_^\") #기본으로 웃음 이모티콘\n",
    "\n",
    "\"\"\"웃음이모티콘 앞뒤로 emticon! 이라고 출력해줬으면 좋겟다..\"\"\"\n",
    "def deco(func): # 함수를 인자로 받는 데코레이터\n",
    "    def addfunc():\n",
    "        print(\"emticon!\") # 추가기능\n",
    "        func()           # 원래기능\n",
    "        print(\"emoticon!\") # 추가기능\n",
    "    return addfunc\n",
    "\n",
    "smile() # 기본기능\n",
    "\n",
    "# 데코레이터에 통과시키기\n",
    "smile = deco(smile) # 기능을 추가!! \n",
    "smile()\n",
    "smile1 = deco(smile) # 기능을  또 추가!!\n",
    "smile1()"
   ]
  },
  {
   "cell_type": "markdown",
   "metadata": {},
   "source": [
    "#### 전달인자가 있는 함수 기반의 데코레이터\n",
    "꾸며주고 싶은 함수에 전달인자가 있을 경우에는 __튜플패킹__을 통해 만들 수 있다.  \n",
    "   \n",
    "이것도 코드를 보고 이해하는게 빠르다"
   ]
  },
  {
   "cell_type": "code",
   "execution_count": 21,
   "metadata": {
    "ExecuteTime": {
     "end_time": "2021-02-18T15:22:30.354283Z",
     "start_time": "2021-02-18T15:22:30.333307Z"
    }
   },
   "outputs": [
    {
     "name": "stdout",
     "output_type": "stream",
     "text": [
      "2 + 3 + 4 = 9\n"
     ]
    }
   ],
   "source": [
    "\"\"\"전달인자가 있는 메소드의 데코레이터\"\"\"\n",
    "def adder(n1,n2,n3): #전달인자가 있는 메소드\n",
    "    return n1+n2+n3 # 덧셈하는 것도 보여줬음 좋겠어\n",
    "\n",
    "def deco(func):\n",
    "    def ad(*args):# 전달인자들을 튜플패킹으로 묶어줘\n",
    "        print(*args, sep = ' + ', end = ' = ')\n",
    "        print(f'{func(*args)}')\n",
    "    return ad\n",
    "\n",
    "\n",
    "adder = deco(adder) # 데코레이터에 통과시키기\n",
    "adder(2,3,4)\n"
   ]
  },
  {
   "cell_type": "markdown",
   "metadata": {},
   "source": [
    "#### @기반으로\n",
    "앞에서 데코레이터에 통과시키는 과정을 위한 함수(smile, adder)였다.  \n",
    "즉 데코레이터 통과과정이 있었다!!      \n",
    "\n",
    "이를 생략해주는것이 함수정의위에 \"@데코함수이름\"을 붙여주면 된다.     \n",
    "두개이상 데코레이터를 통과시킬수도 있다.  "
   ]
  },
  {
   "cell_type": "code",
   "execution_count": 22,
   "metadata": {
    "ExecuteTime": {
     "end_time": "2021-02-18T15:45:07.090428Z",
     "start_time": "2021-02-18T15:45:07.071475Z"
    }
   },
   "outputs": [
    {
     "name": "stdout",
     "output_type": "stream",
     "text": [
      "1 + 2 + 3 = 6\n"
     ]
    }
   ],
   "source": [
    "\"\"\"데코레이터 @ 예제\"\"\"\n",
    "def deco(func):\n",
    "    def ad(*args):# 전달인자들을 튜플패킹으로 묶어줘\n",
    "        print(*args, sep = ' + ', end = ' = ')\n",
    "        print(f'{func(*args)}')\n",
    "    return ad\n",
    "\n",
    "@deco # deco 를 통과시켜라!! 앞으로 adder는 deco(adder)이다!!\n",
    "def adder(n1,n2,n3):\n",
    "    return n1+n2+n3\n",
    "\n",
    "adder(1,2,3)"
   ]
  },
  {
   "cell_type": "markdown",
   "metadata": {},
   "source": [
    "# 33장 클래스 메소드와 static 메소드\n",
    "활용까진 일단 생각 안하고 문법적으로만 이해해보도록하자.\n",
    "#### 클래스 변수에 대한이해\n",
    "- 인스턴스변수와 클래스변수 차이\n",
    "    - 인스턴스변수 : 객체에 속한 변수\n",
    "    - 클래스 변수 : 클래스에 속한 변수    \n",
    "   \n",
    "- 클래스변수는 클래스 이름으로도 접급가능  \n",
    "    - Simple.a >>> 10\n",
    "    - s1.a >>> 10\n",
    "    - s2.a >>> 10"
   ]
  },
  {
   "cell_type": "code",
   "execution_count": 25,
   "metadata": {
    "ExecuteTime": {
     "end_time": "2021-02-19T04:21:04.862477Z",
     "start_time": "2021-02-19T04:21:04.851471Z"
    }
   },
   "outputs": [
    {
     "name": "stdout",
     "output_type": "stream",
     "text": [
      "20\n",
      "10\n",
      "20\n"
     ]
    }
   ],
   "source": [
    "\"\"\" 인스턴스 변수와 클래스 변수\"\"\"\n",
    "class Simple:\n",
    "    cv = 20   # cv는 클래스 변수, 클래스 SImple에 속하는 변수\n",
    "    def __init__(self):\n",
    "        self.iv = 10    # iv는 인스턴스 변수, 객체별로 존재\n",
    "        \n",
    "s = Simple()  \n",
    "print(s.cv) # 클래스 변수는 객체로도 접근가능\n",
    "print(s.iv)\n",
    "print(Simple.cv) # 클래스 변수는 클래스 이름으로 접근"
   ]
  },
  {
   "cell_type": "code",
   "execution_count": 34,
   "metadata": {
    "ExecuteTime": {
     "end_time": "2021-02-19T04:32:20.527105Z",
     "start_time": "2021-02-19T04:32:20.494181Z"
    }
   },
   "outputs": [
    {
     "name": "stdout",
     "output_type": "stream",
     "text": [
      "1\n",
      "2\n",
      "3\n"
     ]
    },
    {
     "ename": "TypeError",
     "evalue": "get() missing 1 required positional argument: 'self'",
     "output_type": "error",
     "traceback": [
      "\u001b[1;31m---------------------------------------------------------------------------\u001b[0m",
      "\u001b[1;31mTypeError\u001b[0m                                 Traceback (most recent call last)",
      "\u001b[1;32m<ipython-input-34-86588fde05a0>\u001b[0m in \u001b[0;36m<module>\u001b[1;34m\u001b[0m\n\u001b[0;32m     15\u001b[0m \u001b[0mprint\u001b[0m\u001b[1;33m(\u001b[0m\u001b[0ms1\u001b[0m\u001b[1;33m.\u001b[0m\u001b[0mget\u001b[0m\u001b[1;33m(\u001b[0m\u001b[1;33m)\u001b[0m\u001b[1;33m)\u001b[0m\u001b[1;33m\u001b[0m\u001b[1;33m\u001b[0m\u001b[0m\n\u001b[0;32m     16\u001b[0m \u001b[1;33m\u001b[0m\u001b[0m\n\u001b[1;32m---> 17\u001b[1;33m \u001b[0mSimple\u001b[0m\u001b[1;33m.\u001b[0m\u001b[0mget\u001b[0m\u001b[1;33m(\u001b[0m\u001b[1;33m)\u001b[0m\u001b[1;33m\u001b[0m\u001b[1;33m\u001b[0m\u001b[0m\n\u001b[0m",
      "\u001b[1;31mTypeError\u001b[0m: get() missing 1 required positional argument: 'self'"
     ]
    }
   ],
   "source": [
    "\"\"\"클래스 변수 간단한 활용 (카운트)\"\"\"\n",
    "class Simple():\n",
    "    cnt = 0\n",
    "    def __init__(self):\n",
    "        Simple.cnt +=1 # 클래스 변수는 self를 쓰지 않는다.(self를 쓰면 객체로 접근하여 카운트 불가)\n",
    "\n",
    "    def get(self):\n",
    "        return Simple.cnt\n",
    "    \n",
    "s1=Simple()\n",
    "print(s1.get())\n",
    "s2=Simple()\n",
    "print(s1.get())\n",
    "s3=Simple()\n",
    "print(s1.get())\n",
    "\n",
    "Simple.get()  # 그냥 get메소드를 쓸 수 없다.. 뭔가 억울하다 self로 보낼 객체가 없기때문이다."
   ]
  },
  {
   "cell_type": "markdown",
   "metadata": {},
   "source": [
    "#### static 메소드\n",
    "- 클래스에 속하는 메소드   \n",
    "_\n",
    "- 클래스 변수와 유사한데 staticmethod를 해주면 static메소드가 된다(마치프로퍼티같이)  \n",
    "    - 물론 프로퍼티처럼 데코레이터를 사용할 수 있다(이게 더 많이쓰임)   \n",
    "_\n",
    "- 메소드의 인자로 self는 넣지 않는다.  \n",
    "_\n",
    "- 물론 객체를 통해서도 접근이 가능하다.    \n",
    "    이때 객체에 메소드가 있는 것이 아니라 클래스에 있는 static 메소드의 접근 권한이 있는 것이다.\n"
   ]
  },
  {
   "cell_type": "code",
   "execution_count": 35,
   "metadata": {
    "ExecuteTime": {
     "end_time": "2021-02-19T04:42:58.757513Z",
     "start_time": "2021-02-19T04:42:58.742554Z"
    }
   },
   "outputs": [
    {
     "name": "stdout",
     "output_type": "stream",
     "text": [
      "0\n",
      "1\n"
     ]
    }
   ],
   "source": [
    "\"\"\" static 메소드 예제(데코레이터 ver)\"\"\"\n",
    "class Simple:\n",
    "    cnt = 0\n",
    "    def __init__(self):\n",
    "        Simple.cnt +=1\n",
    "        \n",
    "    @staticmethod  # 아래 메소드를 static메소드로 설정!!\n",
    "    def get(): # static 메소드는 매개변수로 self가 필요없다\n",
    "        return Simple.cnt\n",
    "\n",
    "print(Simple.get())  # 객체생성 없이도 메소드 호출 가능!! // 이전 예제는 에러남\n",
    "s=Simple()\n",
    "print(Simple.get())"
   ]
  },
  {
   "cell_type": "markdown",
   "metadata": {},
   "source": [
    "#### class 메소드\n",
    "- 클래스에 속한 메소드  \n",
    ".\n",
    "- static메소드와 상당히 유사하지만 문법적차이가 있다.\n",
    "    - @classmethod사용    \n",
    "    - cls 라는 매게변수가 추가해준다 (클래스자신)  \n",
    "        즉 클래스에서 할 수 있는 것을 다~ 할수있게된다.(이게장점)"
   ]
  },
  {
   "cell_type": "code",
   "execution_count": 3,
   "metadata": {
    "ExecuteTime": {
     "end_time": "2021-03-10T15:07:42.443408Z",
     "start_time": "2021-03-10T15:07:42.432407Z"
    }
   },
   "outputs": [
    {
     "name": "stdout",
     "output_type": "stream",
     "text": [
      "st ~ 5 + 3 = 8\n",
      "cl ~ 5 + 4 = 9\n"
     ]
    }
   ],
   "source": [
    "\"\"\"static 메소드와 class메소드 차이 예제\"\"\"\n",
    "class Simple:\n",
    "    num = 5 #클래스 변수\n",
    "    \n",
    "    @staticmethod # static 메소드\n",
    "    def sm(i):\n",
    "        print(f'st ~ 5 + {i} = {Simple.num+i}')\n",
    "\n",
    "    @classmethod  # class 메소드\n",
    "    def cm(cls,i): # cls를 첫번째 매개변수로 입력 (cls == Simple)\n",
    "        print(f'cl ~ 5 + {i} = {cls.num+i}')\n",
    "        \n",
    "Simple.sm(3)\n",
    "Simple.cm(4)"
   ]
  },
  {
   "cell_type": "markdown",
   "metadata": {},
   "source": [
    "#### class 메소드가 더 어울리는 경우\n",
    "- calss 메소드는 인자로 클래스 정보를 받는다. 그리고 이 정보는 __호출경로에 따라서 유동적__이다."
   ]
  },
  {
   "cell_type": "code",
   "execution_count": 39,
   "metadata": {
    "ExecuteTime": {
     "end_time": "2021-02-19T05:16:58.961157Z",
     "start_time": "2021-02-19T05:16:58.951185Z"
    }
   },
   "outputs": [
    {
     "name": "stdout",
     "output_type": "stream",
     "text": [
      "K : 2021년 2월 20일 \n",
      "K : 2021년 2월 21일 \n",
      "J : 2021년 3월 20일 \n",
      "J : 2021년 3월 21일 \n"
     ]
    }
   ],
   "source": [
    "\"\"\"class메소드의 활용 예제\"\"\"\n",
    "class Date:\n",
    "    def __init__(self,y,m,d):\n",
    "        self.y = y\n",
    "        self.m = m\n",
    "        self.d = d\n",
    "    def show(self):\n",
    "        print(f'{self.y}년 {self.m}월 {self.d}일 ')\n",
    "        \n",
    "    @classmethod\n",
    "    def next_dat(cls,today):\n",
    "        return cls(today.y,today.m,today.d+1)   #Date클래스(==cls) 생성 후 , 반환 \n",
    "    \n",
    "# Date 상속, 한국시간 출력   \n",
    "class KDate(Date):\n",
    "    def show(self):\n",
    "        print(f'K : {self.y}년 {self.m}월 {self.d}일 ')\n",
    "# Date 상속, 일본시간 출력   \n",
    "class JDate(Date):\n",
    "    def show(self):\n",
    "        print(f'J : {self.y}년 {self.m}월 {self.d}일 ')\n",
    "        \n",
    "kd1 = KDate(2021,2,20)\n",
    "kd1.show()\n",
    "kd2 = KDate.next_dat(kd1)  # Date가 아니라 KDate가 전달됨\n",
    "kd2.show()\n",
    "\n",
    "jd1 = JDate(2021,3,20)\n",
    "jd1.show()\n",
    "jd2 = JDate.next_dat(jd1)\n",
    "jd2.show()"
   ]
  },
  {
   "cell_type": "code",
   "execution_count": 12,
   "metadata": {
    "ExecuteTime": {
     "end_time": "2021-03-10T15:19:06.509705Z",
     "start_time": "2021-03-10T15:19:06.477701Z"
    }
   },
   "outputs": [
    {
     "name": "stdout",
     "output_type": "stream",
     "text": [
      "K : 2021년 2월 20일 \n",
      "K : 2021년 2월 20일 \n",
      "J : 2021년 3월 20일 \n"
     ]
    },
    {
     "ename": "NameError",
     "evalue": "name 'next_dat' is not defined",
     "output_type": "error",
     "traceback": [
      "\u001b[1;31m---------------------------------------------------------------------------\u001b[0m",
      "\u001b[1;31mNameError\u001b[0m                                 Traceback (most recent call last)",
      "\u001b[1;32m<ipython-input-12-f7259b6a464a>\u001b[0m in \u001b[0;36m<module>\u001b[1;34m\u001b[0m\n\u001b[0;32m     28\u001b[0m \u001b[0mjd1\u001b[0m \u001b[1;33m=\u001b[0m \u001b[0mJDate\u001b[0m\u001b[1;33m(\u001b[0m\u001b[1;36m2021\u001b[0m\u001b[1;33m,\u001b[0m\u001b[1;36m3\u001b[0m\u001b[1;33m,\u001b[0m\u001b[1;36m20\u001b[0m\u001b[1;33m)\u001b[0m\u001b[1;33m\u001b[0m\u001b[1;33m\u001b[0m\u001b[0m\n\u001b[0;32m     29\u001b[0m \u001b[0mjd1\u001b[0m\u001b[1;33m.\u001b[0m\u001b[0mshow\u001b[0m\u001b[1;33m(\u001b[0m\u001b[1;33m)\u001b[0m\u001b[1;33m\u001b[0m\u001b[1;33m\u001b[0m\u001b[0m\n\u001b[1;32m---> 30\u001b[1;33m \u001b[0mjd2\u001b[0m \u001b[1;33m=\u001b[0m \u001b[0mnext_dat\u001b[0m\u001b[1;33m(\u001b[0m\u001b[1;33m)\u001b[0m\u001b[1;33m\u001b[0m\u001b[1;33m\u001b[0m\u001b[0m\n\u001b[0m\u001b[0;32m     31\u001b[0m \u001b[0mjd2\u001b[0m\u001b[1;33m.\u001b[0m\u001b[0mshow\u001b[0m\u001b[1;33m(\u001b[0m\u001b[1;33m)\u001b[0m\u001b[1;33m\u001b[0m\u001b[1;33m\u001b[0m\u001b[0m\n",
      "\u001b[1;31mNameError\u001b[0m: name 'next_dat' is not defined"
     ]
    }
   ],
   "source": [
    "\"\"\"class메소드의 활용 예제:class메소드가 없다면?\"\"\"\n",
    "class Date:\n",
    "    def __init__(self,y,m,d):\n",
    "        self.y = y\n",
    "        self.m = m\n",
    "        self.d = d\n",
    "    def show(self):\n",
    "        print(f'{self.y}년 {self.m}월 {self.d}일 ')\n",
    "        \n",
    "   \n",
    "    def next_dat(self):\n",
    "        return self.y,self.m,self.d+1   #Date클래스(==cls) 생성 후 , 반환 \n",
    "    \n",
    "# Date 상속, 한국시간 출력   \n",
    "class KDate(Date):\n",
    "    def show(self):\n",
    "        print(f'K : {self.y}년 {self.m}월 {self.d}일 ')\n",
    "# Date 상속, 일본시간 출력   \n",
    "class JDate(Date):\n",
    "    def show(self):\n",
    "        print(f'J : {self.y}년 {self.m}월 {self.d}일 ')\n",
    "        \n",
    "kd1 = KDate(2021,2,20)\n",
    "kd1.show()\n",
    "kd1.next_dat()  # 그냥 상속시에는 이렇게 해야지 근데 이렇게해도 되잖아..?\n",
    "kd1.show()\n",
    "\n",
    "jd1 = JDate(2021,3,20)\n",
    "jd1.show()\n",
    "jd2 = next_dat()\n",
    "jd2.show()"
   ]
  },
  {
   "cell_type": "markdown",
   "metadata": {},
   "source": [
    "# 34장 --name-- & --main--\n",
    "#### --name--\n",
    "- 파일별로 존재\n",
    "- 실행하는 스크립트에서는 '--name-- == --main--' 이 되고,\n",
    "- import 한 파일(.py)의 경우에는 '--name-- == 파일명.py' 가 된다.\n",
    "\n",
    "#### if  --name-- == '--main--':\n",
    "- 메인 함수 실행부 맨위에 이코드가 있으면, 해당 스크립트를 실행 할 때는 main함수부를 실행시키고\n",
    "- 다른 스크립트에서 실행할 경우(import한경우) main함수부를 실행시키지 않는다는 것이다.\n",
    "    - 해당스크립트에서 실행한 경우 :if  --name-- == '--main--': -> True\n",
    "    - 다른스크립트에서 불러온 경우 : if  --name-- == '--main--': -> False (--name-- = 파일명.py)"
   ]
  },
  {
   "cell_type": "code",
   "execution_count": null,
   "metadata": {},
   "outputs": [],
   "source": []
  }
 ],
 "metadata": {
  "kernelspec": {
   "display_name": "Python 3",
   "language": "python",
   "name": "python3"
  },
  "language_info": {
   "codemirror_mode": {
    "name": "ipython",
    "version": 3
   },
   "file_extension": ".py",
   "mimetype": "text/x-python",
   "name": "python",
   "nbconvert_exporter": "python",
   "pygments_lexer": "ipython3",
   "version": "3.7.9"
  },
  "toc": {
   "base_numbering": 1,
   "nav_menu": {},
   "number_sections": true,
   "sideBar": true,
   "skip_h1_title": false,
   "title_cell": "Table of Contents",
   "title_sidebar": "Contents",
   "toc_cell": false,
   "toc_position": {
    "height": "calc(100% - 180px)",
    "left": "10px",
    "top": "150px",
    "width": "384px"
   },
   "toc_section_display": true,
   "toc_window_display": true
  },
  "varInspector": {
   "cols": {
    "lenName": 16,
    "lenType": 16,
    "lenVar": 40
   },
   "kernels_config": {
    "python": {
     "delete_cmd_postfix": "",
     "delete_cmd_prefix": "del ",
     "library": "var_list.py",
     "varRefreshCmd": "print(var_dic_list())"
    },
    "r": {
     "delete_cmd_postfix": ") ",
     "delete_cmd_prefix": "rm(",
     "library": "var_list.r",
     "varRefreshCmd": "cat(var_dic_list()) "
    }
   },
   "position": {
    "height": "170px",
    "left": "1564px",
    "right": "20px",
    "top": "120px",
    "width": "336px"
   },
   "types_to_exclude": [
    "module",
    "function",
    "builtin_function_or_method",
    "instance",
    "_Feature"
   ],
   "window_display": false
  },
  "widgets": {
   "application/vnd.jupyter.widget-state+json": {
    "state": {},
    "version_major": 2,
    "version_minor": 0
   }
  }
 },
 "nbformat": 4,
 "nbformat_minor": 4
}
